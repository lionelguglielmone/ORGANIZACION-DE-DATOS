{
  "nbformat": 4,
  "nbformat_minor": 0,
  "metadata": {
    "colab": {
      "name": "2C2017Ejercicio1Spark.ipynb",
      "provenance": [],
      "collapsed_sections": []
    },
    "kernelspec": {
      "name": "python3",
      "display_name": "Python 3"
    }
  },
  "cells": [
    {
      "cell_type": "code",
      "metadata": {
        "id": "VWw_bWwv86iH",
        "colab_type": "code",
        "colab": {
          "base_uri": "https://localhost:8080/",
          "height": 884
        },
        "outputId": "84f58783-048a-4df7-c653-f767fd6b6779"
      },
      "source": [
        "\n",
        "!pip install pyspark\n",
        "!pip install -U -q PyDrive\n",
        "!apt install openjdk-8-jdk-headless -qq\n",
        "import os\n",
        "os.environ[\"JAVA_HOME\"] = \"/usr/lib/jvm/java-8-openjdk-amd64\""
      ],
      "execution_count": 1,
      "outputs": [
        {
          "output_type": "stream",
          "text": [
            "Collecting pyspark\n",
            "\u001b[?25l  Downloading https://files.pythonhosted.org/packages/8e/b0/bf9020b56492281b9c9d8aae8f44ff51e1bc91b3ef5a884385cb4e389a40/pyspark-3.0.0.tar.gz (204.7MB)\n",
            "\u001b[K     |████████████████████████████████| 204.7MB 61kB/s \n",
            "\u001b[?25hCollecting py4j==0.10.9\n",
            "\u001b[?25l  Downloading https://files.pythonhosted.org/packages/9e/b6/6a4fb90cd235dc8e265a6a2067f2a2c99f0d91787f06aca4bcf7c23f3f80/py4j-0.10.9-py2.py3-none-any.whl (198kB)\n",
            "\u001b[K     |████████████████████████████████| 204kB 27.2MB/s \n",
            "\u001b[?25hBuilding wheels for collected packages: pyspark\n",
            "  Building wheel for pyspark (setup.py) ... \u001b[?25l\u001b[?25hdone\n",
            "  Created wheel for pyspark: filename=pyspark-3.0.0-py2.py3-none-any.whl size=205044182 sha256=e16ab1c65579fa89f855edb0c9065c4dd87b1fa9b7909ff928a580da15bea7e1\n",
            "  Stored in directory: /root/.cache/pip/wheels/57/27/4d/ddacf7143f8d5b76c45c61ee2e43d9f8492fc5a8e78ebd7d37\n",
            "Successfully built pyspark\n",
            "Installing collected packages: py4j, pyspark\n",
            "Successfully installed py4j-0.10.9 pyspark-3.0.0\n",
            "The following package was automatically installed and is no longer required:\n",
            "  libnvidia-common-440\n",
            "Use 'apt autoremove' to remove it.\n",
            "The following additional packages will be installed:\n",
            "  openjdk-8-jre-headless\n",
            "Suggested packages:\n",
            "  openjdk-8-demo openjdk-8-source libnss-mdns fonts-dejavu-extra\n",
            "  fonts-ipafont-gothic fonts-ipafont-mincho fonts-wqy-microhei\n",
            "  fonts-wqy-zenhei fonts-indic\n",
            "The following NEW packages will be installed:\n",
            "  openjdk-8-jdk-headless openjdk-8-jre-headless\n",
            "0 upgraded, 2 newly installed, 0 to remove and 33 not upgraded.\n",
            "Need to get 35.8 MB of archives.\n",
            "After this operation, 140 MB of additional disk space will be used.\n",
            "Selecting previously unselected package openjdk-8-jre-headless:amd64.\n",
            "(Reading database ... 144379 files and directories currently installed.)\n",
            "Preparing to unpack .../openjdk-8-jre-headless_8u252-b09-1~18.04_amd64.deb ...\n",
            "Unpacking openjdk-8-jre-headless:amd64 (8u252-b09-1~18.04) ...\n",
            "Selecting previously unselected package openjdk-8-jdk-headless:amd64.\n",
            "Preparing to unpack .../openjdk-8-jdk-headless_8u252-b09-1~18.04_amd64.deb ...\n",
            "Unpacking openjdk-8-jdk-headless:amd64 (8u252-b09-1~18.04) ...\n",
            "Setting up openjdk-8-jre-headless:amd64 (8u252-b09-1~18.04) ...\n",
            "update-alternatives: using /usr/lib/jvm/java-8-openjdk-amd64/jre/bin/orbd to provide /usr/bin/orbd (orbd) in auto mode\n",
            "update-alternatives: using /usr/lib/jvm/java-8-openjdk-amd64/jre/bin/servertool to provide /usr/bin/servertool (servertool) in auto mode\n",
            "update-alternatives: using /usr/lib/jvm/java-8-openjdk-amd64/jre/bin/tnameserv to provide /usr/bin/tnameserv (tnameserv) in auto mode\n",
            "Setting up openjdk-8-jdk-headless:amd64 (8u252-b09-1~18.04) ...\n",
            "update-alternatives: using /usr/lib/jvm/java-8-openjdk-amd64/bin/idlj to provide /usr/bin/idlj (idlj) in auto mode\n",
            "update-alternatives: using /usr/lib/jvm/java-8-openjdk-amd64/bin/wsimport to provide /usr/bin/wsimport (wsimport) in auto mode\n",
            "update-alternatives: using /usr/lib/jvm/java-8-openjdk-amd64/bin/jsadebugd to provide /usr/bin/jsadebugd (jsadebugd) in auto mode\n",
            "update-alternatives: using /usr/lib/jvm/java-8-openjdk-amd64/bin/native2ascii to provide /usr/bin/native2ascii (native2ascii) in auto mode\n",
            "update-alternatives: using /usr/lib/jvm/java-8-openjdk-amd64/bin/javah to provide /usr/bin/javah (javah) in auto mode\n",
            "update-alternatives: using /usr/lib/jvm/java-8-openjdk-amd64/bin/clhsdb to provide /usr/bin/clhsdb (clhsdb) in auto mode\n",
            "update-alternatives: using /usr/lib/jvm/java-8-openjdk-amd64/bin/extcheck to provide /usr/bin/extcheck (extcheck) in auto mode\n",
            "update-alternatives: using /usr/lib/jvm/java-8-openjdk-amd64/bin/hsdb to provide /usr/bin/hsdb (hsdb) in auto mode\n",
            "update-alternatives: using /usr/lib/jvm/java-8-openjdk-amd64/bin/schemagen to provide /usr/bin/schemagen (schemagen) in auto mode\n",
            "update-alternatives: using /usr/lib/jvm/java-8-openjdk-amd64/bin/xjc to provide /usr/bin/xjc (xjc) in auto mode\n",
            "update-alternatives: using /usr/lib/jvm/java-8-openjdk-amd64/bin/jhat to provide /usr/bin/jhat (jhat) in auto mode\n",
            "update-alternatives: using /usr/lib/jvm/java-8-openjdk-amd64/bin/wsgen to provide /usr/bin/wsgen (wsgen) in auto mode\n"
          ],
          "name": "stdout"
        }
      ]
    },
    {
      "cell_type": "code",
      "metadata": {
        "id": "GYM5yHDh-PYa",
        "colab_type": "code",
        "colab": {}
      },
      "source": [
        "from pydrive.auth import GoogleAuth\n",
        "from pydrive.drive import GoogleDrive\n",
        "from google.colab import auth\n",
        "from oauth2client.client import GoogleCredentials\n",
        "from pyspark.sql import *\n",
        "from pyspark.sql.functions import *\n",
        "from pyspark import SparkContext\n",
        "from pyspark.sql import SQLContext\n",
        "import pandas as pd"
      ],
      "execution_count": 2,
      "outputs": []
    },
    {
      "cell_type": "code",
      "metadata": {
        "id": "O4aYYkQX-8bn",
        "colab_type": "code",
        "colab": {}
      },
      "source": [
        "# create the Spark Session\n",
        "spark = SparkSession.builder.getOrCreate()\n",
        "\n",
        "# create the Spark Context\n",
        "sc = spark.sparkContext"
      ],
      "execution_count": 3,
      "outputs": []
    },
    {
      "cell_type": "markdown",
      "metadata": {
        "id": "QY4NR0On_FTg",
        "colab_type": "text"
      },
      "source": [
        "# Organización de Datos 75.06. Segundo Cuatrimestre de 2017. Examen parcial, segunda oportunidad:\n"
      ]
    },
    {
      "cell_type": "markdown",
      "metadata": {
        "id": "gzjgVqlI_Owt",
        "colab_type": "text"
      },
      "source": [
        "### 1) A partir de la plataforma online (e-shop) de los países en los que opera, Nintendo tiene información de ventas de videojuegos diarias digitales por país en el siguiente RDD: (id_videojuego, codigo_pais, fecha, visitas_diarias, total_ventas_diarias). Por otro lado se tienen otro RDD que tiene información de todos los videojuegos que se venden en su plataforma con el siguiente formato (id_videojuego, titulo, rating_pegi, rating_esbr). Tener en cuenta que un mismo videojuego se puede vender en distintos países y esos nos permitirá obtener métricas a nivel global. Con esta información escribir un programa en pySpark que permita:\n",
        "### a) Obtener el videojuego con más ventas digitales globales (es decir en todos los países) en un RDD con el siguiente formato: (id_videojuego, titulo, total), siendo total la cantidad total de ventas digitales globales\n",
        "### b) Para el videojuego con mas ventas, obtener cual es el país para el cual ser registra una mayor tasa de conversión (es decir, mayor total_ventas_diarias / visitas_diarias) (**) (15 pts) \n"
      ]
    },
    {
      "cell_type": "code",
      "metadata": {
        "id": "qBwfah-c_AzU",
        "colab_type": "code",
        "colab": {}
      },
      "source": [
        "## (id_videojuego, codigo_pais, fecha, visitas_diarias, total_ventas_diarias).\n",
        "ventas = [(1234, 5, '2018-01-01', 5000, 2300),\n",
        "          (1234, 1, '2018-02-01', 4500, 2300),\n",
        "          (1234, 3, '2018-03-01', 2000, 2100),\n",
        "          (1422, 1, '2018-02-01', 7000, 300),\n",
        "          (1422, 2, '2018-03-01', 3400, 2100),\n",
        "          (1233, 2, '2018-02-01', 1200, 400),\n",
        "          (1231, 5, '2018-01-01', 1600, 1300),\n",
        "          (2223, 1, '2018-01-01', 2200, 2100),\n",
        "          (2223, 2, '2018-04-01', 4200, 4200),\n",
        "          (2223, 3, '2018-03-01', 9800, 1600),\n",
        "          (1212, 2, '2018-02-01', 1100, 1100),\n",
        "          (1414, 3, '2018-03-01', 5100, 2100),\n",
        "          (4142, 5, '2018-01-01', 4300, 2300),\n",
        "          (4142, 2, '2018-01-01', 3300, 200),\n",
        "          (4142, 4, '2018-02-01', 6500, 2400),\n",
        "          (3341, 1, '2018-02-01', 5110, 4900)]\n",
        "\n",
        "## (id_videojuego, titulo, rating_pegi, rating_esbr)\n",
        "videojuegos = [(1234,'Monkey Island', 6, 6.5),\n",
        "               (1422,'Tomb Rider', 4, 4),\n",
        "               (1233,'FarCry 2', 7, 7.5),\n",
        "               (1231,'Crash', 5, 5.2),\n",
        "               (2223,'Abe Oddisey', 9, 8.5),\n",
        "               (1212,'The Phantom Menace', 6.5, 6),\n",
        "               (1414,'Sugar Candy', 6, 6),\n",
        "               (4142,'Fatal Frame 11', 7, 7),\n",
        "               (3341,'Final Fantasy', 9.1, 8.3)]"
      ],
      "execution_count": 6,
      "outputs": []
    },
    {
      "cell_type": "code",
      "metadata": {
        "id": "5vez8EQOCi-E",
        "colab_type": "code",
        "colab": {}
      },
      "source": [
        "ventasRDD = sc.parallelize(ventas)\n",
        "videojuegosRDD = sc.parallelize(videojuegos)"
      ],
      "execution_count": 7,
      "outputs": []
    },
    {
      "cell_type": "code",
      "metadata": {
        "id": "puGSgu6WChKA",
        "colab_type": "code",
        "colab": {
          "base_uri": "https://localhost:8080/",
          "height": 289
        },
        "outputId": "3667db61-af20-4b88-80be-d8c46a2200aa"
      },
      "source": [
        "ventasRDD.collect()"
      ],
      "execution_count": 9,
      "outputs": [
        {
          "output_type": "execute_result",
          "data": {
            "text/plain": [
              "[(1234, 5, '2018-01-01', 5000, 2300),\n",
              " (1234, 1, '2018-02-01', 4500, 2300),\n",
              " (1234, 3, '2018-03-01', 2000, 2100),\n",
              " (1422, 1, '2018-02-01', 7000, 300),\n",
              " (1422, 2, '2018-03-01', 3400, 2100),\n",
              " (1233, 2, '2018-02-01', 1200, 400),\n",
              " (1231, 5, '2018-01-01', 1600, 1300),\n",
              " (2223, 1, '2018-01-01', 2200, 2100),\n",
              " (2223, 2, '2018-04-01', 4200, 4200),\n",
              " (2223, 3, '2018-03-01', 9800, 1600),\n",
              " (1212, 2, '2018-02-01', 1100, 1100),\n",
              " (1414, 3, '2018-03-01', 5100, 2100),\n",
              " (4142, 5, '2018-01-01', 4300, 2300),\n",
              " (4142, 2, '2018-01-01', 3300, 200),\n",
              " (4142, 4, '2018-02-01', 6500, 2400),\n",
              " (3341, 1, '2018-02-01', 5110, 4900)]"
            ]
          },
          "metadata": {
            "tags": []
          },
          "execution_count": 9
        }
      ]
    },
    {
      "cell_type": "code",
      "metadata": {
        "id": "D3FQnfZxCw5r",
        "colab_type": "code",
        "colab": {
          "base_uri": "https://localhost:8080/",
          "height": 170
        },
        "outputId": "2e06734b-e66c-494e-b2b2-887d5c5902f8"
      },
      "source": [
        "videojuegosRDD.collect()"
      ],
      "execution_count": 10,
      "outputs": [
        {
          "output_type": "execute_result",
          "data": {
            "text/plain": [
              "[(1234, 'Monkey Island', 6, 6.5),\n",
              " (1422, 'Tomb Rider', 4, 4),\n",
              " (1233, 'FarCry 2', 7, 7.5),\n",
              " (1231, 'Crash', 5, 5.2),\n",
              " (2223, 'Abe Oddisey', 9, 8.5),\n",
              " (1212, 'The Phantom Menace', 6.5, 6),\n",
              " (1414, 'Sugar Candy', 6, 6),\n",
              " (4142, 'Fatal Frame 11', 7, 7),\n",
              " (3341, 'Final Fantasy', 9.1, 8.3)]"
            ]
          },
          "metadata": {
            "tags": []
          },
          "execution_count": 10
        }
      ]
    },
    {
      "cell_type": "code",
      "metadata": {
        "id": "vPD_1lFwC3OC",
        "colab_type": "code",
        "colab": {
          "base_uri": "https://localhost:8080/",
          "height": 289
        },
        "outputId": "2ed20e1c-0d07-4800-ec42-92afe1cc068b"
      },
      "source": [
        "#a) Obtener el videojuego con más ventas digitales globales (es decir en todos los países) en un RDD con el siguiente formato:\n",
        "#(id_videojuego, titulo, total), siendo total la cantidad total de ventas digitales globales\n",
        "ventasGlobalesAux = ventasRDD.map(lambda x: (x[0],(x[3])))\n",
        "ventasGlobalesAux.collect()"
      ],
      "execution_count": 11,
      "outputs": [
        {
          "output_type": "execute_result",
          "data": {
            "text/plain": [
              "[(1234, 5000),\n",
              " (1234, 4500),\n",
              " (1234, 2000),\n",
              " (1422, 7000),\n",
              " (1422, 3400),\n",
              " (1233, 1200),\n",
              " (1231, 1600),\n",
              " (2223, 2200),\n",
              " (2223, 4200),\n",
              " (2223, 9800),\n",
              " (1212, 1100),\n",
              " (1414, 5100),\n",
              " (4142, 4300),\n",
              " (4142, 3300),\n",
              " (4142, 6500),\n",
              " (3341, 5110)]"
            ]
          },
          "metadata": {
            "tags": []
          },
          "execution_count": 11
        }
      ]
    },
    {
      "cell_type": "code",
      "metadata": {
        "id": "QRudcPyLDihH",
        "colab_type": "code",
        "colab": {
          "base_uri": "https://localhost:8080/",
          "height": 170
        },
        "outputId": "97d89926-f24d-400d-ee63-83b4448d78d6"
      },
      "source": [
        "ventasGlobalesTotales = ventasGlobalesAux.reduceByKey(lambda x,y: x+y)\n",
        "ventasGlobalesTotales.collect()"
      ],
      "execution_count": 13,
      "outputs": [
        {
          "output_type": "execute_result",
          "data": {
            "text/plain": [
              "[(1234, 11500),\n",
              " (1422, 10400),\n",
              " (1212, 1100),\n",
              " (1414, 5100),\n",
              " (4142, 14100),\n",
              " (1233, 1200),\n",
              " (1231, 1600),\n",
              " (2223, 16200),\n",
              " (3341, 5110)]"
            ]
          },
          "metadata": {
            "tags": []
          },
          "execution_count": 13
        }
      ]
    },
    {
      "cell_type": "code",
      "metadata": {
        "id": "qJaTtuufD1ja",
        "colab_type": "code",
        "colab": {
          "base_uri": "https://localhost:8080/",
          "height": 170
        },
        "outputId": "37d9c659-6e67-4d2e-a5c7-64b87e4b2313"
      },
      "source": [
        "videojuegosLista = videojuegosRDD.map(lambda x:(x[0],x[1]))\n",
        "videojuegosLista.collect()"
      ],
      "execution_count": 14,
      "outputs": [
        {
          "output_type": "execute_result",
          "data": {
            "text/plain": [
              "[(1234, 'Monkey Island'),\n",
              " (1422, 'Tomb Rider'),\n",
              " (1233, 'FarCry 2'),\n",
              " (1231, 'Crash'),\n",
              " (2223, 'Abe Oddisey'),\n",
              " (1212, 'The Phantom Menace'),\n",
              " (1414, 'Sugar Candy'),\n",
              " (4142, 'Fatal Frame 11'),\n",
              " (3341, 'Final Fantasy')]"
            ]
          },
          "metadata": {
            "tags": []
          },
          "execution_count": 14
        }
      ]
    },
    {
      "cell_type": "code",
      "metadata": {
        "id": "-mFyl-egEUgF",
        "colab_type": "code",
        "colab": {
          "base_uri": "https://localhost:8080/",
          "height": 170
        },
        "outputId": "f8b81cf3-932a-4ff5-c419-167df4cc16b5"
      },
      "source": [
        "ventasGlobalesVideoJuegos = videojuegosLista.join(ventasGlobalesTotales)\n",
        "ventasGlobalesVideoJuegos.collect()"
      ],
      "execution_count": 15,
      "outputs": [
        {
          "output_type": "execute_result",
          "data": {
            "text/plain": [
              "[(1212, ('The Phantom Menace', 1100)),\n",
              " (1233, ('FarCry 2', 1200)),\n",
              " (3341, ('Final Fantasy', 5110)),\n",
              " (1234, ('Monkey Island', 11500)),\n",
              " (1422, ('Tomb Rider', 10400)),\n",
              " (1414, ('Sugar Candy', 5100)),\n",
              " (4142, ('Fatal Frame 11', 14100)),\n",
              " (1231, ('Crash', 1600)),\n",
              " (2223, ('Abe Oddisey', 16200))]"
            ]
          },
          "metadata": {
            "tags": []
          },
          "execution_count": 15
        }
      ]
    },
    {
      "cell_type": "code",
      "metadata": {
        "id": "EiO8rAjtEmT4",
        "colab_type": "code",
        "colab": {
          "base_uri": "https://localhost:8080/",
          "height": 34
        },
        "outputId": "51c23307-6bc2-448d-93b6-6bc85b480508"
      },
      "source": [
        "ventasGlobalesRDD = (ventasGlobalesVideoJuegos.map(lambda x: (x[0],x[1][0],x[1][1]))).sortBy(lambda x:-x[2])\n",
        "ventasGlobalesRDD.take(1)"
      ],
      "execution_count": 21,
      "outputs": [
        {
          "output_type": "execute_result",
          "data": {
            "text/plain": [
              "[(2223, 'Abe Oddisey', 16200)]"
            ]
          },
          "metadata": {
            "tags": []
          },
          "execution_count": 21
        }
      ]
    },
    {
      "cell_type": "code",
      "metadata": {
        "id": "ln8Lg23mE_gp",
        "colab_type": "code",
        "colab": {
          "base_uri": "https://localhost:8080/",
          "height": 68
        },
        "outputId": "06032659-d323-46b5-95ab-2308d55a80d2"
      },
      "source": [
        "#b) Para el videojuego con mas ventas, obtener cual es el país para el cual ser registra una mayor tasa de conversión\n",
        "#(es decir, mayor total_ventas_diarias / visitas_diarias) (**) (15 pts)\n",
        "masVendidoPaises = ventasRDD.filter(lambda x: x[0]==2223)\n",
        "masVendidoPaises.collect()"
      ],
      "execution_count": 22,
      "outputs": [
        {
          "output_type": "execute_result",
          "data": {
            "text/plain": [
              "[(2223, 1, '2018-01-01', 2200, 2100),\n",
              " (2223, 2, '2018-04-01', 4200, 4200),\n",
              " (2223, 3, '2018-03-01', 9800, 1600)]"
            ]
          },
          "metadata": {
            "tags": []
          },
          "execution_count": 22
        }
      ]
    },
    {
      "cell_type": "code",
      "metadata": {
        "id": "g_7LLVvPGJdE",
        "colab_type": "code",
        "colab": {
          "base_uri": "https://localhost:8080/",
          "height": 34
        },
        "outputId": "ec422c47-8d3d-4e2b-c44e-f6ec32dce867"
      },
      "source": [
        "tasaConversionMasVendidoPorPais = (masVendidoPaises.map(lambda x: (x[1], x[4]/x[3]))).sortBy(lambda x: -x[1])\n",
        "tasaConversionMasVendidoPorPais.take(1)"
      ],
      "execution_count": 26,
      "outputs": [
        {
          "output_type": "execute_result",
          "data": {
            "text/plain": [
              "[(2, 1.0)]"
            ]
          },
          "metadata": {
            "tags": []
          },
          "execution_count": 26
        }
      ]
    },
    {
      "cell_type": "code",
      "metadata": {
        "id": "gU5k1IWaGh2X",
        "colab_type": "code",
        "colab": {}
      },
      "source": [
        ""
      ],
      "execution_count": null,
      "outputs": []
    }
  ]
}
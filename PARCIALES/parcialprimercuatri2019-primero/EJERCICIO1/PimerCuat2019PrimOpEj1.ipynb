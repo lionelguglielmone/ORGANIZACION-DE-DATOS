{
  "nbformat": 4,
  "nbformat_minor": 0,
  "metadata": {
    "colab": {
      "name": "PimerCuat2019PrimOpEj1.ipynb",
      "provenance": [],
      "collapsed_sections": []
    },
    "kernelspec": {
      "name": "python3",
      "display_name": "Python 3"
    }
  },
  "cells": [
    {
      "cell_type": "code",
      "metadata": {
        "id": "IpED2ewpC_13",
        "colab_type": "code",
        "colab": {
          "base_uri": "https://localhost:8080/",
          "height": 884
        },
        "outputId": "9460652f-0f4f-4dca-a29a-5d3862160f28"
      },
      "source": [
        "!pip install pyspark\n",
        "!pip install -U -q PyDrive\n",
        "!apt install openjdk-8-jdk-headless -qq\n",
        "import os\n",
        "os.environ[\"JAVA_HOME\"] = \"/usr/lib/jvm/java-8-openjdk-amd64\""
      ],
      "execution_count": 1,
      "outputs": [
        {
          "output_type": "stream",
          "text": [
            "Collecting pyspark\n",
            "\u001b[?25l  Downloading https://files.pythonhosted.org/packages/e9/e4/5c15ab8d354c4e3528510821865e6748209a9b0ff6a1788f4cd36cc2a5dc/pyspark-2.4.6.tar.gz (218.4MB)\n",
            "\u001b[K     |████████████████████████████████| 218.4MB 61kB/s \n",
            "\u001b[?25hCollecting py4j==0.10.7\n",
            "\u001b[?25l  Downloading https://files.pythonhosted.org/packages/e3/53/c737818eb9a7dc32a7cd4f1396e787bd94200c3997c72c1dbe028587bd76/py4j-0.10.7-py2.py3-none-any.whl (197kB)\n",
            "\u001b[K     |████████████████████████████████| 204kB 44.0MB/s \n",
            "\u001b[?25hBuilding wheels for collected packages: pyspark\n",
            "  Building wheel for pyspark (setup.py) ... \u001b[?25l\u001b[?25hdone\n",
            "  Created wheel for pyspark: filename=pyspark-2.4.6-py2.py3-none-any.whl size=218814406 sha256=10328abeabe8769d292941ce8cb0dc5376b249841ba9671d54c1f2e5f3e1d711\n",
            "  Stored in directory: /root/.cache/pip/wheels/1e/5e/6a/17e906c94ec7246f260330a66e44a06a0809033ba2738a74a8\n",
            "Successfully built pyspark\n",
            "Installing collected packages: py4j, pyspark\n",
            "Successfully installed py4j-0.10.7 pyspark-2.4.6\n",
            "The following package was automatically installed and is no longer required:\n",
            "  libnvidia-common-440\n",
            "Use 'apt autoremove' to remove it.\n",
            "The following additional packages will be installed:\n",
            "  openjdk-8-jre-headless\n",
            "Suggested packages:\n",
            "  openjdk-8-demo openjdk-8-source libnss-mdns fonts-dejavu-extra\n",
            "  fonts-ipafont-gothic fonts-ipafont-mincho fonts-wqy-microhei\n",
            "  fonts-wqy-zenhei fonts-indic\n",
            "The following NEW packages will be installed:\n",
            "  openjdk-8-jdk-headless openjdk-8-jre-headless\n",
            "0 upgraded, 2 newly installed, 0 to remove and 43 not upgraded.\n",
            "Need to get 35.8 MB of archives.\n",
            "After this operation, 140 MB of additional disk space will be used.\n",
            "Selecting previously unselected package openjdk-8-jre-headless:amd64.\n",
            "(Reading database ... 144328 files and directories currently installed.)\n",
            "Preparing to unpack .../openjdk-8-jre-headless_8u252-b09-1~18.04_amd64.deb ...\n",
            "Unpacking openjdk-8-jre-headless:amd64 (8u252-b09-1~18.04) ...\n",
            "Selecting previously unselected package openjdk-8-jdk-headless:amd64.\n",
            "Preparing to unpack .../openjdk-8-jdk-headless_8u252-b09-1~18.04_amd64.deb ...\n",
            "Unpacking openjdk-8-jdk-headless:amd64 (8u252-b09-1~18.04) ...\n",
            "Setting up openjdk-8-jre-headless:amd64 (8u252-b09-1~18.04) ...\n",
            "update-alternatives: using /usr/lib/jvm/java-8-openjdk-amd64/jre/bin/orbd to provide /usr/bin/orbd (orbd) in auto mode\n",
            "update-alternatives: using /usr/lib/jvm/java-8-openjdk-amd64/jre/bin/servertool to provide /usr/bin/servertool (servertool) in auto mode\n",
            "update-alternatives: using /usr/lib/jvm/java-8-openjdk-amd64/jre/bin/tnameserv to provide /usr/bin/tnameserv (tnameserv) in auto mode\n",
            "Setting up openjdk-8-jdk-headless:amd64 (8u252-b09-1~18.04) ...\n",
            "update-alternatives: using /usr/lib/jvm/java-8-openjdk-amd64/bin/idlj to provide /usr/bin/idlj (idlj) in auto mode\n",
            "update-alternatives: using /usr/lib/jvm/java-8-openjdk-amd64/bin/wsimport to provide /usr/bin/wsimport (wsimport) in auto mode\n",
            "update-alternatives: using /usr/lib/jvm/java-8-openjdk-amd64/bin/jsadebugd to provide /usr/bin/jsadebugd (jsadebugd) in auto mode\n",
            "update-alternatives: using /usr/lib/jvm/java-8-openjdk-amd64/bin/native2ascii to provide /usr/bin/native2ascii (native2ascii) in auto mode\n",
            "update-alternatives: using /usr/lib/jvm/java-8-openjdk-amd64/bin/javah to provide /usr/bin/javah (javah) in auto mode\n",
            "update-alternatives: using /usr/lib/jvm/java-8-openjdk-amd64/bin/clhsdb to provide /usr/bin/clhsdb (clhsdb) in auto mode\n",
            "update-alternatives: using /usr/lib/jvm/java-8-openjdk-amd64/bin/extcheck to provide /usr/bin/extcheck (extcheck) in auto mode\n",
            "update-alternatives: using /usr/lib/jvm/java-8-openjdk-amd64/bin/hsdb to provide /usr/bin/hsdb (hsdb) in auto mode\n",
            "update-alternatives: using /usr/lib/jvm/java-8-openjdk-amd64/bin/schemagen to provide /usr/bin/schemagen (schemagen) in auto mode\n",
            "update-alternatives: using /usr/lib/jvm/java-8-openjdk-amd64/bin/xjc to provide /usr/bin/xjc (xjc) in auto mode\n",
            "update-alternatives: using /usr/lib/jvm/java-8-openjdk-amd64/bin/jhat to provide /usr/bin/jhat (jhat) in auto mode\n",
            "update-alternatives: using /usr/lib/jvm/java-8-openjdk-amd64/bin/wsgen to provide /usr/bin/wsgen (wsgen) in auto mode\n"
          ],
          "name": "stdout"
        }
      ]
    },
    {
      "cell_type": "code",
      "metadata": {
        "id": "wr3oZW0DDFD4",
        "colab_type": "code",
        "colab": {}
      },
      "source": [
        "from pydrive.auth import GoogleAuth\n",
        "from pydrive.drive import GoogleDrive\n",
        "from google.colab import auth\n",
        "from oauth2client.client import GoogleCredentials\n",
        "from pyspark.sql import *\n",
        "from pyspark.sql.functions import *\n",
        "from pyspark import SparkContext\n",
        "from pyspark.sql import SQLContext\n",
        "import pandas as pd"
      ],
      "execution_count": 0,
      "outputs": []
    },
    {
      "cell_type": "code",
      "metadata": {
        "id": "6_zsV3UZDZk1",
        "colab_type": "code",
        "colab": {}
      },
      "source": [
        "# create the Spark Session\n",
        "spark = SparkSession.builder.getOrCreate()\n",
        "\n",
        "# create the Spark Context\n",
        "sc = spark.sparkContext"
      ],
      "execution_count": 0,
      "outputs": []
    },
    {
      "cell_type": "markdown",
      "metadata": {
        "id": "RQYtEuakEAz9",
        "colab_type": "text"
      },
      "source": [
        "#  Organización de Datos 75.06 . Primer Cuatrimestre de 2019. Examen parcial, primera oportunidad:\n",
        "1) El servicio meteorológico registra datos del\n",
        "tiempo para todas las ciudades donde posee\n",
        "una base de medición.\n",
        "Esta información se encuentra en dos RDD.\n",
        "En el primero se tiene información de las\n",
        "bases de medición: (ID_BASE, NOMBRE,\n",
        "PCIA, CIUDAD, LAT, LON).\n",
        "El segundo posee información sobre las\n",
        "mediciones en sí: (TIMESTAMP, ID_BASE,\n",
        "TEMPERATURA, HUMEDAD, PRESIÓN,\n",
        "DIRECCIÓN VIENTO, VELOCIDAD VIENTO).\n",
        "Se desea obtener un reporte para las bases de\n",
        "la Provincia de Buenos Aires. El mismo debe\n",
        "informar los ID y nombre de bases de\n",
        "medición que hayan registrado una variación\n",
        "de temperatura promedio mensual mayor al\n",
        "30% en el año 2018 (dada la temperatura\n",
        "promedio de un mes, esta se debe comparar\n",
        "con el promedio del mes anterior, para\n",
        "determinar la variación porcentual).\n",
        "Resolver utilizando el API de RDD de\n",
        "PySpark, dando el reporte en un RDD. (***) (\n",
        "15pts)\n"
      ]
    },
    {
      "cell_type": "code",
      "metadata": {
        "id": "87BDUeRgDf7E",
        "colab_type": "code",
        "colab": {}
      },
      "source": [
        "# (id_base,nombre,pcia,ciudad,lat,lon)\n",
        "bases = [\n",
        "    (1, 'base1', 'Buenos Aires', 'San Fernando', -1432, 93482),\n",
        "    (2, 'base2', 'Mendoza', 'San Rafael', -32432, 43243),\n",
        "    (3, 'base3', 'Mendoza', 'Las Leñas', -32313, 354345),\n",
        "    (4, 'base4', 'Buenos Aires', 'CABA', -123123, 432423),\n",
        "    (5, 'base5', 'Neuquen', 'Bariloche', -634534, 564563),\n",
        "    (6, 'base6', 'Buenos Aires', 'Merlo', -453453,57454),\n",
        "    (7, 'base7', 'Buenos Aires', 'Avellaneda', -2493284, -3428234),\n",
        "    (8, 'base8', 'Buenos Aires', 'Tigre', -32432, 654654),\n",
        "    (9, 'base9', 'Buenos Aires', 'Quilmes', -98324, -3284723),\n",
        "    (10, 'base10', 'Misiones', 'San Ignacio', -654645, 564345)\n",
        "]\n",
        "\n",
        "# (timestamp, id_base, temperatura, humedad, presion, direccion viento, velocidad viento)\n",
        "mediciones = [\n",
        "    ('2018-03-04', 1, 25, 96, 300, 'NO', 47),\n",
        "    ('2017-12-03', 1, 25, 96, 300, 'NO', 47),\n",
        "    ('2018-04-05', 1, 15, 96, 300, 'NO', 47),\n",
        "    ('2018-05-12', 1, 18, 96, 300, 'NO', 47),\n",
        "    ('2018-05-21', 1, 23, 96, 300, 'NO', 47),\n",
        "    ('2018-01-04', 1, 38, 96, 300, 'NO', 47),\n",
        "    ('2018-02-29', 1, 28, 96, 300, 'NO', 47),\n",
        "    ('2018-06-14', 1, 9, 96, 300, 'NO', 47),\n",
        "    ('2018-07-12', 1, 5, 96, 300, 'NO', 47),\n",
        "    ('2018-08-31', 1, 19, 96, 300, 'NO', 47),\n",
        "    ('2018-09-14', 1, 20, 96, 300, 'NO', 47),\n",
        "    ('2019-03-12', 1, 23, 96, 300, 'NO', 47),\n",
        "    ('2019-04-15', 1, 16, 96, 300, 'NO', 47),\n",
        "    ('2018-07-12', 2, 5, 96, 300, 'NO', 47),\n",
        "    ('2018-07-31', 2, 7, 96, 300, 'NO', 47),\n",
        "    ('2018-09-14', 4, 26, 96, 300, 'NO', 47),\n",
        "    ('2018-08-12', 4, 13, 96, 300, 'NO', 47),\n",
        "    ('2019-04-15', 4, 16, 96, 300, 'NO', 47)\n",
        "]"
      ],
      "execution_count": 0,
      "outputs": []
    },
    {
      "cell_type": "code",
      "metadata": {
        "id": "wgutM5SgEXHq",
        "colab_type": "code",
        "colab": {}
      },
      "source": [
        "basesRDD = sc.parallelize(bases)\n",
        "medicionesRDD = sc.parallelize(mediciones)"
      ],
      "execution_count": 0,
      "outputs": []
    },
    {
      "cell_type": "code",
      "metadata": {
        "id": "5Iqs0I9IEpK_",
        "colab_type": "code",
        "colab": {
          "base_uri": "https://localhost:8080/",
          "height": 187
        },
        "outputId": "17f185b5-2786-4db4-bd01-b9882bb87384"
      },
      "source": [
        "basesRDD.collect()"
      ],
      "execution_count": 130,
      "outputs": [
        {
          "output_type": "execute_result",
          "data": {
            "text/plain": [
              "[(1, 'base1', 'Buenos Aires', 'San Fernando', -1432, 93482),\n",
              " (2, 'base2', 'Mendoza', 'San Rafael', -32432, 43243),\n",
              " (3, 'base3', 'Mendoza', 'Las Leñas', -32313, 354345),\n",
              " (4, 'base4', 'Buenos Aires', 'CABA', -123123, 432423),\n",
              " (5, 'base5', 'Neuquen', 'Bariloche', -634534, 564563),\n",
              " (6, 'base6', 'Buenos Aires', 'Merlo', -453453, 57454),\n",
              " (7, 'base7', 'Buenos Aires', 'Avellaneda', -2493284, -3428234),\n",
              " (8, 'base8', 'Buenos Aires', 'Tigre', -32432, 654654),\n",
              " (9, 'base9', 'Buenos Aires', 'Quilmes', -98324, -3284723),\n",
              " (10, 'base10', 'Misiones', 'San Ignacio', -654645, 564345)]"
            ]
          },
          "metadata": {
            "tags": []
          },
          "execution_count": 130
        }
      ]
    },
    {
      "cell_type": "code",
      "metadata": {
        "id": "VX9Ww4qUEspy",
        "colab_type": "code",
        "colab": {
          "base_uri": "https://localhost:8080/",
          "height": 323
        },
        "outputId": "b929ca1c-5926-47e9-d90b-53b56d1fb9c8"
      },
      "source": [
        "medicionesRDD.collect()"
      ],
      "execution_count": 131,
      "outputs": [
        {
          "output_type": "execute_result",
          "data": {
            "text/plain": [
              "[('2018-03-04', 1, 25, 96, 300, 'NO', 47),\n",
              " ('2017-12-03', 1, 25, 96, 300, 'NO', 47),\n",
              " ('2018-04-05', 1, 15, 96, 300, 'NO', 47),\n",
              " ('2018-05-12', 1, 18, 96, 300, 'NO', 47),\n",
              " ('2018-05-21', 1, 23, 96, 300, 'NO', 47),\n",
              " ('2018-01-04', 1, 38, 96, 300, 'NO', 47),\n",
              " ('2018-02-29', 1, 28, 96, 300, 'NO', 47),\n",
              " ('2018-06-14', 1, 9, 96, 300, 'NO', 47),\n",
              " ('2018-07-12', 1, 5, 96, 300, 'NO', 47),\n",
              " ('2018-08-31', 1, 19, 96, 300, 'NO', 47),\n",
              " ('2018-09-14', 1, 20, 96, 300, 'NO', 47),\n",
              " ('2019-03-12', 1, 23, 96, 300, 'NO', 47),\n",
              " ('2019-04-15', 1, 16, 96, 300, 'NO', 47),\n",
              " ('2018-07-12', 2, 5, 96, 300, 'NO', 47),\n",
              " ('2018-07-31', 2, 7, 96, 300, 'NO', 47),\n",
              " ('2018-09-14', 4, 26, 96, 300, 'NO', 47),\n",
              " ('2018-08-12', 4, 13, 96, 300, 'NO', 47),\n",
              " ('2019-04-15', 4, 16, 96, 300, 'NO', 47)]"
            ]
          },
          "metadata": {
            "tags": []
          },
          "execution_count": 131
        }
      ]
    },
    {
      "cell_type": "code",
      "metadata": {
        "id": "jA7OmL4WEvr2",
        "colab_type": "code",
        "colab": {
          "base_uri": "https://localhost:8080/",
          "height": 119
        },
        "outputId": "87bbe773-969b-4094-ceeb-9e7b394e0601"
      },
      "source": [
        "#primero filtro bases de buenos aires\n",
        "basesRDD = basesRDD.filter(lambda x: x[2] == 'Buenos Aires')\n",
        "basesRDD.collect()"
      ],
      "execution_count": 132,
      "outputs": [
        {
          "output_type": "execute_result",
          "data": {
            "text/plain": [
              "[(1, 'base1', 'Buenos Aires', 'San Fernando', -1432, 93482),\n",
              " (4, 'base4', 'Buenos Aires', 'CABA', -123123, 432423),\n",
              " (6, 'base6', 'Buenos Aires', 'Merlo', -453453, 57454),\n",
              " (7, 'base7', 'Buenos Aires', 'Avellaneda', -2493284, -3428234),\n",
              " (8, 'base8', 'Buenos Aires', 'Tigre', -32432, 654654),\n",
              " (9, 'base9', 'Buenos Aires', 'Quilmes', -98324, -3284723)]"
            ]
          },
          "metadata": {
            "tags": []
          },
          "execution_count": 132
        }
      ]
    },
    {
      "cell_type": "code",
      "metadata": {
        "id": "xp33SHqgcP4e",
        "colab_type": "code",
        "colab": {
          "base_uri": "https://localhost:8080/",
          "height": 255
        },
        "outputId": "3645a022-8616-499c-8047-2f1708752195"
      },
      "source": [
        "#filtro mediciones de 2018\n",
        "medicionesRDD = medicionesRDD.filter(lambda x: '2018' in x[0])\n",
        "medicionesRDD.collect()"
      ],
      "execution_count": 133,
      "outputs": [
        {
          "output_type": "execute_result",
          "data": {
            "text/plain": [
              "[('2018-03-04', 1, 25, 96, 300, 'NO', 47),\n",
              " ('2018-04-05', 1, 15, 96, 300, 'NO', 47),\n",
              " ('2018-05-12', 1, 18, 96, 300, 'NO', 47),\n",
              " ('2018-05-21', 1, 23, 96, 300, 'NO', 47),\n",
              " ('2018-01-04', 1, 38, 96, 300, 'NO', 47),\n",
              " ('2018-02-29', 1, 28, 96, 300, 'NO', 47),\n",
              " ('2018-06-14', 1, 9, 96, 300, 'NO', 47),\n",
              " ('2018-07-12', 1, 5, 96, 300, 'NO', 47),\n",
              " ('2018-08-31', 1, 19, 96, 300, 'NO', 47),\n",
              " ('2018-09-14', 1, 20, 96, 300, 'NO', 47),\n",
              " ('2018-07-12', 2, 5, 96, 300, 'NO', 47),\n",
              " ('2018-07-31', 2, 7, 96, 300, 'NO', 47),\n",
              " ('2018-09-14', 4, 26, 96, 300, 'NO', 47),\n",
              " ('2018-08-12', 4, 13, 96, 300, 'NO', 47)]"
            ]
          },
          "metadata": {
            "tags": []
          },
          "execution_count": 133
        }
      ]
    },
    {
      "cell_type": "code",
      "metadata": {
        "id": "PMrlsITlkEuM",
        "colab_type": "code",
        "colab": {
          "base_uri": "https://localhost:8080/",
          "height": 221
        },
        "outputId": "bf286dc6-4029-4415-a570-659e06320481"
      },
      "source": [
        "# mapeo ambos RDDs\n",
        "basesRDD_aux = basesRDD.map(lambda x: (x[0], x[1]))\n",
        "medicionesRDD_aux = medicionesRDD.map(lambda x: (x[1], (x[0],x[2])))\n",
        "# joineo ahora asi me quedan las mediciones de buenos aires\n",
        "medsRDD = basesRDD_aux.join(medicionesRDD_aux)\n",
        "medsRDD.collect()"
      ],
      "execution_count": 134,
      "outputs": [
        {
          "output_type": "execute_result",
          "data": {
            "text/plain": [
              "[(4, ('base4', ('2018-09-14', 26))),\n",
              " (4, ('base4', ('2018-08-12', 13))),\n",
              " (1, ('base1', ('2018-03-04', 25))),\n",
              " (1, ('base1', ('2018-04-05', 15))),\n",
              " (1, ('base1', ('2018-05-12', 18))),\n",
              " (1, ('base1', ('2018-05-21', 23))),\n",
              " (1, ('base1', ('2018-01-04', 38))),\n",
              " (1, ('base1', ('2018-02-29', 28))),\n",
              " (1, ('base1', ('2018-06-14', 9))),\n",
              " (1, ('base1', ('2018-07-12', 5))),\n",
              " (1, ('base1', ('2018-08-31', 19))),\n",
              " (1, ('base1', ('2018-09-14', 20)))]"
            ]
          },
          "metadata": {
            "tags": []
          },
          "execution_count": 134
        }
      ]
    },
    {
      "cell_type": "code",
      "metadata": {
        "id": "Wxe_RlvdqZcr",
        "colab_type": "code",
        "colab": {
          "base_uri": "https://localhost:8080/",
          "height": 221
        },
        "outputId": "6f410910-f19c-46d9-c380-e9475e39a82e"
      },
      "source": [
        "# calculo la temperatura promedio por mes, para eso pongo como clave el mes y año \n",
        "medsRDD = medsRDD.map(lambda x: ((x[1][1][0].split('-')[0], x[1][1][0].split('-')[1],x[0],x[1][0]),(x[1][1][1], 1)))\n",
        "medsRDD.collect()"
      ],
      "execution_count": 135,
      "outputs": [
        {
          "output_type": "execute_result",
          "data": {
            "text/plain": [
              "[(('2018', '09', 4, 'base4'), (26, 1)),\n",
              " (('2018', '08', 4, 'base4'), (13, 1)),\n",
              " (('2018', '03', 1, 'base1'), (25, 1)),\n",
              " (('2018', '04', 1, 'base1'), (15, 1)),\n",
              " (('2018', '05', 1, 'base1'), (18, 1)),\n",
              " (('2018', '05', 1, 'base1'), (23, 1)),\n",
              " (('2018', '01', 1, 'base1'), (38, 1)),\n",
              " (('2018', '02', 1, 'base1'), (28, 1)),\n",
              " (('2018', '06', 1, 'base1'), (9, 1)),\n",
              " (('2018', '07', 1, 'base1'), (5, 1)),\n",
              " (('2018', '08', 1, 'base1'), (19, 1)),\n",
              " (('2018', '09', 1, 'base1'), (20, 1))]"
            ]
          },
          "metadata": {
            "tags": []
          },
          "execution_count": 135
        }
      ]
    },
    {
      "cell_type": "code",
      "metadata": {
        "id": "Ep9LVgLUqvAi",
        "colab_type": "code",
        "colab": {
          "base_uri": "https://localhost:8080/",
          "height": 204
        },
        "outputId": "633deb4d-afc7-4774-ba51-2a74f39a0610"
      },
      "source": [
        "medsRDD = medsRDD.reduceByKey(lambda x,y: ((x[0]+y[0])/(x[1]+y[1]))) #calculo del promedio de temperatura por base\n",
        "medsRDD_aux = medsRDD.map(lambda x: (x[0], x[1][0]/x[1][1]) if ((type(x[1])==tuple)) else (x[0],x[1])).sortByKey()\n",
        "medsRDD_aux.collect()"
      ],
      "execution_count": 136,
      "outputs": [
        {
          "output_type": "execute_result",
          "data": {
            "text/plain": [
              "[(('2018', '01', 1, 'base1'), 38.0),\n",
              " (('2018', '02', 1, 'base1'), 28.0),\n",
              " (('2018', '03', 1, 'base1'), 25.0),\n",
              " (('2018', '04', 1, 'base1'), 15.0),\n",
              " (('2018', '05', 1, 'base1'), 20.5),\n",
              " (('2018', '06', 1, 'base1'), 9.0),\n",
              " (('2018', '07', 1, 'base1'), 5.0),\n",
              " (('2018', '08', 1, 'base1'), 19.0),\n",
              " (('2018', '08', 4, 'base4'), 13.0),\n",
              " (('2018', '09', 1, 'base1'), 20.0),\n",
              " (('2018', '09', 4, 'base4'), 26.0)]"
            ]
          },
          "metadata": {
            "tags": []
          },
          "execution_count": 136
        }
      ]
    },
    {
      "cell_type": "code",
      "metadata": {
        "id": "53WT18G_rM5S",
        "colab_type": "code",
        "colab": {}
      },
      "source": [
        "def comparar(x):\n",
        "    tempAnterior = 0\n",
        "    newList = []\n",
        "    for registro in x[1]:\n",
        "        if (((registro[0]-tempAnterior)/registro[0]) > 0.3) or (((registro[0]-tempAnterior)/registro[0]) < -0.3):\n",
        "                newReg = (((registro[0]-tempAnterior)/registro[0]), registro[3])\n",
        "                newList.append(newReg)\n",
        "        tempAnterior = registro[0]\n",
        "    return (x[0], newList)"
      ],
      "execution_count": 0,
      "outputs": []
    },
    {
      "cell_type": "code",
      "metadata": {
        "id": "dzalZ8nnrb-Q",
        "colab_type": "code",
        "colab": {
          "base_uri": "https://localhost:8080/",
          "height": 153
        },
        "outputId": "22e8ff23-aa46-409d-e2cc-cded8b9e6696"
      },
      "source": [
        "medsFinal = medsRDD_aux.map(lambda x: (x[0][2], (x[1],x[0][0],x[0][1],x[0][3]))).groupByKey().map(lambda x: (x[0], list(x[1])))\\\n",
        ".map(comparar)\n",
        "medsFinal.collect()"
      ],
      "execution_count": 147,
      "outputs": [
        {
          "output_type": "execute_result",
          "data": {
            "text/plain": [
              "[(4, [(1.0, 'base4'), (0.5, 'base4')]),\n",
              " (1,\n",
              "  [(1.0, 'base1'),\n",
              "   (-0.35714285714285715, 'base1'),\n",
              "   (-0.6666666666666666, 'base1'),\n",
              "   (-1.2777777777777777, 'base1'),\n",
              "   (-0.8, 'base1'),\n",
              "   (0.7368421052631579, 'base1')])]"
            ]
          },
          "metadata": {
            "tags": []
          },
          "execution_count": 147
        }
      ]
    },
    {
      "cell_type": "code",
      "metadata": {
        "id": "YVlPmPsMsF1b",
        "colab_type": "code",
        "colab": {}
      },
      "source": [
        ""
      ],
      "execution_count": 0,
      "outputs": []
    }
  ]
}
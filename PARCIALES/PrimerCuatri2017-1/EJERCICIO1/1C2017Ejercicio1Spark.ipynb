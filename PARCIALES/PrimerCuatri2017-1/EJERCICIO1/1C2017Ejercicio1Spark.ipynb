{
  "nbformat": 4,
  "nbformat_minor": 0,
  "metadata": {
    "colab": {
      "name": "1C2017Ejercicio1Spark.ipynb",
      "provenance": [],
      "collapsed_sections": []
    },
    "kernelspec": {
      "name": "python3",
      "display_name": "Python 3"
    }
  },
  "cells": [
    {
      "cell_type": "code",
      "metadata": {
        "id": "iETPQIDEQ4NA",
        "colab_type": "code",
        "colab": {
          "base_uri": "https://localhost:8080/",
          "height": 884
        },
        "outputId": "3a2dda99-c11f-40a2-d5e4-92ab3b4378fe"
      },
      "source": [
        "!pip install pyspark\n",
        "!pip install -U -q PyDrive\n",
        "!apt install openjdk-8-jdk-headless -qq\n",
        "import os\n",
        "os.environ[\"JAVA_HOME\"] = \"/usr/lib/jvm/java-8-openjdk-amd64\""
      ],
      "execution_count": 1,
      "outputs": [
        {
          "output_type": "stream",
          "text": [
            "Collecting pyspark\n",
            "\u001b[?25l  Downloading https://files.pythonhosted.org/packages/8e/b0/bf9020b56492281b9c9d8aae8f44ff51e1bc91b3ef5a884385cb4e389a40/pyspark-3.0.0.tar.gz (204.7MB)\n",
            "\u001b[K     |████████████████████████████████| 204.7MB 66kB/s \n",
            "\u001b[?25hCollecting py4j==0.10.9\n",
            "\u001b[?25l  Downloading https://files.pythonhosted.org/packages/9e/b6/6a4fb90cd235dc8e265a6a2067f2a2c99f0d91787f06aca4bcf7c23f3f80/py4j-0.10.9-py2.py3-none-any.whl (198kB)\n",
            "\u001b[K     |████████████████████████████████| 204kB 42.6MB/s \n",
            "\u001b[?25hBuilding wheels for collected packages: pyspark\n",
            "  Building wheel for pyspark (setup.py) ... \u001b[?25l\u001b[?25hdone\n",
            "  Created wheel for pyspark: filename=pyspark-3.0.0-py2.py3-none-any.whl size=205044182 sha256=a358d04dfd69eaad7e8bea2f146a97da4fa97be43eec8d758d09c3a93e0ac119\n",
            "  Stored in directory: /root/.cache/pip/wheels/57/27/4d/ddacf7143f8d5b76c45c61ee2e43d9f8492fc5a8e78ebd7d37\n",
            "Successfully built pyspark\n",
            "Installing collected packages: py4j, pyspark\n",
            "Successfully installed py4j-0.10.9 pyspark-3.0.0\n",
            "The following package was automatically installed and is no longer required:\n",
            "  libnvidia-common-440\n",
            "Use 'apt autoremove' to remove it.\n",
            "The following additional packages will be installed:\n",
            "  openjdk-8-jre-headless\n",
            "Suggested packages:\n",
            "  openjdk-8-demo openjdk-8-source libnss-mdns fonts-dejavu-extra\n",
            "  fonts-ipafont-gothic fonts-ipafont-mincho fonts-wqy-microhei\n",
            "  fonts-wqy-zenhei fonts-indic\n",
            "The following NEW packages will be installed:\n",
            "  openjdk-8-jdk-headless openjdk-8-jre-headless\n",
            "0 upgraded, 2 newly installed, 0 to remove and 33 not upgraded.\n",
            "Need to get 35.8 MB of archives.\n",
            "After this operation, 140 MB of additional disk space will be used.\n",
            "Selecting previously unselected package openjdk-8-jre-headless:amd64.\n",
            "(Reading database ... 144379 files and directories currently installed.)\n",
            "Preparing to unpack .../openjdk-8-jre-headless_8u252-b09-1~18.04_amd64.deb ...\n",
            "Unpacking openjdk-8-jre-headless:amd64 (8u252-b09-1~18.04) ...\n",
            "Selecting previously unselected package openjdk-8-jdk-headless:amd64.\n",
            "Preparing to unpack .../openjdk-8-jdk-headless_8u252-b09-1~18.04_amd64.deb ...\n",
            "Unpacking openjdk-8-jdk-headless:amd64 (8u252-b09-1~18.04) ...\n",
            "Setting up openjdk-8-jre-headless:amd64 (8u252-b09-1~18.04) ...\n",
            "update-alternatives: using /usr/lib/jvm/java-8-openjdk-amd64/jre/bin/orbd to provide /usr/bin/orbd (orbd) in auto mode\n",
            "update-alternatives: using /usr/lib/jvm/java-8-openjdk-amd64/jre/bin/servertool to provide /usr/bin/servertool (servertool) in auto mode\n",
            "update-alternatives: using /usr/lib/jvm/java-8-openjdk-amd64/jre/bin/tnameserv to provide /usr/bin/tnameserv (tnameserv) in auto mode\n",
            "Setting up openjdk-8-jdk-headless:amd64 (8u252-b09-1~18.04) ...\n",
            "update-alternatives: using /usr/lib/jvm/java-8-openjdk-amd64/bin/idlj to provide /usr/bin/idlj (idlj) in auto mode\n",
            "update-alternatives: using /usr/lib/jvm/java-8-openjdk-amd64/bin/wsimport to provide /usr/bin/wsimport (wsimport) in auto mode\n",
            "update-alternatives: using /usr/lib/jvm/java-8-openjdk-amd64/bin/jsadebugd to provide /usr/bin/jsadebugd (jsadebugd) in auto mode\n",
            "update-alternatives: using /usr/lib/jvm/java-8-openjdk-amd64/bin/native2ascii to provide /usr/bin/native2ascii (native2ascii) in auto mode\n",
            "update-alternatives: using /usr/lib/jvm/java-8-openjdk-amd64/bin/javah to provide /usr/bin/javah (javah) in auto mode\n",
            "update-alternatives: using /usr/lib/jvm/java-8-openjdk-amd64/bin/clhsdb to provide /usr/bin/clhsdb (clhsdb) in auto mode\n",
            "update-alternatives: using /usr/lib/jvm/java-8-openjdk-amd64/bin/extcheck to provide /usr/bin/extcheck (extcheck) in auto mode\n",
            "update-alternatives: using /usr/lib/jvm/java-8-openjdk-amd64/bin/hsdb to provide /usr/bin/hsdb (hsdb) in auto mode\n",
            "update-alternatives: using /usr/lib/jvm/java-8-openjdk-amd64/bin/schemagen to provide /usr/bin/schemagen (schemagen) in auto mode\n",
            "update-alternatives: using /usr/lib/jvm/java-8-openjdk-amd64/bin/xjc to provide /usr/bin/xjc (xjc) in auto mode\n",
            "update-alternatives: using /usr/lib/jvm/java-8-openjdk-amd64/bin/jhat to provide /usr/bin/jhat (jhat) in auto mode\n",
            "update-alternatives: using /usr/lib/jvm/java-8-openjdk-amd64/bin/wsgen to provide /usr/bin/wsgen (wsgen) in auto mode\n"
          ],
          "name": "stdout"
        }
      ]
    },
    {
      "cell_type": "code",
      "metadata": {
        "id": "lmoj04V3Q51j",
        "colab_type": "code",
        "colab": {}
      },
      "source": [
        "from pydrive.auth import GoogleAuth\n",
        "from pydrive.drive import GoogleDrive\n",
        "from google.colab import auth\n",
        "from oauth2client.client import GoogleCredentials\n",
        "from pyspark.sql import *\n",
        "from pyspark.sql.functions import *\n",
        "from pyspark import SparkContext\n",
        "from pyspark.sql import SQLContext\n",
        "import pandas as pd"
      ],
      "execution_count": 2,
      "outputs": []
    },
    {
      "cell_type": "code",
      "metadata": {
        "id": "QH5uiOo4RLhB",
        "colab_type": "code",
        "colab": {}
      },
      "source": [
        "# create the Spark Session\n",
        "spark = SparkSession.builder.getOrCreate()\n",
        "\n",
        "# create the Spark Context\n",
        "sc = spark.sparkContext"
      ],
      "execution_count": 3,
      "outputs": []
    },
    {
      "cell_type": "markdown",
      "metadata": {
        "id": "Joovml2dRQBs",
        "colab_type": "text"
      },
      "source": [
        "# Organización de Datos 75.06. Primer Cuatrimestre de 2017. Examen parcial, primera oportunidad:\n"
      ]
    },
    {
      "cell_type": "markdown",
      "metadata": {
        "id": "an5zztWxRYBu",
        "colab_type": "text"
      },
      "source": [
        "### 1) Se tiene información estadística de la temporada regular de todos los jugadores de la NBA en un RDD de tuplas con el siguiente formato: (id_jugador, nombre, promedio_puntos, promedio_asistencias, promedio_robos, promedio_bloqueos, promedio_rebotes, promedio_faltas). Un analista de la cadena ESPN está trabajando con un RDD que corresponde a la primera ronda de playoffs y que tiene el siguiente formato: (id_jugador, id_partido, timestamp, cantidad_puntos, cantidad_rebotes, cantidad_bloqueos, cantidad_robos, cantidad_asistencias, cantidad_faltas). En base a estos RDDs se quiere programar en PySpark un programa que genere un RDD con los nombres (sin duplicados) de los jugadores que lograron en algún partido de playoffs una cantidad de asistencias mayor a su promedio histórico. (****) (15 pts)"
      ]
    },
    {
      "cell_type": "code",
      "metadata": {
        "id": "5z0Nmw-IRNm3",
        "colab_type": "code",
        "colab": {}
      },
      "source": [
        "# (id_jugador, nombre, promedio_puntos, promedio_asistencias, promedio_robos, promedio_bloqueos, promedio_rebotes, promedio_faltas).\n",
        "historico = [(1010, 'Jack S', 20, 32, 17, 11, 10, 3),\n",
        "             (1011, 'George', 30, 33, 19, 20, 11, 13),\n",
        "             (1012, 'John F', 20, 33, 27, 21, 12, 31),\n",
        "             (1013, 'Matt T', 11, 30, 37, 12, 13, 31),\n",
        "             (1014, 'Lyon R', 16, 59, 22, 19, 19, 30),\n",
        "             (1015, 'Floyd ', 29, 42, 45, 16, 18, 4),\n",
        "             (1016, 'Hether', 35, 43, 36, 14, 17, 10),\n",
        "             (1017, 'Jessez', 44, 34, 33, 12, 17, 6),\n",
        "             (1018, 'Brians', 24, 39, 11, 13, 16, 7),\n",
        "             (1019, 'Rambos', 20, 11, 9, 14, 11, 8),\n",
        "             (1020, 'Wick Q', 24, 14, 7, 21, 21, 11),\n",
        "             (1021, 'Finger', 25, 15, 37, 22, 22, 19),\n",
        "             (1022, 'Leenyr', 40, 15, 22, 29, 21, 14),\n",
        "             (1023, 'Chad V', 30, 31, 18, 21, 22, 13),\n",
        "             (1024, 'Tony W', 16, 30, 29, 11, 21, 21)]\n",
        "# (id_jugador, id_partido, timestamp, cantidad_puntos, cantidad_rebotes, cantidad_bloqueos, cantidad_robos, cantidad_asistencias, cantidad_faltas)\n",
        "playoffs = [(1010, 1, 2019-10-11, 10, 9, 24, 11, 19, 21 ),\n",
        "            (1012, 1, 2019-10-11, 11, 19, 22, 1, 29, 0 ),\n",
        "            (1013, 1, 2019-10-11, 21, 29, 21, 10, 22, 20 ),\n",
        "            (1015, 2, 2019-9-11, 40, 19, 20, 11, 12, 3 ),\n",
        "            (1018, 2, 2019-9-11, 31, 9, 34, 21, 13, 4 ),\n",
        "            (1019, 2, 2019-9-11, 28, 14, 11, 22, 14, 45 ),\n",
        "            (1020, 3, 2019-11-11, 22, 11, 14, 1, 24, 17 ),\n",
        "            (1023, 3, 2019-11-11, 9, 19, 18, 9, 26, 3 ),\n",
        "            (1024, 3, 2019-11-11, 7, 41, 14, 8, 28, 2 )]"
      ],
      "execution_count": 11,
      "outputs": []
    },
    {
      "cell_type": "code",
      "metadata": {
        "id": "hpmNUiRPVhEs",
        "colab_type": "code",
        "colab": {}
      },
      "source": [
        "historicoRDD = sc.parallelize(historico)\n",
        "playoffsRDD = sc.parallelize(playoffs)"
      ],
      "execution_count": 12,
      "outputs": []
    },
    {
      "cell_type": "code",
      "metadata": {
        "id": "8ya04rk9WLac",
        "colab_type": "code",
        "colab": {
          "base_uri": "https://localhost:8080/",
          "height": 272
        },
        "outputId": "030fc8d5-af7e-4ff9-b68b-be81f2b0c7db"
      },
      "source": [
        "historicoRDD.collect()"
      ],
      "execution_count": 13,
      "outputs": [
        {
          "output_type": "execute_result",
          "data": {
            "text/plain": [
              "[(1010, 'Jack S', 20, 32, 17, 11, 10, 3),\n",
              " (1011, 'George', 30, 33, 19, 20, 11, 13),\n",
              " (1012, 'John F', 20, 33, 27, 21, 12, 31),\n",
              " (1013, 'Matt T', 11, 30, 37, 12, 13, 31),\n",
              " (1014, 'Lyon R', 16, 59, 22, 19, 19, 30),\n",
              " (1015, 'Floyd ', 29, 42, 45, 16, 18, 4),\n",
              " (1016, 'Hether', 35, 43, 36, 14, 17, 10),\n",
              " (1017, 'Jessez', 44, 34, 33, 12, 17, 6),\n",
              " (1018, 'Brians', 24, 39, 11, 13, 16, 7),\n",
              " (1019, 'Rambos', 20, 11, 9, 14, 11, 8),\n",
              " (1020, 'Wick Q', 24, 14, 7, 21, 21, 11),\n",
              " (1021, 'Finger', 25, 15, 37, 22, 22, 19),\n",
              " (1022, 'Leenyr', 40, 15, 22, 29, 21, 14),\n",
              " (1023, 'Chad V', 30, 31, 18, 21, 22, 13),\n",
              " (1024, 'Tony W', 16, 30, 29, 11, 21, 21)]"
            ]
          },
          "metadata": {
            "tags": []
          },
          "execution_count": 13
        }
      ]
    },
    {
      "cell_type": "code",
      "metadata": {
        "id": "Plv0y5w-WeiO",
        "colab_type": "code",
        "colab": {
          "base_uri": "https://localhost:8080/",
          "height": 170
        },
        "outputId": "683c5586-a745-4b8e-aeb2-a795c3373e88"
      },
      "source": [
        "playoffsRDD.collect()"
      ],
      "execution_count": 14,
      "outputs": [
        {
          "output_type": "execute_result",
          "data": {
            "text/plain": [
              "[(1010, 1, 1998, 10, 9, 24, 11, 19, 21),\n",
              " (1012, 1, 1998, 11, 19, 22, 1, 29, 0),\n",
              " (1013, 1, 1998, 21, 29, 21, 10, 22, 20),\n",
              " (1015, 2, 1999, 40, 19, 20, 11, 12, 3),\n",
              " (1018, 2, 1999, 31, 9, 34, 21, 13, 4),\n",
              " (1019, 2, 1999, 28, 14, 11, 22, 14, 45),\n",
              " (1020, 3, 1997, 22, 11, 14, 1, 24, 17),\n",
              " (1023, 3, 1997, 9, 19, 18, 9, 26, 3),\n",
              " (1024, 3, 1997, 7, 41, 14, 8, 28, 2)]"
            ]
          },
          "metadata": {
            "tags": []
          },
          "execution_count": 14
        }
      ]
    },
    {
      "cell_type": "code",
      "metadata": {
        "id": "KgxnL4ZmWihi",
        "colab_type": "code",
        "colab": {
          "base_uri": "https://localhost:8080/",
          "height": 170
        },
        "outputId": "d7e0523d-24e7-4253-9656-9deaa4678af7"
      },
      "source": [
        "playoffs_short = playoffsRDD.map(lambda x: (x[0],x[7]))\n",
        "playoffs_short.collect()"
      ],
      "execution_count": 17,
      "outputs": [
        {
          "output_type": "execute_result",
          "data": {
            "text/plain": [
              "[(1010, 19),\n",
              " (1012, 29),\n",
              " (1013, 22),\n",
              " (1015, 12),\n",
              " (1018, 13),\n",
              " (1019, 14),\n",
              " (1020, 24),\n",
              " (1023, 26),\n",
              " (1024, 28)]"
            ]
          },
          "metadata": {
            "tags": []
          },
          "execution_count": 17
        }
      ]
    },
    {
      "cell_type": "code",
      "metadata": {
        "id": "x1HdvclmXGL1",
        "colab_type": "code",
        "colab": {
          "base_uri": "https://localhost:8080/",
          "height": 272
        },
        "outputId": "8d1e77d0-6751-41ff-89e9-98c40e92a910"
      },
      "source": [
        "historico_short = historicoRDD.map(lambda x: (x[0],(x[1],x[3])))\n",
        "historico_short.collect()"
      ],
      "execution_count": 20,
      "outputs": [
        {
          "output_type": "execute_result",
          "data": {
            "text/plain": [
              "[(1010, ('Jack S', 32)),\n",
              " (1011, ('George', 33)),\n",
              " (1012, ('John F', 33)),\n",
              " (1013, ('Matt T', 30)),\n",
              " (1014, ('Lyon R', 59)),\n",
              " (1015, ('Floyd ', 42)),\n",
              " (1016, ('Hether', 43)),\n",
              " (1017, ('Jessez', 34)),\n",
              " (1018, ('Brians', 39)),\n",
              " (1019, ('Rambos', 11)),\n",
              " (1020, ('Wick Q', 14)),\n",
              " (1021, ('Finger', 15)),\n",
              " (1022, ('Leenyr', 15)),\n",
              " (1023, ('Chad V', 31)),\n",
              " (1024, ('Tony W', 30))]"
            ]
          },
          "metadata": {
            "tags": []
          },
          "execution_count": 20
        }
      ]
    },
    {
      "cell_type": "code",
      "metadata": {
        "id": "cdLFJGTKXphz",
        "colab_type": "code",
        "colab": {
          "base_uri": "https://localhost:8080/",
          "height": 170
        },
        "outputId": "ce5afc45-a5de-4f2c-a9fc-89287bcc90fc"
      },
      "source": [
        "historico_vs_playoffs = historico_short.join(playoffs_short)\n",
        "historico_vs_playoffs.collect()"
      ],
      "execution_count": 24,
      "outputs": [
        {
          "output_type": "execute_result",
          "data": {
            "text/plain": [
              "[(1012, (('John F', 33), 29)),\n",
              " (1020, (('Wick Q', 14), 24)),\n",
              " (1024, (('Tony W', 30), 28)),\n",
              " (1013, (('Matt T', 30), 22)),\n",
              " (1010, (('Jack S', 32), 19)),\n",
              " (1018, (('Brians', 39), 13)),\n",
              " (1015, (('Floyd ', 42), 12)),\n",
              " (1019, (('Rambos', 11), 14)),\n",
              " (1023, (('Chad V', 31), 26))]"
            ]
          },
          "metadata": {
            "tags": []
          },
          "execution_count": 24
        }
      ]
    },
    {
      "cell_type": "code",
      "metadata": {
        "id": "rwfxHHuUX9Ti",
        "colab_type": "code",
        "colab": {
          "base_uri": "https://localhost:8080/",
          "height": 170
        },
        "outputId": "5c8a081b-f28c-4ae3-9827-80842eb8364d"
      },
      "source": [
        "comparativa_asistencias = historico_vs_playoffs.map(lambda x: (x[1][0][0],(x[1][0][1],x[1][1])))\n",
        "comparativa_asistencias.collect()"
      ],
      "execution_count": 28,
      "outputs": [
        {
          "output_type": "execute_result",
          "data": {
            "text/plain": [
              "[('John F', (33, 29)),\n",
              " ('Wick Q', (14, 24)),\n",
              " ('Tony W', (30, 28)),\n",
              " ('Matt T', (30, 22)),\n",
              " ('Jack S', (32, 19)),\n",
              " ('Brians', (39, 13)),\n",
              " ('Floyd ', (42, 12)),\n",
              " ('Rambos', (11, 14)),\n",
              " ('Chad V', (31, 26))]"
            ]
          },
          "metadata": {
            "tags": []
          },
          "execution_count": 28
        }
      ]
    },
    {
      "cell_type": "code",
      "metadata": {
        "id": "2shMedr6Ymcy",
        "colab_type": "code",
        "colab": {
          "base_uri": "https://localhost:8080/",
          "height": 34
        },
        "outputId": "127d287a-b549-4eb2-f51f-3adeb36bad2b"
      },
      "source": [
        "comparativa_asistencias_supera_promedio = comparativa_asistencias.filter(lambda x: x[1][1]>x[1][0])\n",
        "comparativa_asistencias_supera_promedio.collect()"
      ],
      "execution_count": 30,
      "outputs": [
        {
          "output_type": "execute_result",
          "data": {
            "text/plain": [
              "[('Wick Q', (14, 24)), ('Rambos', (11, 14))]"
            ]
          },
          "metadata": {
            "tags": []
          },
          "execution_count": 30
        }
      ]
    },
    {
      "cell_type": "code",
      "metadata": {
        "id": "suYRY0k7ZPWL",
        "colab_type": "code",
        "colab": {}
      },
      "source": [
        ""
      ],
      "execution_count": null,
      "outputs": []
    }
  ]
}
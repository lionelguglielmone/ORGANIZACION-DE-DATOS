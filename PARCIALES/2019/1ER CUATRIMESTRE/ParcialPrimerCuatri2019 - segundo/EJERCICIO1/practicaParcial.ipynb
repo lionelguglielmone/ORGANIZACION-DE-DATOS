{
  "nbformat": 4,
  "nbformat_minor": 0,
  "metadata": {
    "colab": {
      "name": "practicaParcial.ipynb",
      "provenance": [],
      "collapsed_sections": []
    },
    "kernelspec": {
      "name": "python3",
      "display_name": "Python 3"
    }
  },
  "cells": [
    {
      "cell_type": "markdown",
      "metadata": {
        "id": "KHdU05jEP1EY",
        "colab_type": "text"
      },
      "source": [
        "# Instalamos e importamos librerías"
      ]
    },
    {
      "cell_type": "code",
      "metadata": {
        "id": "fnV5re322Wz9",
        "colab_type": "code",
        "outputId": "9bbe5b23-db83-43c8-c5a7-299872d51bff",
        "colab": {
          "base_uri": "https://localhost:8080/",
          "height": 136
        }
      },
      "source": [
        "!pip install pyspark\n",
        "!pip install -U -q PyDrive\n",
        "!apt install openjdk-8-jdk-headless -qq\n",
        "import os\n",
        "os.environ[\"JAVA_HOME\"] = \"/usr/lib/jvm/java-8-openjdk-amd64\""
      ],
      "execution_count": 80,
      "outputs": [
        {
          "output_type": "stream",
          "text": [
            "Requirement already satisfied: pyspark in /usr/local/lib/python3.6/dist-packages (2.4.6)\n",
            "Requirement already satisfied: py4j==0.10.7 in /usr/local/lib/python3.6/dist-packages (from pyspark) (0.10.7)\n",
            "openjdk-8-jdk-headless is already the newest version (8u252-b09-1~18.04).\n",
            "The following package was automatically installed and is no longer required:\n",
            "  libnvidia-common-440\n",
            "Use 'apt autoremove' to remove it.\n",
            "0 upgraded, 0 newly installed, 0 to remove and 43 not upgraded.\n"
          ],
          "name": "stdout"
        }
      ]
    },
    {
      "cell_type": "code",
      "metadata": {
        "id": "nhYIAjti3iaf",
        "colab_type": "code",
        "colab": {}
      },
      "source": [
        "from pydrive.auth import GoogleAuth\n",
        "from pydrive.drive import GoogleDrive\n",
        "from google.colab import auth\n",
        "from oauth2client.client import GoogleCredentials\n",
        "from pyspark.sql import *\n",
        "from pyspark.sql.functions import *\n",
        "from pyspark import SparkContext\n",
        "from pyspark.sql import SQLContext\n",
        "import pandas as pd"
      ],
      "execution_count": 0,
      "outputs": []
    },
    {
      "cell_type": "markdown",
      "metadata": {
        "id": "JCKfIhFUQiyg",
        "colab_type": "text"
      },
      "source": [
        "# Creamos el Spark Context"
      ]
    },
    {
      "cell_type": "code",
      "metadata": {
        "id": "5ENPglW_4Cco",
        "colab_type": "code",
        "colab": {}
      },
      "source": [
        "# create the Spark Session\n",
        "spark = SparkSession.builder.getOrCreate()\n",
        "\n",
        "# create the Spark Context\n",
        "sc = spark.sparkContext"
      ],
      "execution_count": 0,
      "outputs": []
    },
    {
      "cell_type": "markdown",
      "metadata": {
        "id": "Gr9ZHM8c7x8h",
        "colab_type": "text"
      },
      "source": [
        "# Organización de Datos 75.06 . Primer Cuatrimestre de 2019. Examen parcial, segunda oportunidad:         \n",
        "# Ejercicio SPARK\n"
      ]
    },
    {
      "cell_type": "markdown",
      "metadata": {
        "id": "-__EzR357o4r",
        "colab_type": "text"
      },
      "source": [
        "# 1) ACARA posee información histórica sobre la venta de autos 0km           en la Argentina. Posee un RDD con información de cada modelo           (marca, modelo, motor, transmisión, origen)y otro con        la información de ventas (marca, modelo, fecha,       concesionario) . \n",
        "# Se desea conocer, para los modelos de origen nacional, cuales son           los modelos que ya se discontinuaron (un modelo discontinuado es          aquel que no tuvo ventas en los últimos 12 meses), obteniendo un            nuevo RDD con (marca, modelo, total_vendido,      fecha_inicio_venta, fecha_discontinuación) , donde la    fecha de discontinuación es la fecha cuando se vendió el último auto            de ese modelo, ordenado ascendentemente por esta fecha. (***) (          15pts) \n",
        " \n",
        "Aclaración: Se puede asumir que el primer RDD tiene un único           registro para cada Marca y Modelo. "
      ]
    },
    {
      "cell_type": "code",
      "metadata": {
        "id": "lNvzWFoH70p7",
        "colab_type": "code",
        "colab": {}
      },
      "source": [
        "# primero, definimos dos RDDs modelos para trabajar\n",
        "ventas = [\n",
        "    ('ford', 'fiesta', '2015/10/10', 'leman'),\n",
        "    ('ford', 'fiesta', '2019/10/10', 'suarez'),\n",
        "    ('ford', 'fiesta', '2015/10/10', 'suarez'),\n",
        "    ('ford', 'fiesta', '2016/10/10', 'suarez'),\n",
        "    ('ford', 'ecoSport', '2010/10/10','leman'),\n",
        "     ('ford', 'ecoSport', '2010/10/10','leman'),\n",
        "      ('ford', 'ecoSport', '2016/09/10','leman'),\n",
        "    ('chevrolet', 'cruze', '2019/10/10','leman'),\n",
        "    ('chevrolet', 'cruze', '2019/10/10', 'suarez'),\n",
        "    ('chevrolet', 'cruze', '2019/11/10', 'suarez'),\n",
        "    ('chevrolet', 'astra', '2019/06/12','leman'),\n",
        "    ('chevrolet', 'cruze', '2020/01/01', 'suarez'),\n",
        "    ('chevrolet', 'astra', '2015/06/14', 'leman'),\n",
        "    ('chevrolet', 'astra', '2017/06/14', 'leman'),\n",
        "    ('chevrolet', 'astra', '2016/06/14', 'suarez'),\n",
        "    ('volkswagen', 'gol', '2001/11/10', 'suarez'),\n",
        "    ('volkswagen', 'gol', '2002/11/10', 'suarez'),\n",
        "    ('volkswagen', 'gol', '2003/11/10', 'suarez'),\n",
        "    ('volkswagen', 'vento', '2020/02/01','leman'),\n",
        "    ('volkswagen', 'vento', '2020/01/01','suarez'),\n",
        "]\n",
        "\n",
        "modelo = [\n",
        "    ('ford', 'fiesta', 'regular','manual', 'argentina'),\n",
        "    ('ford', 'ecoSport', 'regular','automatica', 'brasil'),\n",
        "    ('ford', 'falcon', 'regular','manual', 'chile'),\n",
        "    ('chevrolet', 'cruze', 'mejorado','automatica', 'usa'),\n",
        "    ('chevrolet', 'astra', 'mejorado','automatica', 'argentina'),\n",
        "    ('volkswagen', 'gol', 'mejorado','manual', 'argentina'),\n",
        "    ('volkswagen', 'vento', 'super','automatico', 'argentina'),\n",
        "    ('volkswagen', 'subaru', 'mejorado','manual', 'argentina'),\n",
        "]"
      ],
      "execution_count": 0,
      "outputs": []
    },
    {
      "cell_type": "code",
      "metadata": {
        "id": "nzs9K63A7-dr",
        "colab_type": "code",
        "colab": {}
      },
      "source": [
        "ventasRDD = sc.parallelize(ventas)\n",
        "modeloRDD = sc.parallelize(modelo)"
      ],
      "execution_count": 0,
      "outputs": []
    },
    {
      "cell_type": "code",
      "metadata": {
        "id": "XhMrkfu8lj0l",
        "colab_type": "code",
        "outputId": "1256f0d6-ca62-496e-f024-46495b43fa3f",
        "colab": {
          "base_uri": "https://localhost:8080/",
          "height": 357
        }
      },
      "source": [
        "ventasRDD.collect()"
      ],
      "execution_count": 122,
      "outputs": [
        {
          "output_type": "execute_result",
          "data": {
            "text/plain": [
              "[('ford', 'fiesta', '2015/10/10', 'leman'),\n",
              " ('ford', 'fiesta', '2019/10/10', 'suarez'),\n",
              " ('ford', 'fiesta', '2015/10/10', 'suarez'),\n",
              " ('ford', 'fiesta', '2016/10/10', 'suarez'),\n",
              " ('ford', 'ecoSport', '2010/10/10', 'leman'),\n",
              " ('ford', 'ecoSport', '2010/10/10', 'leman'),\n",
              " ('ford', 'ecoSport', '2016/09/10', 'leman'),\n",
              " ('chevrolet', 'cruze', '2019/10/10', 'leman'),\n",
              " ('chevrolet', 'cruze', '2019/10/10', 'suarez'),\n",
              " ('chevrolet', 'cruze', '2019/11/10', 'suarez'),\n",
              " ('chevrolet', 'astra', '2019/06/12', 'leman'),\n",
              " ('chevrolet', 'cruze', '2020/01/01', 'suarez'),\n",
              " ('chevrolet', 'astra', '2015/06/14', 'leman'),\n",
              " ('chevrolet', 'astra', '2017/06/14', 'leman'),\n",
              " ('chevrolet', 'astra', '2016/06/14', 'suarez'),\n",
              " ('volkswagen', 'gol', '2001/11/10', 'suarez'),\n",
              " ('volkswagen', 'gol', '2002/11/10', 'suarez'),\n",
              " ('volkswagen', 'gol', '2003/11/10', 'suarez'),\n",
              " ('volkswagen', 'vento', '2020/02/01', 'leman'),\n",
              " ('volkswagen', 'vento', '2020/01/01', 'suarez')]"
            ]
          },
          "metadata": {
            "tags": []
          },
          "execution_count": 122
        }
      ]
    },
    {
      "cell_type": "code",
      "metadata": {
        "id": "hyOyhD4ivBDm",
        "colab_type": "code",
        "outputId": "3b43acd7-96d7-4fbb-a457-57b3bfd8911f",
        "colab": {
          "base_uri": "https://localhost:8080/",
          "height": 357
        }
      },
      "source": [
        "ventasTotales = ventasRDD.map(lambda x: ((x[0],x[1]) , (x[2])))\n",
        "ventasTotales.collect()"
      ],
      "execution_count": 157,
      "outputs": [
        {
          "output_type": "execute_result",
          "data": {
            "text/plain": [
              "[(('ford', 'fiesta'), '2015/10/10'),\n",
              " (('ford', 'fiesta'), '2019/10/10'),\n",
              " (('ford', 'fiesta'), '2015/10/10'),\n",
              " (('ford', 'fiesta'), '2016/10/10'),\n",
              " (('ford', 'ecoSport'), '2010/10/10'),\n",
              " (('ford', 'ecoSport'), '2010/10/10'),\n",
              " (('ford', 'ecoSport'), '2016/09/10'),\n",
              " (('chevrolet', 'cruze'), '2019/10/10'),\n",
              " (('chevrolet', 'cruze'), '2019/10/10'),\n",
              " (('chevrolet', 'cruze'), '2019/11/10'),\n",
              " (('chevrolet', 'astra'), '2019/06/12'),\n",
              " (('chevrolet', 'cruze'), '2020/01/01'),\n",
              " (('chevrolet', 'astra'), '2015/06/14'),\n",
              " (('chevrolet', 'astra'), '2017/06/14'),\n",
              " (('chevrolet', 'astra'), '2016/06/14'),\n",
              " (('volkswagen', 'gol'), '2001/11/10'),\n",
              " (('volkswagen', 'gol'), '2002/11/10'),\n",
              " (('volkswagen', 'gol'), '2003/11/10'),\n",
              " (('volkswagen', 'vento'), '2020/02/01'),\n",
              " (('volkswagen', 'vento'), '2020/01/01')]"
            ]
          },
          "metadata": {
            "tags": []
          },
          "execution_count": 157
        }
      ]
    },
    {
      "cell_type": "code",
      "metadata": {
        "id": "KzQOJKgArLNr",
        "colab_type": "code",
        "outputId": "5052f27f-dc4d-44fb-93cd-1d01b73ddfcc",
        "colab": {
          "base_uri": "https://localhost:8080/",
          "height": 153
        }
      },
      "source": [
        "modeloRDD.collect()"
      ],
      "execution_count": 158,
      "outputs": [
        {
          "output_type": "execute_result",
          "data": {
            "text/plain": [
              "[('ford', 'fiesta', 'regular', 'manual', 'argentina'),\n",
              " ('ford', 'ecoSport', 'regular', 'automatica', 'brasil'),\n",
              " ('ford', 'falcon', 'regular', 'manual', 'chile'),\n",
              " ('chevrolet', 'cruze', 'mejorado', 'automatica', 'usa'),\n",
              " ('chevrolet', 'astra', 'mejorado', 'automatica', 'argentina'),\n",
              " ('volkswagen', 'gol', 'mejorado', 'manual', 'argentina'),\n",
              " ('volkswagen', 'vento', 'super', 'automatico', 'argentina'),\n",
              " ('volkswagen', 'subaru', 'mejorado', 'manual', 'argentina')]"
            ]
          },
          "metadata": {
            "tags": []
          },
          "execution_count": 158
        }
      ]
    },
    {
      "cell_type": "code",
      "metadata": {
        "id": "nckG68nwn8wg",
        "colab_type": "code",
        "outputId": "c1d7dcf1-e48f-4743-8f91-1eb40863dea3",
        "colab": {
          "base_uri": "https://localhost:8080/",
          "height": 102
        }
      },
      "source": [
        "# Nos quedamos con los modelos nacionales\n",
        "nacionales = modeloRDD.map(lambda x: ((x[0],x[1]) , (x[4]))).filter(lambda x: x[1]=='argentina').cache()\n",
        "nacionales.collect()"
      ],
      "execution_count": 159,
      "outputs": [
        {
          "output_type": "execute_result",
          "data": {
            "text/plain": [
              "[(('ford', 'fiesta'), 'argentina'),\n",
              " (('chevrolet', 'astra'), 'argentina'),\n",
              " (('volkswagen', 'gol'), 'argentina'),\n",
              " (('volkswagen', 'vento'), 'argentina'),\n",
              " (('volkswagen', 'subaru'), 'argentina')]"
            ]
          },
          "metadata": {
            "tags": []
          },
          "execution_count": 159
        }
      ]
    },
    {
      "cell_type": "code",
      "metadata": {
        "id": "Q1Pc2UEUmwhJ",
        "colab_type": "code",
        "colab": {
          "base_uri": "https://localhost:8080/",
          "height": 102
        },
        "outputId": "7409f7b3-91f9-4475-db06-1b782470d63e"
      },
      "source": [
        "# Eliminamos el campo que almacena el pais de origen\n",
        "nacionales = nacionales.map(lambda x: ((x[0][0],x[0][1]),1))\n",
        "nacionales.collect()"
      ],
      "execution_count": 160,
      "outputs": [
        {
          "output_type": "execute_result",
          "data": {
            "text/plain": [
              "[(('ford', 'fiesta'), 1),\n",
              " (('chevrolet', 'astra'), 1),\n",
              " (('volkswagen', 'gol'), 1),\n",
              " (('volkswagen', 'vento'), 1),\n",
              " (('volkswagen', 'subaru'), 1)]"
            ]
          },
          "metadata": {
            "tags": []
          },
          "execution_count": 160
        }
      ]
    },
    {
      "cell_type": "code",
      "metadata": {
        "id": "hps-rvKEn8XT",
        "colab_type": "code",
        "outputId": "bf36742d-7794-4869-9874-b10a25ec98b2",
        "colab": {
          "base_uri": "https://localhost:8080/",
          "height": 357
        }
      },
      "source": [
        "# Filtramos las ventas ocurridas hace mas de un ano desd la fecha '2019/06/13'\n",
        "discontinuados = ventasTotales.filter(lambda x: (x[1][0])<('2019/06/13'))\n",
        "discontinuados.collect()"
      ],
      "execution_count": 161,
      "outputs": [
        {
          "output_type": "execute_result",
          "data": {
            "text/plain": [
              "[(('ford', 'fiesta'), '2015/10/10'),\n",
              " (('ford', 'fiesta'), '2019/10/10'),\n",
              " (('ford', 'fiesta'), '2015/10/10'),\n",
              " (('ford', 'fiesta'), '2016/10/10'),\n",
              " (('ford', 'ecoSport'), '2010/10/10'),\n",
              " (('ford', 'ecoSport'), '2010/10/10'),\n",
              " (('ford', 'ecoSport'), '2016/09/10'),\n",
              " (('chevrolet', 'cruze'), '2019/10/10'),\n",
              " (('chevrolet', 'cruze'), '2019/10/10'),\n",
              " (('chevrolet', 'cruze'), '2019/11/10'),\n",
              " (('chevrolet', 'astra'), '2019/06/12'),\n",
              " (('chevrolet', 'cruze'), '2020/01/01'),\n",
              " (('chevrolet', 'astra'), '2015/06/14'),\n",
              " (('chevrolet', 'astra'), '2017/06/14'),\n",
              " (('chevrolet', 'astra'), '2016/06/14'),\n",
              " (('volkswagen', 'gol'), '2001/11/10'),\n",
              " (('volkswagen', 'gol'), '2002/11/10'),\n",
              " (('volkswagen', 'gol'), '2003/11/10'),\n",
              " (('volkswagen', 'vento'), '2020/02/01'),\n",
              " (('volkswagen', 'vento'), '2020/01/01')]"
            ]
          },
          "metadata": {
            "tags": []
          },
          "execution_count": 161
        }
      ]
    },
    {
      "cell_type": "code",
      "metadata": {
        "id": "zvtAbZYnDssm",
        "colab_type": "code",
        "colab": {
          "base_uri": "https://localhost:8080/",
          "height": 85
        },
        "outputId": "0d9f4947-5bad-45e4-8189-618b5da3068c"
      },
      "source": [
        "# Unificamos los RDDs \n",
        "discontinuadosNacionales  = nacionales.join(discontinuados)\n",
        "discontinuadosNacionales.collect()\n",
        "# Aclaracion: la funcion lambda devuelve 3 campos: el primero, es la suma del anterior + el siguiente;, el 2do campo corresponde\n",
        "# a la fecha menor y el 3er campo a la fecha mayor.\n",
        "discontinuadosNacionalesConFecha = discontinuadosNacionales.reduceByKey(lambda x,y: (x[0]+y[0], x[1], y[1]) if x[1]<y[1] else (x[0]+y[0], y[1], x[1]))\n",
        "discontinuadosNacionalesConFecha.collect()"
      ],
      "execution_count": 166,
      "outputs": [
        {
          "output_type": "execute_result",
          "data": {
            "text/plain": [
              "[(('volkswagen', 'gol'), (3, '2001/11/10', '2003/11/10')),\n",
              " (('ford', 'fiesta'), (4, '2015/10/10', '2016/10/10')),\n",
              " (('volkswagen', 'vento'), (2, '2020/01/01', '2020/02/01')),\n",
              " (('chevrolet', 'astra'), (4, '2015/06/14', '2016/06/14'))]"
            ]
          },
          "metadata": {
            "tags": []
          },
          "execution_count": 166
        }
      ]
    },
    {
      "cell_type": "code",
      "metadata": {
        "id": "WxhqkYcEsN0n",
        "colab_type": "code",
        "colab": {
          "base_uri": "https://localhost:8080/",
          "height": 85
        },
        "outputId": "3a6129b7-14bb-4734-fb50-60f0a04460d1"
      },
      "source": [
        "# mapeamos las tuplas en un RDD de registros\n",
        "discontinuadosReg = discontinuadosNacionalesConFecha.map(lambda x: (x[0][0], x[0][1], x[1][0], x[1][1], x[1][2]))\n",
        "discontinuadosReg.collect()\n"
      ],
      "execution_count": 169,
      "outputs": [
        {
          "output_type": "execute_result",
          "data": {
            "text/plain": [
              "[('volkswagen', 'gol', 3, '2001/11/10', '2003/11/10'),\n",
              " ('ford', 'fiesta', 4, '2015/10/10', '2016/10/10'),\n",
              " ('volkswagen', 'vento', 2, '2020/01/01', '2020/02/01'),\n",
              " ('chevrolet', 'astra', 4, '2015/06/14', '2016/06/14')]"
            ]
          },
          "metadata": {
            "tags": []
          },
          "execution_count": 169
        }
      ]
    },
    {
      "cell_type": "code",
      "metadata": {
        "id": "3yZRFYfKsM7B",
        "colab_type": "code",
        "colab": {
          "base_uri": "https://localhost:8080/",
          "height": 85
        },
        "outputId": "06edd051-a007-49b8-c2f8-196d35eee826"
      },
      "source": [
        "# ordenamos de menor a mayor por fecha numero de ventas.. deberia ser por fecha de discontinuacion pero no se como hacerlo con string\n",
        "discontinuadosReg.sortBy(lambda x:-x[2]).collect()"
      ],
      "execution_count": 178,
      "outputs": [
        {
          "output_type": "execute_result",
          "data": {
            "text/plain": [
              "[('ford', 'fiesta', 4, '2015/10/10', '2016/10/10'),\n",
              " ('chevrolet', 'astra', 4, '2015/06/14', '2016/06/14'),\n",
              " ('volkswagen', 'gol', 3, '2001/11/10', '2003/11/10'),\n",
              " ('volkswagen', 'vento', 2, '2020/01/01', '2020/02/01')]"
            ]
          },
          "metadata": {
            "tags": []
          },
          "execution_count": 178
        }
      ]
    },
    {
      "cell_type": "code",
      "metadata": {
        "id": "SC9uGXwP-2CB",
        "colab_type": "code",
        "colab": {}
      },
      "source": [
        ""
      ],
      "execution_count": 0,
      "outputs": []
    }
  ]
}
{
  "nbformat": 4,
  "nbformat_minor": 0,
  "metadata": {
    "colab": {
      "name": "PrimCuatr2016-1Oport.ipynb",
      "provenance": [],
      "collapsed_sections": []
    },
    "kernelspec": {
      "name": "python3",
      "display_name": "Python 3"
    }
  },
  "cells": [
    {
      "cell_type": "code",
      "metadata": {
        "id": "EKnlWmKaXoIV",
        "colab_type": "code",
        "colab": {
          "base_uri": "https://localhost:8080/",
          "height": 884
        },
        "outputId": "2ca573e5-01e2-41d3-db32-777a38eb0e58"
      },
      "source": [
        "!pip install pyspark\n",
        "!pip install -U -q PyDrive\n",
        "!apt install openjdk-8-jdk-headless -qq\n",
        "import os\n",
        "os.environ[\"JAVA_HOME\"] = \"/usr/lib/jvm/java-8-openjdk-amd64\""
      ],
      "execution_count": 1,
      "outputs": [
        {
          "output_type": "stream",
          "text": [
            "Collecting pyspark\n",
            "\u001b[?25l  Downloading https://files.pythonhosted.org/packages/8e/b0/bf9020b56492281b9c9d8aae8f44ff51e1bc91b3ef5a884385cb4e389a40/pyspark-3.0.0.tar.gz (204.7MB)\n",
            "\u001b[K     |████████████████████████████████| 204.7MB 65kB/s \n",
            "\u001b[?25hCollecting py4j==0.10.9\n",
            "\u001b[?25l  Downloading https://files.pythonhosted.org/packages/9e/b6/6a4fb90cd235dc8e265a6a2067f2a2c99f0d91787f06aca4bcf7c23f3f80/py4j-0.10.9-py2.py3-none-any.whl (198kB)\n",
            "\u001b[K     |████████████████████████████████| 204kB 45.4MB/s \n",
            "\u001b[?25hBuilding wheels for collected packages: pyspark\n",
            "  Building wheel for pyspark (setup.py) ... \u001b[?25l\u001b[?25hdone\n",
            "  Created wheel for pyspark: filename=pyspark-3.0.0-py2.py3-none-any.whl size=205044182 sha256=82b7d810d133ec1c02c4665d0926ee6597c1070a55ad97c4b575cedb565d047e\n",
            "  Stored in directory: /root/.cache/pip/wheels/57/27/4d/ddacf7143f8d5b76c45c61ee2e43d9f8492fc5a8e78ebd7d37\n",
            "Successfully built pyspark\n",
            "Installing collected packages: py4j, pyspark\n",
            "Successfully installed py4j-0.10.9 pyspark-3.0.0\n",
            "The following package was automatically installed and is no longer required:\n",
            "  libnvidia-common-440\n",
            "Use 'apt autoremove' to remove it.\n",
            "The following additional packages will be installed:\n",
            "  openjdk-8-jre-headless\n",
            "Suggested packages:\n",
            "  openjdk-8-demo openjdk-8-source libnss-mdns fonts-dejavu-extra\n",
            "  fonts-ipafont-gothic fonts-ipafont-mincho fonts-wqy-microhei\n",
            "  fonts-wqy-zenhei fonts-indic\n",
            "The following NEW packages will be installed:\n",
            "  openjdk-8-jdk-headless openjdk-8-jre-headless\n",
            "0 upgraded, 2 newly installed, 0 to remove and 35 not upgraded.\n",
            "Need to get 35.8 MB of archives.\n",
            "After this operation, 140 MB of additional disk space will be used.\n",
            "Selecting previously unselected package openjdk-8-jre-headless:amd64.\n",
            "(Reading database ... 144465 files and directories currently installed.)\n",
            "Preparing to unpack .../openjdk-8-jre-headless_8u252-b09-1~18.04_amd64.deb ...\n",
            "Unpacking openjdk-8-jre-headless:amd64 (8u252-b09-1~18.04) ...\n",
            "Selecting previously unselected package openjdk-8-jdk-headless:amd64.\n",
            "Preparing to unpack .../openjdk-8-jdk-headless_8u252-b09-1~18.04_amd64.deb ...\n",
            "Unpacking openjdk-8-jdk-headless:amd64 (8u252-b09-1~18.04) ...\n",
            "Setting up openjdk-8-jre-headless:amd64 (8u252-b09-1~18.04) ...\n",
            "update-alternatives: using /usr/lib/jvm/java-8-openjdk-amd64/jre/bin/orbd to provide /usr/bin/orbd (orbd) in auto mode\n",
            "update-alternatives: using /usr/lib/jvm/java-8-openjdk-amd64/jre/bin/servertool to provide /usr/bin/servertool (servertool) in auto mode\n",
            "update-alternatives: using /usr/lib/jvm/java-8-openjdk-amd64/jre/bin/tnameserv to provide /usr/bin/tnameserv (tnameserv) in auto mode\n",
            "Setting up openjdk-8-jdk-headless:amd64 (8u252-b09-1~18.04) ...\n",
            "update-alternatives: using /usr/lib/jvm/java-8-openjdk-amd64/bin/idlj to provide /usr/bin/idlj (idlj) in auto mode\n",
            "update-alternatives: using /usr/lib/jvm/java-8-openjdk-amd64/bin/wsimport to provide /usr/bin/wsimport (wsimport) in auto mode\n",
            "update-alternatives: using /usr/lib/jvm/java-8-openjdk-amd64/bin/jsadebugd to provide /usr/bin/jsadebugd (jsadebugd) in auto mode\n",
            "update-alternatives: using /usr/lib/jvm/java-8-openjdk-amd64/bin/native2ascii to provide /usr/bin/native2ascii (native2ascii) in auto mode\n",
            "update-alternatives: using /usr/lib/jvm/java-8-openjdk-amd64/bin/javah to provide /usr/bin/javah (javah) in auto mode\n",
            "update-alternatives: using /usr/lib/jvm/java-8-openjdk-amd64/bin/clhsdb to provide /usr/bin/clhsdb (clhsdb) in auto mode\n",
            "update-alternatives: using /usr/lib/jvm/java-8-openjdk-amd64/bin/extcheck to provide /usr/bin/extcheck (extcheck) in auto mode\n",
            "update-alternatives: using /usr/lib/jvm/java-8-openjdk-amd64/bin/hsdb to provide /usr/bin/hsdb (hsdb) in auto mode\n",
            "update-alternatives: using /usr/lib/jvm/java-8-openjdk-amd64/bin/schemagen to provide /usr/bin/schemagen (schemagen) in auto mode\n",
            "update-alternatives: using /usr/lib/jvm/java-8-openjdk-amd64/bin/xjc to provide /usr/bin/xjc (xjc) in auto mode\n",
            "update-alternatives: using /usr/lib/jvm/java-8-openjdk-amd64/bin/jhat to provide /usr/bin/jhat (jhat) in auto mode\n",
            "update-alternatives: using /usr/lib/jvm/java-8-openjdk-amd64/bin/wsgen to provide /usr/bin/wsgen (wsgen) in auto mode\n"
          ],
          "name": "stdout"
        }
      ]
    },
    {
      "cell_type": "code",
      "metadata": {
        "id": "7ZTTC8EnXqbt",
        "colab_type": "code",
        "colab": {}
      },
      "source": [
        "from pydrive.auth import GoogleAuth\n",
        "from pydrive.drive import GoogleDrive\n",
        "from google.colab import auth\n",
        "from oauth2client.client import GoogleCredentials\n",
        "from pyspark.sql import *\n",
        "from pyspark.sql.functions import *\n",
        "from pyspark import SparkContext\n",
        "from pyspark.sql import SQLContext\n",
        "import pandas as pd"
      ],
      "execution_count": 2,
      "outputs": []
    },
    {
      "cell_type": "code",
      "metadata": {
        "id": "M_fNa8tWYMNq",
        "colab_type": "code",
        "colab": {}
      },
      "source": [
        "# create the Spark Session\n",
        "spark = SparkSession.builder.getOrCreate()\n",
        "\n",
        "# create the Spark Context\n",
        "sc = spark.sparkContext"
      ],
      "execution_count": 3,
      "outputs": []
    },
    {
      "cell_type": "markdown",
      "metadata": {
        "id": "VE9tmijIY4LP",
        "colab_type": "text"
      },
      "source": [
        "# Organización de Datos 75.06. Primr Cuatrimestre de 2016. Examen parcial, primera oportunidad"
      ]
    },
    {
      "cell_type": "markdown",
      "metadata": {
        "id": "rlfJ9XthY54B",
        "colab_type": "text"
      },
      "source": [
        "### 1) UBER almacena en un cluster todos los datos sobre el movimiento y viajes de todos sus vehículos. Existe un proceso que nos devuelve un RDD llamado trip_summary con los siguientes campos: (driver_id, car_id, trip_id, customer_id, date (YYYYMMDD), distance_traveled), Programar usando Py Spark un programa que nos indique cual fue el conductor con mayor promedio de distancia recorrida por viaje para Abril de 2019. (***) (15 pts)"
      ]
    },
    {
      "cell_type": "code",
      "metadata": {
        "id": "nGtBQCY4YQve",
        "colab_type": "code",
        "colab": {}
      },
      "source": [
        "# (driver_id, car_id, trip_id, customer_id, date, distance_traveled)\n",
        "trip_summary = [ (1000, 2000, 3000, 4001, '2019-01-01', 1.5),\n",
        "                (1001, 2020, 3001, 4000, '2019-04-02', 1.2),\n",
        "                (1002, 2019, 3002, 4000, '2019-04-03', 3.3),\n",
        "                (1003, 2018, 3003, 4001, '2019-04-04', 1.4),\n",
        "                (1004, 2017, 3004, 4002, '2019-04-05', 3.7),\n",
        "                (1005, 2016, 3005, 4000, '2019-01-06', 2.5),\n",
        "                (1006, 2015, 3006, 4001, '2019-04-07', 1.1),\n",
        "                (1007, 2014, 3007, 4002, '2019-04-08', 3.2),\n",
        "                (1008, 2013, 3008, 4000, '2019-03-09', 1.5),\n",
        "                (1009, 2012, 3009, 4000, '2019-01-08', 2.5),\n",
        "                (1010, 2011, 3010, 4002, '2019-04-07', 3.3),\n",
        "                (1001, 2010, 3011, 4002, '2019-01-06', 1.4),\n",
        "                (1002, 2009, 3012, 4004, '2019-03-05', 2.5),\n",
        "                (1003, 2008, 3013, 4004, '2019-03-01', 1.6),\n",
        "                (1004, 2007, 3014, 4000, '2019-04-01', 3.7),\n",
        "                (1005, 2006, 3015, 4005, '2019-04-05', 2.8),\n",
        "                (1006, 2005, 3016, 4005, '2019-04-05', 1.9),\n",
        "                (1007, 2004, 3017, 4005, '2019-04-05', 2.8),\n",
        "                (1008, 2003, 3018, 4005, '2019-01-01', 3.7),\n",
        "                (1001, 2002, 3019, 4005, '2019-02-02', 2.6),\n",
        "                (1002, 2001, 3020, 4005, '2019-02-03', 1.1),\n",
        "                (1003, 2021, 3021, 4003, '2019-04-04', 2.2),\n",
        "                (1010, 2022, 3022, 4001, '2019-04-09', 3.3)\n",
        "                \n",
        "]"
      ],
      "execution_count": 4,
      "outputs": []
    },
    {
      "cell_type": "code",
      "metadata": {
        "id": "gDK81PtGcLRL",
        "colab_type": "code",
        "colab": {
          "base_uri": "https://localhost:8080/",
          "height": 408
        },
        "outputId": "bcfee9f6-6870-43f7-cb7a-97e68c6af32a"
      },
      "source": [
        "trip_summaryRDD = sc.parallelize(trip_summary)\n",
        "trip_summaryRDD.collect()"
      ],
      "execution_count": 6,
      "outputs": [
        {
          "output_type": "execute_result",
          "data": {
            "text/plain": [
              "[(1000, 2000, 3000, 4001, '2019-01-01', 1.5),\n",
              " (1001, 2020, 3001, 4000, '2019-04-02', 1.2),\n",
              " (1002, 2019, 3002, 4000, '2019-04-03', 3.3),\n",
              " (1003, 2018, 3003, 4001, '2019-04-04', 1.4),\n",
              " (1004, 2017, 3004, 4002, '2019-04-05', 3.7),\n",
              " (1005, 2016, 3005, 4000, '2019-01-06', 2.5),\n",
              " (1006, 2015, 3006, 4001, '2019-04-07', 1.1),\n",
              " (1007, 2014, 3007, 4002, '2019-04-08', 3.2),\n",
              " (1008, 2013, 3008, 4000, '2019-03-09', 1.5),\n",
              " (1009, 2012, 3009, 4000, '2019-01-08', 2.5),\n",
              " (1010, 2011, 3010, 4002, '2019-04-07', 3.3),\n",
              " (1001, 2010, 3011, 4002, '2019-01-06', 1.4),\n",
              " (1002, 2009, 3012, 4004, '2019-03-05', 2.5),\n",
              " (1003, 2008, 3013, 4004, '2019-03-01', 1.6),\n",
              " (1004, 2007, 3014, 4000, '2019-04-01', 3.7),\n",
              " (1005, 2006, 3015, 4005, '2019-04-05', 2.8),\n",
              " (1006, 2005, 3016, 4005, '2019-04-05', 1.9),\n",
              " (1007, 2004, 3017, 4005, '2019-04-05', 2.8),\n",
              " (1008, 2003, 3018, 4005, '2019-01-01', 3.7),\n",
              " (1001, 2002, 3019, 4005, '2019-02-02', 2.6),\n",
              " (1002, 2001, 3020, 4005, '2019-02-03', 1.1),\n",
              " (1003, 2021, 3021, 4003, '2019-04-04', 2.2),\n",
              " (1010, 2022, 3022, 4001, '2019-04-09', 3.3)]"
            ]
          },
          "metadata": {
            "tags": []
          },
          "execution_count": 6
        }
      ]
    },
    {
      "cell_type": "code",
      "metadata": {
        "id": "Hbs-OeTrcQ_x",
        "colab_type": "code",
        "colab": {
          "base_uri": "https://localhost:8080/",
          "height": 34
        },
        "outputId": "69ca8a9c-31f3-4bec-821a-9f368ec1b9ef"
      },
      "source": [
        "def get_month (fecha):\n",
        "  lista_aux = []\n",
        "  lista_aux = fecha.split('-')\n",
        "  return int(lista_aux[1])\n",
        "#variable = get_month('2019-02-03')\n",
        "#variable\n",
        "trip_summaryRDD_April = (((trip_summaryRDD.filter(lambda x: get_month(x[4])==4)).map(lambda x: (x[0],x[5]))).reduceByKey(lambda x,y: x+y)).reduce(lambda x,y: x if x[1]>y[1] else y)"
      ],
      "execution_count": 21,
      "outputs": [
        {
          "output_type": "execute_result",
          "data": {
            "text/plain": [
              "(1004, 7.4)"
            ]
          },
          "metadata": {
            "tags": []
          },
          "execution_count": 21
        }
      ]
    },
    {
      "cell_type": "code",
      "metadata": {
        "id": "6bE_xCpRc9oV",
        "colab_type": "code",
        "colab": {}
      },
      "source": [
        ""
      ],
      "execution_count": null,
      "outputs": []
    }
  ]
}
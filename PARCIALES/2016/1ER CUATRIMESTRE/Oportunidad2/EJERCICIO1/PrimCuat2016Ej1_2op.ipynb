{
  "nbformat": 4,
  "nbformat_minor": 0,
  "metadata": {
    "colab": {
      "name": "PrimCuat2016Ej1-2op.ipynb",
      "provenance": [],
      "collapsed_sections": []
    },
    "kernelspec": {
      "name": "python3",
      "display_name": "Python 3"
    }
  },
  "cells": [
    {
      "cell_type": "code",
      "metadata": {
        "id": "kdwdFelJk9bl",
        "colab_type": "code",
        "colab": {
          "base_uri": "https://localhost:8080/",
          "height": 884
        },
        "outputId": "6c7ead39-bedf-46a4-b76b-a6426b4555f7"
      },
      "source": [
        "!pip install pyspark\n",
        "!pip install -U -q PyDrive\n",
        "!apt install openjdk-8-jdk-headless -qq\n",
        "import os\n",
        "os.environ[\"JAVA_HOME\"] = \"/usr/lib/jvm/java-8-openjdk-amd64\""
      ],
      "execution_count": 1,
      "outputs": [
        {
          "output_type": "stream",
          "text": [
            "Collecting pyspark\n",
            "\u001b[?25l  Downloading https://files.pythonhosted.org/packages/8e/b0/bf9020b56492281b9c9d8aae8f44ff51e1bc91b3ef5a884385cb4e389a40/pyspark-3.0.0.tar.gz (204.7MB)\n",
            "\u001b[K     |████████████████████████████████| 204.7MB 63kB/s \n",
            "\u001b[?25hCollecting py4j==0.10.9\n",
            "\u001b[?25l  Downloading https://files.pythonhosted.org/packages/9e/b6/6a4fb90cd235dc8e265a6a2067f2a2c99f0d91787f06aca4bcf7c23f3f80/py4j-0.10.9-py2.py3-none-any.whl (198kB)\n",
            "\u001b[K     |████████████████████████████████| 204kB 45.9MB/s \n",
            "\u001b[?25hBuilding wheels for collected packages: pyspark\n",
            "  Building wheel for pyspark (setup.py) ... \u001b[?25l\u001b[?25hdone\n",
            "  Created wheel for pyspark: filename=pyspark-3.0.0-py2.py3-none-any.whl size=205044182 sha256=f9a4b311fd3f02d01629ac4445382f669907e84adb3cf1b7df4f865d29a2fef8\n",
            "  Stored in directory: /root/.cache/pip/wheels/57/27/4d/ddacf7143f8d5b76c45c61ee2e43d9f8492fc5a8e78ebd7d37\n",
            "Successfully built pyspark\n",
            "Installing collected packages: py4j, pyspark\n",
            "Successfully installed py4j-0.10.9 pyspark-3.0.0\n",
            "The following package was automatically installed and is no longer required:\n",
            "  libnvidia-common-440\n",
            "Use 'apt autoremove' to remove it.\n",
            "The following additional packages will be installed:\n",
            "  openjdk-8-jre-headless\n",
            "Suggested packages:\n",
            "  openjdk-8-demo openjdk-8-source libnss-mdns fonts-dejavu-extra\n",
            "  fonts-ipafont-gothic fonts-ipafont-mincho fonts-wqy-microhei\n",
            "  fonts-wqy-zenhei fonts-indic\n",
            "The following NEW packages will be installed:\n",
            "  openjdk-8-jdk-headless openjdk-8-jre-headless\n",
            "0 upgraded, 2 newly installed, 0 to remove and 35 not upgraded.\n",
            "Need to get 35.8 MB of archives.\n",
            "After this operation, 140 MB of additional disk space will be used.\n",
            "Selecting previously unselected package openjdk-8-jre-headless:amd64.\n",
            "(Reading database ... 144465 files and directories currently installed.)\n",
            "Preparing to unpack .../openjdk-8-jre-headless_8u252-b09-1~18.04_amd64.deb ...\n",
            "Unpacking openjdk-8-jre-headless:amd64 (8u252-b09-1~18.04) ...\n",
            "Selecting previously unselected package openjdk-8-jdk-headless:amd64.\n",
            "Preparing to unpack .../openjdk-8-jdk-headless_8u252-b09-1~18.04_amd64.deb ...\n",
            "Unpacking openjdk-8-jdk-headless:amd64 (8u252-b09-1~18.04) ...\n",
            "Setting up openjdk-8-jre-headless:amd64 (8u252-b09-1~18.04) ...\n",
            "update-alternatives: using /usr/lib/jvm/java-8-openjdk-amd64/jre/bin/orbd to provide /usr/bin/orbd (orbd) in auto mode\n",
            "update-alternatives: using /usr/lib/jvm/java-8-openjdk-amd64/jre/bin/servertool to provide /usr/bin/servertool (servertool) in auto mode\n",
            "update-alternatives: using /usr/lib/jvm/java-8-openjdk-amd64/jre/bin/tnameserv to provide /usr/bin/tnameserv (tnameserv) in auto mode\n",
            "Setting up openjdk-8-jdk-headless:amd64 (8u252-b09-1~18.04) ...\n",
            "update-alternatives: using /usr/lib/jvm/java-8-openjdk-amd64/bin/idlj to provide /usr/bin/idlj (idlj) in auto mode\n",
            "update-alternatives: using /usr/lib/jvm/java-8-openjdk-amd64/bin/wsimport to provide /usr/bin/wsimport (wsimport) in auto mode\n",
            "update-alternatives: using /usr/lib/jvm/java-8-openjdk-amd64/bin/jsadebugd to provide /usr/bin/jsadebugd (jsadebugd) in auto mode\n",
            "update-alternatives: using /usr/lib/jvm/java-8-openjdk-amd64/bin/native2ascii to provide /usr/bin/native2ascii (native2ascii) in auto mode\n",
            "update-alternatives: using /usr/lib/jvm/java-8-openjdk-amd64/bin/javah to provide /usr/bin/javah (javah) in auto mode\n",
            "update-alternatives: using /usr/lib/jvm/java-8-openjdk-amd64/bin/clhsdb to provide /usr/bin/clhsdb (clhsdb) in auto mode\n",
            "update-alternatives: using /usr/lib/jvm/java-8-openjdk-amd64/bin/extcheck to provide /usr/bin/extcheck (extcheck) in auto mode\n",
            "update-alternatives: using /usr/lib/jvm/java-8-openjdk-amd64/bin/hsdb to provide /usr/bin/hsdb (hsdb) in auto mode\n",
            "update-alternatives: using /usr/lib/jvm/java-8-openjdk-amd64/bin/schemagen to provide /usr/bin/schemagen (schemagen) in auto mode\n",
            "update-alternatives: using /usr/lib/jvm/java-8-openjdk-amd64/bin/xjc to provide /usr/bin/xjc (xjc) in auto mode\n",
            "update-alternatives: using /usr/lib/jvm/java-8-openjdk-amd64/bin/jhat to provide /usr/bin/jhat (jhat) in auto mode\n",
            "update-alternatives: using /usr/lib/jvm/java-8-openjdk-amd64/bin/wsgen to provide /usr/bin/wsgen (wsgen) in auto mode\n"
          ],
          "name": "stdout"
        }
      ]
    },
    {
      "cell_type": "code",
      "metadata": {
        "id": "YavZyFAVk_Ic",
        "colab_type": "code",
        "colab": {}
      },
      "source": [
        "from pydrive.auth import GoogleAuth\n",
        "from pydrive.drive import GoogleDrive\n",
        "from google.colab import auth\n",
        "from oauth2client.client import GoogleCredentials\n",
        "from pyspark.sql import *\n",
        "from pyspark.sql.functions import *\n",
        "from pyspark import SparkContext\n",
        "from pyspark.sql import SQLContext\n",
        "import pandas as pd"
      ],
      "execution_count": 2,
      "outputs": []
    },
    {
      "cell_type": "code",
      "metadata": {
        "id": "FPhOAgjmlRan",
        "colab_type": "code",
        "colab": {}
      },
      "source": [
        "# create the Spark Session\n",
        "spark = SparkSession.builder.getOrCreate()\n",
        "\n",
        "# create the Spark Context\n",
        "sc = spark.sparkContext"
      ],
      "execution_count": 3,
      "outputs": []
    },
    {
      "cell_type": "markdown",
      "metadata": {
        "id": "RilSRsIelbwz",
        "colab_type": "text"
      },
      "source": [
        "# Organización de Datos 75.06. Primr Cuatrimestre de 2016. Examen parcial, segunda oportunidad: "
      ]
    },
    {
      "cell_type": "markdown",
      "metadata": {
        "id": "5gR2CrPElfwe",
        "colab_type": "text"
      },
      "source": [
        "### 1) Una red social almacena el contenido de los chats entre sus usuarios en un RDD que tiene registros con el siguiente formato: (chat_id, user_id, nickname, text). Queremos saber cuál es el usuario (user_id) que mas preguntas hace en sus chats, contabilizamos una pregunta por cada caracter “?” que aparezca en el campo text. Programar en Spark un programa que identifique al usuario preguntón. (*) (15 pts)"
      ]
    },
    {
      "cell_type": "code",
      "metadata": {
        "id": "xrVgcr20lT1e",
        "colab_type": "code",
        "colab": {}
      },
      "source": [
        "# (chat_id, user_id, nickname, text)\n",
        "chats  =[(1000,200,'Juan','dasdasd?dasdas?dasdas??asdasdasd'),\n",
        "         (1000,201,'Barto','?asdasdasdasdasd'),\n",
        "         (1000,202,'Lala96','asdsdasdasdasd'),\n",
        "         (1000,203,'BeluKittie','asdadasd??asdad?asdasdasdasd?asdasd??asdasd'),\n",
        "         (1000,204,'Tomas','dasd?asd??asdasdasd'),\n",
        "         (1000,205,'AsadoDeRemolacha','asdasd?'),\n",
        "         (1000,200,'Juan','asdasd?asd?'),\n",
        "         (1000,201,'Barto','asdasd'),\n",
        "         (1000,202,'Lala96','asdasdd'),\n",
        "         (1000,203,'BeluKittie','asdasd?asdasd?'),\n",
        "         (1000,204,'Tomas','asdasd?'),\n",
        "         (1000,205,'AsadoDeRemolacha','asdasd???asdasd?'),\n",
        "         (1001,200,'Juan','asdasd?asdasd?'),\n",
        "         (1001,201,'Barto','asd??asdasd?'),\n",
        "         (1001,202,'Lala96','asd?asd?'),\n",
        "         (1001,203,'BeluKittie','asdasd'),\n",
        "         (1001,204,'Tomas','asdasd'),\n",
        "         (1001,205,'AsadoDeRemolacha','asdasd'),\n",
        "         (1001,200,'Juan','asdasd'),\n",
        "         (1001,201,'Barto','asdasd'),\n",
        "         (1001,202,'Lala96','asdasd'),\n",
        "         (1001,203,'BeluKittie','asd?asd'),\n",
        "         (1001,204,'Tomas','?'),\n",
        "         (1001,205,'AsadoDeRemolacha','asdasd?'),\n",
        "         (1001,200,'Juan','asdasd'),\n",
        "         (1001,201,'Barto','asd?asd?asd?')\n",
        "\n",
        "\n",
        "         ]"
      ],
      "execution_count": 6,
      "outputs": []
    },
    {
      "cell_type": "code",
      "metadata": {
        "id": "SPwzVX7vnUtv",
        "colab_type": "code",
        "colab": {
          "base_uri": "https://localhost:8080/",
          "height": 459
        },
        "outputId": "c78549d6-3e98-4bde-cf2f-43a77323814f"
      },
      "source": [
        "chatsRDD = sc.parallelize(chats)\n",
        "chatsRDD.collect()"
      ],
      "execution_count": 7,
      "outputs": [
        {
          "output_type": "execute_result",
          "data": {
            "text/plain": [
              "[(1000, 200, 'Juan', 'dasdasd?dasdas?dasdas??asdasdasd'),\n",
              " (1000, 201, 'Barto', '?asdasdasdasdasd'),\n",
              " (1000, 202, 'Lala96', 'asdsdasdasdasd'),\n",
              " (1000, 203, 'BeluKittie', 'asdadasd??asdad?asdasdasdasd?asdasd??asdasd'),\n",
              " (1000, 204, 'Tomas', 'dasd?asd??asdasdasd'),\n",
              " (1000, 205, 'AsadoDeRemolacha', 'asdasd?'),\n",
              " (1000, 200, 'Juan', 'asdasd?asd?'),\n",
              " (1000, 201, 'Barto', 'asdasd'),\n",
              " (1000, 202, 'Lala96', 'asdasdd'),\n",
              " (1000, 203, 'BeluKittie', 'asdasd?asdasd?'),\n",
              " (1000, 204, 'Tomas', 'asdasd?'),\n",
              " (1000, 205, 'AsadoDeRemolacha', 'asdasd???asdasd?'),\n",
              " (1001, 200, 'Juan', 'asdasd?asdasd?'),\n",
              " (1001, 201, 'Barto', 'asd??asdasd?'),\n",
              " (1001, 202, 'Lala96', 'asd?asd?'),\n",
              " (1001, 203, 'BeluKittie', 'asdasd'),\n",
              " (1001, 204, 'Tomas', 'asdasd'),\n",
              " (1001, 205, 'AsadoDeRemolacha', 'asdasd'),\n",
              " (1001, 200, 'Juan', 'asdasd'),\n",
              " (1001, 201, 'Barto', 'asdasd'),\n",
              " (1001, 202, 'Lala96', 'asdasd'),\n",
              " (1001, 203, 'BeluKittie', 'asd?asd'),\n",
              " (1001, 204, 'Tomas', '?'),\n",
              " (1001, 205, 'AsadoDeRemolacha', 'asdasd?'),\n",
              " (1001, 200, 'Juan', 'asdasd'),\n",
              " (1001, 201, 'Barto', 'asd?asd?asd?')]"
            ]
          },
          "metadata": {
            "tags": []
          },
          "execution_count": 7
        }
      ]
    },
    {
      "cell_type": "code",
      "metadata": {
        "id": "2vLId44KnS8T",
        "colab_type": "code",
        "colab": {
          "base_uri": "https://localhost:8080/",
          "height": 34
        },
        "outputId": "ace46b9d-ce77-406e-aca0-f2fb282ca338"
      },
      "source": [
        "#funcion que identifica las preguntas\n",
        "def get_pregunta (s):\n",
        "  lista_aux = []\n",
        "  lista_aux = s.split('?')\n",
        "  return (len(lista_aux)-1)\n",
        "\n"
      ],
      "execution_count": 11,
      "outputs": [
        {
          "output_type": "execute_result",
          "data": {
            "text/plain": [
              "2"
            ]
          },
          "metadata": {
            "tags": []
          },
          "execution_count": 11
        }
      ]
    },
    {
      "cell_type": "code",
      "metadata": {
        "id": "AUWRrKmWn2k5",
        "colab_type": "code",
        "colab": {
          "base_uri": "https://localhost:8080/",
          "height": 34
        },
        "outputId": "01012728-90a6-4585-8028-da1e7d01cacb"
      },
      "source": [
        "preguntas_por_usuario = ((chatsRDD.map(lambda x: (x[1],get_pregunta(x[3])))).reduceByKey(lambda x,y: x+y)).reduce(lambda x,y: x if x[1]>y[1] else y)\n",
        "preguntas_por_usuario"
      ],
      "execution_count": 20,
      "outputs": [
        {
          "output_type": "execute_result",
          "data": {
            "text/plain": [
              "(203, 9)"
            ]
          },
          "metadata": {
            "tags": []
          },
          "execution_count": 20
        }
      ]
    },
    {
      "cell_type": "code",
      "metadata": {
        "id": "d9oeEEeMoWIH",
        "colab_type": "code",
        "colab": {}
      },
      "source": [
        ""
      ],
      "execution_count": null,
      "outputs": []
    }
  ]
}
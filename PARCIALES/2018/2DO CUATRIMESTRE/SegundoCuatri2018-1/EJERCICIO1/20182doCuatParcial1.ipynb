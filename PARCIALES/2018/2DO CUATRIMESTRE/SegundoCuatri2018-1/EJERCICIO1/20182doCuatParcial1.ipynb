{
  "nbformat": 4,
  "nbformat_minor": 0,
  "metadata": {
    "colab": {
      "name": "20182doCuatParcial1.ipynb",
      "provenance": [],
      "collapsed_sections": []
    },
    "kernelspec": {
      "name": "python3",
      "display_name": "Python 3"
    }
  },
  "cells": [
    {
      "cell_type": "code",
      "metadata": {
        "id": "JUX-vkqDiMHD",
        "colab_type": "code",
        "colab": {
          "base_uri": "https://localhost:8080/",
          "height": 884
        },
        "outputId": "b55f5a06-26b5-4323-908a-187bee2b09eb"
      },
      "source": [
        "!pip install pyspark\n",
        "!pip install -U -q PyDrive\n",
        "!apt install openjdk-8-jdk-headless -qq\n",
        "import os\n",
        "os.environ[\"JAVA_HOME\"] = \"/usr/lib/jvm/java-8-openjdk-amd64\""
      ],
      "execution_count": null,
      "outputs": [
        {
          "output_type": "stream",
          "text": [
            "Collecting pyspark\n",
            "\u001b[?25l  Downloading https://files.pythonhosted.org/packages/8e/b0/bf9020b56492281b9c9d8aae8f44ff51e1bc91b3ef5a884385cb4e389a40/pyspark-3.0.0.tar.gz (204.7MB)\n",
            "\u001b[K     |████████████████████████████████| 204.7MB 66kB/s \n",
            "\u001b[?25hCollecting py4j==0.10.9\n",
            "\u001b[?25l  Downloading https://files.pythonhosted.org/packages/9e/b6/6a4fb90cd235dc8e265a6a2067f2a2c99f0d91787f06aca4bcf7c23f3f80/py4j-0.10.9-py2.py3-none-any.whl (198kB)\n",
            "\u001b[K     |████████████████████████████████| 204kB 38.4MB/s \n",
            "\u001b[?25hBuilding wheels for collected packages: pyspark\n",
            "  Building wheel for pyspark (setup.py) ... \u001b[?25l\u001b[?25hdone\n",
            "  Created wheel for pyspark: filename=pyspark-3.0.0-py2.py3-none-any.whl size=205044182 sha256=360b877ef1ab8e5cb619ed7c5b4c456b716769f067b3abe85598e1f8dc55324d\n",
            "  Stored in directory: /root/.cache/pip/wheels/57/27/4d/ddacf7143f8d5b76c45c61ee2e43d9f8492fc5a8e78ebd7d37\n",
            "Successfully built pyspark\n",
            "Installing collected packages: py4j, pyspark\n",
            "Successfully installed py4j-0.10.9 pyspark-3.0.0\n",
            "The following package was automatically installed and is no longer required:\n",
            "  libnvidia-common-440\n",
            "Use 'apt autoremove' to remove it.\n",
            "The following additional packages will be installed:\n",
            "  openjdk-8-jre-headless\n",
            "Suggested packages:\n",
            "  openjdk-8-demo openjdk-8-source libnss-mdns fonts-dejavu-extra\n",
            "  fonts-ipafont-gothic fonts-ipafont-mincho fonts-wqy-microhei\n",
            "  fonts-wqy-zenhei fonts-indic\n",
            "The following NEW packages will be installed:\n",
            "  openjdk-8-jdk-headless openjdk-8-jre-headless\n",
            "0 upgraded, 2 newly installed, 0 to remove and 35 not upgraded.\n",
            "Need to get 35.8 MB of archives.\n",
            "After this operation, 140 MB of additional disk space will be used.\n",
            "Selecting previously unselected package openjdk-8-jre-headless:amd64.\n",
            "(Reading database ... 144465 files and directories currently installed.)\n",
            "Preparing to unpack .../openjdk-8-jre-headless_8u252-b09-1~18.04_amd64.deb ...\n",
            "Unpacking openjdk-8-jre-headless:amd64 (8u252-b09-1~18.04) ...\n",
            "Selecting previously unselected package openjdk-8-jdk-headless:amd64.\n",
            "Preparing to unpack .../openjdk-8-jdk-headless_8u252-b09-1~18.04_amd64.deb ...\n",
            "Unpacking openjdk-8-jdk-headless:amd64 (8u252-b09-1~18.04) ...\n",
            "Setting up openjdk-8-jre-headless:amd64 (8u252-b09-1~18.04) ...\n",
            "update-alternatives: using /usr/lib/jvm/java-8-openjdk-amd64/jre/bin/orbd to provide /usr/bin/orbd (orbd) in auto mode\n",
            "update-alternatives: using /usr/lib/jvm/java-8-openjdk-amd64/jre/bin/servertool to provide /usr/bin/servertool (servertool) in auto mode\n",
            "update-alternatives: using /usr/lib/jvm/java-8-openjdk-amd64/jre/bin/tnameserv to provide /usr/bin/tnameserv (tnameserv) in auto mode\n",
            "Setting up openjdk-8-jdk-headless:amd64 (8u252-b09-1~18.04) ...\n",
            "update-alternatives: using /usr/lib/jvm/java-8-openjdk-amd64/bin/idlj to provide /usr/bin/idlj (idlj) in auto mode\n",
            "update-alternatives: using /usr/lib/jvm/java-8-openjdk-amd64/bin/wsimport to provide /usr/bin/wsimport (wsimport) in auto mode\n",
            "update-alternatives: using /usr/lib/jvm/java-8-openjdk-amd64/bin/jsadebugd to provide /usr/bin/jsadebugd (jsadebugd) in auto mode\n",
            "update-alternatives: using /usr/lib/jvm/java-8-openjdk-amd64/bin/native2ascii to provide /usr/bin/native2ascii (native2ascii) in auto mode\n",
            "update-alternatives: using /usr/lib/jvm/java-8-openjdk-amd64/bin/javah to provide /usr/bin/javah (javah) in auto mode\n",
            "update-alternatives: using /usr/lib/jvm/java-8-openjdk-amd64/bin/clhsdb to provide /usr/bin/clhsdb (clhsdb) in auto mode\n",
            "update-alternatives: using /usr/lib/jvm/java-8-openjdk-amd64/bin/extcheck to provide /usr/bin/extcheck (extcheck) in auto mode\n",
            "update-alternatives: using /usr/lib/jvm/java-8-openjdk-amd64/bin/hsdb to provide /usr/bin/hsdb (hsdb) in auto mode\n",
            "update-alternatives: using /usr/lib/jvm/java-8-openjdk-amd64/bin/schemagen to provide /usr/bin/schemagen (schemagen) in auto mode\n",
            "update-alternatives: using /usr/lib/jvm/java-8-openjdk-amd64/bin/xjc to provide /usr/bin/xjc (xjc) in auto mode\n",
            "update-alternatives: using /usr/lib/jvm/java-8-openjdk-amd64/bin/jhat to provide /usr/bin/jhat (jhat) in auto mode\n",
            "update-alternatives: using /usr/lib/jvm/java-8-openjdk-amd64/bin/wsgen to provide /usr/bin/wsgen (wsgen) in auto mode\n"
          ],
          "name": "stdout"
        }
      ]
    },
    {
      "cell_type": "code",
      "metadata": {
        "id": "WLpz3bfaiN00",
        "colab_type": "code",
        "colab": {}
      },
      "source": [
        "from pydrive.auth import GoogleAuth\n",
        "from pydrive.drive import GoogleDrive\n",
        "from google.colab import auth\n",
        "from oauth2client.client import GoogleCredentials\n",
        "from pyspark.sql import *\n",
        "from pyspark.sql.functions import *\n",
        "from pyspark import SparkContext\n",
        "from pyspark.sql import SQLContext\n",
        "import pandas as pd"
      ],
      "execution_count": null,
      "outputs": []
    },
    {
      "cell_type": "code",
      "metadata": {
        "id": "XUHUV2AEihsh",
        "colab_type": "code",
        "colab": {}
      },
      "source": [
        "# create the Spark Session\n",
        "spark = SparkSession.builder.getOrCreate()\n",
        "\n",
        "# create the Spark Context\n",
        "sc = spark.sparkContext"
      ],
      "execution_count": null,
      "outputs": []
    },
    {
      "cell_type": "markdown",
      "metadata": {
        "id": "wqMcqRPEv5uR",
        "colab_type": "text"
      },
      "source": [
        "# Organización de Datos 75.06. Segundo Cuatrimestre de 2018. Examen parcial, primera oportunidad"
      ]
    },
    {
      "cell_type": "markdown",
      "metadata": {
        "id": "_YiGR8T-v-oc",
        "colab_type": "text"
      },
      "source": [
        "### 1)  (***) Tenemos información sobre recetas en 3 RDD de Spark. \n",
        "###Recetas: (id_receta, nombre, tiempo_preparación, dificultad) \n",
        "###Ingredientes: (id_ingrediente, nombre) \n",
        "###Ingredientes por Receta: (id_receta, id_ingrediente, cantidad) \n",
        "###Se pide: \n",
        "###a) Obtener el nombre de todas las recetas que tengan Cordero. (7 puntos) \n",
        "###b) Calcular la cantidad total de cada ingrediente si queremos hacer todas las recetas con Cordero que sean fáciles. (8 puntos) "
      ]
    },
    {
      "cell_type": "code",
      "metadata": {
        "id": "x5HuvTXOil3H",
        "colab_type": "code",
        "colab": {}
      },
      "source": [
        "# (id_receta, nombre, tiempo_preparación, dificultad)\n",
        "recetas = [(1000, 'lemon pie',100,'media'),\n",
        "           (1001, 'cheese cake',120,'dificil'),\n",
        "           (1002, 'pan casero de cordero',60,'facil'),\n",
        "           (1003, 'pionono',85,'media'),\n",
        "           (1004, 'cordero a la cruz',112,'dificil'),\n",
        "           (1005, 'tortas fritas',40,'facil'),\n",
        "           (1006, 'huevo duro',10,'facil'),\n",
        "           (1007, 'choclo a la manteca',7,'facil'),\n",
        "           (1008, 'bolonesa',50,'facil'),\n",
        "           (1009, 'canelones de cordero',56,'dificil'),\n",
        "           (1010, 'pasta frola',87,'media'),\n",
        "           (1011, 'berenjenas en escabeche de cordero',101,'facil'),\n",
        "           (1012, 'asado de cordero',130,'facil')]\n",
        "\n",
        "# (id_ingrediente, nombre)\n",
        "ingredientes = [(200, 'leche'),\n",
        "                (201, 'azucar'),\n",
        "                (202, 'manteca'),\n",
        "                (203, 'margarina'),\n",
        "                (204, 'aceite'),\n",
        "                (205, 'huevo'),\n",
        "                (206, 'harina 000'),\n",
        "                (207, 'harina 0000'),\n",
        "                (208, 'harina leudante'),\n",
        "                (209, 'membrillo'),\n",
        "                (210, 'berenjena'),\n",
        "                (211, 'limon'),\n",
        "                (212, 'queso crema'),\n",
        "                (213, 'frutilla'),\n",
        "                (214, 'mondongo'),\n",
        "                (215, 'levadura'),\n",
        "                (216, 'carne'),\n",
        "                (217, 'pimienta'),\n",
        "                (218, 'sal'),\n",
        "                (219, 'especias varias'),\n",
        "                (220, 'cordero')]\n",
        "\n",
        "#(id_receta, id_ingrediente, cantidad)\n",
        "ingredientes_por_receta = [(1000,212, 400 ),\n",
        "                           (1001,213, 520 ),\n",
        "                           (1002,220, 100 ),\n",
        "                           (1003,206, 200 ),\n",
        "                           (1004,220, 300 ),\n",
        "                           (1005,207, 100 ),\n",
        "                           (1006,205, 140 ),\n",
        "                           (1007,202, 160 ),\n",
        "                           (1008,216, 60 ),\n",
        "                           (1009,220, 40 ),\n",
        "                           (1010,209, 40 ),\n",
        "                           (1011,220, 100 ),\n",
        "                           (1012,220, 140 ),\n",
        "                           (1004,202, 160 ),\n",
        "                           (1005,216, 180 ),\n",
        "                           (1006,211, 60 ),\n",
        "                           (1007,200, 40 ),\n",
        "                           (1008,214, 50 ),\n",
        "                           (1009,204, 40 ),\n",
        "                           (1010,201, 40 ),\n",
        "                           (1011,203, 90 ),\n",
        "                           (1012,219, 40 ),\n",
        "                           (1004,209, 40 ),\n",
        "                           (1005,217, 400 ),\n",
        "                           (1006,212, 500 ),\n",
        "                           (1007,205, 300 ),\n",
        "                           (1008,215, 260 ),\n",
        "                           (1009,210, 100 ),\n",
        "                           (1010,205, 100 ),\n",
        "                           (1011,218, 100 ),\n",
        "                           (1012,218, 400 )\n",
        "                           ]"
      ],
      "execution_count": 22,
      "outputs": []
    },
    {
      "cell_type": "code",
      "metadata": {
        "id": "at6kJYHWzysK",
        "colab_type": "code",
        "colab": {}
      },
      "source": [
        "recetasRDD = sc.parallelize(recetas)\n",
        "ingredientesRDD = sc.parallelize(ingredientes)\n",
        "ingredientes_por_recetaRDD = sc.parallelize(ingredientes_por_receta)"
      ],
      "execution_count": 23,
      "outputs": []
    },
    {
      "cell_type": "code",
      "metadata": {
        "id": "eNvBIeLY05Qr",
        "colab_type": "code",
        "colab": {
          "base_uri": "https://localhost:8080/",
          "height": 544
        },
        "outputId": "9758a56d-4ded-4345-be07-9b15b31cc4b0"
      },
      "source": [
        "# a) Obtener el nombre de todas las recetas que tengan Cordero. (7 puntos)\n",
        "# Unifico las RDD's de a dos. Primero, obtengo la relacion codigo-ingrediente\n",
        "codigo_ingredientes = ((ingredientes_por_recetaRDD.map(lambda x: (x[1],x[0]))).join(ingredientesRDD)).map(lambda x: (x[1][0],x[1][1]))\n",
        "codigo_ingredientes.collect()"
      ],
      "execution_count": 24,
      "outputs": [
        {
          "output_type": "execute_result",
          "data": {
            "text/plain": [
              "[(1000, 'queso crema'),\n",
              " (1006, 'queso crema'),\n",
              " (1002, 'cordero'),\n",
              " (1004, 'cordero'),\n",
              " (1009, 'cordero'),\n",
              " (1011, 'cordero'),\n",
              " (1012, 'cordero'),\n",
              " (1008, 'carne'),\n",
              " (1005, 'carne'),\n",
              " (1007, 'leche'),\n",
              " (1009, 'aceite'),\n",
              " (1001, 'frutilla'),\n",
              " (1006, 'huevo'),\n",
              " (1007, 'huevo'),\n",
              " (1010, 'huevo'),\n",
              " (1010, 'membrillo'),\n",
              " (1004, 'membrillo'),\n",
              " (1010, 'azucar'),\n",
              " (1005, 'pimienta'),\n",
              " (1003, 'harina 000'),\n",
              " (1007, 'manteca'),\n",
              " (1004, 'manteca'),\n",
              " (1008, 'mondongo'),\n",
              " (1009, 'berenjena'),\n",
              " (1011, 'sal'),\n",
              " (1012, 'sal'),\n",
              " (1005, 'harina 0000'),\n",
              " (1006, 'limon'),\n",
              " (1011, 'margarina'),\n",
              " (1012, 'especias varias'),\n",
              " (1008, 'levadura')]"
            ]
          },
          "metadata": {
            "tags": []
          },
          "execution_count": 24
        }
      ]
    },
    {
      "cell_type": "code",
      "metadata": {
        "id": "YeoOY0VX0Eoa",
        "colab_type": "code",
        "colab": {
          "base_uri": "https://localhost:8080/",
          "height": 102
        },
        "outputId": "2aa1f03c-8389-4056-d3ea-67e2638043c1"
      },
      "source": [
        "#unifico los nombres de los ingredientes con las recetas\n",
        "recetas_cordero = ((recetasRDD.join(codigo_ingredientes)).filter(lambda x: x[1][1]=='cordero')).map(lambda x: (x[0],x[1][0]))\n",
        "recetas_cordero.collect()\n"
      ],
      "execution_count": 30,
      "outputs": [
        {
          "output_type": "execute_result",
          "data": {
            "text/plain": [
              "[(1002, 'pan casero de cordero'),\n",
              " (1009, 'canelones de cordero'),\n",
              " (1004, 'cordero a la cruz'),\n",
              " (1011, 'berenjenas en escabeche de cordero'),\n",
              " (1012, 'asado de cordero')]"
            ]
          },
          "metadata": {
            "tags": []
          },
          "execution_count": 30
        }
      ]
    },
    {
      "cell_type": "code",
      "metadata": {
        "id": "tp8NQAa30lKb",
        "colab_type": "code",
        "colab": {
          "base_uri": "https://localhost:8080/",
          "height": 68
        },
        "outputId": "ebb5e951-0f39-4587-a225-aaf1603a666d"
      },
      "source": [
        "# b) Calcular la cantidad total de cada ingrediente si queremos hacer todas las recetas con Cordero que sean fáciles. (8 puntos)\n",
        "recetas_cordero_faciles = ((recetasRDD.map(lambda x: (x[0],x[3]))).join(recetas_cordero)).filter(lambda x: x[1][0]=='facil')\n",
        "recetas_cordero_faciles.collect()"
      ],
      "execution_count": 37,
      "outputs": [
        {
          "output_type": "execute_result",
          "data": {
            "text/plain": [
              "[(1002, ('facil', 'pan casero de cordero')),\n",
              " (1011, ('facil', 'berenjenas en escabeche de cordero')),\n",
              " (1012, ('facil', 'asado de cordero'))]"
            ]
          },
          "metadata": {
            "tags": []
          },
          "execution_count": 37
        }
      ]
    },
    {
      "cell_type": "code",
      "metadata": {
        "id": "rImdCUFG8GR1",
        "colab_type": "code",
        "colab": {
          "base_uri": "https://localhost:8080/",
          "height": 68
        },
        "outputId": "c20dfef7-562c-4b8f-b0ac-010ac0edaad1"
      },
      "source": [
        "#dsd\n",
        "ingredientes_recetas_cordero_faciles = recetas_cordero_faciles.map(lambda x: (x[0],x[1][1]))\n",
        "ingredientes_recetas_cordero_faciles.collect()"
      ],
      "execution_count": 50,
      "outputs": [
        {
          "output_type": "execute_result",
          "data": {
            "text/plain": [
              "[(1002, 'pan casero de cordero'),\n",
              " (1011, 'berenjenas en escabeche de cordero'),\n",
              " (1012, 'asado de cordero')]"
            ]
          },
          "metadata": {
            "tags": []
          },
          "execution_count": 50
        }
      ]
    },
    {
      "cell_type": "code",
      "metadata": {
        "id": "sOyNPaQH9J0o",
        "colab_type": "code",
        "colab": {
          "base_uri": "https://localhost:8080/",
          "height": 238
        },
        "outputId": "7a4e6823-e726-4f75-ad0a-0530e9a51c94"
      },
      "source": [
        "ingredientes_cantidades_totales_por_receta = (ingredientes_por_recetaRDD.map(lambda x: (x[0],x[2]))).reduceByKey(lambda x,y: x+y)\n",
        "ingredientes_cantidades_totales_por_receta.collect()"
      ],
      "execution_count": 48,
      "outputs": [
        {
          "output_type": "execute_result",
          "data": {
            "text/plain": [
              "[(1000, 400),\n",
              " (1002, 100),\n",
              " (1004, 500),\n",
              " (1006, 700),\n",
              " (1008, 370),\n",
              " (1010, 180),\n",
              " (1012, 580),\n",
              " (1001, 520),\n",
              " (1003, 200),\n",
              " (1005, 680),\n",
              " (1007, 500),\n",
              " (1009, 180),\n",
              " (1011, 290)]"
            ]
          },
          "metadata": {
            "tags": []
          },
          "execution_count": 48
        }
      ]
    },
    {
      "cell_type": "code",
      "metadata": {
        "id": "lJ3EUZxR9cof",
        "colab_type": "code",
        "colab": {
          "base_uri": "https://localhost:8080/",
          "height": 68
        },
        "outputId": "e9487e5c-2d16-4f5f-bf93-5030c5d1d1e5"
      },
      "source": [
        "ingredientes_cantidades_totales_por_receta_cordero_facil = (ingredientes_recetas_cordero_faciles.join(ingredientes_cantidades_totales_por_receta)).map(lambda x:(x[1][0],x[1][1]))\n",
        "ingredientes_cantidades_totales_por_receta_cordero_facil.collect()"
      ],
      "execution_count": 52,
      "outputs": [
        {
          "output_type": "execute_result",
          "data": {
            "text/plain": [
              "[('berenjenas en escabeche de cordero', 290),\n",
              " ('pan casero de cordero', 100),\n",
              " ('asado de cordero', 580)]"
            ]
          },
          "metadata": {
            "tags": []
          },
          "execution_count": 52
        }
      ]
    },
    {
      "cell_type": "code",
      "metadata": {
        "id": "ZZxzw5qt98xb",
        "colab_type": "code",
        "colab": {}
      },
      "source": [
        ""
      ],
      "execution_count": null,
      "outputs": []
    }
  ]
}
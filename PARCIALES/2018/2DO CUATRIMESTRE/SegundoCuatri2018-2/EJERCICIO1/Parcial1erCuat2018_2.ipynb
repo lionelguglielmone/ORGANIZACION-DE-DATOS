{
  "nbformat": 4,
  "nbformat_minor": 0,
  "metadata": {
    "colab": {
      "name": "Parcial1erCuat2018-2.ipynb",
      "provenance": [],
      "collapsed_sections": []
    },
    "kernelspec": {
      "name": "python3",
      "display_name": "Python 3"
    }
  },
  "cells": [
    {
      "cell_type": "code",
      "metadata": {
        "id": "89H-oinJUY5e",
        "colab_type": "code",
        "colab": {
          "base_uri": "https://localhost:8080/",
          "height": 884
        },
        "outputId": "3e6cac13-1570-4f5a-a6e0-4830326bc94b"
      },
      "source": [
        "!pip install pyspark\n",
        "!pip install -U -q PyDrive\n",
        "!apt install openjdk-8-jdk-headless -qq\n",
        "import os\n",
        "os.environ[\"JAVA_HOME\"] = \"/usr/lib/jvm/java-8-openjdk-amd64\""
      ],
      "execution_count": null,
      "outputs": [
        {
          "output_type": "stream",
          "text": [
            "Collecting pyspark\n",
            "\u001b[?25l  Downloading https://files.pythonhosted.org/packages/8e/b0/bf9020b56492281b9c9d8aae8f44ff51e1bc91b3ef5a884385cb4e389a40/pyspark-3.0.0.tar.gz (204.7MB)\n",
            "\u001b[K     |████████████████████████████████| 204.7MB 60kB/s \n",
            "\u001b[?25hCollecting py4j==0.10.9\n",
            "\u001b[?25l  Downloading https://files.pythonhosted.org/packages/9e/b6/6a4fb90cd235dc8e265a6a2067f2a2c99f0d91787f06aca4bcf7c23f3f80/py4j-0.10.9-py2.py3-none-any.whl (198kB)\n",
            "\u001b[K     |████████████████████████████████| 204kB 44.4MB/s \n",
            "\u001b[?25hBuilding wheels for collected packages: pyspark\n",
            "  Building wheel for pyspark (setup.py) ... \u001b[?25l\u001b[?25hdone\n",
            "  Created wheel for pyspark: filename=pyspark-3.0.0-py2.py3-none-any.whl size=205044182 sha256=e91ce8193fdb5cbb7393bac0e2196ccb7cac0caf81649d9d8507474d3e21e4cd\n",
            "  Stored in directory: /root/.cache/pip/wheels/57/27/4d/ddacf7143f8d5b76c45c61ee2e43d9f8492fc5a8e78ebd7d37\n",
            "Successfully built pyspark\n",
            "Installing collected packages: py4j, pyspark\n",
            "Successfully installed py4j-0.10.9 pyspark-3.0.0\n",
            "The following package was automatically installed and is no longer required:\n",
            "  libnvidia-common-440\n",
            "Use 'apt autoremove' to remove it.\n",
            "The following additional packages will be installed:\n",
            "  openjdk-8-jre-headless\n",
            "Suggested packages:\n",
            "  openjdk-8-demo openjdk-8-source libnss-mdns fonts-dejavu-extra\n",
            "  fonts-ipafont-gothic fonts-ipafont-mincho fonts-wqy-microhei\n",
            "  fonts-wqy-zenhei fonts-indic\n",
            "The following NEW packages will be installed:\n",
            "  openjdk-8-jdk-headless openjdk-8-jre-headless\n",
            "0 upgraded, 2 newly installed, 0 to remove and 43 not upgraded.\n",
            "Need to get 35.8 MB of archives.\n",
            "After this operation, 140 MB of additional disk space will be used.\n",
            "Selecting previously unselected package openjdk-8-jre-headless:amd64.\n",
            "(Reading database ... 144328 files and directories currently installed.)\n",
            "Preparing to unpack .../openjdk-8-jre-headless_8u252-b09-1~18.04_amd64.deb ...\n",
            "Unpacking openjdk-8-jre-headless:amd64 (8u252-b09-1~18.04) ...\n",
            "Selecting previously unselected package openjdk-8-jdk-headless:amd64.\n",
            "Preparing to unpack .../openjdk-8-jdk-headless_8u252-b09-1~18.04_amd64.deb ...\n",
            "Unpacking openjdk-8-jdk-headless:amd64 (8u252-b09-1~18.04) ...\n",
            "Setting up openjdk-8-jre-headless:amd64 (8u252-b09-1~18.04) ...\n",
            "update-alternatives: using /usr/lib/jvm/java-8-openjdk-amd64/jre/bin/orbd to provide /usr/bin/orbd (orbd) in auto mode\n",
            "update-alternatives: using /usr/lib/jvm/java-8-openjdk-amd64/jre/bin/servertool to provide /usr/bin/servertool (servertool) in auto mode\n",
            "update-alternatives: using /usr/lib/jvm/java-8-openjdk-amd64/jre/bin/tnameserv to provide /usr/bin/tnameserv (tnameserv) in auto mode\n",
            "Setting up openjdk-8-jdk-headless:amd64 (8u252-b09-1~18.04) ...\n",
            "update-alternatives: using /usr/lib/jvm/java-8-openjdk-amd64/bin/idlj to provide /usr/bin/idlj (idlj) in auto mode\n",
            "update-alternatives: using /usr/lib/jvm/java-8-openjdk-amd64/bin/wsimport to provide /usr/bin/wsimport (wsimport) in auto mode\n",
            "update-alternatives: using /usr/lib/jvm/java-8-openjdk-amd64/bin/jsadebugd to provide /usr/bin/jsadebugd (jsadebugd) in auto mode\n",
            "update-alternatives: using /usr/lib/jvm/java-8-openjdk-amd64/bin/native2ascii to provide /usr/bin/native2ascii (native2ascii) in auto mode\n",
            "update-alternatives: using /usr/lib/jvm/java-8-openjdk-amd64/bin/javah to provide /usr/bin/javah (javah) in auto mode\n",
            "update-alternatives: using /usr/lib/jvm/java-8-openjdk-amd64/bin/clhsdb to provide /usr/bin/clhsdb (clhsdb) in auto mode\n",
            "update-alternatives: using /usr/lib/jvm/java-8-openjdk-amd64/bin/extcheck to provide /usr/bin/extcheck (extcheck) in auto mode\n",
            "update-alternatives: using /usr/lib/jvm/java-8-openjdk-amd64/bin/hsdb to provide /usr/bin/hsdb (hsdb) in auto mode\n",
            "update-alternatives: using /usr/lib/jvm/java-8-openjdk-amd64/bin/schemagen to provide /usr/bin/schemagen (schemagen) in auto mode\n",
            "update-alternatives: using /usr/lib/jvm/java-8-openjdk-amd64/bin/xjc to provide /usr/bin/xjc (xjc) in auto mode\n",
            "update-alternatives: using /usr/lib/jvm/java-8-openjdk-amd64/bin/jhat to provide /usr/bin/jhat (jhat) in auto mode\n",
            "update-alternatives: using /usr/lib/jvm/java-8-openjdk-amd64/bin/wsgen to provide /usr/bin/wsgen (wsgen) in auto mode\n"
          ],
          "name": "stdout"
        }
      ]
    },
    {
      "cell_type": "code",
      "metadata": {
        "id": "Gg6My2w-Uc4I",
        "colab_type": "code",
        "colab": {}
      },
      "source": [
        "from pydrive.auth import GoogleAuth\n",
        "from pydrive.drive import GoogleDrive\n",
        "from google.colab import auth\n",
        "from oauth2client.client import GoogleCredentials\n",
        "from pyspark.sql import *\n",
        "from pyspark.sql.functions import *\n",
        "from pyspark import SparkContext\n",
        "from pyspark.sql import SQLContext\n",
        "import pandas as pd"
      ],
      "execution_count": null,
      "outputs": []
    },
    {
      "cell_type": "code",
      "metadata": {
        "id": "HoEPoRdsU9OT",
        "colab_type": "code",
        "colab": {}
      },
      "source": [
        "# create the Spark Session\n",
        "spark = SparkSession.builder.getOrCreate()\n",
        "\n",
        "# create the Spark Context\n",
        "sc = spark.sparkContext"
      ],
      "execution_count": null,
      "outputs": []
    },
    {
      "cell_type": "markdown",
      "metadata": {
        "id": "GzWDn-DRVQpA",
        "colab_type": "text"
      },
      "source": [
        "# Organización de Datos 75.06. Segundo Cuatrimestre de 2018. Examen parcial, segunda oportunidad"
      ]
    },
    {
      "cell_type": "markdown",
      "metadata": {
        "id": "nRDEj95FVOqx",
        "colab_type": "text"
      },
      "source": [
        "1) Spotify cuenta con un log de todas las canciones que fueron escuchadas en su plataforma, esta información se encuentra en un RDD que está paralelizado por día, es decir cada día es una partición. Los campos del RDD son los siguientes: (date, user_id, song_id, song_title, artist).  \n",
        "Se cuenta por otro lado con un RDD que asigna \"tags\" a las canciones, por ejemplo \"rock, punk, actual, top-10, acoustic, etc). Una canción puede tener asociados \"n\" tags. El RDD tiene el formato (song_id, tag).  \n",
        "Cada día se corre un proceso para asignar el tag \"rising\" a las canciones que se escucharon mas veces el día de hoy que el día de ayer. Estos nuevos tags pasan a formar parte del RDD de tags para futuros usos. Programar en PySpark usando el API de RDD lo solicitado. \n",
        " (15 pts) (***) "
      ]
    },
    {
      "cell_type": "code",
      "metadata": {
        "id": "NMvPvPCgU_2z",
        "colab_type": "code",
        "colab": {}
      },
      "source": [
        "canciones_escuchadas = [('2019-01-20', 1000 , 1000 , 'Give life back to music', 'Daft punk'),\n",
        "             ('2019-01-20', 1001 , 1000 , 'Give life back to music', 'Daft punk'),\n",
        "             ('2019-01-21', 1002 , 1000 , 'Give life back to music', 'Daft punk'),\n",
        "             ('2019-01-21', 1003 , 1000 , 'Give life back to music', 'Daft punk'),\n",
        "             ('2019-01-21', 1004 , 1001 , 'Music', 'Madonna'),\n",
        "             ('2019-01-22', 1005 , 1001 , 'Music', 'Madonna'),\n",
        "             ('2019-01-22', 1001 , 1001 , 'Music', 'Madonna'),\n",
        "             ('2019-01-21', 1002 , 1005 , 'Dany California', 'RHCP'),\n",
        "             ('2019-01-21', 1003 , 1005 , 'Dany California', 'RHCP'),\n",
        "             ('2019-01-21', 1004 , 1005 , 'Dany California', 'RHCP'),\n",
        "             ('2019-01-22', 1005 , 1005 , 'Dany California', 'RHCP'),\n",
        "             ('2019-01-21', 1001 , 1009 , 'Enter Sandman', 'Metallica'),\n",
        "             ('2019-01-22', 1002 , 1009 , 'Enter Sandman', 'Metallica'),\n",
        "             ('2019-01-21', 1003 , 1010 , 'Me against the music', 'Britney Spears'),\n",
        "              ('2019-01-22', 1004 , 1010 , 'Me against the music', 'Britney Spears'),\n",
        "              ('2019-01-22', 1005 , 1010 , 'Me against the music', 'Britney Spears'),\n",
        "              ('2019-01-22', 1001 , 1010 , 'Me against the music', 'Britney Spears')]"
      ],
      "execution_count": null,
      "outputs": []
    },
    {
      "cell_type": "code",
      "metadata": {
        "id": "Mh-kB5SdYBTy",
        "colab_type": "code",
        "colab": {}
      },
      "source": [
        "canciones = [(1000,'electronic, pop, modern, hit, futuristic, trendy'),\n",
        "             (1001, 'hit, trendy, pop, classic'),\n",
        "             (1005, 'hit, funk, rock, la, california'),\n",
        "             (1009, 'rock, heavy, gutural, hit, racing, classic'),\n",
        "             (1010, 'vintage, hit, pop, blondie, sexy')]"
      ],
      "execution_count": null,
      "outputs": []
    },
    {
      "cell_type": "code",
      "metadata": {
        "id": "EK-dZGu5ZLGB",
        "colab_type": "code",
        "colab": {}
      },
      "source": [
        "canciones_escuchadasRDD = sc.parallelize(canciones_escuchadas)\n",
        "cancionesRDD = sc.parallelize(canciones)"
      ],
      "execution_count": null,
      "outputs": []
    },
    {
      "cell_type": "code",
      "metadata": {
        "id": "c6PKA_Z1ZTlN",
        "colab_type": "code",
        "colab": {
          "base_uri": "https://localhost:8080/",
          "height": 306
        },
        "outputId": "2d6fcbd7-3892-40e2-98d5-33336066d9a3"
      },
      "source": [
        "canciones_escuchadasRDD.collect()"
      ],
      "execution_count": null,
      "outputs": [
        {
          "output_type": "execute_result",
          "data": {
            "text/plain": [
              "[('2019-01-20', 1000, 1000, 'Give life back to music', 'Daft punk'),\n",
              " ('2019-01-20', 1001, 1000, 'Give life back to music', 'Daft punk'),\n",
              " ('2019-01-21', 1002, 1000, 'Give life back to music', 'Daft punk'),\n",
              " ('2019-01-21', 1003, 1000, 'Give life back to music', 'Daft punk'),\n",
              " ('2019-01-21', 1004, 1001, 'Music', 'Madonna'),\n",
              " ('2019-01-22', 1005, 1001, 'Music', 'Madonna'),\n",
              " ('2019-01-22', 1001, 1001, 'Music', 'Madonna'),\n",
              " ('2019-01-21', 1002, 1005, 'Dany California', 'RHCP'),\n",
              " ('2019-01-21', 1003, 1005, 'Dany California', 'RHCP'),\n",
              " ('2019-01-21', 1004, 1005, 'Dany California', 'RHCP'),\n",
              " ('2019-01-22', 1005, 1005, 'Dany California', 'RHCP'),\n",
              " ('2019-01-21', 1001, 1009, 'Enter Sandman', 'Metallica'),\n",
              " ('2019-01-22', 1002, 1009, 'Enter Sandman', 'Metallica'),\n",
              " ('2019-01-21', 1003, 1010, 'Me against the music', 'Britney Spears'),\n",
              " ('2019-01-22', 1004, 1010, 'Me against the music', 'Britney Spears'),\n",
              " ('2019-01-22', 1005, 1010, 'Me against the music', 'Britney Spears'),\n",
              " ('2019-01-22', 1001, 1010, 'Me against the music', 'Britney Spears')]"
            ]
          },
          "metadata": {
            "tags": []
          },
          "execution_count": 83
        }
      ]
    },
    {
      "cell_type": "code",
      "metadata": {
        "id": "WVrbOc0xZjhB",
        "colab_type": "code",
        "colab": {
          "base_uri": "https://localhost:8080/",
          "height": 102
        },
        "outputId": "bd6c38e5-3b92-413b-dd14-e9ca3b08f94d"
      },
      "source": [
        "cancionesRDD.collect()"
      ],
      "execution_count": null,
      "outputs": [
        {
          "output_type": "execute_result",
          "data": {
            "text/plain": [
              "[(1000, 'electronic, pop, modern, hit, futuristic, trendy'),\n",
              " (1001, 'hit, trendy, pop, classic'),\n",
              " (1005, 'hit, funk, rock, la, california'),\n",
              " (1009, 'rock, heavy, gutural, hit, racing, classic'),\n",
              " (1010, 'vintage, hit, pop, blondie, sexy')]"
            ]
          },
          "metadata": {
            "tags": []
          },
          "execution_count": 84
        }
      ]
    },
    {
      "cell_type": "code",
      "metadata": {
        "id": "_z-9DVKJZmPx",
        "colab_type": "code",
        "colab": {
          "base_uri": "https://localhost:8080/",
          "height": 306
        },
        "outputId": "aefd68d2-7888-42eb-b679-dd6be515f2c3"
      },
      "source": [
        "escuchadas_aux = canciones_escuchadasRDD.map(lambda x: ((x[2],x[0]),1))\n",
        "escuchadas_aux.collect()"
      ],
      "execution_count": null,
      "outputs": [
        {
          "output_type": "execute_result",
          "data": {
            "text/plain": [
              "[((1000, '2019-01-20'), 1),\n",
              " ((1000, '2019-01-20'), 1),\n",
              " ((1000, '2019-01-21'), 1),\n",
              " ((1000, '2019-01-21'), 1),\n",
              " ((1001, '2019-01-21'), 1),\n",
              " ((1001, '2019-01-22'), 1),\n",
              " ((1001, '2019-01-22'), 1),\n",
              " ((1005, '2019-01-21'), 1),\n",
              " ((1005, '2019-01-21'), 1),\n",
              " ((1005, '2019-01-21'), 1),\n",
              " ((1005, '2019-01-22'), 1),\n",
              " ((1009, '2019-01-21'), 1),\n",
              " ((1009, '2019-01-22'), 1),\n",
              " ((1010, '2019-01-21'), 1),\n",
              " ((1010, '2019-01-22'), 1),\n",
              " ((1010, '2019-01-22'), 1),\n",
              " ((1010, '2019-01-22'), 1)]"
            ]
          },
          "metadata": {
            "tags": []
          },
          "execution_count": 85
        }
      ]
    },
    {
      "cell_type": "code",
      "metadata": {
        "id": "9GB-iVMQeZCY",
        "colab_type": "code",
        "colab": {
          "base_uri": "https://localhost:8080/",
          "height": 187
        },
        "outputId": "a2a31202-2793-4734-a3d7-548cb2b84847"
      },
      "source": [
        "cantidad_veces_escuchadas = escuchadas_aux.reduceByKey(lambda x,y: (x+y) )\n",
        "cantidad_veces_escuchadas.collect()"
      ],
      "execution_count": null,
      "outputs": [
        {
          "output_type": "execute_result",
          "data": {
            "text/plain": [
              "[((1000, '2019-01-20'), 2),\n",
              " ((1000, '2019-01-21'), 2),\n",
              " ((1010, '2019-01-21'), 1),\n",
              " ((1010, '2019-01-22'), 3),\n",
              " ((1001, '2019-01-21'), 1),\n",
              " ((1001, '2019-01-22'), 2),\n",
              " ((1005, '2019-01-21'), 3),\n",
              " ((1005, '2019-01-22'), 1),\n",
              " ((1009, '2019-01-21'), 1),\n",
              " ((1009, '2019-01-22'), 1)]"
            ]
          },
          "metadata": {
            "tags": []
          },
          "execution_count": 90
        }
      ]
    },
    {
      "cell_type": "code",
      "metadata": {
        "id": "tpv_pAdraKMV",
        "colab_type": "code",
        "colab": {
          "base_uri": "https://localhost:8080/",
          "height": 187
        },
        "outputId": "0b8732ff-f0c0-4514-846c-d6939a1a18c0"
      },
      "source": [
        "cantidad_veces_escuchadas = (cantidad_veces_escuchadas.map(lambda x: (x[0][0], x[1]) ))\n",
        "cantidad_veces_escuchadas.collect()"
      ],
      "execution_count": null,
      "outputs": [
        {
          "output_type": "execute_result",
          "data": {
            "text/plain": [
              "[(1000, 2),\n",
              " (1000, 2),\n",
              " (1010, 1),\n",
              " (1010, 3),\n",
              " (1001, 1),\n",
              " (1001, 2),\n",
              " (1005, 3),\n",
              " (1005, 1),\n",
              " (1009, 1),\n",
              " (1009, 1)]"
            ]
          },
          "metadata": {
            "tags": []
          },
          "execution_count": 91
        }
      ]
    },
    {
      "cell_type": "code",
      "metadata": {
        "id": "liWjSJ0Chxd8",
        "colab_type": "code",
        "colab": {
          "base_uri": "https://localhost:8080/",
          "height": 102
        },
        "outputId": "ab21f89c-e77c-4fae-952e-a92a5da21963"
      },
      "source": [
        "cantidad_veces_escuchadas_comparada = (cantidad_veces_escuchadas.reduceByKey(lambda x,y:[x,y]))\n",
        "cantidad_veces_escuchadas_comparada.collect()"
      ],
      "execution_count": null,
      "outputs": [
        {
          "output_type": "execute_result",
          "data": {
            "text/plain": [
              "[(1000, [2, 2]),\n",
              " (1010, [1, 3]),\n",
              " (1001, [1, 2]),\n",
              " (1005, [3, 1]),\n",
              " (1009, [1, 1])]"
            ]
          },
          "metadata": {
            "tags": []
          },
          "execution_count": 92
        }
      ]
    },
    {
      "cell_type": "code",
      "metadata": {
        "id": "rJGKs6lxj6vg",
        "colab_type": "code",
        "colab": {
          "base_uri": "https://localhost:8080/",
          "height": 34
        },
        "outputId": "c390a22e-70fd-476f-bea0-117d7ac63dd8"
      },
      "source": [
        "cantidad_veces_escuchadas_comparada = cantidad_veces_escuchadas_comparada.filter(lambda x: x[1][0]<x[1][1])\n",
        "cantidad_veces_escuchadas_comparada.collect()"
      ],
      "execution_count": null,
      "outputs": [
        {
          "output_type": "execute_result",
          "data": {
            "text/plain": [
              "[(1010, [1, 3]), (1001, [1, 2])]"
            ]
          },
          "metadata": {
            "tags": []
          },
          "execution_count": 93
        }
      ]
    },
    {
      "cell_type": "code",
      "metadata": {
        "id": "Vmnaqm-2cTb3",
        "colab_type": "code",
        "colab": {
          "base_uri": "https://localhost:8080/",
          "height": 51
        },
        "outputId": "ef59ad62-6a99-440d-a61d-1e742a1f57ae"
      },
      "source": [
        "rising_tags = cantidad_veces_escuchadas_comparada.join(cancionesRDD)\n",
        "rising_tags.collect()"
      ],
      "execution_count": null,
      "outputs": [
        {
          "output_type": "execute_result",
          "data": {
            "text/plain": [
              "[(1001, ([1, 2], 'hit, trendy, pop, classic')),\n",
              " (1010, ([1, 3], 'vintage, hit, pop, blondie, sexy'))]"
            ]
          },
          "metadata": {
            "tags": []
          },
          "execution_count": 95
        }
      ]
    },
    {
      "cell_type": "code",
      "metadata": {
        "id": "gIXVCCILm6gB",
        "colab_type": "code",
        "colab": {
          "base_uri": "https://localhost:8080/",
          "height": 34
        },
        "outputId": "0eb0cdeb-7103-40c4-c271-3160718f0d27"
      },
      "source": [
        "rising_tags_considerar = rising_tags.map(lambda x: (x[1][1]))\n",
        "rising_tags_considerar.collect()"
      ],
      "execution_count": null,
      "outputs": [
        {
          "output_type": "execute_result",
          "data": {
            "text/plain": [
              "['hit, trendy, pop, classic', 'vintage, hit, pop, blondie, sexy']"
            ]
          },
          "metadata": {
            "tags": []
          },
          "execution_count": 97
        }
      ]
    },
    {
      "cell_type": "markdown",
      "metadata": {
        "id": "e4amG0iCnXjv",
        "colab_type": "text"
      },
      "source": [
        "#FINAL"
      ]
    },
    {
      "cell_type": "code",
      "metadata": {
        "id": "o_xgRy2CnQ4R",
        "colab_type": "code",
        "colab": {}
      },
      "source": [
        ""
      ],
      "execution_count": null,
      "outputs": []
    }
  ]
}
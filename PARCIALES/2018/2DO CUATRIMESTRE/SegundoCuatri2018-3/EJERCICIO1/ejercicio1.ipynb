{
  "nbformat": 4,
  "nbformat_minor": 0,
  "metadata": {
    "colab": {
      "name": "3erParcial1erCuat2018.ipynb",
      "provenance": [],
      "collapsed_sections": []
    },
    "kernelspec": {
      "name": "python3",
      "display_name": "Python 3"
    }
  },
  "cells": [
    {
      "cell_type": "code",
      "metadata": {
        "id": "eRsZM_L1ArhW",
        "colab_type": "code",
        "colab": {
          "base_uri": "https://localhost:8080/",
          "height": 884
        },
        "outputId": "0f736f93-d07a-4b0c-9c72-cfa0651932d9"
      },
      "source": [
        "!pip install pyspark\n",
        "!pip install -U -q PyDrive\n",
        "!apt install openjdk-8-jdk-headless -qq\n",
        "import os\n",
        "os.environ[\"JAVA_HOME\"] = \"/usr/lib/jvm/java-8-openjdk-amd64\""
      ],
      "execution_count": 1,
      "outputs": [
        {
          "output_type": "stream",
          "text": [
            "Collecting pyspark\n",
            "\u001b[?25l  Downloading https://files.pythonhosted.org/packages/8e/b0/bf9020b56492281b9c9d8aae8f44ff51e1bc91b3ef5a884385cb4e389a40/pyspark-3.0.0.tar.gz (204.7MB)\n",
            "\u001b[K     |████████████████████████████████| 204.7MB 54kB/s \n",
            "\u001b[?25hCollecting py4j==0.10.9\n",
            "\u001b[?25l  Downloading https://files.pythonhosted.org/packages/9e/b6/6a4fb90cd235dc8e265a6a2067f2a2c99f0d91787f06aca4bcf7c23f3f80/py4j-0.10.9-py2.py3-none-any.whl (198kB)\n",
            "\u001b[K     |████████████████████████████████| 204kB 41.2MB/s \n",
            "\u001b[?25hBuilding wheels for collected packages: pyspark\n",
            "  Building wheel for pyspark (setup.py) ... \u001b[?25l\u001b[?25hdone\n",
            "  Created wheel for pyspark: filename=pyspark-3.0.0-py2.py3-none-any.whl size=205044182 sha256=6cc110f4caf2fdf1f732aa67eaa8705cc0a314283b5a5b6fbecc3fd8dde19153\n",
            "  Stored in directory: /root/.cache/pip/wheels/57/27/4d/ddacf7143f8d5b76c45c61ee2e43d9f8492fc5a8e78ebd7d37\n",
            "Successfully built pyspark\n",
            "Installing collected packages: py4j, pyspark\n",
            "Successfully installed py4j-0.10.9 pyspark-3.0.0\n",
            "The following package was automatically installed and is no longer required:\n",
            "  libnvidia-common-440\n",
            "Use 'apt autoremove' to remove it.\n",
            "The following additional packages will be installed:\n",
            "  openjdk-8-jre-headless\n",
            "Suggested packages:\n",
            "  openjdk-8-demo openjdk-8-source libnss-mdns fonts-dejavu-extra\n",
            "  fonts-ipafont-gothic fonts-ipafont-mincho fonts-wqy-microhei\n",
            "  fonts-wqy-zenhei fonts-indic\n",
            "The following NEW packages will be installed:\n",
            "  openjdk-8-jdk-headless openjdk-8-jre-headless\n",
            "0 upgraded, 2 newly installed, 0 to remove and 43 not upgraded.\n",
            "Need to get 35.8 MB of archives.\n",
            "After this operation, 140 MB of additional disk space will be used.\n",
            "Selecting previously unselected package openjdk-8-jre-headless:amd64.\n",
            "(Reading database ... 144328 files and directories currently installed.)\n",
            "Preparing to unpack .../openjdk-8-jre-headless_8u252-b09-1~18.04_amd64.deb ...\n",
            "Unpacking openjdk-8-jre-headless:amd64 (8u252-b09-1~18.04) ...\n",
            "Selecting previously unselected package openjdk-8-jdk-headless:amd64.\n",
            "Preparing to unpack .../openjdk-8-jdk-headless_8u252-b09-1~18.04_amd64.deb ...\n",
            "Unpacking openjdk-8-jdk-headless:amd64 (8u252-b09-1~18.04) ...\n",
            "Setting up openjdk-8-jre-headless:amd64 (8u252-b09-1~18.04) ...\n",
            "update-alternatives: using /usr/lib/jvm/java-8-openjdk-amd64/jre/bin/orbd to provide /usr/bin/orbd (orbd) in auto mode\n",
            "update-alternatives: using /usr/lib/jvm/java-8-openjdk-amd64/jre/bin/servertool to provide /usr/bin/servertool (servertool) in auto mode\n",
            "update-alternatives: using /usr/lib/jvm/java-8-openjdk-amd64/jre/bin/tnameserv to provide /usr/bin/tnameserv (tnameserv) in auto mode\n",
            "Setting up openjdk-8-jdk-headless:amd64 (8u252-b09-1~18.04) ...\n",
            "update-alternatives: using /usr/lib/jvm/java-8-openjdk-amd64/bin/idlj to provide /usr/bin/idlj (idlj) in auto mode\n",
            "update-alternatives: using /usr/lib/jvm/java-8-openjdk-amd64/bin/wsimport to provide /usr/bin/wsimport (wsimport) in auto mode\n",
            "update-alternatives: using /usr/lib/jvm/java-8-openjdk-amd64/bin/jsadebugd to provide /usr/bin/jsadebugd (jsadebugd) in auto mode\n",
            "update-alternatives: using /usr/lib/jvm/java-8-openjdk-amd64/bin/native2ascii to provide /usr/bin/native2ascii (native2ascii) in auto mode\n",
            "update-alternatives: using /usr/lib/jvm/java-8-openjdk-amd64/bin/javah to provide /usr/bin/javah (javah) in auto mode\n",
            "update-alternatives: using /usr/lib/jvm/java-8-openjdk-amd64/bin/clhsdb to provide /usr/bin/clhsdb (clhsdb) in auto mode\n",
            "update-alternatives: using /usr/lib/jvm/java-8-openjdk-amd64/bin/extcheck to provide /usr/bin/extcheck (extcheck) in auto mode\n",
            "update-alternatives: using /usr/lib/jvm/java-8-openjdk-amd64/bin/hsdb to provide /usr/bin/hsdb (hsdb) in auto mode\n",
            "update-alternatives: using /usr/lib/jvm/java-8-openjdk-amd64/bin/schemagen to provide /usr/bin/schemagen (schemagen) in auto mode\n",
            "update-alternatives: using /usr/lib/jvm/java-8-openjdk-amd64/bin/xjc to provide /usr/bin/xjc (xjc) in auto mode\n",
            "update-alternatives: using /usr/lib/jvm/java-8-openjdk-amd64/bin/jhat to provide /usr/bin/jhat (jhat) in auto mode\n",
            "update-alternatives: using /usr/lib/jvm/java-8-openjdk-amd64/bin/wsgen to provide /usr/bin/wsgen (wsgen) in auto mode\n"
          ],
          "name": "stdout"
        }
      ]
    },
    {
      "cell_type": "code",
      "metadata": {
        "id": "ipoKa2PaAw6L",
        "colab_type": "code",
        "colab": {}
      },
      "source": [
        "from pydrive.auth import GoogleAuth\n",
        "from pydrive.drive import GoogleDrive\n",
        "from google.colab import auth\n",
        "from oauth2client.client import GoogleCredentials\n",
        "from pyspark.sql import *\n",
        "from pyspark.sql.functions import *\n",
        "from pyspark import SparkContext\n",
        "from pyspark.sql import SQLContext\n",
        "import pandas as pd"
      ],
      "execution_count": 2,
      "outputs": []
    },
    {
      "cell_type": "code",
      "metadata": {
        "id": "qngZMhW6BFLW",
        "colab_type": "code",
        "colab": {}
      },
      "source": [
        "# create the Spark Session\n",
        "spark = SparkSession.builder.getOrCreate()\n",
        "\n",
        "# create the Spark Context\n",
        "sc = spark.sparkContext"
      ],
      "execution_count": 3,
      "outputs": []
    },
    {
      "cell_type": "markdown",
      "metadata": {
        "id": "BqHiAyP3BPsk",
        "colab_type": "text"
      },
      "source": [
        "## Segundo Cuatrimestre de 2018.Examen parcial, tercera oportunidad\n",
        "\n",
        "### 1)La empresa Instagram almacena informacion de usuarios en un RDD de la forma (id_usuario, nickname, pais ,fecha_alta) y otro RDD almacena informacion de las publicaciones como (id_publicacion, id_usuario, id_foto, comentario, fecha). En Instagram, un hastag es una palabra que comienza con \n",
        "### Se pide realizar lo siguiente utilizando el api de RDD en pyspark:\n",
        "\n",
        "### a) Encontrar el top 10 de hastags que mas aparecen y que fueron publicados unicamente por ususarios del pais Argentina.(Por ejemplo: si un hashtag fue publicado por alguien que no es de Argentina entonces no hay que consisderar dicho hashtag para el top 10, aunque sea el que mayor cantidad de ocurrencias haya acumulado).\n",
        "\n",
        "### b) Construir y cachear un RDD con los pares de usuarios (id_usuario1, id_usuario2) que tienen hashtags publicados en comun"
      ]
    },
    {
      "cell_type": "code",
      "metadata": {
        "id": "zmnnJz0FBIq9",
        "colab_type": "code",
        "colab": {}
      },
      "source": [
        "publicaciones_doc = [(16747,9838,116,'Every man #chabon has his #spiderman price','2019/03/11'),\n",
        "(36922,1438,126,'Youve got to #locura ask yourself one question Do I feel lucky? Well do ya punk','2019/03/29'),\n",
        "(11386,1592,108,'Like two peas #locura #chabon in a pod','2019/01/28'),\n",
        "(39223,1082,137,'Dont put the cart before the horse','2019/03/02'),\n",
        "(8296,2639,106,'Nostalgia isnt what it used to be','2019/03/02'),\n",
        "(16116,3829,137,'Shes drop dead #chabon gorgeous','2019/01/11'),\n",
        "(20129,7677,146,'Too many #dromedario cooks spoil the broth','2019/01/04'),\n",
        "(44960,8276,140,'If you cant beat them, join them','2019/01/28'),\n",
        "(6832,3536,148,'I like turtles','2019/01/11'),\n",
        "(44692,6709,150,'Ask no questions and hear no lies','2019/02/27'),\n",
        "(12374,1328,122,'A bird in the #locura hand is #chabon worth two in the bush','2019/03/01'),\n",
        "(50730,3964,148,'Youll #dromedario poke your eye out','2019/01/09'),\n",
        "(47049,1880,122,'You can #bobsponge lead a horse #chabon to water but you cant make him drink','2019/02/16'),\n",
        "(6320,5624,127,'Two heads are better than one','2019/01/23'),\n",
        "(37911,1444,132,'Im going to make #chabon him an offer he cant refuse','2019/02/17'),\n",
        "(44080,4014,113,'A sight for sore eyes','2019/02/12'),\n",
        "(57898,5635,118,'Theres #bobsponge no place #dromedario like home','2019/01/01'),\n",
        "(10721,5123,142,'Absence #dromedario makes the heart #locura grow fonder','2019/01/24'),\n",
        "(57053,6084,116,'Youre barking up the wrong tree','2019/02/01'),\n",
        "(11695,2885,141,'Old habits die hard','2019/02/07'),\n",
        "(22564,6943,145,'No pain no gain','2019/03/09'),\n",
        "(21307,1813,136,'Variety is the spice of #chabon #locura life','2019/03/10'),\n",
        "(49413,1554,103,'Would you jump off #bobsponge a bridge if all your friends were doing it','2019/03/13'),\n",
        "(55044,3591,129,'A friend in need is a friend indeed','2019/04/01'),\n",
        "(38938,8740,137,'Dont cry over spilled milk','2019/01/01'),\n",
        "(31140,9651,106,'The needs of the #bobsponge many #dromedario outweigh the needs #locura of the few','2019/02/05'),\n",
        "(44856,6027,136,'Because I said so, thats #dromedario why','2019/03/13'),\n",
        "(4517,9673,103,'The Tribe has spoken','2019/02/15'),\n",
        "(28579,4650,150,'The pen is mightier #bobsponge than the sword','2019/01/18'),\n",
        "(52683,6501,119,'Leave well enough #dromedario alone','2019/01/20')]\n",
        "\n",
        "usuarios_doc = [(9838,'Raindrop','argentina','5/14/2018'),\n",
        "(1438,'Admiral','uruguay','9/24/2018'),\n",
        "(1592,'Mustache','uruguay','7/7/2018'),\n",
        "(1082,'Bean','argentina','2/9/2018'),\n",
        "(2639,'Fatty','uruguay','4/18/2018'),\n",
        "(3829,'Queenie','uruguay','1/23/2018'),\n",
        "(7677,'Sugar','argentina','8/7/2018'),\n",
        "(8276,'Righty','argentina','10/10/2018'),\n",
        "(3536,'Fellow','argentina','9/3/2018'),\n",
        "(6709,'Dearest','argentina','8/6/2018'),\n",
        "(1328,'Salt','uruguay','5/11/2018'),\n",
        "(3964,'Belch','argentina','8/28/2018'),\n",
        "(1880,'Boo Bear','uruguay','5/23/2018'),\n",
        "(5624,'Bello','argentina','2/6/2018'),\n",
        "(1444,'Chain','argentina','11/1/2018'),\n",
        "(4014,'Doc','argentina','7/4/2018'),   \n",
        "(5635,'Dirty Harry','argentina','4/5/2018'),\n",
        "(5123,'Jackrabbit','argentina','5/31/2018'),\n",
        "(6084,'Foxy','uruguay','11/4/2018'),\n",
        "(2885,'Cruella','argentina','11/25/2018'),\n",
        "(6943,'Guy','uruguay','10/1/2018'),\n",
        "(1813,'Buck','chile','8/4/2018'),\n",
        "(1554,'Peppermint','chile','2/15/2018'),\n",
        "(3591,'Headlights','chile','1/6/2018'),\n",
        "(8740,'Slim','chile','10/22/2018'),\n",
        "(9651,'Skunk','chile','8/18/2018'),\n",
        "(6027,'Blondie','chile','9/16/2018'),\n",
        "(9673,'Bandit','argentina','4/11/2018'),\n",
        "(4650,'Sport','argentina','11/7/2018'),\n",
        "(6501,'Pookie','argentina','11/7/2018')]\n"
      ],
      "execution_count": 17,
      "outputs": []
    },
    {
      "cell_type": "code",
      "metadata": {
        "id": "YtsPXfafINV8",
        "colab_type": "code",
        "colab": {}
      },
      "source": [
        "publicacionesRDD = sc.parallelize(publicaciones_doc)\n",
        "usuariosRDD = sc.parallelize(usuarios_doc)"
      ],
      "execution_count": 18,
      "outputs": []
    },
    {
      "cell_type": "code",
      "metadata": {
        "id": "8kEa3SV_EXP8",
        "colab_type": "code",
        "colab": {
          "base_uri": "https://localhost:8080/",
          "height": 1000
        },
        "outputId": "5ffcad3c-5f70-49c9-beeb-aa3264a1cecc"
      },
      "source": [
        "publicacionesRDD.collect()"
      ],
      "execution_count": 19,
      "outputs": [
        {
          "output_type": "execute_result",
          "data": {
            "text/plain": [
              "[(16747,\n",
              "  9838,\n",
              "  116,\n",
              "  'Every man #chabon has his #spiderman price',\n",
              "  '2019/03/11'),\n",
              " (36922,\n",
              "  1438,\n",
              "  126,\n",
              "  'Youve got to #locura ask yourself one question Do I feel lucky? Well do ya punk',\n",
              "  '2019/03/29'),\n",
              " (11386, 1592, 108, 'Like two peas #locura #chabon in a pod', '2019/01/28'),\n",
              " (39223, 1082, 137, 'Dont put the cart before the horse', '2019/03/02'),\n",
              " (8296, 2639, 106, 'Nostalgia isnt what it used to be', '2019/03/02'),\n",
              " (16116, 3829, 137, 'Shes drop dead #chabon gorgeous', '2019/01/11'),\n",
              " (20129,\n",
              "  7677,\n",
              "  146,\n",
              "  'Too many #dromedario cooks spoil the broth',\n",
              "  '2019/01/04'),\n",
              " (44960, 8276, 140, 'If you cant beat them, join them', '2019/01/28'),\n",
              " (6832, 3536, 148, 'I like turtles', '2019/01/11'),\n",
              " (44692, 6709, 150, 'Ask no questions and hear no lies', '2019/02/27'),\n",
              " (12374,\n",
              "  1328,\n",
              "  122,\n",
              "  'A bird in the #locura hand is #chabon worth two in the bush',\n",
              "  '2019/03/01'),\n",
              " (50730, 3964, 148, 'Youll #dromedario poke your eye out', '2019/01/09'),\n",
              " (47049,\n",
              "  1880,\n",
              "  122,\n",
              "  'You can #bobsponge lead a horse #chabon to water but you cant make him drink',\n",
              "  '2019/02/16'),\n",
              " (6320, 5624, 127, 'Two heads are better than one', '2019/01/23'),\n",
              " (37911,\n",
              "  1444,\n",
              "  132,\n",
              "  'Im going to make #chabon him an offer he cant refuse',\n",
              "  '2019/02/17'),\n",
              " (44080, 4014, 113, 'A sight for sore eyes', '2019/02/12'),\n",
              " (57898,\n",
              "  5635,\n",
              "  118,\n",
              "  'Theres #bobsponge no place #dromedario like home',\n",
              "  '2019/01/01'),\n",
              " (10721,\n",
              "  5123,\n",
              "  142,\n",
              "  'Absence #dromedario makes the heart #locura grow fonder',\n",
              "  '2019/01/24'),\n",
              " (57053, 6084, 116, 'Youre barking up the wrong tree', '2019/02/01'),\n",
              " (11695, 2885, 141, 'Old habits die hard', '2019/02/07'),\n",
              " (22564, 6943, 145, 'No pain no gain', '2019/03/09'),\n",
              " (21307,\n",
              "  1813,\n",
              "  136,\n",
              "  'Variety is the spice of #chabon #locura life',\n",
              "  '2019/03/10'),\n",
              " (49413,\n",
              "  1554,\n",
              "  103,\n",
              "  'Would you jump off #bobsponge a bridge if all your friends were doing it',\n",
              "  '2019/03/13'),\n",
              " (55044, 3591, 129, 'A friend in need is a friend indeed', '2019/04/01'),\n",
              " (38938, 8740, 137, 'Dont cry over spilled milk', '2019/01/01'),\n",
              " (31140,\n",
              "  9651,\n",
              "  106,\n",
              "  'The needs of the #bobsponge many #dromedario outweigh the needs #locura of the few',\n",
              "  '2019/02/05'),\n",
              " (44856, 6027, 136, 'Because I said so, thats #dromedario why', '2019/03/13'),\n",
              " (4517, 9673, 103, 'The Tribe has spoken', '2019/02/15'),\n",
              " (28579,\n",
              "  4650,\n",
              "  150,\n",
              "  'The pen is mightier #bobsponge than the sword',\n",
              "  '2019/01/18'),\n",
              " (52683, 6501, 119, 'Leave well enough #dromedario alone', '2019/01/20')]"
            ]
          },
          "metadata": {
            "tags": []
          },
          "execution_count": 19
        }
      ]
    },
    {
      "cell_type": "code",
      "metadata": {
        "id": "o_bh4oPPEkLQ",
        "colab_type": "code",
        "colab": {
          "base_uri": "https://localhost:8080/",
          "height": 527
        },
        "outputId": "af684a56-c0c4-487d-c5e4-6f103bcf36a9"
      },
      "source": [
        "usuariosRDD.collect()"
      ],
      "execution_count": 20,
      "outputs": [
        {
          "output_type": "execute_result",
          "data": {
            "text/plain": [
              "[(9838, 'Raindrop', 'argentina', '5/14/2018'),\n",
              " (1438, 'Admiral', 'uruguay', '9/24/2018'),\n",
              " (1592, 'Mustache', 'uruguay', '7/7/2018'),\n",
              " (1082, 'Bean', 'argentina', '2/9/2018'),\n",
              " (2639, 'Fatty', 'uruguay', '4/18/2018'),\n",
              " (3829, 'Queenie', 'uruguay', '1/23/2018'),\n",
              " (7677, 'Sugar', 'argentina', '8/7/2018'),\n",
              " (8276, 'Righty', 'argentina', '10/10/2018'),\n",
              " (3536, 'Fellow', 'argentina', '9/3/2018'),\n",
              " (6709, 'Dearest', 'argentina', '8/6/2018'),\n",
              " (1328, 'Salt', 'uruguay', '5/11/2018'),\n",
              " (3964, 'Belch', 'argentina', '8/28/2018'),\n",
              " (1880, 'Boo Bear', 'uruguay', '5/23/2018'),\n",
              " (5624, 'Bello', 'argentina', '2/6/2018'),\n",
              " (1444, 'Chain', 'argentina', '11/1/2018'),\n",
              " (4014, 'Doc', 'argentina', '7/4/2018'),\n",
              " (5635, 'Dirty Harry', 'argentina', '4/5/2018'),\n",
              " (5123, 'Jackrabbit', 'argentina', '5/31/2018'),\n",
              " (6084, 'Foxy', 'uruguay', '11/4/2018'),\n",
              " (2885, 'Cruella', 'argentina', '11/25/2018'),\n",
              " (6943, 'Guy', 'uruguay', '10/1/2018'),\n",
              " (1813, 'Buck', 'chile', '8/4/2018'),\n",
              " (1554, 'Peppermint', 'chile', '2/15/2018'),\n",
              " (3591, 'Headlights', 'chile', '1/6/2018'),\n",
              " (8740, 'Slim', 'chile', '10/22/2018'),\n",
              " (9651, 'Skunk', 'chile', '8/18/2018'),\n",
              " (6027, 'Blondie', 'chile', '9/16/2018'),\n",
              " (9673, 'Bandit', 'argentina', '4/11/2018'),\n",
              " (4650, 'Sport', 'argentina', '11/7/2018'),\n",
              " (6501, 'Pookie', 'argentina', '11/7/2018')]"
            ]
          },
          "metadata": {
            "tags": []
          },
          "execution_count": 20
        }
      ]
    },
    {
      "cell_type": "code",
      "metadata": {
        "id": "85FSKkNYEoNX",
        "colab_type": "code",
        "colab": {
          "base_uri": "https://localhost:8080/",
          "height": 595
        },
        "outputId": "0cbff4c8-d142-4821-9c50-3b29a14ce2f8"
      },
      "source": [
        "#Nos quedamos unicamente con los campos del RDD necesarios\n",
        "publicaciones = publicacionesRDD.map(lambda x: (x[1],x[3]))\n",
        "publicaciones.collect()"
      ],
      "execution_count": 21,
      "outputs": [
        {
          "output_type": "execute_result",
          "data": {
            "text/plain": [
              "[(9838, 'Every man #chabon has his #spiderman price'),\n",
              " (1438,\n",
              "  'Youve got to #locura ask yourself one question Do I feel lucky? Well do ya punk'),\n",
              " (1592, 'Like two peas #locura #chabon in a pod'),\n",
              " (1082, 'Dont put the cart before the horse'),\n",
              " (2639, 'Nostalgia isnt what it used to be'),\n",
              " (3829, 'Shes drop dead #chabon gorgeous'),\n",
              " (7677, 'Too many #dromedario cooks spoil the broth'),\n",
              " (8276, 'If you cant beat them, join them'),\n",
              " (3536, 'I like turtles'),\n",
              " (6709, 'Ask no questions and hear no lies'),\n",
              " (1328, 'A bird in the #locura hand is #chabon worth two in the bush'),\n",
              " (3964, 'Youll #dromedario poke your eye out'),\n",
              " (1880,\n",
              "  'You can #bobsponge lead a horse #chabon to water but you cant make him drink'),\n",
              " (5624, 'Two heads are better than one'),\n",
              " (1444, 'Im going to make #chabon him an offer he cant refuse'),\n",
              " (4014, 'A sight for sore eyes'),\n",
              " (5635, 'Theres #bobsponge no place #dromedario like home'),\n",
              " (5123, 'Absence #dromedario makes the heart #locura grow fonder'),\n",
              " (6084, 'Youre barking up the wrong tree'),\n",
              " (2885, 'Old habits die hard'),\n",
              " (6943, 'No pain no gain'),\n",
              " (1813, 'Variety is the spice of #chabon #locura life'),\n",
              " (1554,\n",
              "  'Would you jump off #bobsponge a bridge if all your friends were doing it'),\n",
              " (3591, 'A friend in need is a friend indeed'),\n",
              " (8740, 'Dont cry over spilled milk'),\n",
              " (9651,\n",
              "  'The needs of the #bobsponge many #dromedario outweigh the needs #locura of the few'),\n",
              " (6027, 'Because I said so, thats #dromedario why'),\n",
              " (9673, 'The Tribe has spoken'),\n",
              " (4650, 'The pen is mightier #bobsponge than the sword'),\n",
              " (6501, 'Leave well enough #dromedario alone')]"
            ]
          },
          "metadata": {
            "tags": []
          },
          "execution_count": 21
        }
      ]
    },
    {
      "cell_type": "code",
      "metadata": {
        "id": "qoBZxeZGSHxA",
        "colab_type": "code",
        "colab": {
          "base_uri": "https://localhost:8080/",
          "height": 255
        },
        "outputId": "7f4ab0e8-c850-4058-e771-dd43e06bb858"
      },
      "source": [
        "#Obtenemos los usuarios no argentinos\n",
        "usuarios_noArgentinos = (usuariosRDD.map(lambda x: (x[0],x[2]))).filter(lambda x: x[1]!='argentina')\n",
        "usuarios_noArgentinos.collect()"
      ],
      "execution_count": 22,
      "outputs": [
        {
          "output_type": "execute_result",
          "data": {
            "text/plain": [
              "[(1438, 'uruguay'),\n",
              " (1592, 'uruguay'),\n",
              " (2639, 'uruguay'),\n",
              " (3829, 'uruguay'),\n",
              " (1328, 'uruguay'),\n",
              " (1880, 'uruguay'),\n",
              " (6084, 'uruguay'),\n",
              " (6943, 'uruguay'),\n",
              " (1813, 'chile'),\n",
              " (1554, 'chile'),\n",
              " (3591, 'chile'),\n",
              " (8740, 'chile'),\n",
              " (9651, 'chile'),\n",
              " (6027, 'chile')]"
            ]
          },
          "metadata": {
            "tags": []
          },
          "execution_count": 22
        }
      ]
    },
    {
      "cell_type": "code",
      "metadata": {
        "id": "zTI6UxCKSfIY",
        "colab_type": "code",
        "colab": {
          "base_uri": "https://localhost:8080/",
          "height": 323
        },
        "outputId": "e636c49b-2d35-4793-955e-dcbb653df45c"
      },
      "source": [
        "# Unificamos las publicaciones con los usuarios no argentinos\n",
        "hashtags_noArgentinos = (usuarios_noArgentinos.join(publicaciones)).map(lambda x: (x[0],x[1][1]))\n",
        "hashtags_noArgentinos.collect()"
      ],
      "execution_count": 23,
      "outputs": [
        {
          "output_type": "execute_result",
          "data": {
            "text/plain": [
              "[(1592, 'Like two peas #locura #chabon in a pod'),\n",
              " (1328, 'A bird in the #locura hand is #chabon worth two in the bush'),\n",
              " (1880,\n",
              "  'You can #bobsponge lead a horse #chabon to water but you cant make him drink'),\n",
              " (6084, 'Youre barking up the wrong tree'),\n",
              " (8740, 'Dont cry over spilled milk'),\n",
              " (3829, 'Shes drop dead #chabon gorgeous'),\n",
              " (1813, 'Variety is the spice of #chabon #locura life'),\n",
              " (1438,\n",
              "  'Youve got to #locura ask yourself one question Do I feel lucky? Well do ya punk'),\n",
              " (1554,\n",
              "  'Would you jump off #bobsponge a bridge if all your friends were doing it'),\n",
              " (2639, 'Nostalgia isnt what it used to be'),\n",
              " (6943, 'No pain no gain'),\n",
              " (3591, 'A friend in need is a friend indeed'),\n",
              " (9651,\n",
              "  'The needs of the #bobsponge many #dromedario outweigh the needs #locura of the few'),\n",
              " (6027, 'Because I said so, thats #dromedario why')]"
            ]
          },
          "metadata": {
            "tags": []
          },
          "execution_count": 23
        }
      ]
    },
    {
      "cell_type": "code",
      "metadata": {
        "id": "k3KBmId2ICFY",
        "colab_type": "code",
        "colab": {
          "base_uri": "https://localhost:8080/",
          "height": 238
        },
        "outputId": "bf23d23b-c326-408a-d448-35a28502feca"
      },
      "source": [
        "#Nos quedamos unicamente con las publicaciones que tienen hashtags\n",
        "tweet_con_hasgtags_noArgentinos = hashtags_noArgentinos.filter(lambda x: '#' in x[1] )\n",
        "tweet_con_hasgtags_noArgentinos.collect()"
      ],
      "execution_count": 24,
      "outputs": [
        {
          "output_type": "execute_result",
          "data": {
            "text/plain": [
              "[(1592, 'Like two peas #locura #chabon in a pod'),\n",
              " (1328, 'A bird in the #locura hand is #chabon worth two in the bush'),\n",
              " (1880,\n",
              "  'You can #bobsponge lead a horse #chabon to water but you cant make him drink'),\n",
              " (3829, 'Shes drop dead #chabon gorgeous'),\n",
              " (1813, 'Variety is the spice of #chabon #locura life'),\n",
              " (1438,\n",
              "  'Youve got to #locura ask yourself one question Do I feel lucky? Well do ya punk'),\n",
              " (1554,\n",
              "  'Would you jump off #bobsponge a bridge if all your friends were doing it'),\n",
              " (9651,\n",
              "  'The needs of the #bobsponge many #dromedario outweigh the needs #locura of the few'),\n",
              " (6027, 'Because I said so, thats #dromedario why')]"
            ]
          },
          "metadata": {
            "tags": []
          },
          "execution_count": 24
        }
      ]
    },
    {
      "cell_type": "code",
      "metadata": {
        "id": "-csS_VzMI_0v",
        "colab_type": "code",
        "colab": {}
      },
      "source": [
        "# Definimos una funcion que atrapa los hashtags en cada publicacion\n",
        "def hashtagFetcher (x):\n",
        "  listaHashtags = []\n",
        "  for palabra in (x[1].split()):\n",
        "    if ('#' in palabra):\n",
        "          listaHashtags.append(palabra)\n",
        "  return listaHashtags"
      ],
      "execution_count": 25,
      "outputs": []
    },
    {
      "cell_type": "code",
      "metadata": {
        "id": "4O5-tT3wLV7x",
        "colab_type": "code",
        "colab": {
          "base_uri": "https://localhost:8080/",
          "height": 34
        },
        "outputId": "d4917404-f295-4f33-e90d-f5ecd1cc65f3"
      },
      "source": [
        "# Obtenemos la lista de hashtags que ocurren en las publicaciones no argentinas\n",
        "hashtags_por_tweet = tweet_con_hasgtags_noArgentinos.map(lambda x: (x[0], hashtagFetcher(x)))\n",
        "hashtags_lista = (hashtags_por_tweet.flatMap(lambda x: (x[1]))).collect()\n",
        "hashtags_lista\n",
        "hashtags_lista_sin_repetir = set(list(hashtags_lista))\n",
        "hashtags_lista_sin_repetir"
      ],
      "execution_count": 26,
      "outputs": [
        {
          "output_type": "execute_result",
          "data": {
            "text/plain": [
              "{'#bobsponge', '#chabon', '#dromedario', '#locura'}"
            ]
          },
          "metadata": {
            "tags": []
          },
          "execution_count": 26
        }
      ]
    },
    {
      "cell_type": "code",
      "metadata": {
        "id": "hJdPbsFWlVOX",
        "colab_type": "code",
        "colab": {
          "base_uri": "https://localhost:8080/",
          "height": 459
        },
        "outputId": "0ded4db8-453d-4d63-f783-d8721ccd9c4a"
      },
      "source": [
        "# Generamos un RDD con los tweets con hashtags y nos quedamos solo con los hashtags\n",
        "publicaciones_hashtags = (publicacionesRDD.flatMap(lambda x: [(word,x[1]) for word in (x[3].split())])).filter(lambda x: '#' in x[0]).map(lambda x: (x[1], (x[0],1)))\n",
        "publicaciones_hashtags.collect()"
      ],
      "execution_count": 27,
      "outputs": [
        {
          "output_type": "execute_result",
          "data": {
            "text/plain": [
              "[(9838, ('#chabon', 1)),\n",
              " (9838, ('#spiderman', 1)),\n",
              " (1438, ('#locura', 1)),\n",
              " (1592, ('#locura', 1)),\n",
              " (1592, ('#chabon', 1)),\n",
              " (3829, ('#chabon', 1)),\n",
              " (7677, ('#dromedario', 1)),\n",
              " (1328, ('#locura', 1)),\n",
              " (1328, ('#chabon', 1)),\n",
              " (3964, ('#dromedario', 1)),\n",
              " (1880, ('#bobsponge', 1)),\n",
              " (1880, ('#chabon', 1)),\n",
              " (1444, ('#chabon', 1)),\n",
              " (5635, ('#bobsponge', 1)),\n",
              " (5635, ('#dromedario', 1)),\n",
              " (5123, ('#dromedario', 1)),\n",
              " (5123, ('#locura', 1)),\n",
              " (1813, ('#chabon', 1)),\n",
              " (1813, ('#locura', 1)),\n",
              " (1554, ('#bobsponge', 1)),\n",
              " (9651, ('#bobsponge', 1)),\n",
              " (9651, ('#dromedario', 1)),\n",
              " (9651, ('#locura', 1)),\n",
              " (6027, ('#dromedario', 1)),\n",
              " (4650, ('#bobsponge', 1)),\n",
              " (6501, ('#dromedario', 1))]"
            ]
          },
          "metadata": {
            "tags": []
          },
          "execution_count": 27
        }
      ]
    },
    {
      "cell_type": "code",
      "metadata": {
        "id": "3rBxqEWeRIgJ",
        "colab_type": "code",
        "colab": {
          "base_uri": "https://localhost:8080/",
          "height": 34
        },
        "outputId": "d4fab009-ad52-4607-a43c-d48025816069"
      },
      "source": [
        "final_final = (publicaciones_hashtags.filter(lambda x: x[1][0]  not in hashtags_lista)).map(lambda x: (x[1][0],x[0]))\n",
        "final_final.collect()"
      ],
      "execution_count": 29,
      "outputs": [
        {
          "output_type": "execute_result",
          "data": {
            "text/plain": [
              "[('#spiderman', 9838)]"
            ]
          },
          "metadata": {
            "tags": []
          },
          "execution_count": 29
        }
      ]
    },
    {
      "cell_type": "markdown",
      "metadata": {
        "id": "iMOrHpy-uAPL",
        "colab_type": "text"
      },
      "source": [
        "b) Construir y cachear un RDD con los pares de usuarios (id_usuario1, id_usuario2) que tienen hashtags publicados en comun "
      ]
    },
    {
      "cell_type": "code",
      "metadata": {
        "id": "kM9D2M3lurVF",
        "colab_type": "code",
        "colab": {}
      },
      "source": [
        ") "
      ],
      "execution_count": null,
      "outputs": []
    },
    {
      "cell_type": "code",
      "metadata": {
        "id": "atfqwd5JT13h",
        "colab_type": "code",
        "colab": {
          "base_uri": "https://localhost:8080/",
          "height": 1000
        },
        "outputId": "09f88882-8fb1-41d4-dcd9-37dcfa664485"
      },
      "source": [
        "pares_aux = (publicacionesRDD.flatMap(lambda x: [(word,x[1]) for word in (x[3].split())])).filter(lambda x: '#' in x[0])\n",
        "pares_usuarios_hashtags = ((pares_aux.join(pares_aux)).filter(lambda x: x[1][0]!=x[1][1])).map(lambda x: (x[1][0],x[1][1]))\n",
        "pares_usuarios_hashtags.collect()"
      ],
      "execution_count": 34,
      "outputs": [
        {
          "output_type": "execute_result",
          "data": {
            "text/plain": [
              "[(1438, 1592),\n",
              " (1438, 1328),\n",
              " (1438, 5123),\n",
              " (1438, 1813),\n",
              " (1438, 9651),\n",
              " (1592, 1438),\n",
              " (1592, 1328),\n",
              " (1592, 5123),\n",
              " (1592, 1813),\n",
              " (1592, 9651),\n",
              " (1328, 1438),\n",
              " (1328, 1592),\n",
              " (1328, 5123),\n",
              " (1328, 1813),\n",
              " (1328, 9651),\n",
              " (5123, 1438),\n",
              " (5123, 1592),\n",
              " (5123, 1328),\n",
              " (5123, 1813),\n",
              " (5123, 9651),\n",
              " (1813, 1438),\n",
              " (1813, 1592),\n",
              " (1813, 1328),\n",
              " (1813, 5123),\n",
              " (1813, 9651),\n",
              " (9651, 1438),\n",
              " (9651, 1592),\n",
              " (9651, 1328),\n",
              " (9651, 5123),\n",
              " (9651, 1813),\n",
              " (1880, 5635),\n",
              " (1880, 1554),\n",
              " (1880, 9651),\n",
              " (1880, 4650),\n",
              " (5635, 1880),\n",
              " (5635, 1554),\n",
              " (5635, 9651),\n",
              " (5635, 4650),\n",
              " (1554, 1880),\n",
              " (1554, 5635),\n",
              " (1554, 9651),\n",
              " (1554, 4650),\n",
              " (9651, 1880),\n",
              " (9651, 5635),\n",
              " (9651, 1554),\n",
              " (9651, 4650),\n",
              " (4650, 1880),\n",
              " (4650, 5635),\n",
              " (4650, 1554),\n",
              " (4650, 9651),\n",
              " (9838, 1592),\n",
              " (9838, 3829),\n",
              " (9838, 1328),\n",
              " (9838, 1880),\n",
              " (9838, 1444),\n",
              " (9838, 1813),\n",
              " (1592, 9838),\n",
              " (1592, 3829),\n",
              " (1592, 1328),\n",
              " (1592, 1880),\n",
              " (1592, 1444),\n",
              " (1592, 1813),\n",
              " (3829, 9838),\n",
              " (3829, 1592),\n",
              " (3829, 1328),\n",
              " (3829, 1880),\n",
              " (3829, 1444),\n",
              " (3829, 1813),\n",
              " (1328, 9838),\n",
              " (1328, 1592),\n",
              " (1328, 3829),\n",
              " (1328, 1880),\n",
              " (1328, 1444),\n",
              " (1328, 1813),\n",
              " (1880, 9838),\n",
              " (1880, 1592),\n",
              " (1880, 3829),\n",
              " (1880, 1328),\n",
              " (1880, 1444),\n",
              " (1880, 1813),\n",
              " (1444, 9838),\n",
              " (1444, 1592),\n",
              " (1444, 3829),\n",
              " (1444, 1328),\n",
              " (1444, 1880),\n",
              " (1444, 1813),\n",
              " (1813, 9838),\n",
              " (1813, 1592),\n",
              " (1813, 3829),\n",
              " (1813, 1328),\n",
              " (1813, 1880),\n",
              " (1813, 1444),\n",
              " (7677, 3964),\n",
              " (7677, 5635),\n",
              " (7677, 5123),\n",
              " (7677, 9651),\n",
              " (7677, 6027),\n",
              " (7677, 6501),\n",
              " (3964, 7677),\n",
              " (3964, 5635),\n",
              " (3964, 5123),\n",
              " (3964, 9651),\n",
              " (3964, 6027),\n",
              " (3964, 6501),\n",
              " (5635, 7677),\n",
              " (5635, 3964),\n",
              " (5635, 5123),\n",
              " (5635, 9651),\n",
              " (5635, 6027),\n",
              " (5635, 6501),\n",
              " (5123, 7677),\n",
              " (5123, 3964),\n",
              " (5123, 5635),\n",
              " (5123, 9651),\n",
              " (5123, 6027),\n",
              " (5123, 6501),\n",
              " (9651, 7677),\n",
              " (9651, 3964),\n",
              " (9651, 5635),\n",
              " (9651, 5123),\n",
              " (9651, 6027),\n",
              " (9651, 6501),\n",
              " (6027, 7677),\n",
              " (6027, 3964),\n",
              " (6027, 5635),\n",
              " (6027, 5123),\n",
              " (6027, 9651),\n",
              " (6027, 6501),\n",
              " (6501, 7677),\n",
              " (6501, 3964),\n",
              " (6501, 5635),\n",
              " (6501, 5123),\n",
              " (6501, 9651),\n",
              " (6501, 6027)]"
            ]
          },
          "metadata": {
            "tags": []
          },
          "execution_count": 34
        }
      ]
    },
    {
      "cell_type": "markdown",
      "metadata": {
        "id": "Mf-5Hq3Wvngq",
        "colab_type": "text"
      },
      "source": [
        "# FIN DEL EJERCICIO"
      ]
    },
    {
      "cell_type": "code",
      "metadata": {
        "id": "Iou0LjvquHp-",
        "colab_type": "code",
        "colab": {}
      },
      "source": [
        ""
      ],
      "execution_count": null,
      "outputs": []
    }
  ]
}
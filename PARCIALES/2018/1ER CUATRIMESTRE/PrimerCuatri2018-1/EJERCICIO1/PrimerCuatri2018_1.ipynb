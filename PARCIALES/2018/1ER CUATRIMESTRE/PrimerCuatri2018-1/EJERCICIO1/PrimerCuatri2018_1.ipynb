{
  "nbformat": 4,
  "nbformat_minor": 0,
  "metadata": {
    "colab": {
      "name": "PrimerCuatri2018-1.ipynb",
      "provenance": [],
      "collapsed_sections": []
    },
    "kernelspec": {
      "name": "python3",
      "display_name": "Python 3"
    }
  },
  "cells": [
    {
      "cell_type": "code",
      "metadata": {
        "id": "vMyEe5FPslWv",
        "colab_type": "code",
        "colab": {
          "base_uri": "https://localhost:8080/",
          "height": 884
        },
        "outputId": "e389f33a-8366-4aba-e1ab-4de6329bc3af"
      },
      "source": [
        "!pip install pyspark\n",
        "!pip install -U -q PyDrive\n",
        "!apt install openjdk-8-jdk-headless -qq\n",
        "import os\n",
        "os.environ[\"JAVA_HOME\"] = \"/usr/lib/jvm/java-8-openjdk-amd64\""
      ],
      "execution_count": 1,
      "outputs": [
        {
          "output_type": "stream",
          "text": [
            "Collecting pyspark\n",
            "\u001b[?25l  Downloading https://files.pythonhosted.org/packages/8e/b0/bf9020b56492281b9c9d8aae8f44ff51e1bc91b3ef5a884385cb4e389a40/pyspark-3.0.0.tar.gz (204.7MB)\n",
            "\u001b[K     |████████████████████████████████| 204.7MB 64kB/s \n",
            "\u001b[?25hCollecting py4j==0.10.9\n",
            "\u001b[?25l  Downloading https://files.pythonhosted.org/packages/9e/b6/6a4fb90cd235dc8e265a6a2067f2a2c99f0d91787f06aca4bcf7c23f3f80/py4j-0.10.9-py2.py3-none-any.whl (198kB)\n",
            "\u001b[K     |████████████████████████████████| 204kB 43.5MB/s \n",
            "\u001b[?25hBuilding wheels for collected packages: pyspark\n",
            "  Building wheel for pyspark (setup.py) ... \u001b[?25l\u001b[?25hdone\n",
            "  Created wheel for pyspark: filename=pyspark-3.0.0-py2.py3-none-any.whl size=205044182 sha256=4ba8933e491f05ed5cd720e3e21361f11e09ac0306a0f4cf16a25135b4395da3\n",
            "  Stored in directory: /root/.cache/pip/wheels/57/27/4d/ddacf7143f8d5b76c45c61ee2e43d9f8492fc5a8e78ebd7d37\n",
            "Successfully built pyspark\n",
            "Installing collected packages: py4j, pyspark\n",
            "Successfully installed py4j-0.10.9 pyspark-3.0.0\n",
            "The following package was automatically installed and is no longer required:\n",
            "  libnvidia-common-440\n",
            "Use 'apt autoremove' to remove it.\n",
            "The following additional packages will be installed:\n",
            "  openjdk-8-jre-headless\n",
            "Suggested packages:\n",
            "  openjdk-8-demo openjdk-8-source libnss-mdns fonts-dejavu-extra\n",
            "  fonts-ipafont-gothic fonts-ipafont-mincho fonts-wqy-microhei\n",
            "  fonts-wqy-zenhei fonts-indic\n",
            "The following NEW packages will be installed:\n",
            "  openjdk-8-jdk-headless openjdk-8-jre-headless\n",
            "0 upgraded, 2 newly installed, 0 to remove and 43 not upgraded.\n",
            "Need to get 35.8 MB of archives.\n",
            "After this operation, 140 MB of additional disk space will be used.\n",
            "Selecting previously unselected package openjdk-8-jre-headless:amd64.\n",
            "(Reading database ... 144328 files and directories currently installed.)\n",
            "Preparing to unpack .../openjdk-8-jre-headless_8u252-b09-1~18.04_amd64.deb ...\n",
            "Unpacking openjdk-8-jre-headless:amd64 (8u252-b09-1~18.04) ...\n",
            "Selecting previously unselected package openjdk-8-jdk-headless:amd64.\n",
            "Preparing to unpack .../openjdk-8-jdk-headless_8u252-b09-1~18.04_amd64.deb ...\n",
            "Unpacking openjdk-8-jdk-headless:amd64 (8u252-b09-1~18.04) ...\n",
            "Setting up openjdk-8-jre-headless:amd64 (8u252-b09-1~18.04) ...\n",
            "update-alternatives: using /usr/lib/jvm/java-8-openjdk-amd64/jre/bin/orbd to provide /usr/bin/orbd (orbd) in auto mode\n",
            "update-alternatives: using /usr/lib/jvm/java-8-openjdk-amd64/jre/bin/servertool to provide /usr/bin/servertool (servertool) in auto mode\n",
            "update-alternatives: using /usr/lib/jvm/java-8-openjdk-amd64/jre/bin/tnameserv to provide /usr/bin/tnameserv (tnameserv) in auto mode\n",
            "Setting up openjdk-8-jdk-headless:amd64 (8u252-b09-1~18.04) ...\n",
            "update-alternatives: using /usr/lib/jvm/java-8-openjdk-amd64/bin/idlj to provide /usr/bin/idlj (idlj) in auto mode\n",
            "update-alternatives: using /usr/lib/jvm/java-8-openjdk-amd64/bin/wsimport to provide /usr/bin/wsimport (wsimport) in auto mode\n",
            "update-alternatives: using /usr/lib/jvm/java-8-openjdk-amd64/bin/jsadebugd to provide /usr/bin/jsadebugd (jsadebugd) in auto mode\n",
            "update-alternatives: using /usr/lib/jvm/java-8-openjdk-amd64/bin/native2ascii to provide /usr/bin/native2ascii (native2ascii) in auto mode\n",
            "update-alternatives: using /usr/lib/jvm/java-8-openjdk-amd64/bin/javah to provide /usr/bin/javah (javah) in auto mode\n",
            "update-alternatives: using /usr/lib/jvm/java-8-openjdk-amd64/bin/clhsdb to provide /usr/bin/clhsdb (clhsdb) in auto mode\n",
            "update-alternatives: using /usr/lib/jvm/java-8-openjdk-amd64/bin/extcheck to provide /usr/bin/extcheck (extcheck) in auto mode\n",
            "update-alternatives: using /usr/lib/jvm/java-8-openjdk-amd64/bin/hsdb to provide /usr/bin/hsdb (hsdb) in auto mode\n",
            "update-alternatives: using /usr/lib/jvm/java-8-openjdk-amd64/bin/schemagen to provide /usr/bin/schemagen (schemagen) in auto mode\n",
            "update-alternatives: using /usr/lib/jvm/java-8-openjdk-amd64/bin/xjc to provide /usr/bin/xjc (xjc) in auto mode\n",
            "update-alternatives: using /usr/lib/jvm/java-8-openjdk-amd64/bin/jhat to provide /usr/bin/jhat (jhat) in auto mode\n",
            "update-alternatives: using /usr/lib/jvm/java-8-openjdk-amd64/bin/wsgen to provide /usr/bin/wsgen (wsgen) in auto mode\n"
          ],
          "name": "stdout"
        }
      ]
    },
    {
      "cell_type": "code",
      "metadata": {
        "id": "mTuLwKUZsnkx",
        "colab_type": "code",
        "colab": {}
      },
      "source": [
        "from pydrive.auth import GoogleAuth\n",
        "from pydrive.drive import GoogleDrive\n",
        "from google.colab import auth\n",
        "from oauth2client.client import GoogleCredentials\n",
        "from pyspark.sql import *\n",
        "from pyspark.sql.functions import *\n",
        "from pyspark import SparkContext\n",
        "from pyspark.sql import SQLContext\n",
        "import pandas as pd"
      ],
      "execution_count": 2,
      "outputs": []
    },
    {
      "cell_type": "code",
      "metadata": {
        "id": "lsmh0c2Cs4_4",
        "colab_type": "code",
        "colab": {}
      },
      "source": [
        "# create the Spark Session\n",
        "spark = SparkSession.builder.getOrCreate()\n",
        "\n",
        "# create the Spark Context\n",
        "sc = spark.sparkContext"
      ],
      "execution_count": 3,
      "outputs": []
    },
    {
      "cell_type": "markdown",
      "metadata": {
        "id": "bwuN4fO3tCVj",
        "colab_type": "text"
      },
      "source": [
        "# Organización de Datos 75.06. Primer Cuatrimestre de 2018. Examen parcial, primera oportunidad\n",
        "## 1)  Nintendo of America (EEUU) tiene información de ventas de videojuegos físicas mensuales totalizadas en EEUU las cuales se realizan en cadenas de tiendas de videojuegos en el siguiente RDD: (id_videojuego, id_tienda, mes, anio, total_ventas_mensuales).  \n",
        "## Por otro lado tenemos un RDD con información de las tiendas y de su ubicación (id_tienda, direccion, latitud, longitud, codigo_postal, estado). \n",
        " \n",
        " \n",
        "## Con esta información escribir un programa en pySpark para obtener la tienda que realizó menor cantidad de ventas en el estado de “Georgia” en todo el año 2019.   (***) (15 pts) "
      ]
    },
    {
      "cell_type": "code",
      "metadata": {
        "id": "VXOTHlJ3s9D6",
        "colab_type": "code",
        "colab": {}
      },
      "source": [
        "tiendas = [(100,'7085 Prairie Drive 231',491,371,'georgia'),\n",
        "(103,'Dawsonville GA 30534 179',471,345,'arkansas'),\n",
        "(103,'8433 Pheasant Street 260',216,386,'florida'),\n",
        "(103,'Mason OH 45040 332',238,789,'georgia'),\n",
        "(104,'9 Ridgewood Rd 179',303,483,'nevada'),\n",
        "(105,'Saratoga Springs NY 12866 160',134,377,'new york'),\n",
        "(106,'490 Canal St 451',443,283,'massachussets'),\n",
        "(107,'Stone Mountain GA 30083 406',299,779,'arkansas'),\n",
        "(108, '913 Elizabeth St 254',434,797,'georgia'),\n",
        "(111,'Manassas VA 20109 372',338,698,'georgia'),\n",
        "(112,'24 Logan Dr 390',160,519,'arkansas'),\n",
        "(113,'Pawtucket RI 02860 222',329,478,'georgia'),\n",
        "(114,'593 Cypress R 165',170,417,'florida'),\n",
        "(114,'Fairborn OH 45324 182',351,703,'massachussets'),\n",
        "(115,'2 Spring Street 112',325,790,'georgia'),\n",
        "(116,'Portland ME 04103 105',305,321,'georgia'),\n",
        "(117,'307 Trenton Road 257',138,635,'georgia'),\n",
        "(119,'Shelton CT 06484 337',306,338,'georgia'),\n",
        "(120,'9670 South Oakwood Drive 198',343,465,'massachussets')]\n",
        "\n",
        "ventas = [(32690,115,8,2019,967),\n",
        "(31638,106,3,2018,485),\n",
        "(10280,104,2,2018,780),\n",
        "(35355,108,10,2018,939),\n",
        "(22623,112,3,2019,696),\n",
        "(12383,103,3,2019,912),\n",
        "(7922,105,8,2019,248),\n",
        "(35819,117,4,2018,502),\n",
        "(36189,116,8,2018,915),\n",
        "(35859,119,4,2018,524),\n",
        "(26952,116,2,2019,161),\n",
        "(29231,120,7,2019,703),\n",
        "(46451,107,8,2019,926),\n",
        "(17093,111,12,2018,992),\n",
        "(21571,104,8,2018,485),\n",
        "(12514,103,3,2019,347),\n",
        "(22284,113,7,2019,801),\n",
        "(23759,100,10,2019,415),\n",
        "(8553,106,4,2019,611),\n",
        "(2603,100,7,2018,213),\n",
        "(11037,103,10,2019,103),\n",
        "(14086,114,5,2019,253),\n",
        "(27595,108,12,2019,747),\n",
        "(46181,113,9,2018,223),\n",
        "(4312,103,6,2018,805),\n",
        "(29959,114,7,2018,101),\n",
        "(7648,112,1,2019,160),\n",
        "(2714,119,3,2019,301),\n",
        "(44643,120,2,2019,871),\n",
        "(30926,114,1,2019,488)]"
      ],
      "execution_count": 21,
      "outputs": []
    },
    {
      "cell_type": "code",
      "metadata": {
        "id": "n-j5fXs4zxdX",
        "colab_type": "code",
        "colab": {}
      },
      "source": [
        "ventasRDD = sc.parallelize(ventas)\n",
        "tiendasRDD = sc.parallelize(tiendas)"
      ],
      "execution_count": 22,
      "outputs": []
    },
    {
      "cell_type": "code",
      "metadata": {
        "id": "5tUCQPPfznYl",
        "colab_type": "code",
        "colab": {
          "base_uri": "https://localhost:8080/",
          "height": 527
        },
        "outputId": "b6a94267-888f-4214-973c-dd1019a9dbe5"
      },
      "source": [
        "ventasRDD.collect()"
      ],
      "execution_count": 23,
      "outputs": [
        {
          "output_type": "execute_result",
          "data": {
            "text/plain": [
              "[(32690, 115, 8, 2019, 967),\n",
              " (31638, 106, 3, 2018, 485),\n",
              " (10280, 104, 2, 2018, 780),\n",
              " (35355, 108, 10, 2018, 939),\n",
              " (22623, 112, 3, 2019, 696),\n",
              " (12383, 103, 3, 2019, 912),\n",
              " (7922, 105, 8, 2019, 248),\n",
              " (35819, 117, 4, 2018, 502),\n",
              " (36189, 116, 8, 2018, 915),\n",
              " (35859, 119, 4, 2018, 524),\n",
              " (26952, 116, 2, 2019, 161),\n",
              " (29231, 120, 7, 2019, 703),\n",
              " (46451, 107, 8, 2019, 926),\n",
              " (17093, 111, 12, 2018, 992),\n",
              " (21571, 104, 8, 2018, 485),\n",
              " (12514, 103, 3, 2019, 347),\n",
              " (22284, 113, 7, 2019, 801),\n",
              " (23759, 100, 10, 2019, 415),\n",
              " (8553, 106, 4, 2019, 611),\n",
              " (2603, 100, 7, 2018, 213),\n",
              " (11037, 103, 10, 2019, 103),\n",
              " (14086, 114, 5, 2019, 253),\n",
              " (27595, 108, 12, 2019, 747),\n",
              " (46181, 113, 9, 2018, 223),\n",
              " (4312, 103, 6, 2018, 805),\n",
              " (29959, 114, 7, 2018, 101),\n",
              " (7648, 112, 1, 2019, 160),\n",
              " (2714, 119, 3, 2019, 301),\n",
              " (44643, 120, 2, 2019, 871),\n",
              " (30926, 114, 1, 2019, 488)]"
            ]
          },
          "metadata": {
            "tags": []
          },
          "execution_count": 23
        }
      ]
    },
    {
      "cell_type": "code",
      "metadata": {
        "id": "0tTmYKLEz5un",
        "colab_type": "code",
        "colab": {
          "base_uri": "https://localhost:8080/",
          "height": 340
        },
        "outputId": "a48d88c0-a1c1-4217-f118-1456e18a8472"
      },
      "source": [
        "tiendasRDD.collect()"
      ],
      "execution_count": 24,
      "outputs": [
        {
          "output_type": "execute_result",
          "data": {
            "text/plain": [
              "[(100, '7085 Prairie Drive 231', 491, 371, 'georgia'),\n",
              " (103, 'Dawsonville GA 30534 179', 471, 345, 'arkansas'),\n",
              " (103, '8433 Pheasant Street 260', 216, 386, 'florida'),\n",
              " (103, 'Mason OH 45040 332', 238, 789, 'georgia'),\n",
              " (104, '9 Ridgewood Rd 179', 303, 483, 'nevada'),\n",
              " (105, 'Saratoga Springs NY 12866 160', 134, 377, 'new york'),\n",
              " (106, '490 Canal St 451', 443, 283, 'massachussets'),\n",
              " (107, 'Stone Mountain GA 30083 406', 299, 779, 'arkansas'),\n",
              " (108, '913 Elizabeth St 254', 434, 797, 'georgia'),\n",
              " (111, 'Manassas VA 20109 372', 338, 698, 'georgia'),\n",
              " (112, '24 Logan Dr 390', 160, 519, 'arkansas'),\n",
              " (113, 'Pawtucket RI 02860 222', 329, 478, 'georgia'),\n",
              " (114, '593 Cypress R 165', 170, 417, 'florida'),\n",
              " (114, 'Fairborn OH 45324 182', 351, 703, 'massachussets'),\n",
              " (115, '2 Spring Street 112', 325, 790, 'georgia'),\n",
              " (116, 'Portland ME 04103 105', 305, 321, 'georgia'),\n",
              " (117, '307 Trenton Road 257', 138, 635, 'georgia'),\n",
              " (119, 'Shelton CT 06484 337', 306, 338, 'georgia'),\n",
              " (120, '9670 South Oakwood Drive 198', 343, 465, 'massachussets')]"
            ]
          },
          "metadata": {
            "tags": []
          },
          "execution_count": 24
        }
      ]
    },
    {
      "cell_type": "code",
      "metadata": {
        "id": "gXmDTK7bz7tj",
        "colab_type": "code",
        "colab": {
          "base_uri": "https://localhost:8080/",
          "height": 170
        },
        "outputId": "b172ab44-331d-48f8-aab0-55fe56f7f394"
      },
      "source": [
        "# Nos quedamos unicamente con las tiendas de georgia\n",
        "tiendas_georgia = (tiendasRDD.map(lambda x: (x[0],x[4]))).filter(lambda x: x[1]=='georgia')\n",
        "tiendas_georgia.collect()"
      ],
      "execution_count": 28,
      "outputs": [
        {
          "output_type": "execute_result",
          "data": {
            "text/plain": [
              "[(100, 'georgia'),\n",
              " (103, 'georgia'),\n",
              " (108, 'georgia'),\n",
              " (111, 'georgia'),\n",
              " (113, 'georgia'),\n",
              " (115, 'georgia'),\n",
              " (116, 'georgia'),\n",
              " (117, 'georgia'),\n",
              " (119, 'georgia')]"
            ]
          },
          "metadata": {
            "tags": []
          },
          "execution_count": 28
        }
      ]
    },
    {
      "cell_type": "code",
      "metadata": {
        "id": "WcaOhtdm0t8K",
        "colab_type": "code",
        "colab": {
          "base_uri": "https://localhost:8080/",
          "height": 238
        },
        "outputId": "76c07995-88b7-4471-cccc-f31e12ae0bf8"
      },
      "source": [
        "# Nos quedamos unicamente con las ventas del anio 2019\n",
        "ventasRDD_short = (ventasRDD.filter(lambda x: x[3]==2019 )).map(lambda x: (x[1],x[4])).reduceByKey(lambda x,y: x+y)\n",
        "ventasRDD_short.collect()"
      ],
      "execution_count": 40,
      "outputs": [
        {
          "output_type": "execute_result",
          "data": {
            "text/plain": [
              "[(112, 856),\n",
              " (116, 161),\n",
              " (120, 1574),\n",
              " (100, 415),\n",
              " (106, 611),\n",
              " (114, 741),\n",
              " (108, 747),\n",
              " (115, 967),\n",
              " (103, 1362),\n",
              " (105, 248),\n",
              " (107, 926),\n",
              " (113, 801),\n",
              " (119, 301)]"
            ]
          },
          "metadata": {
            "tags": []
          },
          "execution_count": 40
        }
      ]
    },
    {
      "cell_type": "code",
      "metadata": {
        "id": "lGavHpsa2UWf",
        "colab_type": "code",
        "colab": {
          "base_uri": "https://localhost:8080/",
          "height": 136
        },
        "outputId": "036c9d95-aa54-4fea-b7ae-77f56533a987"
      },
      "source": [
        "# unifamos los RDDs y ordenamos de menor a mayor por cantidad de ventas\n",
        "ventas_georgia_por_tienda = (tiendas_georgia.join(ventasRDD_short)).map(lambda x: (x[0],x[1][1])).sortBy(lambda x: x[1])\n",
        "ventas_georgia_por_tienda.collect()"
      ],
      "execution_count": 41,
      "outputs": [
        {
          "output_type": "execute_result",
          "data": {
            "text/plain": [
              "[(116, 161),\n",
              " (119, 301),\n",
              " (100, 415),\n",
              " (108, 747),\n",
              " (113, 801),\n",
              " (115, 967),\n",
              " (103, 1362)]"
            ]
          },
          "metadata": {
            "tags": []
          },
          "execution_count": 41
        }
      ]
    },
    {
      "cell_type": "code",
      "metadata": {
        "id": "868yvFBw24Kz",
        "colab_type": "code",
        "colab": {
          "base_uri": "https://localhost:8080/",
          "height": 34
        },
        "outputId": "333aa9c6-8afa-4ff0-ae3b-6158e40c45bd"
      },
      "source": [
        "print('La tienda en Georgia que vendio menos videojuegos fisicos es la tienda', ventas_georgia_por_tienda.take(1))"
      ],
      "execution_count": 42,
      "outputs": [
        {
          "output_type": "stream",
          "text": [
            "La tienda en Georgia que vendio menos videojuegos fisicos es la tienda [(116, 161)]\n"
          ],
          "name": "stdout"
        }
      ]
    },
    {
      "cell_type": "markdown",
      "metadata": {
        "id": "KxML56PS5v1k",
        "colab_type": "text"
      },
      "source": [
        "# FIN DEL EJERCICIO"
      ]
    },
    {
      "cell_type": "code",
      "metadata": {
        "id": "Fj3zkfHc5n0y",
        "colab_type": "code",
        "colab": {}
      },
      "source": [
        ""
      ],
      "execution_count": null,
      "outputs": []
    }
  ]
}
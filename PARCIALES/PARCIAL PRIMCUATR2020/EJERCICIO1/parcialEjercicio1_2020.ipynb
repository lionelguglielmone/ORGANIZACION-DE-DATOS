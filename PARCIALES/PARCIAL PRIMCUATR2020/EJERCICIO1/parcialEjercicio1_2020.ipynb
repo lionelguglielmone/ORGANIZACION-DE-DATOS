{
  "nbformat": 4,
  "nbformat_minor": 0,
  "metadata": {
    "colab": {
      "name": "parcialEjercicio1-2020.ipynb",
      "provenance": [],
      "collapsed_sections": []
    },
    "kernelspec": {
      "name": "python3",
      "display_name": "Python 3"
    }
  },
  "cells": [
    {
      "cell_type": "code",
      "metadata": {
        "id": "4bCeattBYu8r",
        "colab_type": "code",
        "colab": {
          "base_uri": "https://localhost:8080/",
          "height": 884
        },
        "outputId": "7d67388c-a1cb-4136-af95-7f6c9ab29f7d"
      },
      "source": [
        "!pip install pyspark\n",
        "!pip install -U -q PyDrive\n",
        "!apt install openjdk-8-jdk-headless -qq\n",
        "import os\n",
        "os.environ[\"JAVA_HOME\"] = \"/usr/lib/jvm/java-8-openjdk-amd64\""
      ],
      "execution_count": 2,
      "outputs": [
        {
          "output_type": "stream",
          "text": [
            "Collecting pyspark\n",
            "\u001b[?25l  Downloading https://files.pythonhosted.org/packages/8e/b0/bf9020b56492281b9c9d8aae8f44ff51e1bc91b3ef5a884385cb4e389a40/pyspark-3.0.0.tar.gz (204.7MB)\n",
            "\u001b[K     |████████████████████████████████| 204.7MB 65kB/s \n",
            "\u001b[?25hCollecting py4j==0.10.9\n",
            "\u001b[?25l  Downloading https://files.pythonhosted.org/packages/9e/b6/6a4fb90cd235dc8e265a6a2067f2a2c99f0d91787f06aca4bcf7c23f3f80/py4j-0.10.9-py2.py3-none-any.whl (198kB)\n",
            "\u001b[K     |████████████████████████████████| 204kB 34.5MB/s \n",
            "\u001b[?25hBuilding wheels for collected packages: pyspark\n",
            "  Building wheel for pyspark (setup.py) ... \u001b[?25l\u001b[?25hdone\n",
            "  Created wheel for pyspark: filename=pyspark-3.0.0-py2.py3-none-any.whl size=205044182 sha256=eb79182cf8bb9e6e59c20a5d66861332c198b21f3ddd2aa5d43b325d8ba088ef\n",
            "  Stored in directory: /root/.cache/pip/wheels/57/27/4d/ddacf7143f8d5b76c45c61ee2e43d9f8492fc5a8e78ebd7d37\n",
            "Successfully built pyspark\n",
            "Installing collected packages: py4j, pyspark\n",
            "Successfully installed py4j-0.10.9 pyspark-3.0.0\n",
            "The following package was automatically installed and is no longer required:\n",
            "  libnvidia-common-440\n",
            "Use 'apt autoremove' to remove it.\n",
            "The following additional packages will be installed:\n",
            "  openjdk-8-jre-headless\n",
            "Suggested packages:\n",
            "  openjdk-8-demo openjdk-8-source libnss-mdns fonts-dejavu-extra\n",
            "  fonts-ipafont-gothic fonts-ipafont-mincho fonts-wqy-microhei\n",
            "  fonts-wqy-zenhei fonts-indic\n",
            "The following NEW packages will be installed:\n",
            "  openjdk-8-jdk-headless openjdk-8-jre-headless\n",
            "0 upgraded, 2 newly installed, 0 to remove and 59 not upgraded.\n",
            "Need to get 35.8 MB of archives.\n",
            "After this operation, 140 MB of additional disk space will be used.\n",
            "Selecting previously unselected package openjdk-8-jre-headless:amd64.\n",
            "(Reading database ... 144328 files and directories currently installed.)\n",
            "Preparing to unpack .../openjdk-8-jre-headless_8u252-b09-1~18.04_amd64.deb ...\n",
            "Unpacking openjdk-8-jre-headless:amd64 (8u252-b09-1~18.04) ...\n",
            "Selecting previously unselected package openjdk-8-jdk-headless:amd64.\n",
            "Preparing to unpack .../openjdk-8-jdk-headless_8u252-b09-1~18.04_amd64.deb ...\n",
            "Unpacking openjdk-8-jdk-headless:amd64 (8u252-b09-1~18.04) ...\n",
            "Setting up openjdk-8-jre-headless:amd64 (8u252-b09-1~18.04) ...\n",
            "update-alternatives: using /usr/lib/jvm/java-8-openjdk-amd64/jre/bin/orbd to provide /usr/bin/orbd (orbd) in auto mode\n",
            "update-alternatives: using /usr/lib/jvm/java-8-openjdk-amd64/jre/bin/servertool to provide /usr/bin/servertool (servertool) in auto mode\n",
            "update-alternatives: using /usr/lib/jvm/java-8-openjdk-amd64/jre/bin/tnameserv to provide /usr/bin/tnameserv (tnameserv) in auto mode\n",
            "Setting up openjdk-8-jdk-headless:amd64 (8u252-b09-1~18.04) ...\n",
            "update-alternatives: using /usr/lib/jvm/java-8-openjdk-amd64/bin/idlj to provide /usr/bin/idlj (idlj) in auto mode\n",
            "update-alternatives: using /usr/lib/jvm/java-8-openjdk-amd64/bin/wsimport to provide /usr/bin/wsimport (wsimport) in auto mode\n",
            "update-alternatives: using /usr/lib/jvm/java-8-openjdk-amd64/bin/jsadebugd to provide /usr/bin/jsadebugd (jsadebugd) in auto mode\n",
            "update-alternatives: using /usr/lib/jvm/java-8-openjdk-amd64/bin/native2ascii to provide /usr/bin/native2ascii (native2ascii) in auto mode\n",
            "update-alternatives: using /usr/lib/jvm/java-8-openjdk-amd64/bin/javah to provide /usr/bin/javah (javah) in auto mode\n",
            "update-alternatives: using /usr/lib/jvm/java-8-openjdk-amd64/bin/clhsdb to provide /usr/bin/clhsdb (clhsdb) in auto mode\n",
            "update-alternatives: using /usr/lib/jvm/java-8-openjdk-amd64/bin/extcheck to provide /usr/bin/extcheck (extcheck) in auto mode\n",
            "update-alternatives: using /usr/lib/jvm/java-8-openjdk-amd64/bin/hsdb to provide /usr/bin/hsdb (hsdb) in auto mode\n",
            "update-alternatives: using /usr/lib/jvm/java-8-openjdk-amd64/bin/schemagen to provide /usr/bin/schemagen (schemagen) in auto mode\n",
            "update-alternatives: using /usr/lib/jvm/java-8-openjdk-amd64/bin/xjc to provide /usr/bin/xjc (xjc) in auto mode\n",
            "update-alternatives: using /usr/lib/jvm/java-8-openjdk-amd64/bin/jhat to provide /usr/bin/jhat (jhat) in auto mode\n",
            "update-alternatives: using /usr/lib/jvm/java-8-openjdk-amd64/bin/wsgen to provide /usr/bin/wsgen (wsgen) in auto mode\n"
          ],
          "name": "stdout"
        }
      ]
    },
    {
      "cell_type": "code",
      "metadata": {
        "id": "nK7XdaaXYxrB",
        "colab_type": "code",
        "colab": {}
      },
      "source": [
        "from pydrive.auth import GoogleAuth\n",
        "from pydrive.drive import GoogleDrive\n",
        "from google.colab import auth\n",
        "from oauth2client.client import GoogleCredentials\n",
        "from pyspark.sql import *\n",
        "from pyspark.sql.functions import *\n",
        "from pyspark import SparkContext\n",
        "from pyspark.sql import SQLContext\n",
        "import pandas as pd"
      ],
      "execution_count": 3,
      "outputs": []
    },
    {
      "cell_type": "code",
      "metadata": {
        "id": "VVGwI9nAeFm5",
        "colab_type": "code",
        "colab": {}
      },
      "source": [
        "# create the Spark Session\n",
        "spark = SparkSession.builder.getOrCreate()\n",
        "\n",
        "# create the Spark Context\n",
        "sc = spark.sparkContext"
      ],
      "execution_count": 4,
      "outputs": []
    },
    {
      "cell_type": "markdown",
      "metadata": {
        "id": "ZzzlUoC-eTmN",
        "colab_type": "text"
      },
      "source": [
        "#Organización de Datos 75.06​. Primer Cuatrimestre de 2020. Examen parcial, primera oportunidad:"
      ]
    },
    {
      "cell_type": "markdown",
      "metadata": {
        "id": "lBndp3pDeMnk",
        "colab_type": "text"
      },
      "source": [
        "### 1) Dado los acontecimientos en USA, deseamos obtener datos que          nos den mayor información sobre las muertes de personas de raza           negra por parte de oficiales de policía. Para ello, tenemos un csv con información sobre las muertes por           parte de oficiales de policía en USA desde 2015 hasta 2017:  (name, date, race, city, state) Y otro csv con información sobre el porcentaje de cada raza en las             ciudades de USA:  (state, city, share_white, share_black,    share_native_american, share_asian,  share_hispanic) Se pide: a) Obtener el estado con mayor porcentaje de muertes de personas           de raza negra teniendo en cuenta la cantidad total de muertes por            parte de oficiales en ese estado. (10 pts) b) Obtener los 10 estados con mayor diferencia entre el porcentaje de            muertes y el porcentaje de gente de raza negra en ese estado. Para             ello, considerar el porcentaje de raza de un estado como el promedio            de los valores de sus ciudades. Por ejemplo si en Texas el porcentaje             de muertes de personas de raza negra por parte de la policía es del              36% y el promedio de share_black para Texas es 24% la diferencia es             0.12. (15 pts) Resolver ambos puntos usando la API de RDDs de PySpark"
      ]
    },
    {
      "cell_type": "code",
      "metadata": {
        "id": "5kql80FweIWx",
        "colab_type": "code",
        "colab": {}
      },
      "source": [
        "# (name, date, race, city, state)\n",
        "muertes = [('john wendall','2015/01/01','black','reno','nevada'),\n",
        "           ('bruce wayne','2015/02/01','asian','henderson','nevada'),\n",
        "           ('john connor','2015/02/01','black','reno','nevada'),\n",
        "           ('steve martin','201/01/01','latin','spark','nevada'),\n",
        "           ('vane forest','2017/01/01','latin','birmingham','alabama'),\n",
        "           ('cindy mcLloyd','2015/01/01','black','montgomery','alabama'),\n",
        "           ('greece buckton','2015/01/01','latin','birmingham','alabama'),\n",
        "           ('steve parker','2016/01/01','black','montgomery','alabama'),\n",
        "           ('juan salerno','2015/01/01','latin','birmingham','alabama'),\n",
        "           ('frank castle','2016/01/01','black','atlanta','georgia'),\n",
        "           ('harry osborn','2017/01/01','black','atlanta','georgia'),\n",
        "           ('ned leds','2017/01/01','black','macon','georgia'),\n",
        "           ('betty brant','2017/01/01','black','atlanta','georgia'),\n",
        "           ('john jameson','2016/01/01','asian','stone mountain','georgia')\n",
        "           ]\n",
        "\n",
        "# (state, city, share_white, share_black, share_native_american, share_asian, share_hispanic) \n",
        "\n",
        "densidad = [('reno','nevada',40,40,10,2,8),\n",
        "            ('henderson','nevada',38,42,12,2,6),\n",
        "            ('spark','nevada',50,40,5,2,3),\n",
        "            ('birmingham','alabama',40,30,5,5,20),\n",
        "            ('montgomery','alabama',35,35,5,5,20),\n",
        "            ('macon','georgia',70,25,1,2,2),\n",
        "            ('stone mountain','georgia',50,40,1,2,7),\n",
        "            ('atlanta','georgia',60,30,1,2,7),\n",
        "            ('pittsburgh','pennsylvania',35,35,7,13,10),\n",
        "            ('bakersfield','california',50,30,2,3,15)]"
      ],
      "execution_count": 5,
      "outputs": []
    },
    {
      "cell_type": "code",
      "metadata": {
        "id": "VCR6FXMsgWyC",
        "colab_type": "code",
        "colab": {}
      },
      "source": [
        "muertesRDD = sc.parallelize(muertes)\n",
        "densidadRDD = sc.parallelize(densidad)"
      ],
      "execution_count": 6,
      "outputs": []
    },
    {
      "cell_type": "code",
      "metadata": {
        "id": "LwIyYu-qhwCQ",
        "colab_type": "code",
        "colab": {}
      },
      "source": [
        ""
      ],
      "execution_count": 6,
      "outputs": []
    },
    {
      "cell_type": "code",
      "metadata": {
        "id": "vxp4k65phzpY",
        "colab_type": "code",
        "colab": {}
      },
      "source": [
        ""
      ],
      "execution_count": 6,
      "outputs": []
    },
    {
      "cell_type": "markdown",
      "metadata": {
        "id": "FRQHpuFkiOWj",
        "colab_type": "text"
      },
      "source": [
        "a) Obtener el estado con mayor porcentaje de muertes de personas de raza negra teniendo en cuenta la cantidad total de muertes por parte de oficiales en ese estado. (10 pts) "
      ]
    },
    {
      "cell_type": "code",
      "metadata": {
        "id": "2rH-BmfvizUu",
        "colab_type": "code",
        "colab": {}
      },
      "source": [
        "# primero, generamos un RDD con los datos de personas de raza negra por estado\n",
        "black_death = ((muertesRDD.filter(lambda x: x[2]=='black')).map(lambda x: (x[4],1))).reduceByKey(lambda x,y: x+y)\n"
      ],
      "execution_count": 7,
      "outputs": []
    },
    {
      "cell_type": "code",
      "metadata": {
        "id": "DEhZnGYXjuNi",
        "colab_type": "code",
        "colab": {}
      },
      "source": [
        "# # luego, generamos un RDD con los datos de personas de raza que no sea negra por estado\n",
        "non_black_death = ((muertesRDD.filter(lambda x: x[2]!='black')).map(lambda x: (x[4],1))).reduceByKey(lambda x,y: x+y)\n"
      ],
      "execution_count": 8,
      "outputs": []
    },
    {
      "cell_type": "code",
      "metadata": {
        "id": "CQuG5mMriIFX",
        "colab_type": "code",
        "colab": {}
      },
      "source": [
        "# obtenemos un RDD con los valores de muertes por raza negra y otra raza que no es la negra\n",
        "muertes_negro_vs_otro = black_death.leftOuterJoin(non_black_death)\n"
      ],
      "execution_count": 9,
      "outputs": []
    },
    {
      "cell_type": "code",
      "metadata": {
        "id": "hIRiO0FNidwi",
        "colab_type": "code",
        "colab": {}
      },
      "source": [
        "#finalmente, nos quedamos con los porcentajes de muertes de gente de raza negra comparada con otras razas\n",
        "muertes_negro_vs_otro_porcentaje_por_estado = muertes_negro_vs_otro.map(lambda x: (x[0],((x[1][0])/(x[1][0]+x[1][1]))*100  ))\n"
      ],
      "execution_count": 10,
      "outputs": []
    },
    {
      "cell_type": "markdown",
      "metadata": {
        "id": "XHNg9Hjqm-Au",
        "colab_type": "text"
      },
      "source": [
        "b) Obtener los 10 estados con mayor diferencia entre el porcentaje de muertes y el porcentaje de gente de raza negra en ese estado. Para ello, considerar el porcentaje de raza de un estado como el promedio de los valores de sus ciudades. Por ejemplo si en Texas el porcentaje de muertes de personas de raza negra por parte de la policía es del 36% y el promedio de share_black para Texas es 24% la diferencia es 0.12. (15 pts)"
      ]
    },
    {
      "cell_type": "code",
      "metadata": {
        "id": "x-fqCCVocJ0O",
        "colab_type": "code",
        "colab": {
          "base_uri": "https://localhost:8080/",
          "height": 187
        },
        "outputId": "18b3fa46-aee5-42c7-f2e3-a22da6f557c3"
      },
      "source": [
        "densidad_short = densidadRDD.map(lambda x: (x[1],(x[3],1)))\n",
        "densidad_short.collect()"
      ],
      "execution_count": 24,
      "outputs": [
        {
          "output_type": "execute_result",
          "data": {
            "text/plain": [
              "[('nevada', (40, 1)),\n",
              " ('nevada', (42, 1)),\n",
              " ('nevada', (40, 1)),\n",
              " ('alabama', (30, 1)),\n",
              " ('alabama', (35, 1)),\n",
              " ('georgia', (25, 1)),\n",
              " ('georgia', (40, 1)),\n",
              " ('georgia', (30, 1)),\n",
              " ('pennsylvania', (35, 1)),\n",
              " ('california', (30, 1))]"
            ]
          },
          "metadata": {
            "tags": []
          },
          "execution_count": 24
        }
      ]
    },
    {
      "cell_type": "code",
      "metadata": {
        "id": "773WZK-limlN",
        "colab_type": "code",
        "colab": {
          "base_uri": "https://localhost:8080/",
          "height": 102
        },
        "outputId": "0292b0be-67b8-46e1-b259-3c8babd915a2"
      },
      "source": [
        "# generamos un RDD con los datos de share_black del RDD de densidad de poblacion por raza\n",
        " \n",
        "share_black = (densidad_short.reduceByKey(lambda x,y: (x[0]+y[0],x[1]+y[1]))).map(lambda x: (x[0],x[1][0]/x[1][1]))\n",
        "share_black.collect()\n"
      ],
      "execution_count": 27,
      "outputs": [
        {
          "output_type": "execute_result",
          "data": {
            "text/plain": [
              "[('nevada', 40.666666666666664),\n",
              " ('alabama', 32.5),\n",
              " ('georgia', 31.666666666666668),\n",
              " ('pennsylvania', 35.0),\n",
              " ('california', 30.0)]"
            ]
          },
          "metadata": {
            "tags": []
          },
          "execution_count": 27
        }
      ]
    },
    {
      "cell_type": "code",
      "metadata": {
        "id": "iomTgZykpxDf",
        "colab_type": "code",
        "colab": {
          "base_uri": "https://localhost:8080/",
          "height": 34
        },
        "outputId": "b784a5b5-ed9d-4890-b1c9-7a49a3281705"
      },
      "source": [
        "muertes_negro_vs_otro_porcentaje_por_estado.collect()"
      ],
      "execution_count": 28,
      "outputs": [
        {
          "output_type": "execute_result",
          "data": {
            "text/plain": [
              "[('nevada', 50.0), ('alabama', 40.0), ('georgia', 80.0)]"
            ]
          },
          "metadata": {
            "tags": []
          },
          "execution_count": 28
        }
      ]
    },
    {
      "cell_type": "code",
      "metadata": {
        "id": "yLP8awaTd4Fs",
        "colab_type": "code",
        "colab": {
          "base_uri": "https://localhost:8080/",
          "height": 68
        },
        "outputId": "12651a78-a6e2-4440-a2b6-405938956243"
      },
      "source": [
        "conjunta = (muertes_negro_vs_otro_porcentaje_por_estado.leftOuterJoin(share_black))#.map(lambda x: (x[0],((x[1][0] - x[1][1])*0.1)))\n",
        "conjunta.collect()"
      ],
      "execution_count": 31,
      "outputs": [
        {
          "output_type": "execute_result",
          "data": {
            "text/plain": [
              "[('nevada', (50.0, 40.666666666666664)),\n",
              " ('alabama', (40.0, 32.5)),\n",
              " ('georgia', (80.0, 31.666666666666668))]"
            ]
          },
          "metadata": {
            "tags": []
          },
          "execution_count": 31
        }
      ]
    },
    {
      "cell_type": "code",
      "metadata": {
        "id": "D9fDk1sOeGwV",
        "colab_type": "code",
        "colab": {
          "base_uri": "https://localhost:8080/",
          "height": 68
        },
        "outputId": "8da70b96-45e0-4106-b895-61ce219ba97d"
      },
      "source": [
        "jaja = conjunta.map(lambda x: (x[0],((x[1][0] - x[1][1])*0.1)))\n",
        "jaja.collect()"
      ],
      "execution_count": 34,
      "outputs": [
        {
          "output_type": "execute_result",
          "data": {
            "text/plain": [
              "[('nevada', 0.9333333333333336),\n",
              " ('alabama', 0.75),\n",
              " ('georgia', 4.833333333333333)]"
            ]
          },
          "metadata": {
            "tags": []
          },
          "execution_count": 34
        }
      ]
    },
    {
      "cell_type": "code",
      "metadata": {
        "id": "p8ptCR5qe5LC",
        "colab_type": "code",
        "colab": {}
      },
      "source": [
        ""
      ],
      "execution_count": null,
      "outputs": []
    }
  ]
}
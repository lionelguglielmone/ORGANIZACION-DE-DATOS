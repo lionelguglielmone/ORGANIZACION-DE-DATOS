{
  "nbformat": 4,
  "nbformat_minor": 0,
  "metadata": {
    "colab": {
      "name": "GuiaSpark-Ejercicio2.ipynb",
      "provenance": [],
      "collapsed_sections": []
    },
    "kernelspec": {
      "name": "python3",
      "display_name": "Python 3"
    }
  },
  "cells": [
    {
      "cell_type": "code",
      "metadata": {
        "id": "zlcNYlARfp1R",
        "colab_type": "code",
        "outputId": "22db02e7-f7d3-40e8-dcdc-4d29b26f6f75",
        "colab": {
          "base_uri": "https://localhost:8080/",
          "height": 884
        }
      },
      "source": [
        "!pip install pyspark\n",
        "!pip install -U -q PyDrive\n",
        "!apt install openjdk-8-jdk-headless -qq\n",
        "import os\n",
        "os.environ[\"JAVA_HOME\"] = \"/usr/lib/jvm/java-8-openjdk-amd64\""
      ],
      "execution_count": 1,
      "outputs": [
        {
          "output_type": "stream",
          "text": [
            "Collecting pyspark\n",
            "\u001b[?25l  Downloading https://files.pythonhosted.org/packages/e9/e4/5c15ab8d354c4e3528510821865e6748209a9b0ff6a1788f4cd36cc2a5dc/pyspark-2.4.6.tar.gz (218.4MB)\n",
            "\u001b[K     |████████████████████████████████| 218.4MB 62kB/s \n",
            "\u001b[?25hCollecting py4j==0.10.7\n",
            "\u001b[?25l  Downloading https://files.pythonhosted.org/packages/e3/53/c737818eb9a7dc32a7cd4f1396e787bd94200c3997c72c1dbe028587bd76/py4j-0.10.7-py2.py3-none-any.whl (197kB)\n",
            "\u001b[K     |████████████████████████████████| 204kB 45.6MB/s \n",
            "\u001b[?25hBuilding wheels for collected packages: pyspark\n",
            "  Building wheel for pyspark (setup.py) ... \u001b[?25l\u001b[?25hdone\n",
            "  Created wheel for pyspark: filename=pyspark-2.4.6-py2.py3-none-any.whl size=218814406 sha256=f0ac8e24e0938f833baa90c597f7fafaa14b9e90e34319b1086a8f1ea66fcd81\n",
            "  Stored in directory: /root/.cache/pip/wheels/1e/5e/6a/17e906c94ec7246f260330a66e44a06a0809033ba2738a74a8\n",
            "Successfully built pyspark\n",
            "Installing collected packages: py4j, pyspark\n",
            "Successfully installed py4j-0.10.7 pyspark-2.4.6\n",
            "The following package was automatically installed and is no longer required:\n",
            "  libnvidia-common-440\n",
            "Use 'apt autoremove' to remove it.\n",
            "The following additional packages will be installed:\n",
            "  openjdk-8-jre-headless\n",
            "Suggested packages:\n",
            "  openjdk-8-demo openjdk-8-source libnss-mdns fonts-dejavu-extra\n",
            "  fonts-ipafont-gothic fonts-ipafont-mincho fonts-wqy-microhei\n",
            "  fonts-wqy-zenhei fonts-indic\n",
            "The following NEW packages will be installed:\n",
            "  openjdk-8-jdk-headless openjdk-8-jre-headless\n",
            "0 upgraded, 2 newly installed, 0 to remove and 43 not upgraded.\n",
            "Need to get 35.8 MB of archives.\n",
            "After this operation, 140 MB of additional disk space will be used.\n",
            "Selecting previously unselected package openjdk-8-jre-headless:amd64.\n",
            "(Reading database ... 144328 files and directories currently installed.)\n",
            "Preparing to unpack .../openjdk-8-jre-headless_8u252-b09-1~18.04_amd64.deb ...\n",
            "Unpacking openjdk-8-jre-headless:amd64 (8u252-b09-1~18.04) ...\n",
            "Selecting previously unselected package openjdk-8-jdk-headless:amd64.\n",
            "Preparing to unpack .../openjdk-8-jdk-headless_8u252-b09-1~18.04_amd64.deb ...\n",
            "Unpacking openjdk-8-jdk-headless:amd64 (8u252-b09-1~18.04) ...\n",
            "Setting up openjdk-8-jre-headless:amd64 (8u252-b09-1~18.04) ...\n",
            "update-alternatives: using /usr/lib/jvm/java-8-openjdk-amd64/jre/bin/orbd to provide /usr/bin/orbd (orbd) in auto mode\n",
            "update-alternatives: using /usr/lib/jvm/java-8-openjdk-amd64/jre/bin/servertool to provide /usr/bin/servertool (servertool) in auto mode\n",
            "update-alternatives: using /usr/lib/jvm/java-8-openjdk-amd64/jre/bin/tnameserv to provide /usr/bin/tnameserv (tnameserv) in auto mode\n",
            "Setting up openjdk-8-jdk-headless:amd64 (8u252-b09-1~18.04) ...\n",
            "update-alternatives: using /usr/lib/jvm/java-8-openjdk-amd64/bin/idlj to provide /usr/bin/idlj (idlj) in auto mode\n",
            "update-alternatives: using /usr/lib/jvm/java-8-openjdk-amd64/bin/wsimport to provide /usr/bin/wsimport (wsimport) in auto mode\n",
            "update-alternatives: using /usr/lib/jvm/java-8-openjdk-amd64/bin/jsadebugd to provide /usr/bin/jsadebugd (jsadebugd) in auto mode\n",
            "update-alternatives: using /usr/lib/jvm/java-8-openjdk-amd64/bin/native2ascii to provide /usr/bin/native2ascii (native2ascii) in auto mode\n",
            "update-alternatives: using /usr/lib/jvm/java-8-openjdk-amd64/bin/javah to provide /usr/bin/javah (javah) in auto mode\n",
            "update-alternatives: using /usr/lib/jvm/java-8-openjdk-amd64/bin/clhsdb to provide /usr/bin/clhsdb (clhsdb) in auto mode\n",
            "update-alternatives: using /usr/lib/jvm/java-8-openjdk-amd64/bin/extcheck to provide /usr/bin/extcheck (extcheck) in auto mode\n",
            "update-alternatives: using /usr/lib/jvm/java-8-openjdk-amd64/bin/hsdb to provide /usr/bin/hsdb (hsdb) in auto mode\n",
            "update-alternatives: using /usr/lib/jvm/java-8-openjdk-amd64/bin/schemagen to provide /usr/bin/schemagen (schemagen) in auto mode\n",
            "update-alternatives: using /usr/lib/jvm/java-8-openjdk-amd64/bin/xjc to provide /usr/bin/xjc (xjc) in auto mode\n",
            "update-alternatives: using /usr/lib/jvm/java-8-openjdk-amd64/bin/jhat to provide /usr/bin/jhat (jhat) in auto mode\n",
            "update-alternatives: using /usr/lib/jvm/java-8-openjdk-amd64/bin/wsgen to provide /usr/bin/wsgen (wsgen) in auto mode\n"
          ],
          "name": "stdout"
        }
      ]
    },
    {
      "cell_type": "code",
      "metadata": {
        "id": "4SYsf8p1gpdk",
        "colab_type": "code",
        "colab": {}
      },
      "source": [
        "from pydrive.auth import GoogleAuth\n",
        "from pydrive.drive import GoogleDrive\n",
        "from google.colab import auth\n",
        "from oauth2client.client import GoogleCredentials\n",
        "from pyspark.sql import *\n",
        "from pyspark.sql.functions import *\n",
        "from pyspark import SparkContext\n",
        "from pyspark.sql import SQLContext\n",
        "import pandas as pd"
      ],
      "execution_count": 0,
      "outputs": []
    },
    {
      "cell_type": "code",
      "metadata": {
        "id": "cDDl072tg9jR",
        "colab_type": "code",
        "colab": {}
      },
      "source": [
        "# create the Spark Session\n",
        "spark = SparkSession.builder.getOrCreate()\n",
        "\n",
        "# create the Spark Context\n",
        "sc = spark.sparkContext"
      ],
      "execution_count": 0,
      "outputs": []
    },
    {
      "cell_type": "markdown",
      "metadata": {
        "id": "l4ZBPw_whgvt",
        "colab_type": "text"
      },
      "source": [
        "## 2- Se tiene un RDD registros de ventas de producto con la forma (fecha de venta, código de                  producto, precio de venta) y en otro RDD detalle de los productos con (código de producto,                descripción del producto, categoría). Se pide resolver utilizando PySpark: A. Cuál es el producto más vendido. B. Cuál es la categoría de productos más vendida. C. Cuál es el top5 de productos más vendidos generando un RDD con (código de              producto, descripción, cantidad de ventas) D. Cuál es el producto que registró mayor aumento de precio en el último año, tomando               para este análisis solo los productos que cuenten con al menos 50 ventas en el último                año. E. Idem anterior, pero calculando la categoría de productos que registró mayor variación            de precios en el último año. "
      ]
    },
    {
      "cell_type": "code",
      "metadata": {
        "id": "jxoColbXsEd9",
        "colab_type": "code",
        "colab": {}
      },
      "source": [
        "ventas = [('2019/02/28',1016,101.70),\n",
        "('2019/11/24',1052,117.15),\n",
        "('2019/11/02',1028,121.34),\n",
        "('2019/06/29',1058,110.51),\n",
        "('2019/01/04',1063,106.46),\n",
        "('2019/04/30',1081,106.08),\n",
        "('2019/05/26',1028,109.38),\n",
        "('2019/03/10',1056,112.57),\n",
        "('2019/05/01',1063,111.13),\n",
        "('2019/10/11',1075,108.76),\n",
        "('2019/02/28',1032,109.37),\n",
        "('2019/09/30',1099,102.03),\n",
        "('2019/04/25',1004,104.34),\n",
        "('2019/12/29',1019,125.68),\n",
        "('2019/06/07',1079,138.58),\n",
        "('2019/10/10',1035,104.19),\n",
        "('2019/12/03',1036,121.15),\n",
        "('2019/04/16',1007,132.15),\n",
        "('2019/07/06',1027,116.56),\n",
        "('2019/05/08',1060,130.58),\n",
        "('2019/02/15',1061,129.28),\n",
        "('2019/06/10',1079,111.61),\n",
        "('2019/09/28',1011,112.80),\n",
        "('2019/01/10',1092,121.92),\n",
        "('2019/10/09',1021,111.35),\n",
        "('2019/03/03',1034,125.00),\n",
        "('2019/10/17',1042,111.82),\n",
        "('2019/10/01',1065,115.62),\n",
        "('2019/11/09',1098,139.23),\n",
        "('2019/08/22',1074,131.38),\n",
        "('2019/01/10',1042,119.79),\n",
        "('2019/11/30',1025,101.80),\n",
        "('2019/08/08',1061,130.64),\n",
        "('2020/01/01',1046,123.01),\n",
        "('2019/10/16',1059,123.48),\n",
        "('2019/01/02',1040,137.61),\n",
        "('2019/12/23',1042,115.74),\n",
        "('2019/09/01',1066,133.01),\n",
        "('2019/03/07',1073,101.24),\n",
        "('2019/01/28',1094,130.48),\n",
        "('2019/01/28',1018,131.63),\n",
        "('2019/06/28',1056,110.77),\n",
        "('2019/02/05',1035,104.11),\n",
        "('2019/01/13',1043,126.91),\n",
        "('2019/07/22',1030,119.15),\n",
        "('2019/06/15',1035,139.01),\n",
        "('2019/12/26',1040,139.21),\n",
        "('2019/03/13',1053,123.76),\n",
        "('2019/07/31',1065,127.39),\n",
        "('2019/10/09',1081,123.06)]\n",
        "\n",
        "productos = [(1004,'NaN','alimento'),\n",
        "(1007,'NaN','alimento'),\n",
        "(1011,'NaN','alimento'),\n",
        "(1016,'NaN','alimento'),\n",
        "(1018,'NaN','alimento'),\n",
        "(1019,'NaN','alimento'),\n",
        "(1021,'NaN','alimento'),\n",
        "(1025,'NaN','entretenimiento'),\n",
        "(1027,'NaN','entretenimiento'),\n",
        "(1028,'NaN','entretenimiento'),\n",
        "(1030,'NaN','entretenimiento'),\n",
        "(1032,'NaN','entretenimiento'),\n",
        "(1034,'NaN','entretenimiento'),\n",
        "(1035,'NaN','entretenimiento'),\n",
        "(1035,'NaN','entretenimiento'),\n",
        "(1036,'NaN','bazar'),\n",
        "(1040,'NaN','bazar'),\n",
        "(1042,'NaN','bazar'),\n",
        "(1043,'NaN','bazar'),\n",
        "(1046,'NaN','bazar'),\n",
        "(1052,'NaN','indumentaria'),\n",
        "(1053,'NaN','indumentaria'),\n",
        "(1056,'NaN','indumentaria'),\n",
        "(1058,'NaN','indumentaria'),\n",
        "(1059,'NaN','indumentaria'),\n",
        "(1060,'NaN','indumentaria'),\n",
        "(1061,'NaN','indumentaria'),\n",
        "(1063,'NaN','indumentaria'),\n",
        "(1065,'NaN','indumentaria'),\n",
        "(1066,'NaN','indumentaria'),\n",
        "(1073,'NaN','perfumeria'),\n",
        "(1074,'NaN','perfumeria'),\n",
        "(1075,'NaN','perfumeria'),\n",
        "(1079,'NaN','perfumeria'),\n",
        "(1081,'NaN','cuidadoCorporal'),\n",
        "(1092,'NaN','cuidadoCorporal'),\n",
        "(1094,'NaN','cuidadoCorporal'),\n",
        "(1098,'NaN','cuidadoCorporal'),\n",
        "(1099,'NaN','cuidadoCorporal')]"
      ],
      "execution_count": 0,
      "outputs": []
    },
    {
      "cell_type": "code",
      "metadata": {
        "id": "GEY76vY8o74P",
        "colab_type": "code",
        "colab": {}
      },
      "source": [
        "productosRDD = sc.parallelize(productos)\n",
        "ventasRDD = sc.parallelize(ventas)"
      ],
      "execution_count": 0,
      "outputs": []
    },
    {
      "cell_type": "code",
      "metadata": {
        "id": "Z6zK7LwVsEX3",
        "colab_type": "code",
        "outputId": "a9ba2713-461f-4593-b3db-38250f876885",
        "colab": {
          "base_uri": "https://localhost:8080/",
          "height": 680
        }
      },
      "source": [
        "productosRDD.collect()"
      ],
      "execution_count": 6,
      "outputs": [
        {
          "output_type": "execute_result",
          "data": {
            "text/plain": [
              "[(1004, 'NaN', 'alimento'),\n",
              " (1007, 'NaN', 'alimento'),\n",
              " (1011, 'NaN', 'alimento'),\n",
              " (1016, 'NaN', 'alimento'),\n",
              " (1018, 'NaN', 'alimento'),\n",
              " (1019, 'NaN', 'alimento'),\n",
              " (1021, 'NaN', 'alimento'),\n",
              " (1025, 'NaN', 'entretenimiento'),\n",
              " (1027, 'NaN', 'entretenimiento'),\n",
              " (1028, 'NaN', 'entretenimiento'),\n",
              " (1030, 'NaN', 'entretenimiento'),\n",
              " (1032, 'NaN', 'entretenimiento'),\n",
              " (1034, 'NaN', 'entretenimiento'),\n",
              " (1035, 'NaN', 'entretenimiento'),\n",
              " (1035, 'NaN', 'entretenimiento'),\n",
              " (1036, 'NaN', 'bazar'),\n",
              " (1040, 'NaN', 'bazar'),\n",
              " (1042, 'NaN', 'bazar'),\n",
              " (1043, 'NaN', 'bazar'),\n",
              " (1046, 'NaN', 'bazar'),\n",
              " (1052, 'NaN', 'indumentaria'),\n",
              " (1053, 'NaN', 'indumentaria'),\n",
              " (1056, 'NaN', 'indumentaria'),\n",
              " (1058, 'NaN', 'indumentaria'),\n",
              " (1059, 'NaN', 'indumentaria'),\n",
              " (1060, 'NaN', 'indumentaria'),\n",
              " (1061, 'NaN', 'indumentaria'),\n",
              " (1063, 'NaN', 'indumentaria'),\n",
              " (1065, 'NaN', 'indumentaria'),\n",
              " (1066, 'NaN', 'indumentaria'),\n",
              " (1073, 'NaN', 'perfumeria'),\n",
              " (1074, 'NaN', 'perfumeria'),\n",
              " (1075, 'NaN', 'perfumeria'),\n",
              " (1079, 'NaN', 'perfumeria'),\n",
              " (1081, 'NaN', 'cuidadoCorporal'),\n",
              " (1092, 'NaN', 'cuidadoCorporal'),\n",
              " (1094, 'NaN', 'cuidadoCorporal'),\n",
              " (1098, 'NaN', 'cuidadoCorporal'),\n",
              " (1099, 'NaN', 'cuidadoCorporal')]"
            ]
          },
          "metadata": {
            "tags": []
          },
          "execution_count": 6
        }
      ]
    },
    {
      "cell_type": "code",
      "metadata": {
        "id": "fQ2CB65e2P3s",
        "colab_type": "code",
        "outputId": "263ded10-946c-4cd9-e54f-dcf6c17a111a",
        "colab": {
          "base_uri": "https://localhost:8080/",
          "height": 867
        }
      },
      "source": [
        "ventasRDD.collect()"
      ],
      "execution_count": 7,
      "outputs": [
        {
          "output_type": "execute_result",
          "data": {
            "text/plain": [
              "[('2019/02/28', 1016, 101.7),\n",
              " ('2019/11/24', 1052, 117.15),\n",
              " ('2019/11/02', 1028, 121.34),\n",
              " ('2019/06/29', 1058, 110.51),\n",
              " ('2019/01/04', 1063, 106.46),\n",
              " ('2019/04/30', 1081, 106.08),\n",
              " ('2019/05/26', 1028, 109.38),\n",
              " ('2019/03/10', 1056, 112.57),\n",
              " ('2019/05/01', 1063, 111.13),\n",
              " ('2019/10/11', 1075, 108.76),\n",
              " ('2019/02/28', 1032, 109.37),\n",
              " ('2019/09/30', 1099, 102.03),\n",
              " ('2019/04/25', 1004, 104.34),\n",
              " ('2019/12/29', 1019, 125.68),\n",
              " ('2019/06/07', 1079, 138.58),\n",
              " ('2019/10/10', 1035, 104.19),\n",
              " ('2019/12/03', 1036, 121.15),\n",
              " ('2019/04/16', 1007, 132.15),\n",
              " ('2019/07/06', 1027, 116.56),\n",
              " ('2019/05/08', 1060, 130.58),\n",
              " ('2019/02/15', 1061, 129.28),\n",
              " ('2019/06/10', 1079, 111.61),\n",
              " ('2019/09/28', 1011, 112.8),\n",
              " ('2019/01/10', 1092, 121.92),\n",
              " ('2019/10/09', 1021, 111.35),\n",
              " ('2019/03/03', 1034, 125.0),\n",
              " ('2019/10/17', 1042, 111.82),\n",
              " ('2019/10/01', 1065, 115.62),\n",
              " ('2019/11/09', 1098, 139.23),\n",
              " ('2019/08/22', 1074, 131.38),\n",
              " ('2019/01/10', 1042, 119.79),\n",
              " ('2019/11/30', 1025, 101.8),\n",
              " ('2019/08/08', 1061, 130.64),\n",
              " ('2020/01/01', 1046, 123.01),\n",
              " ('2019/10/16', 1059, 123.48),\n",
              " ('2019/01/02', 1040, 137.61),\n",
              " ('2019/12/23', 1042, 115.74),\n",
              " ('2019/09/01', 1066, 133.01),\n",
              " ('2019/03/07', 1073, 101.24),\n",
              " ('2019/01/28', 1094, 130.48),\n",
              " ('2019/01/28', 1018, 131.63),\n",
              " ('2019/06/28', 1056, 110.77),\n",
              " ('2019/02/05', 1035, 104.11),\n",
              " ('2019/01/13', 1043, 126.91),\n",
              " ('2019/07/22', 1030, 119.15),\n",
              " ('2019/06/15', 1035, 139.01),\n",
              " ('2019/12/26', 1040, 139.21),\n",
              " ('2019/03/13', 1053, 123.76),\n",
              " ('2019/07/31', 1065, 127.39),\n",
              " ('2019/10/09', 1081, 123.06)]"
            ]
          },
          "metadata": {
            "tags": []
          },
          "execution_count": 7
        }
      ]
    },
    {
      "cell_type": "code",
      "metadata": {
        "id": "8HDxJT3V2TbR",
        "colab_type": "code",
        "outputId": "989dd6ae-0c37-4c90-ec8a-d42c1c3d2032",
        "colab": {
          "base_uri": "https://localhost:8080/",
          "height": 34
        }
      },
      "source": [
        "# A. Cuál es el producto más vendido\n",
        "cantidad_vendida = (ventasRDD.map(lambda x: (x[1],1))).reduceByKey(lambda x,y: x+1).sortBy(lambda x: -x[1])\n",
        "cantidad_vendida.take(5)"
      ],
      "execution_count": 8,
      "outputs": [
        {
          "output_type": "execute_result",
          "data": {
            "text/plain": [
              "[(1042, 3), (1028, 2), (1056, 2), (1040, 2), (1063, 2)]"
            ]
          },
          "metadata": {
            "tags": []
          },
          "execution_count": 8
        }
      ]
    },
    {
      "cell_type": "code",
      "metadata": {
        "id": "ZUzD7MYJARy3",
        "colab_type": "code",
        "outputId": "00aa5bfb-f904-410b-b4df-ad3fc8677516",
        "colab": {
          "base_uri": "https://localhost:8080/",
          "height": 680
        }
      },
      "source": [
        "# B. Cuál es la categoría de productos más vendida\n",
        "# generamos el RDD con clave 'codigo' para productosRDD\n",
        "productos = productosRDD.map(lambda x: (x[0],x[2]))\n",
        "productos.collect()"
      ],
      "execution_count": 9,
      "outputs": [
        {
          "output_type": "execute_result",
          "data": {
            "text/plain": [
              "[(1004, 'alimento'),\n",
              " (1007, 'alimento'),\n",
              " (1011, 'alimento'),\n",
              " (1016, 'alimento'),\n",
              " (1018, 'alimento'),\n",
              " (1019, 'alimento'),\n",
              " (1021, 'alimento'),\n",
              " (1025, 'entretenimiento'),\n",
              " (1027, 'entretenimiento'),\n",
              " (1028, 'entretenimiento'),\n",
              " (1030, 'entretenimiento'),\n",
              " (1032, 'entretenimiento'),\n",
              " (1034, 'entretenimiento'),\n",
              " (1035, 'entretenimiento'),\n",
              " (1035, 'entretenimiento'),\n",
              " (1036, 'bazar'),\n",
              " (1040, 'bazar'),\n",
              " (1042, 'bazar'),\n",
              " (1043, 'bazar'),\n",
              " (1046, 'bazar'),\n",
              " (1052, 'indumentaria'),\n",
              " (1053, 'indumentaria'),\n",
              " (1056, 'indumentaria'),\n",
              " (1058, 'indumentaria'),\n",
              " (1059, 'indumentaria'),\n",
              " (1060, 'indumentaria'),\n",
              " (1061, 'indumentaria'),\n",
              " (1063, 'indumentaria'),\n",
              " (1065, 'indumentaria'),\n",
              " (1066, 'indumentaria'),\n",
              " (1073, 'perfumeria'),\n",
              " (1074, 'perfumeria'),\n",
              " (1075, 'perfumeria'),\n",
              " (1079, 'perfumeria'),\n",
              " (1081, 'cuidadoCorporal'),\n",
              " (1092, 'cuidadoCorporal'),\n",
              " (1094, 'cuidadoCorporal'),\n",
              " (1098, 'cuidadoCorporal'),\n",
              " (1099, 'cuidadoCorporal')]"
            ]
          },
          "metadata": {
            "tags": []
          },
          "execution_count": 9
        }
      ]
    },
    {
      "cell_type": "code",
      "metadata": {
        "id": "6x6DrvniBJ7i",
        "colab_type": "code",
        "outputId": "bf61a8c8-14ea-4db2-8463-229e6314334c",
        "colab": {
          "base_uri": "https://localhost:8080/",
          "height": 867
        }
      },
      "source": [
        "# generamos el RDD con clave 'codigo' para ventasRDD\n",
        "ventas = ventasRDD.map(lambda x: (x[1],1))\n",
        "ventas.collect()"
      ],
      "execution_count": 10,
      "outputs": [
        {
          "output_type": "execute_result",
          "data": {
            "text/plain": [
              "[(1016, 1),\n",
              " (1052, 1),\n",
              " (1028, 1),\n",
              " (1058, 1),\n",
              " (1063, 1),\n",
              " (1081, 1),\n",
              " (1028, 1),\n",
              " (1056, 1),\n",
              " (1063, 1),\n",
              " (1075, 1),\n",
              " (1032, 1),\n",
              " (1099, 1),\n",
              " (1004, 1),\n",
              " (1019, 1),\n",
              " (1079, 1),\n",
              " (1035, 1),\n",
              " (1036, 1),\n",
              " (1007, 1),\n",
              " (1027, 1),\n",
              " (1060, 1),\n",
              " (1061, 1),\n",
              " (1079, 1),\n",
              " (1011, 1),\n",
              " (1092, 1),\n",
              " (1021, 1),\n",
              " (1034, 1),\n",
              " (1042, 1),\n",
              " (1065, 1),\n",
              " (1098, 1),\n",
              " (1074, 1),\n",
              " (1042, 1),\n",
              " (1025, 1),\n",
              " (1061, 1),\n",
              " (1046, 1),\n",
              " (1059, 1),\n",
              " (1040, 1),\n",
              " (1042, 1),\n",
              " (1066, 1),\n",
              " (1073, 1),\n",
              " (1094, 1),\n",
              " (1018, 1),\n",
              " (1056, 1),\n",
              " (1035, 1),\n",
              " (1043, 1),\n",
              " (1030, 1),\n",
              " (1035, 1),\n",
              " (1040, 1),\n",
              " (1053, 1),\n",
              " (1065, 1),\n",
              " (1081, 1)]"
            ]
          },
          "metadata": {
            "tags": []
          },
          "execution_count": 10
        }
      ]
    },
    {
      "cell_type": "code",
      "metadata": {
        "id": "SOYZvJCCFdtZ",
        "colab_type": "code",
        "outputId": "46d9afda-a0f1-4286-9e29-163bd03dd29f",
        "colab": {
          "base_uri": "https://localhost:8080/",
          "height": 918
        }
      },
      "source": [
        "# unificamos ambos RDDs\n",
        "productos_vendidos = productos.join(ventas)\n",
        "productos_vendidos.collect()"
      ],
      "execution_count": 11,
      "outputs": [
        {
          "output_type": "execute_result",
          "data": {
            "text/plain": [
              "[(1004, ('alimento', 1)),\n",
              " (1016, ('alimento', 1)),\n",
              " (1028, ('entretenimiento', 1)),\n",
              " (1028, ('entretenimiento', 1)),\n",
              " (1032, ('entretenimiento', 1)),\n",
              " (1036, ('bazar', 1)),\n",
              " (1040, ('bazar', 1)),\n",
              " (1040, ('bazar', 1)),\n",
              " (1052, ('indumentaria', 1)),\n",
              " (1056, ('indumentaria', 1)),\n",
              " (1056, ('indumentaria', 1)),\n",
              " (1060, ('indumentaria', 1)),\n",
              " (1092, ('cuidadoCorporal', 1)),\n",
              " (1021, ('alimento', 1)),\n",
              " (1025, ('entretenimiento', 1)),\n",
              " (1053, ('indumentaria', 1)),\n",
              " (1061, ('indumentaria', 1)),\n",
              " (1061, ('indumentaria', 1)),\n",
              " (1065, ('indumentaria', 1)),\n",
              " (1065, ('indumentaria', 1)),\n",
              " (1073, ('perfumeria', 1)),\n",
              " (1081, ('cuidadoCorporal', 1)),\n",
              " (1081, ('cuidadoCorporal', 1)),\n",
              " (1018, ('alimento', 1)),\n",
              " (1030, ('entretenimiento', 1)),\n",
              " (1034, ('entretenimiento', 1)),\n",
              " (1042, ('bazar', 1)),\n",
              " (1042, ('bazar', 1)),\n",
              " (1042, ('bazar', 1)),\n",
              " (1046, ('bazar', 1)),\n",
              " (1058, ('indumentaria', 1)),\n",
              " (1066, ('indumentaria', 1)),\n",
              " (1074, ('perfumeria', 1)),\n",
              " (1094, ('cuidadoCorporal', 1)),\n",
              " (1098, ('cuidadoCorporal', 1)),\n",
              " (1007, ('alimento', 1)),\n",
              " (1011, ('alimento', 1)),\n",
              " (1019, ('alimento', 1)),\n",
              " (1027, ('entretenimiento', 1)),\n",
              " (1035, ('entretenimiento', 1)),\n",
              " (1035, ('entretenimiento', 1)),\n",
              " (1035, ('entretenimiento', 1)),\n",
              " (1035, ('entretenimiento', 1)),\n",
              " (1035, ('entretenimiento', 1)),\n",
              " (1035, ('entretenimiento', 1)),\n",
              " (1043, ('bazar', 1)),\n",
              " (1059, ('indumentaria', 1)),\n",
              " (1063, ('indumentaria', 1)),\n",
              " (1063, ('indumentaria', 1)),\n",
              " (1075, ('perfumeria', 1)),\n",
              " (1079, ('perfumeria', 1)),\n",
              " (1079, ('perfumeria', 1)),\n",
              " (1099, ('cuidadoCorporal', 1))]"
            ]
          },
          "metadata": {
            "tags": []
          },
          "execution_count": 11
        }
      ]
    },
    {
      "cell_type": "code",
      "metadata": {
        "id": "NfodxXeOGBFs",
        "colab_type": "code",
        "outputId": "b4b55fc3-dee1-4549-f119-a26c77fe274d",
        "colab": {
          "base_uri": "https://localhost:8080/",
          "height": 34
        }
      },
      "source": [
        "# Mapeamos a un nuevo RDD con clave 'categoria', aplicamos el reduce y ordenamos descendentemente\n",
        "productos_vendidos_por_categoria = (productos_vendidos.map(lambda x: (x[1][0],x[1][1]))).reduceByKey(lambda x,y: x+y).sortBy(lambda x: -x[1])\n",
        "productos_vendidos_por_categoria.take(1)"
      ],
      "execution_count": 12,
      "outputs": [
        {
          "output_type": "execute_result",
          "data": {
            "text/plain": [
              "[('indumentaria', 14)]"
            ]
          },
          "metadata": {
            "tags": []
          },
          "execution_count": 12
        }
      ]
    },
    {
      "cell_type": "code",
      "metadata": {
        "id": "Ci-dq0lVHIx_",
        "colab_type": "code",
        "outputId": "3950779b-be22-420a-c130-77dc506cb0a7",
        "colab": {
          "base_uri": "https://localhost:8080/",
          "height": 663
        }
      },
      "source": [
        "# C. Cuál es el top5 de productos más vendidos generando un RDD con (código de producto, descripción, cantidad de ventas)\n",
        "# Generamos un RDD mapeado por clave y reducimos contabilizando cada producto\n",
        "cantidad_vendida_aux = (ventasRDD.map(lambda x: (x[1],1))).reduceByKey(lambda x,y: x + y)\n",
        "cantidad_vendida_aux.collect()"
      ],
      "execution_count": 13,
      "outputs": [
        {
          "output_type": "execute_result",
          "data": {
            "text/plain": [
              "[(1016, 1),\n",
              " (1052, 1),\n",
              " (1028, 2),\n",
              " (1058, 1),\n",
              " (1056, 2),\n",
              " (1032, 1),\n",
              " (1004, 1),\n",
              " (1036, 1),\n",
              " (1060, 1),\n",
              " (1092, 1),\n",
              " (1034, 1),\n",
              " (1042, 3),\n",
              " (1098, 1),\n",
              " (1074, 1),\n",
              " (1046, 1),\n",
              " (1040, 2),\n",
              " (1066, 1),\n",
              " (1094, 1),\n",
              " (1018, 1),\n",
              " (1030, 1),\n",
              " (1063, 2),\n",
              " (1081, 2),\n",
              " (1075, 1),\n",
              " (1099, 1),\n",
              " (1019, 1),\n",
              " (1079, 2),\n",
              " (1035, 3),\n",
              " (1007, 1),\n",
              " (1027, 1),\n",
              " (1061, 2),\n",
              " (1011, 1),\n",
              " (1021, 1),\n",
              " (1065, 2),\n",
              " (1025, 1),\n",
              " (1059, 1),\n",
              " (1073, 1),\n",
              " (1043, 1),\n",
              " (1053, 1)]"
            ]
          },
          "metadata": {
            "tags": []
          },
          "execution_count": 13
        }
      ]
    },
    {
      "cell_type": "code",
      "metadata": {
        "id": "vuCPSGUyIubv",
        "colab_type": "code",
        "outputId": "d12a984e-fb48-4fce-9498-35c71a2bcc13",
        "colab": {
          "base_uri": "https://localhost:8080/",
          "height": 34
        }
      },
      "source": [
        "# Generamos el RDD de productos con la informacion del campo 'descripcion'\n",
        "productos_aux = productosRDD.map(lambda x: (x[0],x[1]))\n",
        "productos_aux.take(5)"
      ],
      "execution_count": 14,
      "outputs": [
        {
          "output_type": "execute_result",
          "data": {
            "text/plain": [
              "[(1004, 'NaN'), (1007, 'NaN'), (1011, 'NaN'), (1016, 'NaN'), (1018, 'NaN')]"
            ]
          },
          "metadata": {
            "tags": []
          },
          "execution_count": 14
        }
      ]
    },
    {
      "cell_type": "code",
      "metadata": {
        "id": "ur9jRt9hJbfe",
        "colab_type": "code",
        "outputId": "233ab219-ced8-48ea-d3c6-caa95f5ee252",
        "colab": {
          "base_uri": "https://localhost:8080/",
          "height": 102
        }
      },
      "source": [
        "# Unimos ambos RDDs con join y ordenamos. Mostramos el top5 de ventas en orden descendente\n",
        "top5_ventas_aux = (cantidad_vendida_aux.join(productos_aux)).sortBy(lambda x: -x[1][0])\n",
        "top5_ventas_aux.take(5)"
      ],
      "execution_count": 15,
      "outputs": [
        {
          "output_type": "execute_result",
          "data": {
            "text/plain": [
              "[(1042, (3, 'NaN')),\n",
              " (1035, (3, 'NaN')),\n",
              " (1035, (3, 'NaN')),\n",
              " (1028, (2, 'NaN')),\n",
              " (1056, (2, 'NaN'))]"
            ]
          },
          "metadata": {
            "tags": []
          },
          "execution_count": 15
        }
      ]
    },
    {
      "cell_type": "code",
      "metadata": {
        "id": "6F5K3qtIJqtD",
        "colab_type": "code",
        "outputId": "d7f12c52-7136-4f05-c778-efd5461e5aca",
        "colab": {
          "base_uri": "https://localhost:8080/",
          "height": 867
        }
      },
      "source": [
        "#  D. Cuál es el producto que registró mayor aumento de precio en el último año, tomando para este análisis solo los productos que cuenten con al menos 50 ventas en el último año.\n",
        "# Generamos los RDDs necesarios\n",
        "ventas_aux2 = ventasRDD.map(lambda x: (x[1],(x[2],1)))\n",
        "ventas_aux2.collect()"
      ],
      "execution_count": 16,
      "outputs": [
        {
          "output_type": "execute_result",
          "data": {
            "text/plain": [
              "[(1016, (101.7, 1)),\n",
              " (1052, (117.15, 1)),\n",
              " (1028, (121.34, 1)),\n",
              " (1058, (110.51, 1)),\n",
              " (1063, (106.46, 1)),\n",
              " (1081, (106.08, 1)),\n",
              " (1028, (109.38, 1)),\n",
              " (1056, (112.57, 1)),\n",
              " (1063, (111.13, 1)),\n",
              " (1075, (108.76, 1)),\n",
              " (1032, (109.37, 1)),\n",
              " (1099, (102.03, 1)),\n",
              " (1004, (104.34, 1)),\n",
              " (1019, (125.68, 1)),\n",
              " (1079, (138.58, 1)),\n",
              " (1035, (104.19, 1)),\n",
              " (1036, (121.15, 1)),\n",
              " (1007, (132.15, 1)),\n",
              " (1027, (116.56, 1)),\n",
              " (1060, (130.58, 1)),\n",
              " (1061, (129.28, 1)),\n",
              " (1079, (111.61, 1)),\n",
              " (1011, (112.8, 1)),\n",
              " (1092, (121.92, 1)),\n",
              " (1021, (111.35, 1)),\n",
              " (1034, (125.0, 1)),\n",
              " (1042, (111.82, 1)),\n",
              " (1065, (115.62, 1)),\n",
              " (1098, (139.23, 1)),\n",
              " (1074, (131.38, 1)),\n",
              " (1042, (119.79, 1)),\n",
              " (1025, (101.8, 1)),\n",
              " (1061, (130.64, 1)),\n",
              " (1046, (123.01, 1)),\n",
              " (1059, (123.48, 1)),\n",
              " (1040, (137.61, 1)),\n",
              " (1042, (115.74, 1)),\n",
              " (1066, (133.01, 1)),\n",
              " (1073, (101.24, 1)),\n",
              " (1094, (130.48, 1)),\n",
              " (1018, (131.63, 1)),\n",
              " (1056, (110.77, 1)),\n",
              " (1035, (104.11, 1)),\n",
              " (1043, (126.91, 1)),\n",
              " (1030, (119.15, 1)),\n",
              " (1035, (139.01, 1)),\n",
              " (1040, (139.21, 1)),\n",
              " (1053, (123.76, 1)),\n",
              " (1065, (127.39, 1)),\n",
              " (1081, (123.06, 1))]"
            ]
          },
          "metadata": {
            "tags": []
          },
          "execution_count": 16
        }
      ]
    },
    {
      "cell_type": "code",
      "metadata": {
        "id": "lxn_A6_zNRYm",
        "colab_type": "code",
        "outputId": "1c38c06e-650b-48f0-998e-4389908d9509",
        "colab": {
          "base_uri": "https://localhost:8080/",
          "height": 663
        }
      },
      "source": [
        "# Agrupamos y guardamos el precio minimo y maximo alcanzado para cada producto. \n",
        "# Si el producto se vendio una unica vez, no registra cambios y en la tupla guarda un 1 en la posicion de maximo\n",
        "ventas_aux3 = ventas_aux2.reduceByKey(lambda x,y: ( (x[0],y[0]) if x[0]<y[0] else (y[0],x[0])))\n",
        "ventas_aux3.collect()"
      ],
      "execution_count": 17,
      "outputs": [
        {
          "output_type": "execute_result",
          "data": {
            "text/plain": [
              "[(1016, (101.7, 1)),\n",
              " (1052, (117.15, 1)),\n",
              " (1028, (109.38, 121.34)),\n",
              " (1058, (110.51, 1)),\n",
              " (1056, (110.77, 112.57)),\n",
              " (1032, (109.37, 1)),\n",
              " (1004, (104.34, 1)),\n",
              " (1036, (121.15, 1)),\n",
              " (1060, (130.58, 1)),\n",
              " (1092, (121.92, 1)),\n",
              " (1034, (125.0, 1)),\n",
              " (1042, (111.82, 115.74)),\n",
              " (1098, (139.23, 1)),\n",
              " (1074, (131.38, 1)),\n",
              " (1046, (123.01, 1)),\n",
              " (1040, (137.61, 139.21)),\n",
              " (1066, (133.01, 1)),\n",
              " (1094, (130.48, 1)),\n",
              " (1018, (131.63, 1)),\n",
              " (1030, (119.15, 1)),\n",
              " (1063, (106.46, 111.13)),\n",
              " (1081, (106.08, 123.06)),\n",
              " (1075, (108.76, 1)),\n",
              " (1099, (102.03, 1)),\n",
              " (1019, (125.68, 1)),\n",
              " (1079, (111.61, 138.58)),\n",
              " (1035, (104.11, 104.19)),\n",
              " (1007, (132.15, 1)),\n",
              " (1027, (116.56, 1)),\n",
              " (1061, (129.28, 130.64)),\n",
              " (1011, (112.8, 1)),\n",
              " (1021, (111.35, 1)),\n",
              " (1065, (115.62, 127.39)),\n",
              " (1025, (101.8, 1)),\n",
              " (1059, (123.48, 1)),\n",
              " (1073, (101.24, 1)),\n",
              " (1043, (126.91, 1)),\n",
              " (1053, (123.76, 1))]"
            ]
          },
          "metadata": {
            "tags": []
          },
          "execution_count": 17
        }
      ]
    },
    {
      "cell_type": "code",
      "metadata": {
        "id": "i7lnWQZnnKG-",
        "colab_type": "code",
        "colab": {
          "base_uri": "https://localhost:8080/",
          "height": 187
        },
        "outputId": "64a927ed-201c-4049-f495-ea02be7857d2"
      },
      "source": [
        "# Nos reservamos unicamente los productos que hayan sido vendidos al menos 2 veces\n",
        "ventas_con_variacion_precio = ventas_aux3.filter(lambda x: x[1][1]!=1)\n",
        "ventas_con_variacion_precio.collect()"
      ],
      "execution_count": 25,
      "outputs": [
        {
          "output_type": "execute_result",
          "data": {
            "text/plain": [
              "[(1028, (109.38, 121.34)),\n",
              " (1056, (110.77, 112.57)),\n",
              " (1042, (111.82, 115.74)),\n",
              " (1040, (137.61, 139.21)),\n",
              " (1063, (106.46, 111.13)),\n",
              " (1081, (106.08, 123.06)),\n",
              " (1079, (111.61, 138.58)),\n",
              " (1035, (104.11, 104.19)),\n",
              " (1061, (129.28, 130.64)),\n",
              " (1065, (115.62, 127.39))]"
            ]
          },
          "metadata": {
            "tags": []
          },
          "execution_count": 25
        }
      ]
    },
    {
      "cell_type": "code",
      "metadata": {
        "id": "P9j4Cn-sOKXy",
        "colab_type": "code",
        "colab": {
          "base_uri": "https://localhost:8080/",
          "height": 34
        },
        "outputId": "7d9f3e57-a8e0-48a0-85fb-ee4cd5c33b69"
      },
      "source": [
        "# Mapeamos un nuevo RDD con la diferencia de precio que se registro para cada producto y mostramos el que mayor variacion sufrio\n",
        "variacion_precio_productos = (ventas_con_variacion_precio.map(lambda x: (x[0],x[1][1] - x[1][0]))).sortBy(lambda x: -x[1])\n",
        "variacion_precio_productos.take(1)"
      ],
      "execution_count": 35,
      "outputs": [
        {
          "output_type": "execute_result",
          "data": {
            "text/plain": [
              "[(1079, 26.970000000000013)]"
            ]
          },
          "metadata": {
            "tags": []
          },
          "execution_count": 35
        }
      ]
    },
    {
      "cell_type": "code",
      "metadata": {
        "id": "6GRADpDyuVL-",
        "colab_type": "code",
        "colab": {
          "base_uri": "https://localhost:8080/",
          "height": 204
        },
        "outputId": "3b0ef213-c193-445b-ea6a-a22a7bf59594"
      },
      "source": [
        "# E. Cuál es la categoria que registró mayor aumento de precio en el último año.\n",
        "# Se genera un RDD union del RDD incrementos de precios con los productos con la informacion de categorias\n",
        "productos_aumento_precios = variacion_precio_productos.join(productos)\n",
        "productos_aumento_precios.collect()"
      ],
      "execution_count": 37,
      "outputs": [
        {
          "output_type": "execute_result",
          "data": {
            "text/plain": [
              "[(1028, (11.960000000000008, 'entretenimiento')),\n",
              " (1056, (1.7999999999999972, 'indumentaria')),\n",
              " (1040, (1.5999999999999943, 'bazar')),\n",
              " (1081, (16.980000000000004, 'cuidadoCorporal')),\n",
              " (1065, (11.769999999999996, 'indumentaria')),\n",
              " (1061, (1.3599999999999852, 'indumentaria')),\n",
              " (1042, (3.9200000000000017, 'bazar')),\n",
              " (1079, (26.970000000000013, 'perfumeria')),\n",
              " (1063, (4.670000000000002, 'indumentaria')),\n",
              " (1035, (0.0799999999999983, 'entretenimiento')),\n",
              " (1035, (0.0799999999999983, 'entretenimiento'))]"
            ]
          },
          "metadata": {
            "tags": []
          },
          "execution_count": 37
        }
      ]
    },
    {
      "cell_type": "code",
      "metadata": {
        "id": "mMbdDb1JyGK1",
        "colab_type": "code",
        "colab": {
          "base_uri": "https://localhost:8080/",
          "height": 204
        },
        "outputId": "58c3cee6-1bf9-4c0a-a7fe-b96dba751272"
      },
      "source": [
        "# Se genera un nuevo RDD con clave categoria\n",
        "aumento_precio_categorias_aux = productos_aumento_precios.map(lambda x: (x[1][1], x[1][0]))\n",
        "aumento_precio_categorias_aux.collect()"
      ],
      "execution_count": 39,
      "outputs": [
        {
          "output_type": "execute_result",
          "data": {
            "text/plain": [
              "[('entretenimiento', 11.960000000000008),\n",
              " ('indumentaria', 1.7999999999999972),\n",
              " ('bazar', 1.5999999999999943),\n",
              " ('cuidadoCorporal', 16.980000000000004),\n",
              " ('indumentaria', 11.769999999999996),\n",
              " ('indumentaria', 1.3599999999999852),\n",
              " ('bazar', 3.9200000000000017),\n",
              " ('perfumeria', 26.970000000000013),\n",
              " ('indumentaria', 4.670000000000002),\n",
              " ('entretenimiento', 0.0799999999999983),\n",
              " ('entretenimiento', 0.0799999999999983)]"
            ]
          },
          "metadata": {
            "tags": []
          },
          "execution_count": 39
        }
      ]
    },
    {
      "cell_type": "code",
      "metadata": {
        "id": "L8gyv87wyuLE",
        "colab_type": "code",
        "colab": {
          "base_uri": "https://localhost:8080/",
          "height": 34
        },
        "outputId": "ca554369-8c21-41b0-dd53-5373eeccf407"
      },
      "source": [
        "# Se agrupan las categorias y se suman los incrementos de precios\n",
        "# Se muestra la categoria que registra mayor incremento\n",
        "aumento_precio_categorias = (aumento_precio_categorias_aux.reduceByKey(lambda x,y: x + y)).sortBy(lambda x: -x[1])\n",
        "aumento_precio_categorias.take(1)"
      ],
      "execution_count": 42,
      "outputs": [
        {
          "output_type": "execute_result",
          "data": {
            "text/plain": [
              "[('perfumeria', 26.970000000000013)]"
            ]
          },
          "metadata": {
            "tags": []
          },
          "execution_count": 42
        }
      ]
    },
    {
      "cell_type": "markdown",
      "metadata": {
        "id": "duu1cVM0mXKS",
        "colab_type": "text"
      },
      "source": [
        "# FINAL DEL EJERCICIO"
      ]
    },
    {
      "cell_type": "code",
      "metadata": {
        "id": "1pSroeff0EjQ",
        "colab_type": "code",
        "colab": {}
      },
      "source": [
        ""
      ],
      "execution_count": 0,
      "outputs": []
    }
  ]
}
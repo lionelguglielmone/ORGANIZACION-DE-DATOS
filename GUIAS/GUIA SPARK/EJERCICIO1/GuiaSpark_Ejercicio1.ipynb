{
  "nbformat": 4,
  "nbformat_minor": 0,
  "metadata": {
    "colab": {
      "name": "GuiaSpark-Ejercicio1.ipynb",
      "provenance": [],
      "collapsed_sections": []
    },
    "kernelspec": {
      "name": "python3",
      "display_name": "Python 3"
    }
  },
  "cells": [
    {
      "cell_type": "code",
      "metadata": {
        "id": "1BWr2JzsBE_O",
        "colab_type": "code",
        "colab": {
          "base_uri": "https://localhost:8080/",
          "height": 884
        },
        "outputId": "0d43a72e-99bc-42a7-8cca-3eadbc3ee547"
      },
      "source": [
        "!pip install pyspark\n",
        "!pip install -U -q PyDrive\n",
        "!apt install openjdk-8-jdk-headless -qq\n",
        "import os\n",
        "os.environ[\"JAVA_HOME\"] = \"/usr/lib/jvm/java-8-openjdk-amd64\""
      ],
      "execution_count": 1,
      "outputs": [
        {
          "output_type": "stream",
          "text": [
            "Collecting pyspark\n",
            "\u001b[?25l  Downloading https://files.pythonhosted.org/packages/e9/e4/5c15ab8d354c4e3528510821865e6748209a9b0ff6a1788f4cd36cc2a5dc/pyspark-2.4.6.tar.gz (218.4MB)\n",
            "\u001b[K     |████████████████████████████████| 218.4MB 65kB/s \n",
            "\u001b[?25hCollecting py4j==0.10.7\n",
            "\u001b[?25l  Downloading https://files.pythonhosted.org/packages/e3/53/c737818eb9a7dc32a7cd4f1396e787bd94200c3997c72c1dbe028587bd76/py4j-0.10.7-py2.py3-none-any.whl (197kB)\n",
            "\u001b[K     |████████████████████████████████| 204kB 46.7MB/s \n",
            "\u001b[?25hBuilding wheels for collected packages: pyspark\n",
            "  Building wheel for pyspark (setup.py) ... \u001b[?25l\u001b[?25hdone\n",
            "  Created wheel for pyspark: filename=pyspark-2.4.6-py2.py3-none-any.whl size=218814406 sha256=4536a1eea93f06d3af6efd9206ce12b33042059fd17f9226b0cf79559a9f992a\n",
            "  Stored in directory: /root/.cache/pip/wheels/1e/5e/6a/17e906c94ec7246f260330a66e44a06a0809033ba2738a74a8\n",
            "Successfully built pyspark\n",
            "Installing collected packages: py4j, pyspark\n",
            "Successfully installed py4j-0.10.7 pyspark-2.4.6\n",
            "The following package was automatically installed and is no longer required:\n",
            "  libnvidia-common-440\n",
            "Use 'apt autoremove' to remove it.\n",
            "The following additional packages will be installed:\n",
            "  openjdk-8-jre-headless\n",
            "Suggested packages:\n",
            "  openjdk-8-demo openjdk-8-source libnss-mdns fonts-dejavu-extra\n",
            "  fonts-ipafont-gothic fonts-ipafont-mincho fonts-wqy-microhei\n",
            "  fonts-wqy-zenhei fonts-indic\n",
            "The following NEW packages will be installed:\n",
            "  openjdk-8-jdk-headless openjdk-8-jre-headless\n",
            "0 upgraded, 2 newly installed, 0 to remove and 43 not upgraded.\n",
            "Need to get 35.8 MB of archives.\n",
            "After this operation, 140 MB of additional disk space will be used.\n",
            "Selecting previously unselected package openjdk-8-jre-headless:amd64.\n",
            "(Reading database ... 144328 files and directories currently installed.)\n",
            "Preparing to unpack .../openjdk-8-jre-headless_8u252-b09-1~18.04_amd64.deb ...\n",
            "Unpacking openjdk-8-jre-headless:amd64 (8u252-b09-1~18.04) ...\n",
            "Selecting previously unselected package openjdk-8-jdk-headless:amd64.\n",
            "Preparing to unpack .../openjdk-8-jdk-headless_8u252-b09-1~18.04_amd64.deb ...\n",
            "Unpacking openjdk-8-jdk-headless:amd64 (8u252-b09-1~18.04) ...\n",
            "Setting up openjdk-8-jre-headless:amd64 (8u252-b09-1~18.04) ...\n",
            "update-alternatives: using /usr/lib/jvm/java-8-openjdk-amd64/jre/bin/orbd to provide /usr/bin/orbd (orbd) in auto mode\n",
            "update-alternatives: using /usr/lib/jvm/java-8-openjdk-amd64/jre/bin/servertool to provide /usr/bin/servertool (servertool) in auto mode\n",
            "update-alternatives: using /usr/lib/jvm/java-8-openjdk-amd64/jre/bin/tnameserv to provide /usr/bin/tnameserv (tnameserv) in auto mode\n",
            "Setting up openjdk-8-jdk-headless:amd64 (8u252-b09-1~18.04) ...\n",
            "update-alternatives: using /usr/lib/jvm/java-8-openjdk-amd64/bin/idlj to provide /usr/bin/idlj (idlj) in auto mode\n",
            "update-alternatives: using /usr/lib/jvm/java-8-openjdk-amd64/bin/wsimport to provide /usr/bin/wsimport (wsimport) in auto mode\n",
            "update-alternatives: using /usr/lib/jvm/java-8-openjdk-amd64/bin/jsadebugd to provide /usr/bin/jsadebugd (jsadebugd) in auto mode\n",
            "update-alternatives: using /usr/lib/jvm/java-8-openjdk-amd64/bin/native2ascii to provide /usr/bin/native2ascii (native2ascii) in auto mode\n",
            "update-alternatives: using /usr/lib/jvm/java-8-openjdk-amd64/bin/javah to provide /usr/bin/javah (javah) in auto mode\n",
            "update-alternatives: using /usr/lib/jvm/java-8-openjdk-amd64/bin/clhsdb to provide /usr/bin/clhsdb (clhsdb) in auto mode\n",
            "update-alternatives: using /usr/lib/jvm/java-8-openjdk-amd64/bin/extcheck to provide /usr/bin/extcheck (extcheck) in auto mode\n",
            "update-alternatives: using /usr/lib/jvm/java-8-openjdk-amd64/bin/hsdb to provide /usr/bin/hsdb (hsdb) in auto mode\n",
            "update-alternatives: using /usr/lib/jvm/java-8-openjdk-amd64/bin/schemagen to provide /usr/bin/schemagen (schemagen) in auto mode\n",
            "update-alternatives: using /usr/lib/jvm/java-8-openjdk-amd64/bin/xjc to provide /usr/bin/xjc (xjc) in auto mode\n",
            "update-alternatives: using /usr/lib/jvm/java-8-openjdk-amd64/bin/jhat to provide /usr/bin/jhat (jhat) in auto mode\n",
            "update-alternatives: using /usr/lib/jvm/java-8-openjdk-amd64/bin/wsgen to provide /usr/bin/wsgen (wsgen) in auto mode\n"
          ],
          "name": "stdout"
        }
      ]
    },
    {
      "cell_type": "code",
      "metadata": {
        "id": "MEC7lucOBZZn",
        "colab_type": "code",
        "colab": {}
      },
      "source": [
        "from pydrive.auth import GoogleAuth\n",
        "from pydrive.drive import GoogleDrive\n",
        "from google.colab import auth\n",
        "from oauth2client.client import GoogleCredentials\n",
        "from pyspark.sql import *\n",
        "from pyspark.sql.functions import *\n",
        "from pyspark import SparkContext\n",
        "from pyspark.sql import SQLContext\n",
        "import pandas as pd"
      ],
      "execution_count": 0,
      "outputs": []
    },
    {
      "cell_type": "code",
      "metadata": {
        "id": "feEZa4t-B4bg",
        "colab_type": "code",
        "colab": {}
      },
      "source": [
        "# create the Spark Session\n",
        "spark = SparkSession.builder.getOrCreate()\n",
        "\n",
        "# create the Spark Context\n",
        "sc = spark.sparkContext"
      ],
      "execution_count": 0,
      "outputs": []
    },
    {
      "cell_type": "markdown",
      "metadata": {
        "id": "ycNptJzkA33t",
        "colab_type": "text"
      },
      "source": [
        "## 1- Se tiene un RDD con el registro de notas de los alumnos de la forma (padrón, materia, nota,                   fecha). Se pide resolver utilizando PySpark: A. Cuántos alumnos aprobaron al menos 1 materia en los últimos 2 años. B. Un RDD conteniendo el promedio de notas de cada alumno de la forma (padrón,              promedio). C. El nombre y apellido del alumno con mejor promedio. Para esto puede utilizarse un              segundo RDD alumnos con registros (padron, nombre y apellido). \n",
        " \n",
        " "
      ]
    },
    {
      "cell_type": "code",
      "metadata": {
        "id": "CdOUGYFlAOxA",
        "colab_type": "code",
        "colab": {}
      },
      "source": [
        "# armamos los RDDS\n",
        "\n",
        "notas_alumnos = [(67895,'algebra',8,'2019-10-05'), (99987,'algebra',4,'2019-10-05'), (101401,'algebra',4,'2019-10-05'), (96957,'algebra',2,'2019-10-05'), \n",
        "                 (100003,'analisis',2,'2019-11-07'), (67895,'analisis',2,'2019-11-07'), (67896,'analisis',9,'2018-05-01'), (99987,'analisis',5,'2018-05-01'),\n",
        "                 (100003,'fisica',8,'2018-11-03'), (99563,'fisica',5,'2018-11-03'), (67895,'fisica',4,'2018-11-03'), (68900,'fisica',7,'2019-05-03'),\n",
        "                 (67895,'quimica',8,'2020-04-02'), (99563,'quimica',6,'2020-04-02'), (68900,'quimica',6,'2020-04-02'), (97865,'quimica',6,'2020-04-02'),\n",
        "                 (67895,'programacion',8,'2016-08-17'), (99987,'programacion',10,'2016-08-17'), (89056,'programacion',10,'2019-07-11'), (101101,'programacion',4,'2019-07-11'),\n",
        "                 (99987,'discreta',6,'2019-07-11'), (67895,'discreta',9,'2019-07-11'), (99563,'numerico',8,'2019-07-11'), (101401,'numerico',7,'2019-03-11')]\n",
        "                \n",
        "alumnos = [(67895, 'Juan Suarez'),(99987, 'Leonilda Mascarponne'), (101401, 'Maria Juana Subarita'), (96957,'Liliana Esmeralda'), (100003, 'Juan Cruz Pedraza'),\n",
        "           (67896, 'Faustino Boludenga'), (99563, 'Cristina Rizzo'), (68900, 'Romina Luppi'), (97865, 'Domingo Andrada'), (89056, 'Francisco Espuriatti'), \n",
        "           (101101, 'Lucila Lamas'), (101401, 'Betiana Soria')]"
      ],
      "execution_count": 0,
      "outputs": []
    },
    {
      "cell_type": "code",
      "metadata": {
        "id": "C0yAZHIKHHo7",
        "colab_type": "code",
        "colab": {}
      },
      "source": [
        "notas_alumnosRDD = sc.parallelize(notas_alumnos)\n",
        "alumnosRDD = sc.parallelize(alumnos)"
      ],
      "execution_count": 0,
      "outputs": []
    },
    {
      "cell_type": "code",
      "metadata": {
        "id": "vQfagDJxJqsl",
        "colab_type": "code",
        "colab": {
          "base_uri": "https://localhost:8080/",
          "height": 425
        },
        "outputId": "9b4d091d-4956-4509-afcc-d491b2aecac2"
      },
      "source": [
        "notas_alumnosRDD.collect()"
      ],
      "execution_count": 10,
      "outputs": [
        {
          "output_type": "execute_result",
          "data": {
            "text/plain": [
              "[(67895, 'algebra', 8, '2019-10-05'),\n",
              " (99987, 'algebra', 4, '2019-10-05'),\n",
              " (101401, 'algebra', 4, '2019-10-05'),\n",
              " (96957, 'algebra', 2, '2019-10-05'),\n",
              " (100003, 'analisis', 2, '2019-11-07'),\n",
              " (67895, 'analisis', 2, '2019-11-07'),\n",
              " (67896, 'analisis', 9, '2018-05-01'),\n",
              " (99987, 'analisis', 5, '2018-05-01'),\n",
              " (100003, 'fisica', 8, '2018-11-03'),\n",
              " (99563, 'fisica', 5, '2018-11-03'),\n",
              " (67895, 'fisica', 4, '2018-11-03'),\n",
              " (68900, 'fisica', 7, '2019-05-03'),\n",
              " (67895, 'quimica', 8, '2020-04-02'),\n",
              " (99563, 'quimica', 6, '2020-04-02'),\n",
              " (68900, 'quimica', 6, '2020-04-02'),\n",
              " (97865, 'quimica', 6, '2020-04-02'),\n",
              " (67895, 'programacion', 8, '2016-08-17'),\n",
              " (99987, 'programacion', 10, '2016-08-17'),\n",
              " (89056, 'programacion', 10, '2019-07-11'),\n",
              " (101101, 'programacion', 4, '2019-07-11'),\n",
              " (99987, 'discreta', 6, '2019-07-11'),\n",
              " (67895, 'discreta', 9, '2019-07-11'),\n",
              " (99563, 'numerico', 8, '2019-07-11'),\n",
              " (101401, 'numerico', 7, '2019-03-11')]"
            ]
          },
          "metadata": {
            "tags": []
          },
          "execution_count": 10
        }
      ]
    },
    {
      "cell_type": "code",
      "metadata": {
        "id": "P2BQ6JmxJucy",
        "colab_type": "code",
        "colab": {
          "base_uri": "https://localhost:8080/",
          "height": 221
        },
        "outputId": "ca65bb13-8576-490a-96dc-4f8ac0e2f768"
      },
      "source": [
        "alumnosRDD.collect()"
      ],
      "execution_count": 11,
      "outputs": [
        {
          "output_type": "execute_result",
          "data": {
            "text/plain": [
              "[(67895, 'Juan Suarez'),\n",
              " (99987, 'Leonilda Mascarponne'),\n",
              " (101401, 'Maria Juana Subarita'),\n",
              " (96957, 'Liliana Esmeralda'),\n",
              " (100003, 'Juan Cruz Pedraza'),\n",
              " (67896, 'Faustino Boludenga'),\n",
              " (99563, 'Cristina Rizzo'),\n",
              " (68900, 'Romina Luppi'),\n",
              " (97865, 'Domingo Andrada'),\n",
              " (89056, 'Francisco Espuriatti'),\n",
              " (101101, 'Lucila Lamas'),\n",
              " (101401, 'Betiana Soria')]"
            ]
          },
          "metadata": {
            "tags": []
          },
          "execution_count": 11
        }
      ]
    },
    {
      "cell_type": "code",
      "metadata": {
        "id": "MtjHWWiMJzd1",
        "colab_type": "code",
        "colab": {
          "base_uri": "https://localhost:8080/",
          "height": 306
        },
        "outputId": "c56476e5-a5af-4816-b784-2c8fab3e50a0"
      },
      "source": [
        "# Obtengo alumnos aprobados del ultimo anio\n",
        "aprobados_ultimo_anio = notas_alumnosRDD.filter(lambda x: (x[2]>3) and (x[3]>'2018-06-12'))\n",
        "aprobados_ultimo_anio.collect()"
      ],
      "execution_count": 28,
      "outputs": [
        {
          "output_type": "execute_result",
          "data": {
            "text/plain": [
              "[(67895, 'algebra', 8, '2019-10-05'),\n",
              " (99987, 'algebra', 4, '2019-10-05'),\n",
              " (101401, 'algebra', 4, '2019-10-05'),\n",
              " (100003, 'fisica', 8, '2018-11-03'),\n",
              " (99563, 'fisica', 5, '2018-11-03'),\n",
              " (67895, 'fisica', 4, '2018-11-03'),\n",
              " (68900, 'fisica', 7, '2019-05-03'),\n",
              " (67895, 'quimica', 8, '2020-04-02'),\n",
              " (99563, 'quimica', 6, '2020-04-02'),\n",
              " (68900, 'quimica', 6, '2020-04-02'),\n",
              " (97865, 'quimica', 6, '2020-04-02'),\n",
              " (89056, 'programacion', 10, '2019-07-11'),\n",
              " (101101, 'programacion', 4, '2019-07-11'),\n",
              " (99987, 'discreta', 6, '2019-07-11'),\n",
              " (67895, 'discreta', 9, '2019-07-11'),\n",
              " (99563, 'numerico', 8, '2019-07-11'),\n",
              " (101401, 'numerico', 7, '2019-03-11')]"
            ]
          },
          "metadata": {
            "tags": []
          },
          "execution_count": 28
        }
      ]
    },
    {
      "cell_type": "code",
      "metadata": {
        "id": "FXZ4NOM_OO3J",
        "colab_type": "code",
        "colab": {
          "base_uri": "https://localhost:8080/",
          "height": 170
        },
        "outputId": "8afdc7c5-789f-40d5-9c53-ea69b5765e88"
      },
      "source": [
        "# Mapeamos como clave el numero de padron y agrupamos las materias y notas a cada alumno\n",
        "aprobados_ultimo_anio = (aprobados_ultimo_anio.map(lambda x: ((x[0]), (x[1],x[2])))).reduceByKey(lambda x,y: x + y)\n",
        "aprobados_ultimo_anio.collect()"
      ],
      "execution_count": 29,
      "outputs": [
        {
          "output_type": "execute_result",
          "data": {
            "text/plain": [
              "[(68900, ('fisica', 7, 'quimica', 6)),\n",
              " (89056, ('programacion', 10)),\n",
              " (67895, ('algebra', 8, 'fisica', 4, 'quimica', 8, 'discreta', 9)),\n",
              " (99987, ('algebra', 4, 'discreta', 6)),\n",
              " (101401, ('algebra', 4, 'numerico', 7)),\n",
              " (100003, ('fisica', 8)),\n",
              " (99563, ('fisica', 5, 'quimica', 6, 'numerico', 8)),\n",
              " (97865, ('quimica', 6)),\n",
              " (101101, ('programacion', 4))]"
            ]
          },
          "metadata": {
            "tags": []
          },
          "execution_count": 29
        }
      ]
    },
    {
      "cell_type": "code",
      "metadata": {
        "id": "-_DsVfm1PPmC",
        "colab_type": "code",
        "colab": {
          "base_uri": "https://localhost:8080/",
          "height": 34
        },
        "outputId": "f46e2bf7-a763-4e00-999f-5afa0d823161"
      },
      "source": [
        "# A. Cuántos alumnos aprobaron al menos 1 materia en los últimos 2 años\n",
        "aprobados_ultimos_dos_anios = aprobados_ultimo_anio.count()\n",
        "aprobados_ultimos_dos_anios\n"
      ],
      "execution_count": 32,
      "outputs": [
        {
          "output_type": "execute_result",
          "data": {
            "text/plain": [
              "9"
            ]
          },
          "metadata": {
            "tags": []
          },
          "execution_count": 32
        }
      ]
    },
    {
      "cell_type": "code",
      "metadata": {
        "id": "2N6I_2OQPulT",
        "colab_type": "code",
        "colab": {
          "base_uri": "https://localhost:8080/",
          "height": 425
        },
        "outputId": "a0630029-e34e-4c58-fb4a-982ca1c328c2"
      },
      "source": [
        "promedios = (notas_alumnosRDD.map(lambda x: (x[0], (x[2],1))))\n",
        "promedios.collect()"
      ],
      "execution_count": 42,
      "outputs": [
        {
          "output_type": "execute_result",
          "data": {
            "text/plain": [
              "[(67895, (8, 1)),\n",
              " (99987, (4, 1)),\n",
              " (101401, (4, 1)),\n",
              " (96957, (2, 1)),\n",
              " (100003, (2, 1)),\n",
              " (67895, (2, 1)),\n",
              " (67896, (9, 1)),\n",
              " (99987, (5, 1)),\n",
              " (100003, (8, 1)),\n",
              " (99563, (5, 1)),\n",
              " (67895, (4, 1)),\n",
              " (68900, (7, 1)),\n",
              " (67895, (8, 1)),\n",
              " (99563, (6, 1)),\n",
              " (68900, (6, 1)),\n",
              " (97865, (6, 1)),\n",
              " (67895, (8, 1)),\n",
              " (99987, (10, 1)),\n",
              " (89056, (10, 1)),\n",
              " (101101, (4, 1)),\n",
              " (99987, (6, 1)),\n",
              " (67895, (9, 1)),\n",
              " (99563, (8, 1)),\n",
              " (101401, (7, 1))]"
            ]
          },
          "metadata": {
            "tags": []
          },
          "execution_count": 42
        }
      ]
    },
    {
      "cell_type": "code",
      "metadata": {
        "id": "ZsKv9nbQRWMD",
        "colab_type": "code",
        "colab": {
          "base_uri": "https://localhost:8080/",
          "height": 204
        },
        "outputId": "4963c600-227e-4030-c2c8-d33d48d84d4c"
      },
      "source": [
        "# Obtenemos el total de notas y la cantidad de notas\n",
        "promedios_aux = promedios.reduceByKey(lambda x,y: ((x[0]+y[0]) , (x[1] + y[1])))\n",
        "promedios_aux.collect()"
      ],
      "execution_count": 51,
      "outputs": [
        {
          "output_type": "execute_result",
          "data": {
            "text/plain": [
              "[(67896, (9, 1)),\n",
              " (68900, (13, 2)),\n",
              " (89056, (10, 1)),\n",
              " (67895, (39, 6)),\n",
              " (99987, (25, 4)),\n",
              " (101401, (11, 2)),\n",
              " (96957, (2, 1)),\n",
              " (100003, (10, 2)),\n",
              " (99563, (19, 3)),\n",
              " (97865, (6, 1)),\n",
              " (101101, (4, 1))]"
            ]
          },
          "metadata": {
            "tags": []
          },
          "execution_count": 51
        }
      ]
    },
    {
      "cell_type": "code",
      "metadata": {
        "id": "GXVvhSLCSOf8",
        "colab_type": "code",
        "colab": {
          "base_uri": "https://localhost:8080/",
          "height": 204
        },
        "outputId": "bb8b0d7e-868f-4132-cd18-93a23d604eed"
      },
      "source": [
        "# Mapeamos un nuevo RDD con el promedio de cada alumno\n",
        "# B. Un RDD conteniendo el promedio de notas de cada alumno de la forma (padrón, promedio).\n",
        "promedio_final = promedios_aux.map(lambda x: (x[0], (x[1][0]/x[1][1]) ))\n",
        "promedio_final.collect()"
      ],
      "execution_count": 56,
      "outputs": [
        {
          "output_type": "execute_result",
          "data": {
            "text/plain": [
              "[(67896, 9.0),\n",
              " (68900, 6.5),\n",
              " (89056, 10.0),\n",
              " (67895, 6.5),\n",
              " (99987, 6.25),\n",
              " (101401, 5.5),\n",
              " (96957, 2.0),\n",
              " (100003, 5.0),\n",
              " (99563, 6.333333333333333),\n",
              " (97865, 6.0),\n",
              " (101101, 4.0)]"
            ]
          },
          "metadata": {
            "tags": []
          },
          "execution_count": 56
        }
      ]
    },
    {
      "cell_type": "code",
      "metadata": {
        "id": "bZIRjCa5VP7E",
        "colab_type": "code",
        "colab": {
          "base_uri": "https://localhost:8080/",
          "height": 221
        },
        "outputId": "ce3f79a1-d48b-4474-b024-65b89bbc001d"
      },
      "source": [
        "# C. El nombre y apellido del alumno con mejor promedio. Para esto puede utilizarse un segundo RDD alumnos con registros (padron, nombre y apellido).\n",
        "# Vamos a realizar un join entre el RDD promedio_final y alumnosRDD\n",
        "promedios_por_nombre = promedio_final.join(alumnosRDD)\n",
        "promedios_por_nombre.collect()"
      ],
      "execution_count": 57,
      "outputs": [
        {
          "output_type": "execute_result",
          "data": {
            "text/plain": [
              "[(67896, (9.0, 'Faustino Boludenga')),\n",
              " (68900, (6.5, 'Romina Luppi')),\n",
              " (89056, (10.0, 'Francisco Espuriatti')),\n",
              " (101401, (5.5, 'Maria Juana Subarita')),\n",
              " (101401, (5.5, 'Betiana Soria')),\n",
              " (96957, (2.0, 'Liliana Esmeralda')),\n",
              " (97865, (6.0, 'Domingo Andrada')),\n",
              " (101101, (4.0, 'Lucila Lamas')),\n",
              " (67895, (6.5, 'Juan Suarez')),\n",
              " (99987, (6.25, 'Leonilda Mascarponne')),\n",
              " (100003, (5.0, 'Juan Cruz Pedraza')),\n",
              " (99563, (6.333333333333333, 'Cristina Rizzo'))]"
            ]
          },
          "metadata": {
            "tags": []
          },
          "execution_count": 57
        }
      ]
    },
    {
      "cell_type": "code",
      "metadata": {
        "id": "cVnrQSP9WngG",
        "colab_type": "code",
        "colab": {
          "base_uri": "https://localhost:8080/",
          "height": 221
        },
        "outputId": "7f2f4961-37ea-4a3f-b7fb-c0350b291baf"
      },
      "source": [
        "# Mapeamos un nuevo RDD con el nombre y apellido del alumno y la nota promedio\n",
        "promedios_por_nombre_new = promedios_por_nombre.map(lambda x: (x[1][1],x[1][0]))\n",
        "promedios_por_nombre_new.collect()\n"
      ],
      "execution_count": 66,
      "outputs": [
        {
          "output_type": "execute_result",
          "data": {
            "text/plain": [
              "[('Faustino Boludenga', 9.0),\n",
              " ('Romina Luppi', 6.5),\n",
              " ('Francisco Espuriatti', 10.0),\n",
              " ('Maria Juana Subarita', 5.5),\n",
              " ('Betiana Soria', 5.5),\n",
              " ('Liliana Esmeralda', 2.0),\n",
              " ('Domingo Andrada', 6.0),\n",
              " ('Lucila Lamas', 4.0),\n",
              " ('Juan Suarez', 6.5),\n",
              " ('Leonilda Mascarponne', 6.25),\n",
              " ('Juan Cruz Pedraza', 5.0),\n",
              " ('Cristina Rizzo', 6.333333333333333)]"
            ]
          },
          "metadata": {
            "tags": []
          },
          "execution_count": 66
        }
      ]
    },
    {
      "cell_type": "code",
      "metadata": {
        "id": "fHPtrazrZTP4",
        "colab_type": "code",
        "colab": {
          "base_uri": "https://localhost:8080/",
          "height": 221
        },
        "outputId": "95782175-fd36-45fa-bb9d-ed71d1b09afb"
      },
      "source": [
        "# Ordenamos de forma descendente \n",
        "promedios_por_nombre_ascendente = promedios_por_nombre_new.sortBy(lambda x: -x[1])\n",
        "promedios_por_nombre_ascendente.collect()"
      ],
      "execution_count": 69,
      "outputs": [
        {
          "output_type": "execute_result",
          "data": {
            "text/plain": [
              "[('Francisco Espuriatti', 10.0),\n",
              " ('Faustino Boludenga', 9.0),\n",
              " ('Romina Luppi', 6.5),\n",
              " ('Juan Suarez', 6.5),\n",
              " ('Cristina Rizzo', 6.333333333333333),\n",
              " ('Leonilda Mascarponne', 6.25),\n",
              " ('Domingo Andrada', 6.0),\n",
              " ('Maria Juana Subarita', 5.5),\n",
              " ('Betiana Soria', 5.5),\n",
              " ('Juan Cruz Pedraza', 5.0),\n",
              " ('Lucila Lamas', 4.0),\n",
              " ('Liliana Esmeralda', 2.0)]"
            ]
          },
          "metadata": {
            "tags": []
          },
          "execution_count": 69
        }
      ]
    },
    {
      "cell_type": "code",
      "metadata": {
        "id": "r3kCq93LZijb",
        "colab_type": "code",
        "colab": {
          "base_uri": "https://localhost:8080/",
          "height": 34
        },
        "outputId": "0a2a4776-b122-4fba-b689-74c187a03750"
      },
      "source": [
        "# Nos quedamos con el primer registro, el cual contiene al mejor promedio \n",
        "promedios_por_nombre_ascendente.take(1)"
      ],
      "execution_count": 71,
      "outputs": [
        {
          "output_type": "execute_result",
          "data": {
            "text/plain": [
              "[('Francisco Espuriatti', 10.0)]"
            ]
          },
          "metadata": {
            "tags": []
          },
          "execution_count": 71
        }
      ]
    },
    {
      "cell_type": "code",
      "metadata": {
        "id": "iouZ2mI6a-RD",
        "colab_type": "code",
        "colab": {}
      },
      "source": [
        ""
      ],
      "execution_count": 0,
      "outputs": []
    }
  ]
}
{
  "nbformat": 4,
  "nbformat_minor": 0,
  "metadata": {
    "colab": {
      "name": "GuiaSpark-Ejercicio3.ipynb",
      "provenance": [],
      "collapsed_sections": []
    },
    "kernelspec": {
      "name": "python3",
      "display_name": "Python 3"
    }
  },
  "cells": [
    {
      "cell_type": "code",
      "metadata": {
        "id": "KBaXoSMb1lq2",
        "colab_type": "code",
        "outputId": "aa138462-536f-4431-f7b7-0c8e767ad4d3",
        "colab": {
          "base_uri": "https://localhost:8080/",
          "height": 136
        }
      },
      "source": [
        "!pip install pyspark\n",
        "!pip install -U -q PyDrive\n",
        "!apt install openjdk-8-jdk-headless -qq\n",
        "import os\n",
        "os.environ[\"JAVA_HOME\"] = \"/usr/lib/jvm/java-8-openjdk-amd64\""
      ],
      "execution_count": 157,
      "outputs": [
        {
          "output_type": "stream",
          "text": [
            "Requirement already satisfied: pyspark in /usr/local/lib/python3.6/dist-packages (2.4.6)\n",
            "Requirement already satisfied: py4j==0.10.7 in /usr/local/lib/python3.6/dist-packages (from pyspark) (0.10.7)\n",
            "openjdk-8-jdk-headless is already the newest version (8u252-b09-1~18.04).\n",
            "The following package was automatically installed and is no longer required:\n",
            "  libnvidia-common-440\n",
            "Use 'apt autoremove' to remove it.\n",
            "0 upgraded, 0 newly installed, 0 to remove and 43 not upgraded.\n"
          ],
          "name": "stdout"
        }
      ]
    },
    {
      "cell_type": "code",
      "metadata": {
        "id": "pkPmATIy1nIq",
        "colab_type": "code",
        "colab": {}
      },
      "source": [
        "from pydrive.auth import GoogleAuth\n",
        "from pydrive.drive import GoogleDrive\n",
        "from google.colab import auth\n",
        "from oauth2client.client import GoogleCredentials\n",
        "from pyspark.sql import *\n",
        "from pyspark.sql.functions import *\n",
        "from pyspark import SparkContext\n",
        "from pyspark.sql import SQLContext\n",
        "import pandas as pd"
      ],
      "execution_count": 0,
      "outputs": []
    },
    {
      "cell_type": "code",
      "metadata": {
        "id": "irT7cAj22YL6",
        "colab_type": "code",
        "colab": {}
      },
      "source": [
        "# create the Spark Session\n",
        "spark = SparkSession.builder.getOrCreate()\n",
        "\n",
        "# create the Spark Context\n",
        "sc = spark.sparkContext"
      ],
      "execution_count": 0,
      "outputs": []
    },
    {
      "cell_type": "markdown",
      "metadata": {
        "id": "mTIZ66hM29Do",
        "colab_type": "text"
      },
      "source": [
        "## 3- Se tiene un RDD con información de vuelos programados con la forma (número de vuelo,                código de aerolínea, código de aeropuerto de salida, código de aeropuerto de llegada, fecha de               salida AAAAMMDD, hora de salida HH:MM, fecha de llegada AAAAMMDD, hora de llegada             HH:MM). A su vez, se cuenta con el registro actualizado del estado de los vuelos que fueron                 ocurriendo, con la forma (número de vuelo, aerolínea, fecha de salida AAAAMMDD, hora de              salida HH:MM, fecha de llegada AAAAMMDD, hora de llegada HH:MM, estado). En base al              estado, podría contar con algún dato en blanco, por ejemplo si el vuelo fue cancelado no tendrá                 información de fechas y horas, si el vuelo se encuentra aún en curso, no contendrá información                de la llegada. Se pide resolver utilizando PySpark: A. Cuál es el aeropuerto con mayor tránsito. B. Cuál es la aerolínea con mayor cantidad de vuelos. C. Cuál es la aerolínea con mayor cantidad de cancelaciones. D. Cuál es el vuelo (numero de vuelo + fecha) con mayor retraso en el horario de salida. E. Cuál es el vuelo (numero de vuelo + fecha) con mayor retraso en el horario de llegada. F. Cuál es la aerolínea más puntual."
      ]
    },
    {
      "cell_type": "code",
      "metadata": {
        "id": "IIRrSH--2gm4",
        "colab_type": "code",
        "colab": {}
      },
      "source": [
        "vuelos_estados_doc  =[(98,'AS','1/3/2020','13:45','3/4/2020','1:30','delayed'),\n",
        "(2336,'AA','1/3/2020','14:30','1/3/2020','16:30','normal'),\n",
        "(840,'US','1/3/2020','15:30','1/3/2020','18:30','normal'),\n",
        "(258,'AA','2/4/2020','16:35','2/4/2020','21:58','delayed'),\n",
        "(135,'AS','3/4/2020','17:30','3/4/2020','21:45','normal'),\n",
        "(806,'DL','3/4/2020','18:55','4/4/2020','6:50','delayed'),\n",
        "(612,'NK','1/3/2020','1:50','1/3/2020','7:20','delayed'),\n",
        "(2013,'US','5/3/2020','2:20','6/3/2020','1:20','normal'),\n",
        "(1112,'AA','1/3/2020','3:20','2/4/2020','1:20','normal'),\n",
        "(1173,'DL','2/4/2020','4:20','3/4/2020','13:30','normal'),\n",
        "(2336,'DL','','','','','cancelled'),\n",
        "(1674,'AA','5/3/2020','8:20','','','on course'),\n",
        "(1434,'DL','','','','','cancelled'),\n",
        "(2324,'DL','1/3/2020','12:00','1/3/2020','16:00','delayed'),\n",
        "(2440,'DL','1/3/2020','13:00','2/4/2020','16:00','delayed'),\n",
        "(108,'AS','3/4/2020','14:00','4/4/2020','5:20','delayed'),\n",
        "(1560,'DL','5/3/2020','15:00','','','on course'),\n",
        "(1197,'UA','2/4/2020','16:00','3/4/2020','3:20','normal'),\n",
        "(122,'AS','5/3/2020','17:00','6/3/2020','3:20','normal'),\n",
        "(1670,'DL','','','','','cancelled'),\n",
        "(520,'NK','5/3/2020','21:45','6/4/2020','6:20','normal'),\n",
        "(371,'AA','2/4/2020','22:45','3/4/2020','','on course'),\n",
        "(214,'NK','5/3/2020','23:45','6/3/2020','1:45','normal'),\n",
        "(115,'AA','6/3/2020','0:45','6/3/2020','7:15','normal'),\n",
        "(1450,'DL','','','','','cancelled'),\n",
        "(1545,'UA','3/4/2020','6:15','3/4/2020','9:15','normal'),\n",
        "(130,'AS','5/3/2020','7:15','6/3/2020','17:00','delayed'),\n",
        "(597,'NK','6/3/2020','8:15','','','on course'),\n",
        "(413,'US','3/4/2020','9:15','5/3/2020','6:20','normal')]\n",
        "\n",
        "vuelos_programados_doc = [(98,'AS','ANC','SEA','1/3/2020','13:30','2/4/2020','1:20'),\n",
        "(2336,'AA','LAX','PBI','1/3/2020','14:30','1/3/2020','16:30'),\n",
        "(840,'US','SFO','CLT','1/3/2020','15:30','1/3/2020','18:30'),\n",
        "(258,'AA','LAX','MIA','2/4/2020','16:30','2/4/2020','21:45'),\n",
        "(135,'AS','SEA','ANC','3/4/2020','17:30','3/4/2020','21:45'),\n",
        "(806,'DL','SFO','MSP','3/4/2020','18:30','4/4/2020','6:20'),\n",
        "(612,'NK','LAS','MSP','1/3/2020','1:20','1/3/2020','6:20'),\n",
        "(2013,'US','LAX','CLT','5/3/2020','2:20','6/3/2020','1:20'),\n",
        "(1112,'AA','SFO','DFW','1/3/2020','3:20','2/4/2020','1:20'),\n",
        "(1173,'DL','LAS','ATL','2/4/2020','4:20','3/4/2020','13:30'),\n",
        "(2336,'DL','DEN','ATL','3/4/2020','5:20','4/4/2020','13:30'),\n",
        "(1674,'AA','LAS','MIA','5/3/2020','6:20','6/3/2020','11:00'),\n",
        "(1434,'DL','LAX','MSP','2/4/2020','11:00','3/4/2020','4:20'),\n",
        "(2324,'DL','SLC','ATL','1/3/2020','12:00','1/3/2020','15:00'),\n",
        "(2440,'DL','SEA','MSP','1/3/2020','13:00','2/4/2020','15:00'),\n",
        "(108,'AS','ANC','SEA','3/4/2020','14:00','4/4/2020','4:20'),\n",
        "(1560,'DL','ANC','SEA','5/3/2020','15:00','6/3/2020','4:20'),\n",
        "(1197,'UA','SFO','IAH','2/4/2020','16:00','3/4/2020','3:20'),\n",
        "(122,'AS','ANC','PDX','5/3/2020','17:00','6/3/2020','3:20'),\n",
        "(1670,'DL','PDX','MSP','3/4/2020','18:00','4/4/2020','23:45'),\n",
        "(520,'NK','LAS','MCI','5/3/2020','21:45','6/4/2020','6:20'),\n",
        "(371,'AA','SEA','MIA','2/4/2020','22:45','3/4/2020','0:45'),\n",
        "(214,'NK','LAS','DFW','5/3/2020','23:45','6/3/2020','1:45'),\n",
        "(115,'AA','LAX','MIA','6/3/2020','0:45','6/3/2020','7:15'),\n",
        "(1450,'DL','LAS','MSP','2/4/2020','1:45','3/4/2020','21:45'),\n",
        "(1545,'UA','LAX','IAH','3/4/2020','6:15','3/4/2020','9:15'),\n",
        "(130,'AS','FAI','SEA','5/3/2020','7:15','6/3/2020','16:00'),\n",
        "(597,'NK','MSP','FLL','6/3/2020','8:15','6/3/2020','16:00'),\n",
        "(413,'US','LAS','CLT','3/4/2020','9:15','4/4/2020','6:20')]"
      ],
      "execution_count": 0,
      "outputs": []
    },
    {
      "cell_type": "code",
      "metadata": {
        "id": "7XybL9W1hMwP",
        "colab_type": "code",
        "colab": {}
      },
      "source": [
        "vuelos_programadosRDD = sc.parallelize(vuelos_programados_doc)\n",
        "vuelos_estadosRDD = sc.parallelize(vuelos_estados_doc)"
      ],
      "execution_count": 0,
      "outputs": []
    },
    {
      "cell_type": "code",
      "metadata": {
        "id": "XBzZmvrQkY5t",
        "colab_type": "code",
        "outputId": "b34069d7-a045-4ddd-e4b5-68acbe4aee7a",
        "colab": {
          "base_uri": "https://localhost:8080/",
          "height": 510
        }
      },
      "source": [
        "# (codigo_vuelo, codigo_aerolinea, codigo_aerop_salida, cod_aerop_llegada, fecha_salida, hora_salida, fecha_llegada, hora_llegada)\n",
        "vuelos_programadosRDD.collect()"
      ],
      "execution_count": 185,
      "outputs": [
        {
          "output_type": "execute_result",
          "data": {
            "text/plain": [
              "[(98, 'AS', 'ANC', 'SEA', '1/3/2020', '13:30', '2/4/2020', '1:20'),\n",
              " (2336, 'AA', 'LAX', 'PBI', '1/3/2020', '14:30', '1/3/2020', '16:30'),\n",
              " (840, 'US', 'SFO', 'CLT', '1/3/2020', '15:30', '1/3/2020', '18:30'),\n",
              " (258, 'AA', 'LAX', 'MIA', '2/4/2020', '16:30', '2/4/2020', '21:45'),\n",
              " (135, 'AS', 'SEA', 'ANC', '3/4/2020', '17:30', '3/4/2020', '21:45'),\n",
              " (806, 'DL', 'SFO', 'MSP', '3/4/2020', '18:30', '4/4/2020', '6:20'),\n",
              " (612, 'NK', 'LAS', 'MSP', '1/3/2020', '1:20', '1/3/2020', '6:20'),\n",
              " (2013, 'US', 'LAX', 'CLT', '5/3/2020', '2:20', '6/3/2020', '1:20'),\n",
              " (1112, 'AA', 'SFO', 'DFW', '1/3/2020', '3:20', '2/4/2020', '1:20'),\n",
              " (1173, 'DL', 'LAS', 'ATL', '2/4/2020', '4:20', '3/4/2020', '13:30'),\n",
              " (2336, 'DL', 'DEN', 'ATL', '3/4/2020', '5:20', '4/4/2020', '13:30'),\n",
              " (1674, 'AA', 'LAS', 'MIA', '5/3/2020', '6:20', '6/3/2020', '11:00'),\n",
              " (1434, 'DL', 'LAX', 'MSP', '2/4/2020', '11:00', '3/4/2020', '4:20'),\n",
              " (2324, 'DL', 'SLC', 'ATL', '1/3/2020', '12:00', '1/3/2020', '15:00'),\n",
              " (2440, 'DL', 'SEA', 'MSP', '1/3/2020', '13:00', '2/4/2020', '15:00'),\n",
              " (108, 'AS', 'ANC', 'SEA', '3/4/2020', '14:00', '4/4/2020', '4:20'),\n",
              " (1560, 'DL', 'ANC', 'SEA', '5/3/2020', '15:00', '6/3/2020', '4:20'),\n",
              " (1197, 'UA', 'SFO', 'IAH', '2/4/2020', '16:00', '3/4/2020', '3:20'),\n",
              " (122, 'AS', 'ANC', 'PDX', '5/3/2020', '17:00', '6/3/2020', '3:20'),\n",
              " (1670, 'DL', 'PDX', 'MSP', '3/4/2020', '18:00', '4/4/2020', '23:45'),\n",
              " (520, 'NK', 'LAS', 'MCI', '5/3/2020', '21:45', '6/4/2020', '6:20'),\n",
              " (371, 'AA', 'SEA', 'MIA', '2/4/2020', '22:45', '3/4/2020', '0:45'),\n",
              " (214, 'NK', 'LAS', 'DFW', '5/3/2020', '23:45', '6/3/2020', '1:45'),\n",
              " (115, 'AA', 'LAX', 'MIA', '6/3/2020', '0:45', '6/3/2020', '7:15'),\n",
              " (1450, 'DL', 'LAS', 'MSP', '2/4/2020', '1:45', '3/4/2020', '21:45'),\n",
              " (1545, 'UA', 'LAX', 'IAH', '3/4/2020', '6:15', '3/4/2020', '9:15'),\n",
              " (130, 'AS', 'FAI', 'SEA', '5/3/2020', '7:15', '6/3/2020', '16:00'),\n",
              " (597, 'NK', 'MSP', 'FLL', '6/3/2020', '8:15', '6/3/2020', '16:00'),\n",
              " (413, 'US', 'LAS', 'CLT', '3/4/2020', '9:15', '4/4/2020', '6:20')]"
            ]
          },
          "metadata": {
            "tags": []
          },
          "execution_count": 185
        }
      ]
    },
    {
      "cell_type": "code",
      "metadata": {
        "id": "As8H1-Uek5uO",
        "colab_type": "code",
        "outputId": "df769a24-f827-4597-a328-41e0c41f1035",
        "colab": {
          "base_uri": "https://localhost:8080/",
          "height": 510
        }
      },
      "source": [
        "# (codigo_vuelo, codigo_aerolinea, fecha_salida, hora_salida, fecha_llegada, hora_llegada, status)\n",
        "vuelos_estadosRDD.collect()"
      ],
      "execution_count": 186,
      "outputs": [
        {
          "output_type": "execute_result",
          "data": {
            "text/plain": [
              "[(98, 'AS', '1/3/2020', '13:45', '3/4/2020', '1:30', 'delayed'),\n",
              " (2336, 'AA', '1/3/2020', '14:30', '1/3/2020', '16:30', 'normal'),\n",
              " (840, 'US', '1/3/2020', '15:30', '1/3/2020', '18:30', 'normal'),\n",
              " (258, 'AA', '2/4/2020', '16:35', '2/4/2020', '21:58', 'delayed'),\n",
              " (135, 'AS', '3/4/2020', '17:30', '3/4/2020', '21:45', 'normal'),\n",
              " (806, 'DL', '3/4/2020', '18:55', '4/4/2020', '6:50', 'delayed'),\n",
              " (612, 'NK', '1/3/2020', '1:50', '1/3/2020', '7:20', 'delayed'),\n",
              " (2013, 'US', '5/3/2020', '2:20', '6/3/2020', '1:20', 'normal'),\n",
              " (1112, 'AA', '1/3/2020', '3:20', '2/4/2020', '1:20', 'normal'),\n",
              " (1173, 'DL', '2/4/2020', '4:20', '3/4/2020', '13:30', 'normal'),\n",
              " (2336, 'DL', '', '', '', '', 'cancelled'),\n",
              " (1674, 'AA', '5/3/2020', '8:20', '', '', 'on course'),\n",
              " (1434, 'DL', '', '', '', '', 'cancelled'),\n",
              " (2324, 'DL', '1/3/2020', '12:00', '1/3/2020', '16:00', 'delayed'),\n",
              " (2440, 'DL', '1/3/2020', '13:00', '2/4/2020', '16:00', 'delayed'),\n",
              " (108, 'AS', '3/4/2020', '14:00', '4/4/2020', '5:20', 'delayed'),\n",
              " (1560, 'DL', '5/3/2020', '15:00', '', '', 'on course'),\n",
              " (1197, 'UA', '2/4/2020', '16:00', '3/4/2020', '3:20', 'normal'),\n",
              " (122, 'AS', '5/3/2020', '17:00', '6/3/2020', '3:20', 'normal'),\n",
              " (1670, 'DL', '', '', '', '', 'cancelled'),\n",
              " (520, 'NK', '5/3/2020', '21:45', '6/4/2020', '6:20', 'normal'),\n",
              " (371, 'AA', '2/4/2020', '22:45', '3/4/2020', '', 'on course'),\n",
              " (214, 'NK', '5/3/2020', '23:45', '6/3/2020', '1:45', 'normal'),\n",
              " (115, 'AA', '6/3/2020', '0:45', '6/3/2020', '7:15', 'normal'),\n",
              " (1450, 'DL', '', '', '', '', 'cancelled'),\n",
              " (1545, 'UA', '3/4/2020', '6:15', '3/4/2020', '9:15', 'normal'),\n",
              " (130, 'AS', '5/3/2020', '7:15', '6/3/2020', '17:00', 'delayed'),\n",
              " (597, 'NK', '6/3/2020', '8:15', '', '', 'on course'),\n",
              " (413, 'US', '3/4/2020', '9:15', '5/3/2020', '6:20', 'normal')]"
            ]
          },
          "metadata": {
            "tags": []
          },
          "execution_count": 186
        }
      ]
    },
    {
      "cell_type": "code",
      "metadata": {
        "id": "92zwVxa9k884",
        "colab_type": "code",
        "outputId": "b633e15d-0f2b-4f02-886e-bdc6e6755720",
        "colab": {
          "base_uri": "https://localhost:8080/",
          "height": 187
        }
      },
      "source": [
        "# A. Cuál es el aeropuerto con mayor tránsito\n",
        "# Genero dos RDDs con los codigos de aeropuertos de partida y otro de llegada\n",
        "aeropuertos_salidas = (vuelos_programadosRDD.map(lambda x: (x[2],1))).reduceByKey(lambda x,y: x + y)\n",
        "aeropuertos_salidas.collect()"
      ],
      "execution_count": 164,
      "outputs": [
        {
          "output_type": "execute_result",
          "data": {
            "text/plain": [
              "[('LAX', 6),\n",
              " ('SFO', 4),\n",
              " ('SEA', 3),\n",
              " ('LAS', 7),\n",
              " ('DEN', 1),\n",
              " ('PDX', 1),\n",
              " ('FAI', 1),\n",
              " ('MSP', 1),\n",
              " ('ANC', 4),\n",
              " ('SLC', 1)]"
            ]
          },
          "metadata": {
            "tags": []
          },
          "execution_count": 164
        }
      ]
    },
    {
      "cell_type": "code",
      "metadata": {
        "id": "m0yRGT-rq1jm",
        "colab_type": "code",
        "outputId": "8618e85f-6fa8-4518-cd80-d72e344b258b",
        "colab": {
          "base_uri": "https://localhost:8080/",
          "height": 221
        }
      },
      "source": [
        "aeropuertos_llegadas = (vuelos_programadosRDD.map(lambda x: (x[3],1))).reduceByKey(lambda x,y: x + y)\n",
        "aeropuertos_llegadas.collect()"
      ],
      "execution_count": 165,
      "outputs": [
        {
          "output_type": "execute_result",
          "data": {
            "text/plain": [
              "[('SEA', 4),\n",
              " ('PBI', 1),\n",
              " ('CLT', 3),\n",
              " ('MSP', 6),\n",
              " ('ATL', 3),\n",
              " ('IAH', 2),\n",
              " ('PDX', 1),\n",
              " ('FLL', 1),\n",
              " ('MIA', 4),\n",
              " ('ANC', 1),\n",
              " ('DFW', 2),\n",
              " ('MCI', 1)]"
            ]
          },
          "metadata": {
            "tags": []
          },
          "execution_count": 165
        }
      ]
    },
    {
      "cell_type": "code",
      "metadata": {
        "id": "jBTJa4J7rFwt",
        "colab_type": "code",
        "outputId": "e6f20126-9c24-4481-9136-fd0e1124ef53",
        "colab": {
          "base_uri": "https://localhost:8080/",
          "height": 323
        }
      },
      "source": [
        "# Juntamos los RDD para contabilizar los movimientos totales (salidas y llegadas)\n",
        "aeropuertos_transito = (aeropuertos_salidas.union(aeropuertos_llegadas)).reduceByKey(lambda x,y: x + y).sortBy(lambda x: -x[1])\n",
        "aeropuertos_transito.collect()"
      ],
      "execution_count": 166,
      "outputs": [
        {
          "output_type": "execute_result",
          "data": {
            "text/plain": [
              "[('SEA', 7),\n",
              " ('LAS', 7),\n",
              " ('MSP', 7),\n",
              " ('LAX', 6),\n",
              " ('ANC', 5),\n",
              " ('SFO', 4),\n",
              " ('MIA', 4),\n",
              " ('CLT', 3),\n",
              " ('ATL', 3),\n",
              " ('PDX', 2),\n",
              " ('IAH', 2),\n",
              " ('DFW', 2),\n",
              " ('DEN', 1),\n",
              " ('FAI', 1),\n",
              " ('PBI', 1),\n",
              " ('FLL', 1),\n",
              " ('SLC', 1),\n",
              " ('MCI', 1)]"
            ]
          },
          "metadata": {
            "tags": []
          },
          "execution_count": 166
        }
      ]
    },
    {
      "cell_type": "code",
      "metadata": {
        "id": "vLLnEn2grZWI",
        "colab_type": "code",
        "outputId": "fed6842e-b774-43f7-ee6b-57afb2af1bdd",
        "colab": {
          "base_uri": "https://localhost:8080/",
          "height": 34
        }
      },
      "source": [
        "# Aeropuertos con mayor transito\n",
        "aeropuertos_transito.take(3)"
      ],
      "execution_count": 167,
      "outputs": [
        {
          "output_type": "execute_result",
          "data": {
            "text/plain": [
              "[('SEA', 7), ('LAS', 7), ('MSP', 7)]"
            ]
          },
          "metadata": {
            "tags": []
          },
          "execution_count": 167
        }
      ]
    },
    {
      "cell_type": "code",
      "metadata": {
        "id": "yLE0nM9esJ2r",
        "colab_type": "code",
        "outputId": "e643d1e1-f9bb-44f1-ff06-2f0d0d5b0abe",
        "colab": {
          "base_uri": "https://localhost:8080/",
          "height": 34
        }
      },
      "source": [
        "# B. Cuál es la aerolínea con mayor cantidad de vuelos?\n",
        "# Genero un RDD con las aerolineas y contabilizamos el total de vuelos (planificados)\n",
        "aerolineas_cantidad_vuelos = (vuelos_programadosRDD.map(lambda x: (x[1],1))).reduceByKey(lambda x,y: x + y).sortBy(lambda x: -x[1])\n",
        "aerolineas_cantidad_vuelos.take(1)"
      ],
      "execution_count": 168,
      "outputs": [
        {
          "output_type": "execute_result",
          "data": {
            "text/plain": [
              "[('DL', 9)]"
            ]
          },
          "metadata": {
            "tags": []
          },
          "execution_count": 168
        }
      ]
    },
    {
      "cell_type": "code",
      "metadata": {
        "id": "TvX4u9YLtVE3",
        "colab_type": "code",
        "outputId": "49054531-4f28-41a7-b983-b6543bfaaf45",
        "colab": {
          "base_uri": "https://localhost:8080/",
          "height": 34
        }
      },
      "source": [
        "# C. Cuál es la aerolínea con mayor cantidad de cancelaciones?\n",
        "aerolineas_cantidad_cancelaciones = (vuelos_estadosRDD.map(lambda x: (x[1],(1 if x[6]=='cancelled' else 0 )))).reduceByKey(lambda x,y: x+y).sortBy(lambda x: -x[1])\n",
        "aerolineas_cantidad_cancelaciones.take(1)"
      ],
      "execution_count": 169,
      "outputs": [
        {
          "output_type": "execute_result",
          "data": {
            "text/plain": [
              "[('DL', 4)]"
            ]
          },
          "metadata": {
            "tags": []
          },
          "execution_count": 169
        }
      ]
    },
    {
      "cell_type": "code",
      "metadata": {
        "id": "xJOOrhDUuRh0",
        "colab_type": "code",
        "outputId": "5587c372-0475-4ba1-dd7e-bbe6ef4a706e",
        "colab": {
          "base_uri": "https://localhost:8080/",
          "height": 442
        }
      },
      "source": [
        "#  D. Cuál es el vuelo (numero de vuelo + fecha) con mayor retraso en el horario de salida?\n",
        "# Generamos los RDDs con los datos necesarios (no consideramos los vuelos cancelados)\n",
        "vuelos_retraso_salida = (vuelos_estadosRDD.map(lambda x: (x[0],x[3]))).filter(lambda x: x[1]!='')\n",
        "vuelos_retraso_salida.collect()"
      ],
      "execution_count": 170,
      "outputs": [
        {
          "output_type": "execute_result",
          "data": {
            "text/plain": [
              "[(98, '13:45'),\n",
              " (2336, '14:30'),\n",
              " (840, '15:30'),\n",
              " (258, '16:35'),\n",
              " (135, '17:30'),\n",
              " (806, '18:55'),\n",
              " (612, '1:50'),\n",
              " (2013, '2:20'),\n",
              " (1112, '3:20'),\n",
              " (1173, '4:20'),\n",
              " (1674, '8:20'),\n",
              " (2324, '12:00'),\n",
              " (2440, '13:00'),\n",
              " (108, '14:00'),\n",
              " (1560, '15:00'),\n",
              " (1197, '16:00'),\n",
              " (122, '17:00'),\n",
              " (520, '21:45'),\n",
              " (371, '22:45'),\n",
              " (214, '23:45'),\n",
              " (115, '0:45'),\n",
              " (1545, '6:15'),\n",
              " (130, '7:15'),\n",
              " (597, '8:15'),\n",
              " (413, '9:15')]"
            ]
          },
          "metadata": {
            "tags": []
          },
          "execution_count": 170
        }
      ]
    },
    {
      "cell_type": "code",
      "metadata": {
        "id": "eUBTU2yWBEoV",
        "colab_type": "code",
        "outputId": "f7b47593-45aa-43d4-cceb-18eb652060bc",
        "colab": {
          "base_uri": "https://localhost:8080/",
          "height": 442
        }
      },
      "source": [
        "# Generamos los valores horarios en dos campos distintos para poder operarlos\n",
        "vuelos_retraso_salida_formato = vuelos_retraso_salida.map(lambda x: (x[0], x[1].split(':')))\n",
        "vuelos_retraso_salida_formato.collect()"
      ],
      "execution_count": 171,
      "outputs": [
        {
          "output_type": "execute_result",
          "data": {
            "text/plain": [
              "[(98, ['13', '45']),\n",
              " (2336, ['14', '30']),\n",
              " (840, ['15', '30']),\n",
              " (258, ['16', '35']),\n",
              " (135, ['17', '30']),\n",
              " (806, ['18', '55']),\n",
              " (612, ['1', '50']),\n",
              " (2013, ['2', '20']),\n",
              " (1112, ['3', '20']),\n",
              " (1173, ['4', '20']),\n",
              " (1674, ['8', '20']),\n",
              " (2324, ['12', '00']),\n",
              " (2440, ['13', '00']),\n",
              " (108, ['14', '00']),\n",
              " (1560, ['15', '00']),\n",
              " (1197, ['16', '00']),\n",
              " (122, ['17', '00']),\n",
              " (520, ['21', '45']),\n",
              " (371, ['22', '45']),\n",
              " (214, ['23', '45']),\n",
              " (115, ['0', '45']),\n",
              " (1545, ['6', '15']),\n",
              " (130, ['7', '15']),\n",
              " (597, ['8', '15']),\n",
              " (413, ['9', '15'])]"
            ]
          },
          "metadata": {
            "tags": []
          },
          "execution_count": 171
        }
      ]
    },
    {
      "cell_type": "code",
      "metadata": {
        "id": "SCeR8CzRN6OL",
        "colab_type": "code",
        "outputId": "db06558a-d660-47c3-adee-ff7a0b52cf55",
        "colab": {
          "base_uri": "https://localhost:8080/",
          "height": 510
        }
      },
      "source": [
        "# El otro RDD\n",
        "vuelos_plan_salida = vuelos_programadosRDD.map(lambda x: (x[0],x[5]))\n",
        "vuelos_plan_salida.collect()"
      ],
      "execution_count": 172,
      "outputs": [
        {
          "output_type": "execute_result",
          "data": {
            "text/plain": [
              "[(98, '13:30'),\n",
              " (2336, '14:30'),\n",
              " (840, '15:30'),\n",
              " (258, '16:30'),\n",
              " (135, '17:30'),\n",
              " (806, '18:30'),\n",
              " (612, '1:20'),\n",
              " (2013, '2:20'),\n",
              " (1112, '3:20'),\n",
              " (1173, '4:20'),\n",
              " (2336, '5:20'),\n",
              " (1674, '6:20'),\n",
              " (1434, '11:00'),\n",
              " (2324, '12:00'),\n",
              " (2440, '13:00'),\n",
              " (108, '14:00'),\n",
              " (1560, '15:00'),\n",
              " (1197, '16:00'),\n",
              " (122, '17:00'),\n",
              " (1670, '18:00'),\n",
              " (520, '21:45'),\n",
              " (371, '22:45'),\n",
              " (214, '23:45'),\n",
              " (115, '0:45'),\n",
              " (1450, '1:45'),\n",
              " (1545, '6:15'),\n",
              " (130, '7:15'),\n",
              " (597, '8:15'),\n",
              " (413, '9:15')]"
            ]
          },
          "metadata": {
            "tags": []
          },
          "execution_count": 172
        }
      ]
    },
    {
      "cell_type": "code",
      "metadata": {
        "id": "3fOJbWfs_I8I",
        "colab_type": "code",
        "outputId": "cd92b5d5-41f7-41c9-919c-5034fa58da28",
        "colab": {
          "base_uri": "https://localhost:8080/",
          "height": 510
        }
      },
      "source": [
        "# Generamos los valores horarios en dos campos distintos para poder operarlos\n",
        "vuelos_plan_salida_formato = vuelos_plan_salida.map(lambda x: (x[0], x[1].split(':')))\n",
        "vuelos_plan_salida_formato.collect()"
      ],
      "execution_count": 173,
      "outputs": [
        {
          "output_type": "execute_result",
          "data": {
            "text/plain": [
              "[(98, ['13', '30']),\n",
              " (2336, ['14', '30']),\n",
              " (840, ['15', '30']),\n",
              " (258, ['16', '30']),\n",
              " (135, ['17', '30']),\n",
              " (806, ['18', '30']),\n",
              " (612, ['1', '20']),\n",
              " (2013, ['2', '20']),\n",
              " (1112, ['3', '20']),\n",
              " (1173, ['4', '20']),\n",
              " (2336, ['5', '20']),\n",
              " (1674, ['6', '20']),\n",
              " (1434, ['11', '00']),\n",
              " (2324, ['12', '00']),\n",
              " (2440, ['13', '00']),\n",
              " (108, ['14', '00']),\n",
              " (1560, ['15', '00']),\n",
              " (1197, ['16', '00']),\n",
              " (122, ['17', '00']),\n",
              " (1670, ['18', '00']),\n",
              " (520, ['21', '45']),\n",
              " (371, ['22', '45']),\n",
              " (214, ['23', '45']),\n",
              " (115, ['0', '45']),\n",
              " (1450, ['1', '45']),\n",
              " (1545, ['6', '15']),\n",
              " (130, ['7', '15']),\n",
              " (597, ['8', '15']),\n",
              " (413, ['9', '15'])]"
            ]
          },
          "metadata": {
            "tags": []
          },
          "execution_count": 173
        }
      ]
    },
    {
      "cell_type": "code",
      "metadata": {
        "id": "0v3PRVjTHHHe",
        "colab_type": "code",
        "outputId": "2fbc96cb-598b-4422-dae0-a1a2299de6e1",
        "colab": {
          "base_uri": "https://localhost:8080/",
          "height": 459
        }
      },
      "source": [
        "# Se obtiene un nuevo RDD donde el primer elemento corresponde a el tiempo real y el segundo campo al planificado\n",
        "diferencia_real_vs_plan_salida =  vuelos_retraso_salida_formato.join(vuelos_plan_salida_formato)\n",
        "diferencia_real_vs_plan_salida.collect()"
      ],
      "execution_count": 195,
      "outputs": [
        {
          "output_type": "execute_result",
          "data": {
            "text/plain": [
              "[(2336, (['14', '30'], ['14', '30'])),\n",
              " (2336, (['14', '30'], ['5', '20'])),\n",
              " (840, (['15', '30'], ['15', '30'])),\n",
              " (612, (['1', '50'], ['1', '20'])),\n",
              " (1112, (['3', '20'], ['3', '20'])),\n",
              " (2324, (['12', '00'], ['12', '00'])),\n",
              " (2440, (['13', '00'], ['13', '00'])),\n",
              " (108, (['14', '00'], ['14', '00'])),\n",
              " (1560, (['15', '00'], ['15', '00'])),\n",
              " (520, (['21', '45'], ['21', '45'])),\n",
              " (2013, (['2', '20'], ['2', '20'])),\n",
              " (1173, (['4', '20'], ['4', '20'])),\n",
              " (1197, (['16', '00'], ['16', '00'])),\n",
              " (1545, (['6', '15'], ['6', '15'])),\n",
              " (597, (['8', '15'], ['8', '15'])),\n",
              " (413, (['9', '15'], ['9', '15'])),\n",
              " (98, (['13', '45'], ['13', '30'])),\n",
              " (258, (['16', '35'], ['16', '30'])),\n",
              " (806, (['18', '55'], ['18', '30'])),\n",
              " (1674, (['8', '20'], ['6', '20'])),\n",
              " (122, (['17', '00'], ['17', '00'])),\n",
              " (214, (['23', '45'], ['23', '45'])),\n",
              " (130, (['7', '15'], ['7', '15'])),\n",
              " (135, (['17', '30'], ['17', '30'])),\n",
              " (371, (['22', '45'], ['22', '45'])),\n",
              " (115, (['0', '45'], ['0', '45']))]"
            ]
          },
          "metadata": {
            "tags": []
          },
          "execution_count": 195
        }
      ]
    },
    {
      "cell_type": "code",
      "metadata": {
        "id": "_o-d5WkIHZv_",
        "colab_type": "code",
        "colab": {}
      },
      "source": [
        "# La comparacion sr hace campo a campo (horaReal vs horaPlan y minReal vs minPlan)\n",
        "# Se calculan las diferencias horarias de la siguiente forma: (horaReal - horaPlanificada)*60 + (minReal - minPlanificado)\n",
        "# El resultado de la mora se da en minutos\n",
        "vuelos_moras_en_minutos_salida = (diferencia_real_vs_plan_salida.map(lambda x: (x[0], ((int(x[1][0][0]) - int(x[1][1][0]))*60) + (int(x[1][0][1]) - int(x[1][1][1])))))"
      ],
      "execution_count": 0,
      "outputs": []
    },
    {
      "cell_type": "code",
      "metadata": {
        "id": "ucXV87uUUjIv",
        "colab_type": "code",
        "outputId": "297e1e1a-8c79-4003-81a2-44f04255f635",
        "colab": {
          "base_uri": "https://localhost:8080/",
          "height": 34
        }
      },
      "source": [
        "fechas_vuelos = vuelos_programadosRDD.map(lambda x: (x[0],x[4]))\n",
        "vuelos_moras_por_fecha_en_minutos_salida_aux = vuelos_moras_en_minutos_salida.join(fechas_vuelos)\n",
        "vuelos_moras_por_fecha_en_minutos_salida = (vuelos_moras_por_fecha_en_minutos_salida_aux.map(lambda x: (str(x[0]) + '-' + x[1][1], x[1][0]))).sortBy(lambda x: -x[1])\n",
        "vuelos_moras_por_fecha_en_minutos_salida.take(1)"
      ],
      "execution_count": 197,
      "outputs": [
        {
          "output_type": "execute_result",
          "data": {
            "text/plain": [
              "[('2336-1/3/2020', 550)]"
            ]
          },
          "metadata": {
            "tags": []
          },
          "execution_count": 197
        }
      ]
    },
    {
      "cell_type": "code",
      "metadata": {
        "id": "bbcU0Ody6PSj",
        "colab_type": "code",
        "colab": {
          "base_uri": "https://localhost:8080/",
          "height": 374
        },
        "outputId": "3308d314-9c22-46aa-979f-6b36d5073ef3"
      },
      "source": [
        "# E. Cuál es el vuelo (numero de vuelo + fecha) con mayor retraso en el horario de llegada?\n",
        "vuelos_retraso_llegada = (vuelos_estadosRDD.map(lambda x: (x[0],x[5]))).filter(lambda x: x[1]!='')\n",
        "vuelos_retraso_llegada.collect()"
      ],
      "execution_count": 198,
      "outputs": [
        {
          "output_type": "execute_result",
          "data": {
            "text/plain": [
              "[(98, '1:30'),\n",
              " (2336, '16:30'),\n",
              " (840, '18:30'),\n",
              " (258, '21:58'),\n",
              " (135, '21:45'),\n",
              " (806, '6:50'),\n",
              " (612, '7:20'),\n",
              " (2013, '1:20'),\n",
              " (1112, '1:20'),\n",
              " (1173, '13:30'),\n",
              " (2324, '16:00'),\n",
              " (2440, '16:00'),\n",
              " (108, '5:20'),\n",
              " (1197, '3:20'),\n",
              " (122, '3:20'),\n",
              " (520, '6:20'),\n",
              " (214, '1:45'),\n",
              " (115, '7:15'),\n",
              " (1545, '9:15'),\n",
              " (130, '17:00'),\n",
              " (413, '6:20')]"
            ]
          },
          "metadata": {
            "tags": []
          },
          "execution_count": 198
        }
      ]
    },
    {
      "cell_type": "code",
      "metadata": {
        "id": "kf76Gt0SWxug",
        "colab_type": "code",
        "colab": {
          "base_uri": "https://localhost:8080/",
          "height": 374
        },
        "outputId": "a9e02905-e888-4346-c7d3-c63e59804a73"
      },
      "source": [
        "# Generamos los valores horarios en dos campos distintos para poder operarlos\n",
        "vuelos_retraso_llegada_formato = vuelos_retraso_llegada.map(lambda x: (x[0], x[1].split(':')))\n",
        "vuelos_retraso_llegada_formato.collect()"
      ],
      "execution_count": 199,
      "outputs": [
        {
          "output_type": "execute_result",
          "data": {
            "text/plain": [
              "[(98, ['1', '30']),\n",
              " (2336, ['16', '30']),\n",
              " (840, ['18', '30']),\n",
              " (258, ['21', '58']),\n",
              " (135, ['21', '45']),\n",
              " (806, ['6', '50']),\n",
              " (612, ['7', '20']),\n",
              " (2013, ['1', '20']),\n",
              " (1112, ['1', '20']),\n",
              " (1173, ['13', '30']),\n",
              " (2324, ['16', '00']),\n",
              " (2440, ['16', '00']),\n",
              " (108, ['5', '20']),\n",
              " (1197, ['3', '20']),\n",
              " (122, ['3', '20']),\n",
              " (520, ['6', '20']),\n",
              " (214, ['1', '45']),\n",
              " (115, ['7', '15']),\n",
              " (1545, ['9', '15']),\n",
              " (130, ['17', '00']),\n",
              " (413, ['6', '20'])]"
            ]
          },
          "metadata": {
            "tags": []
          },
          "execution_count": 199
        }
      ]
    },
    {
      "cell_type": "code",
      "metadata": {
        "id": "3xr3keC8a1qv",
        "colab_type": "code",
        "colab": {
          "base_uri": "https://localhost:8080/",
          "height": 510
        },
        "outputId": "ae101544-a3ef-4e92-bc91-f273d4a25e91"
      },
      "source": [
        "# El otro RDD\n",
        "vuelos_plan_llegada = vuelos_programadosRDD.map(lambda x: (x[0],x[7]))\n",
        "vuelos_plan_llegada.collect()"
      ],
      "execution_count": 200,
      "outputs": [
        {
          "output_type": "execute_result",
          "data": {
            "text/plain": [
              "[(98, '1:20'),\n",
              " (2336, '16:30'),\n",
              " (840, '18:30'),\n",
              " (258, '21:45'),\n",
              " (135, '21:45'),\n",
              " (806, '6:20'),\n",
              " (612, '6:20'),\n",
              " (2013, '1:20'),\n",
              " (1112, '1:20'),\n",
              " (1173, '13:30'),\n",
              " (2336, '13:30'),\n",
              " (1674, '11:00'),\n",
              " (1434, '4:20'),\n",
              " (2324, '15:00'),\n",
              " (2440, '15:00'),\n",
              " (108, '4:20'),\n",
              " (1560, '4:20'),\n",
              " (1197, '3:20'),\n",
              " (122, '3:20'),\n",
              " (1670, '23:45'),\n",
              " (520, '6:20'),\n",
              " (371, '0:45'),\n",
              " (214, '1:45'),\n",
              " (115, '7:15'),\n",
              " (1450, '21:45'),\n",
              " (1545, '9:15'),\n",
              " (130, '16:00'),\n",
              " (597, '16:00'),\n",
              " (413, '6:20')]"
            ]
          },
          "metadata": {
            "tags": []
          },
          "execution_count": 200
        }
      ]
    },
    {
      "cell_type": "code",
      "metadata": {
        "id": "FlmRcUZ3bDts",
        "colab_type": "code",
        "colab": {
          "base_uri": "https://localhost:8080/",
          "height": 510
        },
        "outputId": "0f3c5f90-3ecf-4ccd-8f5a-a4961ba8d90d"
      },
      "source": [
        "# Generamos los valores horarios en dos campos distintos para poder operarlos\n",
        "vuelos_plan_llegada_formato = vuelos_plan_llegada.map(lambda x: (x[0], x[1].split(':')))\n",
        "vuelos_plan_llegada_formato.collect()"
      ],
      "execution_count": 201,
      "outputs": [
        {
          "output_type": "execute_result",
          "data": {
            "text/plain": [
              "[(98, ['1', '20']),\n",
              " (2336, ['16', '30']),\n",
              " (840, ['18', '30']),\n",
              " (258, ['21', '45']),\n",
              " (135, ['21', '45']),\n",
              " (806, ['6', '20']),\n",
              " (612, ['6', '20']),\n",
              " (2013, ['1', '20']),\n",
              " (1112, ['1', '20']),\n",
              " (1173, ['13', '30']),\n",
              " (2336, ['13', '30']),\n",
              " (1674, ['11', '00']),\n",
              " (1434, ['4', '20']),\n",
              " (2324, ['15', '00']),\n",
              " (2440, ['15', '00']),\n",
              " (108, ['4', '20']),\n",
              " (1560, ['4', '20']),\n",
              " (1197, ['3', '20']),\n",
              " (122, ['3', '20']),\n",
              " (1670, ['23', '45']),\n",
              " (520, ['6', '20']),\n",
              " (371, ['0', '45']),\n",
              " (214, ['1', '45']),\n",
              " (115, ['7', '15']),\n",
              " (1450, ['21', '45']),\n",
              " (1545, ['9', '15']),\n",
              " (130, ['16', '00']),\n",
              " (597, ['16', '00']),\n",
              " (413, ['6', '20'])]"
            ]
          },
          "metadata": {
            "tags": []
          },
          "execution_count": 201
        }
      ]
    },
    {
      "cell_type": "code",
      "metadata": {
        "id": "U58eeKIib9KF",
        "colab_type": "code",
        "colab": {
          "base_uri": "https://localhost:8080/",
          "height": 391
        },
        "outputId": "5e642d4e-9058-44d3-e4b5-79eea5f1c408"
      },
      "source": [
        "# Se obtiene un nuevo RDD donde el primer elemento corresponde a el tiempo real y el segundo campo al planificado de llegada\n",
        "diferencia_real_vs_plan_llegada =  vuelos_retraso_llegada_formato.join(vuelos_plan_llegada_formato)\n",
        "diferencia_real_vs_plan_llegada.collect()"
      ],
      "execution_count": 202,
      "outputs": [
        {
          "output_type": "execute_result",
          "data": {
            "text/plain": [
              "[(2336, (['16', '30'], ['16', '30'])),\n",
              " (2336, (['16', '30'], ['13', '30'])),\n",
              " (840, (['18', '30'], ['18', '30'])),\n",
              " (612, (['7', '20'], ['6', '20'])),\n",
              " (1112, (['1', '20'], ['1', '20'])),\n",
              " (2324, (['16', '00'], ['15', '00'])),\n",
              " (2440, (['16', '00'], ['15', '00'])),\n",
              " (108, (['5', '20'], ['4', '20'])),\n",
              " (520, (['6', '20'], ['6', '20'])),\n",
              " (2013, (['1', '20'], ['1', '20'])),\n",
              " (1173, (['13', '30'], ['13', '30'])),\n",
              " (1197, (['3', '20'], ['3', '20'])),\n",
              " (1545, (['9', '15'], ['9', '15'])),\n",
              " (413, (['6', '20'], ['6', '20'])),\n",
              " (98, (['1', '30'], ['1', '20'])),\n",
              " (258, (['21', '58'], ['21', '45'])),\n",
              " (806, (['6', '50'], ['6', '20'])),\n",
              " (122, (['3', '20'], ['3', '20'])),\n",
              " (214, (['1', '45'], ['1', '45'])),\n",
              " (130, (['17', '00'], ['16', '00'])),\n",
              " (135, (['21', '45'], ['21', '45'])),\n",
              " (115, (['7', '15'], ['7', '15']))]"
            ]
          },
          "metadata": {
            "tags": []
          },
          "execution_count": 202
        }
      ]
    },
    {
      "cell_type": "code",
      "metadata": {
        "id": "2ntxw4n7cNhN",
        "colab_type": "code",
        "colab": {
          "base_uri": "https://localhost:8080/",
          "height": 459
        },
        "outputId": "03d53ee5-b927-4bab-b439-5e24e9f81f0b"
      },
      "source": [
        "# La comparacion sr hace campo a campo (horaReal vs horaPlan y minReal vs minPlan)\n",
        "# Se calculan las diferencias horarias de llegada de la siguiente forma: (horaReal - horaPlanificada)*60 + (minReal - minPlanificado)\n",
        "# El resultado de la mora se da en minutos\n",
        "vuelos_moras_en_minutos_llegada = (diferencia_real_vs_plan.map(lambda x: (x[0], ((int(x[1][0][0]) - int(x[1][1][0]))*60) + (int(x[1][0][1]) - int(x[1][1][1])))))\n",
        "vuelos_moras_en_minutos_llegada.collect()"
      ],
      "execution_count": 203,
      "outputs": [
        {
          "output_type": "execute_result",
          "data": {
            "text/plain": [
              "[(2336, 0),\n",
              " (2336, 550),\n",
              " (840, 0),\n",
              " (612, 30),\n",
              " (1112, 0),\n",
              " (2324, 0),\n",
              " (2440, 0),\n",
              " (108, 0),\n",
              " (1560, 0),\n",
              " (520, 0),\n",
              " (2013, 0),\n",
              " (1173, 0),\n",
              " (1197, 0),\n",
              " (1545, 0),\n",
              " (597, 0),\n",
              " (413, 0),\n",
              " (98, 15),\n",
              " (258, 5),\n",
              " (806, 25),\n",
              " (1674, 120),\n",
              " (122, 0),\n",
              " (214, 0),\n",
              " (130, 0),\n",
              " (135, 0),\n",
              " (371, 0),\n",
              " (115, 0)]"
            ]
          },
          "metadata": {
            "tags": []
          },
          "execution_count": 203
        }
      ]
    },
    {
      "cell_type": "code",
      "metadata": {
        "id": "jFhad3VFccI1",
        "colab_type": "code",
        "colab": {
          "base_uri": "https://localhost:8080/",
          "height": 34
        },
        "outputId": "585b3af2-16a7-4cf2-de14-632881afa8b9"
      },
      "source": [
        "vuelos_moras_por_fecha_en_minutos_llegada_aux = vuelos_moras_en_minutos_llegada.join(fechas_vuelos)\n",
        "vuelos_moras_llegada_por_fecha_en_minutos = (vuelos_moras_por_fecha_en_minutos_llegada_aux.map(lambda x: (str(x[0]) + '-' + x[1][1], x[1][0]))).sortBy(lambda x: -x[1])\n",
        "vuelos_moras_llegada_por_fecha_en_minutos.take(1)"
      ],
      "execution_count": 204,
      "outputs": [
        {
          "output_type": "execute_result",
          "data": {
            "text/plain": [
              "[('2336-1/3/2020', 550)]"
            ]
          },
          "metadata": {
            "tags": []
          },
          "execution_count": 204
        }
      ]
    },
    {
      "cell_type": "code",
      "metadata": {
        "id": "ur6MQOd5pAOq",
        "colab_type": "code",
        "colab": {
          "base_uri": "https://localhost:8080/",
          "height": 493
        },
        "outputId": "03f042ac-8eb2-4d21-fffa-e146d312aa60"
      },
      "source": [
        "vuelos_moras_totales = (vuelos_moras_en_minutos_llegada.join(vuelos_moras_en_minutos_salida))\n",
        "vuelos_moras_totales.collect()"
      ],
      "execution_count": 231,
      "outputs": [
        {
          "output_type": "execute_result",
          "data": {
            "text/plain": [
              "[(2336, (0, 0)),\n",
              " (2336, (0, 550)),\n",
              " (2336, (550, 0)),\n",
              " (2336, (550, 550)),\n",
              " (840, (0, 0)),\n",
              " (1112, (0, 0)),\n",
              " (2440, (0, 0)),\n",
              " (1560, (0, 0)),\n",
              " (520, (0, 0)),\n",
              " (1545, (0, 0)),\n",
              " (98, (15, 15)),\n",
              " (258, (5, 5)),\n",
              " (1674, (120, 120)),\n",
              " (122, (0, 0)),\n",
              " (130, (0, 0)),\n",
              " (371, (0, 0)),\n",
              " (115, (0, 0)),\n",
              " (612, (30, 30)),\n",
              " (2324, (0, 0)),\n",
              " (108, (0, 0)),\n",
              " (2013, (0, 0)),\n",
              " (1173, (0, 0)),\n",
              " (1197, (0, 0)),\n",
              " (597, (0, 0)),\n",
              " (413, (0, 0)),\n",
              " (806, (25, 25)),\n",
              " (214, (0, 0)),\n",
              " (135, (0, 0))]"
            ]
          },
          "metadata": {
            "tags": []
          },
          "execution_count": 231
        }
      ]
    },
    {
      "cell_type": "code",
      "metadata": {
        "id": "mDy4CaVorGJp",
        "colab_type": "code",
        "colab": {
          "base_uri": "https://localhost:8080/",
          "height": 493
        },
        "outputId": "67a0c637-b570-459d-fe62-b96e9ec30930"
      },
      "source": [
        "# F. Cuál es la aerolínea más puntual?\n",
        "# 'Mas puntual' implica que salio y llego segun lo programado\n",
        "# Genero el RDD que suma las moras calculadas antes por vuelo (moras de llegada y salida)\n",
        "sumatoria_moras_por_vuelo = vuelos_moras_totales.map(lambda x: (x[0] , (x[1][0] + x[1][1])))\n",
        "sumatoria_moras_por_vuelo.collect()"
      ],
      "execution_count": 243,
      "outputs": [
        {
          "output_type": "execute_result",
          "data": {
            "text/plain": [
              "[(2336, 0),\n",
              " (2336, 550),\n",
              " (2336, 550),\n",
              " (2336, 1100),\n",
              " (840, 0),\n",
              " (1112, 0),\n",
              " (2440, 0),\n",
              " (1560, 0),\n",
              " (520, 0),\n",
              " (1545, 0),\n",
              " (98, 30),\n",
              " (258, 10),\n",
              " (1674, 240),\n",
              " (122, 0),\n",
              " (130, 0),\n",
              " (371, 0),\n",
              " (115, 0),\n",
              " (612, 60),\n",
              " (2324, 0),\n",
              " (108, 0),\n",
              " (2013, 0),\n",
              " (1173, 0),\n",
              " (1197, 0),\n",
              " (597, 0),\n",
              " (413, 0),\n",
              " (806, 50),\n",
              " (214, 0),\n",
              " (135, 0)]"
            ]
          },
          "metadata": {
            "tags": []
          },
          "execution_count": 243
        }
      ]
    },
    {
      "cell_type": "code",
      "metadata": {
        "id": "Gji4l1aEsL8f",
        "colab_type": "code",
        "colab": {
          "base_uri": "https://localhost:8080/",
          "height": 510
        },
        "outputId": "8fd82358-60c9-4fba-f8fd-d319e9ae9ecb"
      },
      "source": [
        "# Genero un RDD que asocie los vuelos con las aerolineas\n",
        "vuelo_por_aerolinea = vuelos_estadosRDD.map(lambda x: (x[0],x[1]))\n",
        "vuelo_por_aerolinea.collect()"
      ],
      "execution_count": 246,
      "outputs": [
        {
          "output_type": "execute_result",
          "data": {
            "text/plain": [
              "[(98, 'AS'),\n",
              " (2336, 'AA'),\n",
              " (840, 'US'),\n",
              " (258, 'AA'),\n",
              " (135, 'AS'),\n",
              " (806, 'DL'),\n",
              " (612, 'NK'),\n",
              " (2013, 'US'),\n",
              " (1112, 'AA'),\n",
              " (1173, 'DL'),\n",
              " (2336, 'DL'),\n",
              " (1674, 'AA'),\n",
              " (1434, 'DL'),\n",
              " (2324, 'DL'),\n",
              " (2440, 'DL'),\n",
              " (108, 'AS'),\n",
              " (1560, 'DL'),\n",
              " (1197, 'UA'),\n",
              " (122, 'AS'),\n",
              " (1670, 'DL'),\n",
              " (520, 'NK'),\n",
              " (371, 'AA'),\n",
              " (214, 'NK'),\n",
              " (115, 'AA'),\n",
              " (1450, 'DL'),\n",
              " (1545, 'UA'),\n",
              " (130, 'AS'),\n",
              " (597, 'NK'),\n",
              " (413, 'US')]"
            ]
          },
          "metadata": {
            "tags": []
          },
          "execution_count": 246
        }
      ]
    },
    {
      "cell_type": "code",
      "metadata": {
        "id": "_6-WEs6ZgXJP",
        "colab_type": "code",
        "colab": {
          "base_uri": "https://localhost:8080/",
          "height": 561
        },
        "outputId": "91fb19f9-8f82-4b12-b41c-96ed98add158"
      },
      "source": [
        "# Se asocian vuelos y moras ordenadas de la menor mora a la mayor (de las aerolineas mas puntuales a las menos impuntuales)\n",
        "moras_por_aerolinea_aux = sumatoria_moras_por_vuelo.join(vuelo_por_aerolinea)\n",
        "moras_por_aerolinea = (moras_por_aerolinea_aux.map(lambda x: (x[1][1],x[1][0]))).sortBy(lambda x: x[1])\n",
        "moras_por_aerolinea.collect()"
      ],
      "execution_count": 252,
      "outputs": [
        {
          "output_type": "execute_result",
          "data": {
            "text/plain": [
              "[('US', 0),\n",
              " ('DL', 0),\n",
              " ('DL', 0),\n",
              " ('NK', 0),\n",
              " ('AS', 0),\n",
              " ('AA', 0),\n",
              " ('AA', 0),\n",
              " ('AS', 0),\n",
              " ('US', 0),\n",
              " ('DL', 0),\n",
              " ('US', 0),\n",
              " ('DL', 0),\n",
              " ('NK', 0),\n",
              " ('UA', 0),\n",
              " ('AA', 0),\n",
              " ('AS', 0),\n",
              " ('AA', 0),\n",
              " ('DL', 0),\n",
              " ('UA', 0),\n",
              " ('NK', 0),\n",
              " ('AS', 0),\n",
              " ('AA', 10),\n",
              " ('AS', 30),\n",
              " ('DL', 50),\n",
              " ('NK', 60),\n",
              " ('AA', 240),\n",
              " ('AA', 550),\n",
              " ('DL', 550),\n",
              " ('AA', 550),\n",
              " ('DL', 550),\n",
              " ('AA', 1100),\n",
              " ('DL', 1100)]"
            ]
          },
          "metadata": {
            "tags": []
          },
          "execution_count": 252
        }
      ]
    },
    {
      "cell_type": "markdown",
      "metadata": {
        "id": "A7LRxgzvtzzI",
        "colab_type": "text"
      },
      "source": [
        "# FIN DEL EJERCICIO"
      ]
    }
  ]
}
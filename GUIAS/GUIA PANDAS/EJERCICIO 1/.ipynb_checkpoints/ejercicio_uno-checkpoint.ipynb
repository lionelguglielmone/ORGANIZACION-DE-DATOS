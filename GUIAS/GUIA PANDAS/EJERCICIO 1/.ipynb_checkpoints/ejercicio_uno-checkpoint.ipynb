{
 "cells": [
  {
   "cell_type": "code",
   "execution_count": 1,
   "metadata": {},
   "outputs": [],
   "source": [
    "import pandas as pd\n",
    "import datetime as datetime\n",
    "import numpy as np\n",
    "import matplotlib.pyplot as plt\n",
    "import seaborn as sns"
   ]
  },
  {
   "cell_type": "code",
   "execution_count": 2,
   "metadata": {},
   "outputs": [],
   "source": [
    "notas_alumnos = pd.read_csv('notas_alumnos.csv')"
   ]
  },
  {
   "cell_type": "code",
   "execution_count": 3,
   "metadata": {},
   "outputs": [
    {
     "data": {
      "text/html": [
       "<div>\n",
       "<style scoped>\n",
       "    .dataframe tbody tr th:only-of-type {\n",
       "        vertical-align: middle;\n",
       "    }\n",
       "\n",
       "    .dataframe tbody tr th {\n",
       "        vertical-align: top;\n",
       "    }\n",
       "\n",
       "    .dataframe thead th {\n",
       "        text-align: right;\n",
       "    }\n",
       "</style>\n",
       "<table border=\"1\" class=\"dataframe\">\n",
       "  <thead>\n",
       "    <tr style=\"text-align: right;\">\n",
       "      <th></th>\n",
       "      <th>padron</th>\n",
       "      <th>materia</th>\n",
       "      <th>nota</th>\n",
       "      <th>fecha</th>\n",
       "    </tr>\n",
       "  </thead>\n",
       "  <tbody>\n",
       "    <tr>\n",
       "      <th>0</th>\n",
       "      <td>90903</td>\n",
       "      <td>fisica</td>\n",
       "      <td>8</td>\n",
       "      <td>22/05/2016</td>\n",
       "    </tr>\n",
       "    <tr>\n",
       "      <th>1</th>\n",
       "      <td>91678</td>\n",
       "      <td>algebra</td>\n",
       "      <td>4</td>\n",
       "      <td>22/05/2017</td>\n",
       "    </tr>\n",
       "    <tr>\n",
       "      <th>2</th>\n",
       "      <td>87567</td>\n",
       "      <td>algebra</td>\n",
       "      <td>4</td>\n",
       "      <td>22/05/2017</td>\n",
       "    </tr>\n",
       "    <tr>\n",
       "      <th>3</th>\n",
       "      <td>93087</td>\n",
       "      <td>algebra</td>\n",
       "      <td>6</td>\n",
       "      <td>22/05/2017</td>\n",
       "    </tr>\n",
       "    <tr>\n",
       "      <th>4</th>\n",
       "      <td>98096</td>\n",
       "      <td>analisis</td>\n",
       "      <td>9</td>\n",
       "      <td>20/05/2016</td>\n",
       "    </tr>\n",
       "    <tr>\n",
       "      <th>5</th>\n",
       "      <td>93768</td>\n",
       "      <td>analisis</td>\n",
       "      <td>10</td>\n",
       "      <td>22/05/2018</td>\n",
       "    </tr>\n",
       "    <tr>\n",
       "      <th>6</th>\n",
       "      <td>91678</td>\n",
       "      <td>numerico</td>\n",
       "      <td>8</td>\n",
       "      <td>22/09/2016</td>\n",
       "    </tr>\n",
       "    <tr>\n",
       "      <th>7</th>\n",
       "      <td>93087</td>\n",
       "      <td>numerico</td>\n",
       "      <td>4</td>\n",
       "      <td>22/09/2018</td>\n",
       "    </tr>\n",
       "    <tr>\n",
       "      <th>8</th>\n",
       "      <td>90287</td>\n",
       "      <td>algebra</td>\n",
       "      <td>4</td>\n",
       "      <td>22/10/2019</td>\n",
       "    </tr>\n",
       "    <tr>\n",
       "      <th>9</th>\n",
       "      <td>90903</td>\n",
       "      <td>algebra</td>\n",
       "      <td>4</td>\n",
       "      <td>22/10/2017</td>\n",
       "    </tr>\n",
       "    <tr>\n",
       "      <th>10</th>\n",
       "      <td>91678</td>\n",
       "      <td>quimica</td>\n",
       "      <td>5</td>\n",
       "      <td>03/05/2015</td>\n",
       "    </tr>\n",
       "    <tr>\n",
       "      <th>11</th>\n",
       "      <td>98096</td>\n",
       "      <td>quimica</td>\n",
       "      <td>9</td>\n",
       "      <td>03/05/2018</td>\n",
       "    </tr>\n",
       "    <tr>\n",
       "      <th>12</th>\n",
       "      <td>94271</td>\n",
       "      <td>programacion</td>\n",
       "      <td>7</td>\n",
       "      <td>04/29/2019</td>\n",
       "    </tr>\n",
       "    <tr>\n",
       "      <th>13</th>\n",
       "      <td>91678</td>\n",
       "      <td>numerico</td>\n",
       "      <td>7</td>\n",
       "      <td>22/05/2017</td>\n",
       "    </tr>\n",
       "  </tbody>\n",
       "</table>\n",
       "</div>"
      ],
      "text/plain": [
       "    padron        materia  nota        fecha\n",
       "0    90903         fisica     8   22/05/2016\n",
       "1    91678        algebra     4   22/05/2017\n",
       "2    87567        algebra     4   22/05/2017\n",
       "3    93087        algebra     6   22/05/2017\n",
       "4    98096       analisis     9   20/05/2016\n",
       "5    93768       analisis    10   22/05/2018\n",
       "6    91678       numerico     8   22/09/2016\n",
       "7    93087       numerico     4   22/09/2018\n",
       "8    90287        algebra     4   22/10/2019\n",
       "9    90903        algebra     4   22/10/2017\n",
       "10   91678        quimica     5   03/05/2015\n",
       "11   98096        quimica     9   03/05/2018\n",
       "12   94271   programacion     7   04/29/2019\n",
       "13   91678       numerico     7   22/05/2017"
      ]
     },
     "execution_count": 3,
     "metadata": {},
     "output_type": "execute_result"
    }
   ],
   "source": [
    "notas_alumnos"
   ]
  },
  {
   "cell_type": "code",
   "execution_count": 4,
   "metadata": {},
   "outputs": [
    {
     "data": {
      "text/html": [
       "<div>\n",
       "<style scoped>\n",
       "    .dataframe tbody tr th:only-of-type {\n",
       "        vertical-align: middle;\n",
       "    }\n",
       "\n",
       "    .dataframe tbody tr th {\n",
       "        vertical-align: top;\n",
       "    }\n",
       "\n",
       "    .dataframe thead th {\n",
       "        text-align: right;\n",
       "    }\n",
       "</style>\n",
       "<table border=\"1\" class=\"dataframe\">\n",
       "  <thead>\n",
       "    <tr style=\"text-align: right;\">\n",
       "      <th></th>\n",
       "      <th>padron</th>\n",
       "      <th>nota</th>\n",
       "    </tr>\n",
       "  </thead>\n",
       "  <tbody>\n",
       "    <tr>\n",
       "      <th>count</th>\n",
       "      <td>14.000000</td>\n",
       "      <td>14.000000</td>\n",
       "    </tr>\n",
       "    <tr>\n",
       "      <th>mean</th>\n",
       "      <td>92626.928571</td>\n",
       "      <td>6.357143</td>\n",
       "    </tr>\n",
       "    <tr>\n",
       "      <th>std</th>\n",
       "      <td>2840.282962</td>\n",
       "      <td>2.205139</td>\n",
       "    </tr>\n",
       "    <tr>\n",
       "      <th>min</th>\n",
       "      <td>87567.000000</td>\n",
       "      <td>4.000000</td>\n",
       "    </tr>\n",
       "    <tr>\n",
       "      <th>25%</th>\n",
       "      <td>91096.750000</td>\n",
       "      <td>4.000000</td>\n",
       "    </tr>\n",
       "    <tr>\n",
       "      <th>50%</th>\n",
       "      <td>91678.000000</td>\n",
       "      <td>6.500000</td>\n",
       "    </tr>\n",
       "    <tr>\n",
       "      <th>75%</th>\n",
       "      <td>93597.750000</td>\n",
       "      <td>8.000000</td>\n",
       "    </tr>\n",
       "    <tr>\n",
       "      <th>max</th>\n",
       "      <td>98096.000000</td>\n",
       "      <td>10.000000</td>\n",
       "    </tr>\n",
       "  </tbody>\n",
       "</table>\n",
       "</div>"
      ],
      "text/plain": [
       "             padron       nota\n",
       "count     14.000000  14.000000\n",
       "mean   92626.928571   6.357143\n",
       "std     2840.282962   2.205139\n",
       "min    87567.000000   4.000000\n",
       "25%    91096.750000   4.000000\n",
       "50%    91678.000000   6.500000\n",
       "75%    93597.750000   8.000000\n",
       "max    98096.000000  10.000000"
      ]
     },
     "execution_count": 4,
     "metadata": {},
     "output_type": "execute_result"
    }
   ],
   "source": [
    "notas_alumnos.describe()"
   ]
  },
  {
   "cell_type": "code",
   "execution_count": 5,
   "metadata": {},
   "outputs": [
    {
     "name": "stdout",
     "output_type": "stream",
     "text": [
      "<class 'pandas.core.frame.DataFrame'>\n",
      "RangeIndex: 14 entries, 0 to 13\n",
      "Data columns (total 4 columns):\n",
      " #   Column   Non-Null Count  Dtype \n",
      "---  ------   --------------  ----- \n",
      " 0   padron   14 non-null     int64 \n",
      " 1   materia  14 non-null     object\n",
      " 2   nota     14 non-null     int64 \n",
      " 3   fecha    14 non-null     object\n",
      "dtypes: int64(2), object(2)\n",
      "memory usage: 576.0+ bytes\n"
     ]
    }
   ],
   "source": [
    "notas_alumnos.info()"
   ]
  },
  {
   "cell_type": "code",
   "execution_count": 6,
   "metadata": {},
   "outputs": [
    {
     "data": {
      "text/plain": [
       " algebra         5\n",
       " numerico        3\n",
       " analisis        2\n",
       " quimica         2\n",
       " programacion    1\n",
       " fisica          1\n",
       "Name: materia, dtype: int64"
      ]
     },
     "execution_count": 6,
     "metadata": {},
     "output_type": "execute_result"
    }
   ],
   "source": [
    "number_of_subjects = notas_alumnos['materia'].value_counts()\n",
    "number_of_subjects"
   ]
  },
  {
   "cell_type": "code",
   "execution_count": 7,
   "metadata": {},
   "outputs": [
    {
     "data": {
      "text/html": [
       "<div>\n",
       "<style scoped>\n",
       "    .dataframe tbody tr th:only-of-type {\n",
       "        vertical-align: middle;\n",
       "    }\n",
       "\n",
       "    .dataframe tbody tr th {\n",
       "        vertical-align: top;\n",
       "    }\n",
       "\n",
       "    .dataframe thead th {\n",
       "        text-align: right;\n",
       "    }\n",
       "</style>\n",
       "<table border=\"1\" class=\"dataframe\">\n",
       "  <thead>\n",
       "    <tr style=\"text-align: right;\">\n",
       "      <th></th>\n",
       "      <th>materia</th>\n",
       "      <th>nota</th>\n",
       "    </tr>\n",
       "  </thead>\n",
       "  <tbody>\n",
       "    <tr>\n",
       "      <th>0</th>\n",
       "      <td>fisica</td>\n",
       "      <td>8</td>\n",
       "    </tr>\n",
       "    <tr>\n",
       "      <th>1</th>\n",
       "      <td>algebra</td>\n",
       "      <td>4</td>\n",
       "    </tr>\n",
       "    <tr>\n",
       "      <th>2</th>\n",
       "      <td>algebra</td>\n",
       "      <td>4</td>\n",
       "    </tr>\n",
       "    <tr>\n",
       "      <th>3</th>\n",
       "      <td>algebra</td>\n",
       "      <td>6</td>\n",
       "    </tr>\n",
       "    <tr>\n",
       "      <th>4</th>\n",
       "      <td>analisis</td>\n",
       "      <td>9</td>\n",
       "    </tr>\n",
       "    <tr>\n",
       "      <th>5</th>\n",
       "      <td>analisis</td>\n",
       "      <td>10</td>\n",
       "    </tr>\n",
       "    <tr>\n",
       "      <th>6</th>\n",
       "      <td>numerico</td>\n",
       "      <td>8</td>\n",
       "    </tr>\n",
       "    <tr>\n",
       "      <th>7</th>\n",
       "      <td>numerico</td>\n",
       "      <td>4</td>\n",
       "    </tr>\n",
       "    <tr>\n",
       "      <th>8</th>\n",
       "      <td>algebra</td>\n",
       "      <td>4</td>\n",
       "    </tr>\n",
       "    <tr>\n",
       "      <th>9</th>\n",
       "      <td>algebra</td>\n",
       "      <td>4</td>\n",
       "    </tr>\n",
       "    <tr>\n",
       "      <th>10</th>\n",
       "      <td>quimica</td>\n",
       "      <td>5</td>\n",
       "    </tr>\n",
       "    <tr>\n",
       "      <th>11</th>\n",
       "      <td>quimica</td>\n",
       "      <td>9</td>\n",
       "    </tr>\n",
       "    <tr>\n",
       "      <th>12</th>\n",
       "      <td>programacion</td>\n",
       "      <td>7</td>\n",
       "    </tr>\n",
       "    <tr>\n",
       "      <th>13</th>\n",
       "      <td>numerico</td>\n",
       "      <td>7</td>\n",
       "    </tr>\n",
       "  </tbody>\n",
       "</table>\n",
       "</div>"
      ],
      "text/plain": [
       "          materia  nota\n",
       "0          fisica     8\n",
       "1         algebra     4\n",
       "2         algebra     4\n",
       "3         algebra     6\n",
       "4        analisis     9\n",
       "5        analisis    10\n",
       "6        numerico     8\n",
       "7        numerico     4\n",
       "8         algebra     4\n",
       "9         algebra     4\n",
       "10        quimica     5\n",
       "11        quimica     9\n",
       "12   programacion     7\n",
       "13       numerico     7"
      ]
     },
     "execution_count": 7,
     "metadata": {},
     "output_type": "execute_result"
    }
   ],
   "source": [
    "short_notas = notas_alumnos[['materia','nota']]\n",
    "short_notas"
   ]
  },
  {
   "cell_type": "code",
   "execution_count": 8,
   "metadata": {},
   "outputs": [
    {
     "data": {
      "text/html": [
       "<div>\n",
       "<style scoped>\n",
       "    .dataframe tbody tr th:only-of-type {\n",
       "        vertical-align: middle;\n",
       "    }\n",
       "\n",
       "    .dataframe tbody tr th {\n",
       "        vertical-align: top;\n",
       "    }\n",
       "\n",
       "    .dataframe thead th {\n",
       "        text-align: right;\n",
       "    }\n",
       "</style>\n",
       "<table border=\"1\" class=\"dataframe\">\n",
       "  <thead>\n",
       "    <tr style=\"text-align: right;\">\n",
       "      <th></th>\n",
       "      <th>nota_promedio</th>\n",
       "    </tr>\n",
       "    <tr>\n",
       "      <th>materia</th>\n",
       "      <th></th>\n",
       "    </tr>\n",
       "  </thead>\n",
       "  <tbody>\n",
       "    <tr>\n",
       "      <th>algebra</th>\n",
       "      <td>4.400000</td>\n",
       "    </tr>\n",
       "    <tr>\n",
       "      <th>analisis</th>\n",
       "      <td>9.500000</td>\n",
       "    </tr>\n",
       "    <tr>\n",
       "      <th>fisica</th>\n",
       "      <td>8.000000</td>\n",
       "    </tr>\n",
       "    <tr>\n",
       "      <th>numerico</th>\n",
       "      <td>6.333333</td>\n",
       "    </tr>\n",
       "    <tr>\n",
       "      <th>programacion</th>\n",
       "      <td>7.000000</td>\n",
       "    </tr>\n",
       "    <tr>\n",
       "      <th>quimica</th>\n",
       "      <td>7.000000</td>\n",
       "    </tr>\n",
       "  </tbody>\n",
       "</table>\n",
       "</div>"
      ],
      "text/plain": [
       "               nota_promedio\n",
       "materia                     \n",
       " algebra            4.400000\n",
       " analisis           9.500000\n",
       " fisica             8.000000\n",
       " numerico           6.333333\n",
       " programacion       7.000000\n",
       " quimica            7.000000"
      ]
     },
     "execution_count": 8,
     "metadata": {},
     "output_type": "execute_result"
    }
   ],
   "source": [
    "group_by_materias = short_notas.groupby('materia').aggregate('mean')\n",
    "group_by_materias.columns = ['nota_promedio']\n",
    "group_by_materias"
   ]
  },
  {
   "cell_type": "code",
   "execution_count": 9,
   "metadata": {},
   "outputs": [
    {
     "data": {
      "text/plain": [
       "<matplotlib.axes._subplots.AxesSubplot at 0x12f332d5688>"
      ]
     },
     "execution_count": 9,
     "metadata": {},
     "output_type": "execute_result"
    },
    {
     "data": {
      "image/png": "[encoded data removed]",
      "text/plain": [
       "<Figure size 432x288 with 1 Axes>"
      ]
     },
     "metadata": {
      "needs_background": "light"
     },
     "output_type": "display_data"
    }
   ],
   "source": [
    "group_by_materias.plot(kind='bar')"
   ]
  },
  {
   "cell_type": "code",
   "execution_count": 11,
   "metadata": {},
   "outputs": [
    {
     "data": {
      "text/html": [
       "<div>\n",
       "<style scoped>\n",
       "    .dataframe tbody tr th:only-of-type {\n",
       "        vertical-align: middle;\n",
       "    }\n",
       "\n",
       "    .dataframe tbody tr th {\n",
       "        vertical-align: top;\n",
       "    }\n",
       "\n",
       "    .dataframe thead tr th {\n",
       "        text-align: left;\n",
       "    }\n",
       "\n",
       "    .dataframe thead tr:last-of-type th {\n",
       "        text-align: right;\n",
       "    }\n",
       "</style>\n",
       "<table border=\"1\" class=\"dataframe\">\n",
       "  <thead>\n",
       "    <tr>\n",
       "      <th></th>\n",
       "      <th colspan=\"8\" halign=\"left\">nota</th>\n",
       "    </tr>\n",
       "    <tr>\n",
       "      <th></th>\n",
       "      <th>count</th>\n",
       "      <th>mean</th>\n",
       "      <th>std</th>\n",
       "      <th>min</th>\n",
       "      <th>25%</th>\n",
       "      <th>50%</th>\n",
       "      <th>75%</th>\n",
       "      <th>max</th>\n",
       "    </tr>\n",
       "    <tr>\n",
       "      <th>padron</th>\n",
       "      <th></th>\n",
       "      <th></th>\n",
       "      <th></th>\n",
       "      <th></th>\n",
       "      <th></th>\n",
       "      <th></th>\n",
       "      <th></th>\n",
       "      <th></th>\n",
       "    </tr>\n",
       "  </thead>\n",
       "  <tbody>\n",
       "    <tr>\n",
       "      <th>87567</th>\n",
       "      <td>1.0</td>\n",
       "      <td>4.0</td>\n",
       "      <td>NaN</td>\n",
       "      <td>4.0</td>\n",
       "      <td>4.00</td>\n",
       "      <td>4.0</td>\n",
       "      <td>4.00</td>\n",
       "      <td>4.0</td>\n",
       "    </tr>\n",
       "    <tr>\n",
       "      <th>90287</th>\n",
       "      <td>1.0</td>\n",
       "      <td>4.0</td>\n",
       "      <td>NaN</td>\n",
       "      <td>4.0</td>\n",
       "      <td>4.00</td>\n",
       "      <td>4.0</td>\n",
       "      <td>4.00</td>\n",
       "      <td>4.0</td>\n",
       "    </tr>\n",
       "    <tr>\n",
       "      <th>90903</th>\n",
       "      <td>2.0</td>\n",
       "      <td>6.0</td>\n",
       "      <td>2.828427</td>\n",
       "      <td>4.0</td>\n",
       "      <td>5.00</td>\n",
       "      <td>6.0</td>\n",
       "      <td>7.00</td>\n",
       "      <td>8.0</td>\n",
       "    </tr>\n",
       "    <tr>\n",
       "      <th>91678</th>\n",
       "      <td>4.0</td>\n",
       "      <td>6.0</td>\n",
       "      <td>1.825742</td>\n",
       "      <td>4.0</td>\n",
       "      <td>4.75</td>\n",
       "      <td>6.0</td>\n",
       "      <td>7.25</td>\n",
       "      <td>8.0</td>\n",
       "    </tr>\n",
       "    <tr>\n",
       "      <th>93087</th>\n",
       "      <td>2.0</td>\n",
       "      <td>5.0</td>\n",
       "      <td>1.414214</td>\n",
       "      <td>4.0</td>\n",
       "      <td>4.50</td>\n",
       "      <td>5.0</td>\n",
       "      <td>5.50</td>\n",
       "      <td>6.0</td>\n",
       "    </tr>\n",
       "    <tr>\n",
       "      <th>93768</th>\n",
       "      <td>1.0</td>\n",
       "      <td>10.0</td>\n",
       "      <td>NaN</td>\n",
       "      <td>10.0</td>\n",
       "      <td>10.00</td>\n",
       "      <td>10.0</td>\n",
       "      <td>10.00</td>\n",
       "      <td>10.0</td>\n",
       "    </tr>\n",
       "    <tr>\n",
       "      <th>94271</th>\n",
       "      <td>1.0</td>\n",
       "      <td>7.0</td>\n",
       "      <td>NaN</td>\n",
       "      <td>7.0</td>\n",
       "      <td>7.00</td>\n",
       "      <td>7.0</td>\n",
       "      <td>7.00</td>\n",
       "      <td>7.0</td>\n",
       "    </tr>\n",
       "    <tr>\n",
       "      <th>98096</th>\n",
       "      <td>2.0</td>\n",
       "      <td>9.0</td>\n",
       "      <td>0.000000</td>\n",
       "      <td>9.0</td>\n",
       "      <td>9.00</td>\n",
       "      <td>9.0</td>\n",
       "      <td>9.00</td>\n",
       "      <td>9.0</td>\n",
       "    </tr>\n",
       "  </tbody>\n",
       "</table>\n",
       "</div>"
      ],
      "text/plain": [
       "        nota                                                \n",
       "       count  mean       std   min    25%   50%    75%   max\n",
       "padron                                                      \n",
       "87567    1.0   4.0       NaN   4.0   4.00   4.0   4.00   4.0\n",
       "90287    1.0   4.0       NaN   4.0   4.00   4.0   4.00   4.0\n",
       "90903    2.0   6.0  2.828427   4.0   5.00   6.0   7.00   8.0\n",
       "91678    4.0   6.0  1.825742   4.0   4.75   6.0   7.25   8.0\n",
       "93087    2.0   5.0  1.414214   4.0   4.50   5.0   5.50   6.0\n",
       "93768    1.0  10.0       NaN  10.0  10.00  10.0  10.00  10.0\n",
       "94271    1.0   7.0       NaN   7.0   7.00   7.0   7.00   7.0\n",
       "98096    2.0   9.0  0.000000   9.0   9.00   9.0   9.00   9.0"
      ]
     },
     "execution_count": 11,
     "metadata": {},
     "output_type": "execute_result"
    }
   ],
   "source": [
    "grouped_by_padron = notas_alumnos.groupby('padron')\n",
    "grouped_by_padron.describe()"
   ]
  },
  {
   "cell_type": "code",
   "execution_count": 12,
   "metadata": {},
   "outputs": [
    {
     "data": {
      "text/html": [
       "<div>\n",
       "<style scoped>\n",
       "    .dataframe tbody tr th:only-of-type {\n",
       "        vertical-align: middle;\n",
       "    }\n",
       "\n",
       "    .dataframe tbody tr th {\n",
       "        vertical-align: top;\n",
       "    }\n",
       "\n",
       "    .dataframe thead th {\n",
       "        text-align: right;\n",
       "    }\n",
       "</style>\n",
       "<table border=\"1\" class=\"dataframe\">\n",
       "  <thead>\n",
       "    <tr style=\"text-align: right;\">\n",
       "      <th></th>\n",
       "      <th>cantidad_de_notas</th>\n",
       "      <th>promedio_de_notas</th>\n",
       "      <th>nota_minima</th>\n",
       "      <th>nota_maxima</th>\n",
       "    </tr>\n",
       "    <tr>\n",
       "      <th>padron</th>\n",
       "      <th></th>\n",
       "      <th></th>\n",
       "      <th></th>\n",
       "      <th></th>\n",
       "    </tr>\n",
       "  </thead>\n",
       "  <tbody>\n",
       "    <tr>\n",
       "      <th>87567</th>\n",
       "      <td>1.0</td>\n",
       "      <td>4.0</td>\n",
       "      <td>4.0</td>\n",
       "      <td>4.0</td>\n",
       "    </tr>\n",
       "    <tr>\n",
       "      <th>90287</th>\n",
       "      <td>1.0</td>\n",
       "      <td>4.0</td>\n",
       "      <td>4.0</td>\n",
       "      <td>4.0</td>\n",
       "    </tr>\n",
       "    <tr>\n",
       "      <th>90903</th>\n",
       "      <td>2.0</td>\n",
       "      <td>6.0</td>\n",
       "      <td>4.0</td>\n",
       "      <td>8.0</td>\n",
       "    </tr>\n",
       "    <tr>\n",
       "      <th>91678</th>\n",
       "      <td>4.0</td>\n",
       "      <td>6.0</td>\n",
       "      <td>4.0</td>\n",
       "      <td>8.0</td>\n",
       "    </tr>\n",
       "    <tr>\n",
       "      <th>93087</th>\n",
       "      <td>2.0</td>\n",
       "      <td>5.0</td>\n",
       "      <td>4.0</td>\n",
       "      <td>6.0</td>\n",
       "    </tr>\n",
       "    <tr>\n",
       "      <th>93768</th>\n",
       "      <td>1.0</td>\n",
       "      <td>10.0</td>\n",
       "      <td>10.0</td>\n",
       "      <td>10.0</td>\n",
       "    </tr>\n",
       "    <tr>\n",
       "      <th>94271</th>\n",
       "      <td>1.0</td>\n",
       "      <td>7.0</td>\n",
       "      <td>7.0</td>\n",
       "      <td>7.0</td>\n",
       "    </tr>\n",
       "    <tr>\n",
       "      <th>98096</th>\n",
       "      <td>2.0</td>\n",
       "      <td>9.0</td>\n",
       "      <td>9.0</td>\n",
       "      <td>9.0</td>\n",
       "    </tr>\n",
       "  </tbody>\n",
       "</table>\n",
       "</div>"
      ],
      "text/plain": [
       "        cantidad_de_notas  promedio_de_notas  nota_minima  nota_maxima\n",
       "padron                                                                \n",
       "87567                 1.0                4.0          4.0          4.0\n",
       "90287                 1.0                4.0          4.0          4.0\n",
       "90903                 2.0                6.0          4.0          8.0\n",
       "91678                 4.0                6.0          4.0          8.0\n",
       "93087                 2.0                5.0          4.0          6.0\n",
       "93768                 1.0               10.0         10.0         10.0\n",
       "94271                 1.0                7.0          7.0          7.0\n",
       "98096                 2.0                9.0          9.0          9.0"
      ]
     },
     "execution_count": 12,
     "metadata": {},
     "output_type": "execute_result"
    }
   ],
   "source": [
    "notas_por_padron = grouped_by_padron.describe()\n",
    "notas_por_padron.columns = notas_por_padron.columns.map('_'.join)\n",
    "notas = notas_por_padron [['nota_count','nota_mean','nota_min','nota_max']]\n",
    "notas.columns = ['cantidad_de_notas','promedio_de_notas','nota_minima','nota_maxima']\n",
    "notas\n",
    "#otra forma de aplanar los indices superiores es renombrando las columnas. Aca no lo hice porque necesitaba eliminar algunas \n",
    "#columnas primero"
   ]
  },
  {
   "cell_type": "code",
   "execution_count": 13,
   "metadata": {},
   "outputs": [
    {
     "data": {
      "text/plain": [
       "<matplotlib.axes._subplots.AxesSubplot at 0x12f343c7c48>"
      ]
     },
     "execution_count": 13,
     "metadata": {},
     "output_type": "execute_result"
    },
    {
     "data": {
      "image/png": "[encoded data removed]",
      "text/plain": [
       "<Figure size 432x288 with 1 Axes>"
      ]
     },
     "metadata": {
      "needs_background": "light"
     },
     "output_type": "display_data"
    }
   ],
   "source": [
    "notas.plot(kind='bar')"
   ]
  },
  {
   "cell_type": "code",
   "execution_count": 14,
   "metadata": {},
   "outputs": [
    {
     "data": {
      "text/html": [
       "<div>\n",
       "<style scoped>\n",
       "    .dataframe tbody tr th:only-of-type {\n",
       "        vertical-align: middle;\n",
       "    }\n",
       "\n",
       "    .dataframe tbody tr th {\n",
       "        vertical-align: top;\n",
       "    }\n",
       "\n",
       "    .dataframe thead th {\n",
       "        text-align: right;\n",
       "    }\n",
       "</style>\n",
       "<table border=\"1\" class=\"dataframe\">\n",
       "  <thead>\n",
       "    <tr style=\"text-align: right;\">\n",
       "      <th></th>\n",
       "      <th>padron</th>\n",
       "      <th>materia</th>\n",
       "      <th>nota</th>\n",
       "      <th>fecha</th>\n",
       "    </tr>\n",
       "  </thead>\n",
       "  <tbody>\n",
       "    <tr>\n",
       "      <th>0</th>\n",
       "      <td>90903</td>\n",
       "      <td>fisica</td>\n",
       "      <td>8</td>\n",
       "      <td>22/05/2016</td>\n",
       "    </tr>\n",
       "    <tr>\n",
       "      <th>1</th>\n",
       "      <td>91678</td>\n",
       "      <td>algebra</td>\n",
       "      <td>4</td>\n",
       "      <td>22/05/2017</td>\n",
       "    </tr>\n",
       "    <tr>\n",
       "      <th>2</th>\n",
       "      <td>87567</td>\n",
       "      <td>algebra</td>\n",
       "      <td>4</td>\n",
       "      <td>22/05/2017</td>\n",
       "    </tr>\n",
       "    <tr>\n",
       "      <th>3</th>\n",
       "      <td>93087</td>\n",
       "      <td>algebra</td>\n",
       "      <td>6</td>\n",
       "      <td>22/05/2017</td>\n",
       "    </tr>\n",
       "    <tr>\n",
       "      <th>4</th>\n",
       "      <td>98096</td>\n",
       "      <td>analisis</td>\n",
       "      <td>9</td>\n",
       "      <td>20/05/2016</td>\n",
       "    </tr>\n",
       "    <tr>\n",
       "      <th>5</th>\n",
       "      <td>93768</td>\n",
       "      <td>analisis</td>\n",
       "      <td>10</td>\n",
       "      <td>22/05/2018</td>\n",
       "    </tr>\n",
       "    <tr>\n",
       "      <th>6</th>\n",
       "      <td>91678</td>\n",
       "      <td>numerico</td>\n",
       "      <td>8</td>\n",
       "      <td>22/09/2016</td>\n",
       "    </tr>\n",
       "    <tr>\n",
       "      <th>7</th>\n",
       "      <td>93087</td>\n",
       "      <td>numerico</td>\n",
       "      <td>4</td>\n",
       "      <td>22/09/2018</td>\n",
       "    </tr>\n",
       "    <tr>\n",
       "      <th>8</th>\n",
       "      <td>90287</td>\n",
       "      <td>algebra</td>\n",
       "      <td>4</td>\n",
       "      <td>22/10/2019</td>\n",
       "    </tr>\n",
       "    <tr>\n",
       "      <th>9</th>\n",
       "      <td>90903</td>\n",
       "      <td>algebra</td>\n",
       "      <td>4</td>\n",
       "      <td>22/10/2017</td>\n",
       "    </tr>\n",
       "    <tr>\n",
       "      <th>10</th>\n",
       "      <td>91678</td>\n",
       "      <td>quimica</td>\n",
       "      <td>5</td>\n",
       "      <td>03/05/2015</td>\n",
       "    </tr>\n",
       "    <tr>\n",
       "      <th>11</th>\n",
       "      <td>98096</td>\n",
       "      <td>quimica</td>\n",
       "      <td>9</td>\n",
       "      <td>03/05/2018</td>\n",
       "    </tr>\n",
       "    <tr>\n",
       "      <th>12</th>\n",
       "      <td>94271</td>\n",
       "      <td>programacion</td>\n",
       "      <td>7</td>\n",
       "      <td>04/29/2019</td>\n",
       "    </tr>\n",
       "    <tr>\n",
       "      <th>13</th>\n",
       "      <td>91678</td>\n",
       "      <td>numerico</td>\n",
       "      <td>7</td>\n",
       "      <td>22/05/2017</td>\n",
       "    </tr>\n",
       "  </tbody>\n",
       "</table>\n",
       "</div>"
      ],
      "text/plain": [
       "    padron        materia  nota        fecha\n",
       "0    90903         fisica     8   22/05/2016\n",
       "1    91678        algebra     4   22/05/2017\n",
       "2    87567        algebra     4   22/05/2017\n",
       "3    93087        algebra     6   22/05/2017\n",
       "4    98096       analisis     9   20/05/2016\n",
       "5    93768       analisis    10   22/05/2018\n",
       "6    91678       numerico     8   22/09/2016\n",
       "7    93087       numerico     4   22/09/2018\n",
       "8    90287        algebra     4   22/10/2019\n",
       "9    90903        algebra     4   22/10/2017\n",
       "10   91678        quimica     5   03/05/2015\n",
       "11   98096        quimica     9   03/05/2018\n",
       "12   94271   programacion     7   04/29/2019\n",
       "13   91678       numerico     7   22/05/2017"
      ]
     },
     "execution_count": 14,
     "metadata": {},
     "output_type": "execute_result"
    }
   ],
   "source": [
    "notas_alumnos"
   ]
  },
  {
   "cell_type": "code",
   "execution_count": 15,
   "metadata": {},
   "outputs": [],
   "source": [
    "notas_alumnos['fecha'] = pd.to_datetime(notas_alumnos['fecha'])"
   ]
  },
  {
   "cell_type": "code",
   "execution_count": 17,
   "metadata": {},
   "outputs": [
    {
     "data": {
      "text/html": [
       "<div>\n",
       "<style scoped>\n",
       "    .dataframe tbody tr th:only-of-type {\n",
       "        vertical-align: middle;\n",
       "    }\n",
       "\n",
       "    .dataframe tbody tr th {\n",
       "        vertical-align: top;\n",
       "    }\n",
       "\n",
       "    .dataframe thead th {\n",
       "        text-align: right;\n",
       "    }\n",
       "</style>\n",
       "<table border=\"1\" class=\"dataframe\">\n",
       "  <thead>\n",
       "    <tr style=\"text-align: right;\">\n",
       "      <th></th>\n",
       "      <th>padron</th>\n",
       "      <th>materia</th>\n",
       "      <th>nota</th>\n",
       "      <th>fecha</th>\n",
       "      <th>anio_rendido</th>\n",
       "    </tr>\n",
       "  </thead>\n",
       "  <tbody>\n",
       "    <tr>\n",
       "      <th>0</th>\n",
       "      <td>90903</td>\n",
       "      <td>fisica</td>\n",
       "      <td>8</td>\n",
       "      <td>2016-05-22</td>\n",
       "      <td>2016</td>\n",
       "    </tr>\n",
       "    <tr>\n",
       "      <th>1</th>\n",
       "      <td>91678</td>\n",
       "      <td>algebra</td>\n",
       "      <td>4</td>\n",
       "      <td>2017-05-22</td>\n",
       "      <td>2017</td>\n",
       "    </tr>\n",
       "    <tr>\n",
       "      <th>2</th>\n",
       "      <td>87567</td>\n",
       "      <td>algebra</td>\n",
       "      <td>4</td>\n",
       "      <td>2017-05-22</td>\n",
       "      <td>2017</td>\n",
       "    </tr>\n",
       "    <tr>\n",
       "      <th>3</th>\n",
       "      <td>93087</td>\n",
       "      <td>algebra</td>\n",
       "      <td>6</td>\n",
       "      <td>2017-05-22</td>\n",
       "      <td>2017</td>\n",
       "    </tr>\n",
       "    <tr>\n",
       "      <th>4</th>\n",
       "      <td>98096</td>\n",
       "      <td>analisis</td>\n",
       "      <td>9</td>\n",
       "      <td>2016-05-20</td>\n",
       "      <td>2016</td>\n",
       "    </tr>\n",
       "    <tr>\n",
       "      <th>5</th>\n",
       "      <td>93768</td>\n",
       "      <td>analisis</td>\n",
       "      <td>10</td>\n",
       "      <td>2018-05-22</td>\n",
       "      <td>2018</td>\n",
       "    </tr>\n",
       "    <tr>\n",
       "      <th>6</th>\n",
       "      <td>91678</td>\n",
       "      <td>numerico</td>\n",
       "      <td>8</td>\n",
       "      <td>2016-09-22</td>\n",
       "      <td>2016</td>\n",
       "    </tr>\n",
       "    <tr>\n",
       "      <th>7</th>\n",
       "      <td>93087</td>\n",
       "      <td>numerico</td>\n",
       "      <td>4</td>\n",
       "      <td>2018-09-22</td>\n",
       "      <td>2018</td>\n",
       "    </tr>\n",
       "    <tr>\n",
       "      <th>8</th>\n",
       "      <td>90287</td>\n",
       "      <td>algebra</td>\n",
       "      <td>4</td>\n",
       "      <td>2019-10-22</td>\n",
       "      <td>2019</td>\n",
       "    </tr>\n",
       "    <tr>\n",
       "      <th>9</th>\n",
       "      <td>90903</td>\n",
       "      <td>algebra</td>\n",
       "      <td>4</td>\n",
       "      <td>2017-10-22</td>\n",
       "      <td>2017</td>\n",
       "    </tr>\n",
       "    <tr>\n",
       "      <th>10</th>\n",
       "      <td>91678</td>\n",
       "      <td>quimica</td>\n",
       "      <td>5</td>\n",
       "      <td>2015-03-05</td>\n",
       "      <td>2015</td>\n",
       "    </tr>\n",
       "    <tr>\n",
       "      <th>11</th>\n",
       "      <td>98096</td>\n",
       "      <td>quimica</td>\n",
       "      <td>9</td>\n",
       "      <td>2018-03-05</td>\n",
       "      <td>2018</td>\n",
       "    </tr>\n",
       "    <tr>\n",
       "      <th>12</th>\n",
       "      <td>94271</td>\n",
       "      <td>programacion</td>\n",
       "      <td>7</td>\n",
       "      <td>2019-04-29</td>\n",
       "      <td>2019</td>\n",
       "    </tr>\n",
       "    <tr>\n",
       "      <th>13</th>\n",
       "      <td>91678</td>\n",
       "      <td>numerico</td>\n",
       "      <td>7</td>\n",
       "      <td>2017-05-22</td>\n",
       "      <td>2017</td>\n",
       "    </tr>\n",
       "  </tbody>\n",
       "</table>\n",
       "</div>"
      ],
      "text/plain": [
       "    padron        materia  nota      fecha  anio_rendido\n",
       "0    90903         fisica     8 2016-05-22          2016\n",
       "1    91678        algebra     4 2017-05-22          2017\n",
       "2    87567        algebra     4 2017-05-22          2017\n",
       "3    93087        algebra     6 2017-05-22          2017\n",
       "4    98096       analisis     9 2016-05-20          2016\n",
       "5    93768       analisis    10 2018-05-22          2018\n",
       "6    91678       numerico     8 2016-09-22          2016\n",
       "7    93087       numerico     4 2018-09-22          2018\n",
       "8    90287        algebra     4 2019-10-22          2019\n",
       "9    90903        algebra     4 2017-10-22          2017\n",
       "10   91678        quimica     5 2015-03-05          2015\n",
       "11   98096        quimica     9 2018-03-05          2018\n",
       "12   94271   programacion     7 2019-04-29          2019\n",
       "13   91678       numerico     7 2017-05-22          2017"
      ]
     },
     "execution_count": 17,
     "metadata": {},
     "output_type": "execute_result"
    }
   ],
   "source": [
    "notas_alumnos ['anio_rendido'] = notas_alumnos ['fecha'].dt.year\n",
    "notas_alumnos"
   ]
  },
  {
   "cell_type": "code",
   "execution_count": 18,
   "metadata": {},
   "outputs": [
    {
     "data": {
      "text/plain": [
       "2017    5\n",
       "2018    3\n",
       "2016    3\n",
       "2019    2\n",
       "2015    1\n",
       "Name: anio_rendido, dtype: int64"
      ]
     },
     "execution_count": 18,
     "metadata": {},
     "output_type": "execute_result"
    }
   ],
   "source": [
    "notas_alumnos['anio_rendido'].value_counts()"
   ]
  },
  {
   "cell_type": "code",
   "execution_count": 19,
   "metadata": {},
   "outputs": [
    {
     "data": {
      "text/plain": [
       "<matplotlib.axes._subplots.AxesSubplot at 0x12f344b6788>"
      ]
     },
     "execution_count": 19,
     "metadata": {},
     "output_type": "execute_result"
    },
    {
     "data": {
      "image/png": "[encoded data removed]",
      "text/plain": [
       "<Figure size 432x288 with 1 Axes>"
      ]
     },
     "metadata": {},
     "output_type": "display_data"
    }
   ],
   "source": [
    "notas_alumnos['anio_rendido'].value_counts().plot(kind='pie')"
   ]
  },
  {
   "cell_type": "code",
   "execution_count": 20,
   "metadata": {},
   "outputs": [
    {
     "data": {
      "text/plain": [
       "<matplotlib.axes._subplots.AxesSubplot at 0x12f344dd548>"
      ]
     },
     "execution_count": 20,
     "metadata": {},
     "output_type": "execute_result"
    },
    {
     "data": {
      "image/png": "[encoded data removed]",
      "text/plain": [
       "<Figure size 432x288 with 1 Axes>"
      ]
     },
     "metadata": {
      "needs_background": "light"
     },
     "output_type": "display_data"
    }
   ],
   "source": [
    "notas_alumnos['anio_rendido'].value_counts().plot(kind='bar')"
   ]
  },
  {
   "cell_type": "code",
   "execution_count": 21,
   "metadata": {},
   "outputs": [
    {
     "data": {
      "text/plain": [
       "<matplotlib.axes._subplots.AxesSubplot at 0x12f34546408>"
      ]
     },
     "execution_count": 21,
     "metadata": {},
     "output_type": "execute_result"
    },
    {
     "data": {
      "image/png": "[encoded data removed]",
      "text/plain": [
       "<Figure size 432x288 with 1 Axes>"
      ]
     },
     "metadata": {},
     "output_type": "display_data"
    }
   ],
   "source": [
    "#CANTIDAD DE MATERIAS QUE APROBO CADA ALUMNO\n",
    "notas_alumnos ['padron'].value_counts().plot(kind = 'pie')"
   ]
  },
  {
   "cell_type": "code",
   "execution_count": 22,
   "metadata": {},
   "outputs": [
    {
     "data": {
      "text/plain": [
       "<matplotlib.axes._subplots.AxesSubplot at 0x12f345ca188>"
      ]
     },
     "execution_count": 22,
     "metadata": {},
     "output_type": "execute_result"
    },
    {
     "data": {
      "image/png": "[encoded data removed]",
      "text/plain": [
       "<Figure size 432x288 with 1 Axes>"
      ]
     },
     "metadata": {
      "needs_background": "light"
     },
     "output_type": "display_data"
    }
   ],
   "source": [
    "#CANTIDAD DE MATERIAS QUE APROBO CADA ALUMNO\n",
    "notas_alumnos ['padron'].value_counts().plot(kind = 'bar')"
   ]
  },
  {
   "cell_type": "code",
   "execution_count": 24,
   "metadata": {},
   "outputs": [
    {
     "data": {
      "text/plain": [
       "0     False\n",
       "1      True\n",
       "2      True\n",
       "3      True\n",
       "4     False\n",
       "5     False\n",
       "6     False\n",
       "7     False\n",
       "8     False\n",
       "9      True\n",
       "10    False\n",
       "11    False\n",
       "12    False\n",
       "13     True\n",
       "Name: anio_rendido, dtype: bool"
      ]
     },
     "execution_count": 24,
     "metadata": {},
     "output_type": "execute_result"
    }
   ],
   "source": [
    "anio_2017 = notas_alumnos['anio_rendido']==2017\n",
    "anio_2017"
   ]
  },
  {
   "cell_type": "code",
   "execution_count": 25,
   "metadata": {},
   "outputs": [
    {
     "data": {
      "text/html": [
       "<div>\n",
       "<style scoped>\n",
       "    .dataframe tbody tr th:only-of-type {\n",
       "        vertical-align: middle;\n",
       "    }\n",
       "\n",
       "    .dataframe tbody tr th {\n",
       "        vertical-align: top;\n",
       "    }\n",
       "\n",
       "    .dataframe thead th {\n",
       "        text-align: right;\n",
       "    }\n",
       "</style>\n",
       "<table border=\"1\" class=\"dataframe\">\n",
       "  <thead>\n",
       "    <tr style=\"text-align: right;\">\n",
       "      <th></th>\n",
       "      <th>padron</th>\n",
       "      <th>materia</th>\n",
       "      <th>nota</th>\n",
       "      <th>fecha</th>\n",
       "      <th>anio_rendido</th>\n",
       "    </tr>\n",
       "  </thead>\n",
       "  <tbody>\n",
       "    <tr>\n",
       "      <th>1</th>\n",
       "      <td>91678</td>\n",
       "      <td>algebra</td>\n",
       "      <td>4</td>\n",
       "      <td>2017-05-22</td>\n",
       "      <td>2017</td>\n",
       "    </tr>\n",
       "    <tr>\n",
       "      <th>2</th>\n",
       "      <td>87567</td>\n",
       "      <td>algebra</td>\n",
       "      <td>4</td>\n",
       "      <td>2017-05-22</td>\n",
       "      <td>2017</td>\n",
       "    </tr>\n",
       "    <tr>\n",
       "      <th>3</th>\n",
       "      <td>93087</td>\n",
       "      <td>algebra</td>\n",
       "      <td>6</td>\n",
       "      <td>2017-05-22</td>\n",
       "      <td>2017</td>\n",
       "    </tr>\n",
       "    <tr>\n",
       "      <th>9</th>\n",
       "      <td>90903</td>\n",
       "      <td>algebra</td>\n",
       "      <td>4</td>\n",
       "      <td>2017-10-22</td>\n",
       "      <td>2017</td>\n",
       "    </tr>\n",
       "    <tr>\n",
       "      <th>13</th>\n",
       "      <td>91678</td>\n",
       "      <td>numerico</td>\n",
       "      <td>7</td>\n",
       "      <td>2017-05-22</td>\n",
       "      <td>2017</td>\n",
       "    </tr>\n",
       "  </tbody>\n",
       "</table>\n",
       "</div>"
      ],
      "text/plain": [
       "    padron    materia  nota      fecha  anio_rendido\n",
       "1    91678    algebra     4 2017-05-22          2017\n",
       "2    87567    algebra     4 2017-05-22          2017\n",
       "3    93087    algebra     6 2017-05-22          2017\n",
       "9    90903    algebra     4 2017-10-22          2017\n",
       "13   91678   numerico     7 2017-05-22          2017"
      ]
     },
     "execution_count": 25,
     "metadata": {},
     "output_type": "execute_result"
    }
   ],
   "source": [
    "notas_alumnos.loc [notas_alumnos['anio_rendido']==2017] "
   ]
  },
  {
   "cell_type": "code",
   "execution_count": null,
   "metadata": {},
   "outputs": [],
   "source": []
  }
 ],
 "metadata": {
  "kernelspec": {
   "display_name": "Python 3",
   "language": "python",
   "name": "python3"
  },
  "language_info": {
   "codemirror_mode": {
    "name": "ipython",
    "version": 3
   },
   "file_extension": ".py",
   "mimetype": "text/x-python",
   "name": "python",
   "nbconvert_exporter": "python",
   "pygments_lexer": "ipython3",
   "version": "3.7.6"
  }
 },
 "nbformat": 4,
 "nbformat_minor": 4
}
